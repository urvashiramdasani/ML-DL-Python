{
  "nbformat": 4,
  "nbformat_minor": 0,
  "metadata": {
    "colab": {
      "name": "18bce247_Practical_5.ipynb",
      "provenance": [],
      "collapsed_sections": [],
      "authorship_tag": "ABX9TyOsuHW27AOwzG4DDmxwf+U9",
      "include_colab_link": true
    },
    "kernelspec": {
      "name": "python3",
      "display_name": "Python 3"
    }
  },
  "cells": [
    {
      "cell_type": "markdown",
      "metadata": {
        "id": "view-in-github",
        "colab_type": "text"
      },
      "source": [
        "<a href=\"https://colab.research.google.com/github/urvashiramdasani/Python/blob/master/18bce247_Practical_5.ipynb\" target=\"_parent\"><img src=\"https://colab.research.google.com/assets/colab-badge.svg\" alt=\"Open In Colab\"/></a>"
      ]
    },
    {
      "cell_type": "markdown",
      "metadata": {
        "id": "NOKWd-yo070I",
        "colab_type": "text"
      },
      "source": [
        "Q . 2 : (A) As you know, a magic square is a matrix all of whose row sums, column sums and the sums of the two diagonals are the same. (One diagonal of a matrix goes from the top left to the bottom right, the other diagonal goes from top right to bottom left.) Show by direct computation that if the matrix A is given by         A=np.array([[17, 24, 1, 8, 15],                                [23, 5, 7, 14, 16],                                [ 4, 6, 13, 20, 22],                                [10, 12, 19, 21, 3],                                [11, 18, 25, 2, 9]])  The matrix A has 5 row sums (one for each row), 5 column sums (one for each column) and two diagonal sums. These 12 sums should all be exactly the same, and you could verify that they are the same by printing them and “seeing” that they are the same. It is easy to miss small differences among so many numbers, though. Instead, verify that A is a magic square by constructing the 5 column sums and computing the maximum and minimum values of the column sums. Do the same for the 5 row sums, and compute the two diagonal sums. Check that these six values are the same. If the maximum and minimum values are the same, the flyswatter principle says that all values are the same. "
      ]
    },
    {
      "cell_type": "code",
      "metadata": {
        "id": "MbVG1H_d1Ibk",
        "colab_type": "code",
        "colab": {}
      },
      "source": [
        "import numpy as np"
      ],
      "execution_count": 0,
      "outputs": []
    },
    {
      "cell_type": "code",
      "metadata": {
        "id": "Nr1yFbOa1Mvx",
        "colab_type": "code",
        "colab": {
          "base_uri": "https://localhost:8080/",
          "height": 69
        },
        "outputId": "1cd4557d-3d22-457c-bf46-3e4bf6483aa7"
      },
      "source": [
        "A = np.array([[17, 24, 1, 8, 15], [23, 5, 7, 14, 16], [ 4, 6, 13, 20, 22],\n",
        "              [10, 12, 19, 21, 3], [11, 18, 25, 2, 9]]) \n",
        "#print(A)\n",
        "row_sum = np.sum(A, axis = 1)\n",
        "col_sum = np.sum(A, axis = 0)\n",
        "# print(row_sum)\n",
        "# print(col_sum)\n",
        "\n",
        "main_diag = np.trace(A)\n",
        "diag = 0\n",
        "for i in range(0,5):\n",
        "  for j in range(0,5):\n",
        "    if i+j == 4:\n",
        "      diag += A[i][j]\n",
        "\n",
        "# print(main_diag)\n",
        "# print(diag)\n",
        "\n",
        "if max(row_sum) == min(row_sum) and max(col_sum) == min(col_sum) and main_diag == diag and max(row_sum) == main_diag and max(col_sum) == diag:\n",
        "  print(\"It is a Magic Square\")\n",
        "else:\n",
        "  print(\"It is not a Magic Square\")\n"
      ],
      "execution_count": 10,
      "outputs": [
        {
          "output_type": "stream",
          "text": [
            "[65 65 65 65 65]\n",
            "[65 65 65 65 65]\n",
            "It is a Magic Square\n"
          ],
          "name": "stdout"
        }
      ]
    },
    {
      "cell_type": "markdown",
      "metadata": {
        "id": "HHtaqiou7uvQ",
        "colab_type": "text"
      },
      "source": [
        "(B) Create scientific calculator using numpy API. "
      ]
    },
    {
      "cell_type": "code",
      "metadata": {
        "id": "MnpVJFEM4Ycg",
        "colab_type": "code",
        "colab": {
          "base_uri": "https://localhost:8080/",
          "height": 381
        },
        "outputId": "e676c193-434a-42ca-d781-408b9cbc1924"
      },
      "source": [
        "var = True\n",
        "\n",
        "while var:\n",
        "  num = int(input(\"Enter the number of elements : \"))\n",
        "  l1 = []\n",
        "  l2 = []\n",
        "\n",
        "  print(\"Enter first array : \")\n",
        "  for i in range(0,num): \n",
        "    l1.append(int(input()))\n",
        "  #print(l1)\n",
        "  A = np.array(l1)\n",
        "\n",
        "  print(\"Enter your choice: \\n\")\n",
        "  print(\"1. Add\\n2. Subtract\\n3. Multiply\\n4. Divide\\n5. Sine\\n6. Cosine\\n7. Tangent\\n8. Modulus\\n9. Exponent\\n10. Logarithm\")\n",
        "  choice = int(input())\n",
        "\n",
        "  if choice == 1 or choice == 2 or choice == 3 or choice == 4:\n",
        "    print(\"Enter second array : \")\n",
        "    for i in range(0,num): \n",
        "      l2.append(int(input()))\n",
        "    B = np.array(l2)\n",
        "\n",
        "    if choice == 1:\n",
        "      C = np.add(A,B)\n",
        "      print(\"Addition of A and B is \",C)\n",
        "    \n",
        "    elif choice == 2:\n",
        "      C = np.subtract(A,B)\n",
        "      print(\"Subtraction of A and B is \",C)\n",
        "\n",
        "    elif choice == 3:\n",
        "      C = np.multiply(A,B)\n",
        "      print(\"Multiplication of A and B is \",C)\n",
        "\n",
        "    elif choice == 4:\n",
        "      C = np.divide(A,B)\n",
        "      print(\"Division of A and B is \",C)\n",
        "        \n",
        "  var = False\n"
      ],
      "execution_count": 14,
      "outputs": [
        {
          "output_type": "stream",
          "text": [
            "Enter the number of elements : 2\n",
            "Enter first array : \n",
            "1\n",
            "2\n",
            "Enter your choice: \n",
            "\n",
            "1. Add\n",
            "2. Subtract\n",
            "3. Multiply\n",
            "4. Divide\n",
            "5. Sine\n",
            "6. Cosine\n",
            "7. Tangent\n",
            "8. Modulus\n",
            "9. Exponent\n",
            "10. Logarithm\n",
            "1\n",
            "Enter second array : \n",
            "1\n",
            "2\n",
            "Addition of A and B is  [2 4]\n"
          ],
          "name": "stdout"
        }
      ]
    },
    {
      "cell_type": "code",
      "metadata": {
        "id": "8H7RUtm_DAWB",
        "colab_type": "code",
        "colab": {}
      },
      "source": [
        ""
      ],
      "execution_count": 0,
      "outputs": []
    }
  ]
}