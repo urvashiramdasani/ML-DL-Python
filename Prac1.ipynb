{
  "nbformat": 4,
  "nbformat_minor": 0,
  "metadata": {
    "colab": {
      "name": "Prac1.ipynb",
      "provenance": [],
      "authorship_tag": "ABX9TyOFkw8I3kePl2ve/pooPWsR",
      "include_colab_link": true
    },
    "kernelspec": {
      "name": "python3",
      "display_name": "Python 3"
    }
  },
  "cells": [
    {
      "cell_type": "markdown",
      "metadata": {
        "id": "view-in-github",
        "colab_type": "text"
      },
      "source": [
        "<a href=\"https://colab.research.google.com/github/urvashiramdasani/Python/blob/master/Prac1.ipynb\" target=\"_parent\"><img src=\"https://colab.research.google.com/assets/colab-badge.svg\" alt=\"Open In Colab\"/></a>"
      ]
    },
    {
      "cell_type": "code",
      "metadata": {
        "id": "eQuTMHykeo6F",
        "colab_type": "code",
        "colab": {
          "base_uri": "https://localhost:8080/",
          "height": 35
        },
        "outputId": "37260c53-8708-46c1-b76a-bc5cfa9f0834"
      },
      "source": [
        "#Basics of python PS lab\n",
        "print('Hello, World!')"
      ],
      "execution_count": 1,
      "outputs": [
        {
          "output_type": "stream",
          "text": [
            "Hello, World!\n"
          ],
          "name": "stdout"
        }
      ]
    },
    {
      "cell_type": "code",
      "metadata": {
        "id": "-eRfLuE7fWmg",
        "colab_type": "code",
        "colab": {
          "base_uri": "https://localhost:8080/",
          "height": 173
        },
        "outputId": "1b402b28-2b12-4ecc-e3fa-f4d7d7b90092"
      },
      "source": [
        "#Basics of python Ps lab\n",
        "a = -5\n",
        "b = 2\n",
        "print(a)\n",
        "print(a,b)\n",
        "print(\"a={0}\".format(a))\n",
        "print(\"a={0} and b={1}\".format(a,b))\n",
        "print(\"a={0:d} and b={1:d}\".format(a,b))\n",
        "print(\"a={0:3d} and b={1:3d}\".format(a,b))\n",
        "print(\"a={0:03d} and b={1:03d}\".format(a,b))\n",
        "print(\"a={0:+3d} and b={1:+3d}\".format(a,b))\n",
        "print(\"a={0:-3d} and b={1:-3d}\".format(a,b))"
      ],
      "execution_count": 5,
      "outputs": [
        {
          "output_type": "stream",
          "text": [
            "-5\n",
            "-5 2\n",
            "a=-5\n",
            "a=-5 and b=2\n",
            "a=-5 and b=2\n",
            "a= -5 and b=  2\n",
            "a=-05 and b=002\n",
            "a= -5 and b= +2\n",
            "a= -5 and b=  2\n"
          ],
          "name": "stdout"
        }
      ]
    },
    {
      "cell_type": "code",
      "metadata": {
        "id": "DNx0dyosisqq",
        "colab_type": "code",
        "colab": {
          "base_uri": "https://localhost:8080/",
          "height": 156
        },
        "outputId": "ee710df2-2b17-4c1b-8659-dfdf698c492f"
      },
      "source": [
        "#Basics of python PS lab\n",
        "a = input('Enter a: ')\n",
        "print(a)\n",
        "a = int(input('Enter a: '))\n",
        "print(a)\n",
        "a = eval(input('Enter three values: ')) #tuple\n",
        "print(a)\n",
        "a,b,c = eval(input('Enter three values: '))\n",
        "print(a,b,c)"
      ],
      "execution_count": 8,
      "outputs": [
        {
          "output_type": "stream",
          "text": [
            "Enter a: 2\n",
            "2\n",
            "Enter a: 3\n",
            "3\n",
            "Enter three values: 1,2,3\n",
            "(1, 2, 3)\n",
            "Enter three values: 4,5,6\n",
            "4 5 6\n"
          ],
          "name": "stdout"
        }
      ]
    },
    {
      "cell_type": "code",
      "metadata": {
        "id": "EmS7acEekBK7",
        "colab_type": "code",
        "colab": {
          "base_uri": "https://localhost:8080/",
          "height": 173
        },
        "outputId": "95ca6829-166e-4258-9eb2-f8af135b5a81"
      },
      "source": [
        "#Basics of python PS lab\n",
        "str = 'Hello World'\n",
        "print(str)\n",
        "print(str[0])\n",
        "print(str[2:5])\n",
        "print(str[2:])\n",
        "print(str*2)\n",
        "print(str+'Test')\n",
        "print(str[-1])\n",
        "print(str[-3:-1])\n",
        "print(str[-11:]) #if i put 12 here, it will still print the whole string"
      ],
      "execution_count": 12,
      "outputs": [
        {
          "output_type": "stream",
          "text": [
            "Hello World\n",
            "H\n",
            "llo\n",
            "llo World\n",
            "Hello WorldHello World\n",
            "Hello WorldTest\n",
            "d\n",
            "rl\n",
            "ello World\n"
          ],
          "name": "stdout"
        }
      ]
    },
    {
      "cell_type": "code",
      "metadata": {
        "id": "yla9Ge70mOhG",
        "colab_type": "code",
        "colab": {
          "base_uri": "https://localhost:8080/",
          "height": 121
        },
        "outputId": "c436d020-295a-461a-be99-12f96ba4466c"
      },
      "source": [
        "#Basics of python PS lab\n",
        "#same code with tuple, tuples are ust immutable\n",
        "list = ['abcd',786,2.23,'john',70.2]\n",
        "tinylist = [123,'john']\n",
        "print(list)\n",
        "print(list[0])\n",
        "print(list[1:3])\n",
        "print(list[2:])\n",
        "print(tinylist*2)\n",
        "print(list+tinylist)\n",
        "#tuple[2] = 100 invalid syntax\n",
        "list[2] = 100 #valid syntax"
      ],
      "execution_count": 14,
      "outputs": [
        {
          "output_type": "stream",
          "text": [
            "['abcd', 786, 2.23, 'john', 70.2]\n",
            "abcd\n",
            "[786, 2.23]\n",
            "[2.23, 'john', 70.2]\n",
            "[123, 'john', 123, 'john']\n",
            "['abcd', 786, 2.23, 'john', 70.2, 123, 'john']\n"
          ],
          "name": "stdout"
        }
      ]
    },
    {
      "cell_type": "code",
      "metadata": {
        "id": "gfhYCMM4nLCt",
        "colab_type": "code",
        "colab": {
          "base_uri": "https://localhost:8080/",
          "height": 104
        },
        "outputId": "e85df561-083a-4ffb-c81f-660634fd8a39"
      },
      "source": [
        "#Basics of python PS lab\n",
        "dict = {}\n",
        "dict['One'] = \"This is one\" #case sensitive\n",
        "print(dict['One'])\n",
        "dict[2] = \"This is two\"\n",
        "print(dict[2])\n",
        "tinydict = {'name':'john','code':'6734','dept':'sales'}\n",
        "print(tinydict)\n",
        "print(tinydict.keys()) #see output by running\n",
        "print(tinydict.values())"
      ],
      "execution_count": 21,
      "outputs": [
        {
          "output_type": "stream",
          "text": [
            "This is one\n",
            "This is two\n",
            "{'name': 'john', 'code': '6734', 'dept': 'sales'}\n",
            "dict_keys(['name', 'code', 'dept'])\n",
            "dict_values(['john', '6734', 'sales'])\n"
          ],
          "name": "stdout"
        }
      ]
    },
    {
      "cell_type": "code",
      "metadata": {
        "id": "TfZodiiJsY06",
        "colab_type": "code",
        "colab": {
          "base_uri": "https://localhost:8080/",
          "height": 203
        },
        "outputId": "fa3b8b44-de12-4dbf-dcc2-bef59963702d"
      },
      "source": [
        "#Basics of python PS lab\n",
        "a = True\n",
        "not(a)\n"
      ],
      "execution_count": 23,
      "outputs": [
        {
          "output_type": "error",
          "ename": "NameError",
          "evalue": "ignored",
          "traceback": [
            "\u001b[0;31m---------------------------------------------------------------------------\u001b[0m",
            "\u001b[0;31mNameError\u001b[0m                                 Traceback (most recent call last)",
            "\u001b[0;32m<ipython-input-23-5c3a225ecc20>\u001b[0m in \u001b[0;36m<module>\u001b[0;34m()\u001b[0m\n\u001b[1;32m      1\u001b[0m \u001b[0ma\u001b[0m \u001b[0;34m=\u001b[0m \u001b[0;32mTrue\u001b[0m\u001b[0;34m\u001b[0m\u001b[0;34m\u001b[0m\u001b[0m\n\u001b[0;32m----> 2\u001b[0;31m \u001b[0mNot\u001b[0m\u001b[0;34m(\u001b[0m\u001b[0ma\u001b[0m\u001b[0;34m)\u001b[0m\u001b[0;34m\u001b[0m\u001b[0;34m\u001b[0m\u001b[0m\n\u001b[0m",
            "\u001b[0;31mNameError\u001b[0m: name 'Not' is not defined"
          ]
        }
      ]
    }
  ]
}