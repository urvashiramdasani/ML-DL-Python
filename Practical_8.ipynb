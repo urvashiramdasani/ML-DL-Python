{
  "nbformat": 4,
  "nbformat_minor": 0,
  "metadata": {
    "colab": {
      "name": "Practical_8.ipynb",
      "provenance": [],
      "collapsed_sections": [],
      "authorship_tag": "ABX9TyMsSazPMo7ORQDCqWoTXmaS",
      "include_colab_link": true
    },
    "kernelspec": {
      "name": "python3",
      "display_name": "Python 3"
    }
  },
  "cells": [
    {
      "cell_type": "markdown",
      "metadata": {
        "id": "view-in-github",
        "colab_type": "text"
      },
      "source": [
        "<a href=\"https://colab.research.google.com/github/urvashiramdasani/Python/blob/master/Practical_8.ipynb\" target=\"_parent\"><img src=\"https://colab.research.google.com/assets/colab-badge.svg\" alt=\"Open In Colab\"/></a>"
      ]
    },
    {
      "cell_type": "markdown",
      "metadata": {
        "id": "OXAlnqz-kpqV",
        "colab_type": "text"
      },
      "source": [
        "Scan an integer n from the user. Scan n sentences (no special character, punctuation, all lower case letters). Each sentence’s sentiment is either positive or negative. Scan 5 words- a, b, c, d and e from the user. a, b, c, d, and e should be words from the set of distinct words constructed from n sentences. a, b, c, d, and e need not to be distinct words. Write a program to estimate (i) the joint probability of sampling a, b, c, d, and e from positive sentences. Assume that events of sampling a word are independent and the probability of sampling any word remains constant over different trials of sampling events"
      ]
    },
    {
      "cell_type": "code",
      "metadata": {
        "id": "TE9cgEEvk0He",
        "colab_type": "code",
        "outputId": "c92cd2ca-3649-41c5-e936-384290f104a2",
        "colab": {
          "base_uri": "https://localhost:8080/",
          "height": 243
        }
      },
      "source": [
        "n = int(input('Enter n : '))\n",
        "\n",
        "positive = {}\n",
        "negative = {}\n",
        "sentiment = {'positive':0, 'negative':0}\n",
        "\n",
        "for i in range(n):\n",
        "  sentence = input('Enter a sentence : ')\n",
        "  sentence = sentence.split(' ')\n",
        "  s = input('Enter its sentiment : ')\n",
        "\n",
        "  if s == 'positive':\n",
        "    sentiment['positive'] += 1\n",
        "    for word in sentence:\n",
        "      if word in positive:\n",
        "        positive[word] += 1\n",
        "      else:\n",
        "        positive[word] = 1\n",
        "  else:\n",
        "    sentiment['negative'] += 1\n",
        "    for word in sentence:\n",
        "      if word in negative:\n",
        "        negative[word] += 1\n",
        "      else:\n",
        "        negative[word] = 1\n",
        "\n",
        "print('Set of positive sentences : ', positive.keys())\n",
        "print('Set of negative sentences : ', negative.keys())"
      ],
      "execution_count": 0,
      "outputs": [
        {
          "output_type": "stream",
          "text": [
            "Enter n : 5\n",
            "Enter a sentence : it was good\n",
            "Enter its sentiment : positive\n",
            "Enter a sentence : it was bad\n",
            "Enter its sentiment : negative\n",
            "Enter a sentence : could be better\n",
            "Enter its sentiment : negative\n",
            "Enter a sentence : could'nt be more worse\n",
            "Enter its sentiment : positive\n",
            "Enter a sentence : it was bad and good\n",
            "Enter its sentiment : positive\n",
            "Set of positive sentences :  dict_keys(['it', 'was', 'good', \"could'nt\", 'be', 'more', 'worse', 'bad', 'and'])\n",
            "Set of negative sentences :  dict_keys(['it', 'was', 'bad', 'could', 'be', 'better'])\n"
          ],
          "name": "stdout"
        }
      ]
    },
    {
      "cell_type": "code",
      "metadata": {
        "id": "7RY4gh3-qCGB",
        "colab_type": "code",
        "outputId": "48f887c2-efc6-465f-aa26-d489fc65b85c",
        "colab": {
          "base_uri": "https://localhost:8080/",
          "height": 121
        }
      },
      "source": [
        "print('Select any five words from the above positive and negative sets...')\n",
        "a = input('Enter 1st word : ')\n",
        "b = input('Enter 2nd word : ')\n",
        "c = input('Enter 3rd word : ')\n",
        "d = input('Enter 4th word : ')\n",
        "e = input('Enter 5th word : ')\n",
        "\n",
        "count = []\n",
        "count_distinct = 0\n",
        "for i in positive.keys():\n",
        "  if i not in count:\n",
        "    count.append(i)\n",
        "    count_distinct += 1\n",
        "for i in negative.keys():\n",
        "  if i not in count:\n",
        "    count.append(i)\n",
        "    count_distinct += 1\n",
        "\n",
        "# print(count, count_distinct)"
      ],
      "execution_count": 0,
      "outputs": [
        {
          "output_type": "stream",
          "text": [
            "Select any five words from the above positive and negative sets...\n",
            "Enter 1st word : good\n",
            "Enter 2nd word : bad\n",
            "Enter 3rd word : better\n",
            "Enter 4th word : worse\n",
            "Enter 5th word : good\n"
          ],
          "name": "stdout"
        }
      ]
    },
    {
      "cell_type": "code",
      "metadata": {
        "id": "vXaONELyq79S",
        "colab_type": "code",
        "outputId": "927952e0-e7d7-469f-a7c2-2c17bae58982",
        "colab": {
          "base_uri": "https://localhost:8080/",
          "height": 72
        }
      },
      "source": [
        "print(positive, negative)\n",
        "\n",
        "num_words_pos = sum(positive.values())\n",
        "\n",
        "pap = (positive[a] + 1 if c in positive else 1)/(num_words_pos + count_distinct)\n",
        "pbp = (positive[b] + 1 if c in positive else 1)/(num_words_pos + count_distinct)\n",
        "pcp = (positive[c] + 1 if c in positive else 1)/(num_words_pos + count_distinct)\n",
        "pdp = (positive[d] + 1 if c in positive else 1)/(num_words_pos + count_distinct)\n",
        "pep = (positive[e] + 1 if c in positive else 1)/(num_words_pos + count_distinct)\n",
        "\n",
        "fac = sentiment['positive']/n\n",
        "\n",
        "P = fac*pap*pbp*pcp*pdp*pep\n",
        "print('The joint probability of sampling a,b,c,d,e from positive sentences : ',P)"
      ],
      "execution_count": 0,
      "outputs": [
        {
          "output_type": "stream",
          "text": [
            "{'it': 2, 'was': 2, 'good': 2, \"could'nt\": 1, 'be': 1, 'more': 1, 'worse': 1, 'bad': 1, 'and': 1} {'it': 1, 'was': 1, 'bad': 1, 'could': 1, 'be': 1, 'better': 1}\n",
            "The joint probability of sampling a,b,c,d,e from positive sentences :  3.3559429632634552e-06\n"
          ],
          "name": "stdout"
        }
      ]
    },
    {
      "cell_type": "code",
      "metadata": {
        "id": "GC5UUE15IT1m",
        "colab_type": "code",
        "colab": {}
      },
      "source": [
        ""
      ],
      "execution_count": 0,
      "outputs": []
    },
    {
      "cell_type": "code",
      "metadata": {
        "id": "gVZQYOIlJlEw",
        "colab_type": "code",
        "colab": {}
      },
      "source": [
        ""
      ],
      "execution_count": 0,
      "outputs": []
    }
  ]
}