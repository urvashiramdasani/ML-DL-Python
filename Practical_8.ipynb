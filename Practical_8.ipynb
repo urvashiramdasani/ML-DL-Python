{
  "nbformat": 4,
  "nbformat_minor": 0,
  "metadata": {
    "colab": {
      "name": "Practical_8.ipynb",
      "provenance": [],
      "collapsed_sections": [],
      "authorship_tag": "ABX9TyMBWDRbOKuhBucAxNdt7kSz",
      "include_colab_link": true
    },
    "kernelspec": {
      "name": "python3",
      "display_name": "Python 3"
    }
  },
  "cells": [
    {
      "cell_type": "markdown",
      "metadata": {
        "id": "view-in-github",
        "colab_type": "text"
      },
      "source": [
        "<a href=\"https://colab.research.google.com/github/urvashiramdasani/Python/blob/master/Practical_8.ipynb\" target=\"_parent\"><img src=\"https://colab.research.google.com/assets/colab-badge.svg\" alt=\"Open In Colab\"/></a>"
      ]
    },
    {
      "cell_type": "markdown",
      "metadata": {
        "id": "OXAlnqz-kpqV",
        "colab_type": "text"
      },
      "source": [
        "Scan an integer n from the user. Scan n sentences (no special character, punctuation, all lower case letters). Each sentence’s sentiment is either positive or negative. Scan 5 words- a, b, c, d and e from the user. a, b, c, d, and e should be words from the set of distinct words constructed from n sentences. a, b, c, d, and e need not to be distinct words. Write a program to estimate (i) the joint probability of sampling a, b, c, d, and e from positive sentences. Assume that events of sampling a word are independent and the probability of sampling any word remains constant over different trials of sampling events"
      ]
    },
    {
      "cell_type": "code",
      "metadata": {
        "id": "TE9cgEEvk0He",
        "colab_type": "code",
        "outputId": "76e8458b-2972-4f09-9488-d64282d0cb7d",
        "colab": {
          "base_uri": "https://localhost:8080/",
          "height": 243
        }
      },
      "source": [
        "n = int(input('Enter n : '))\n",
        "\n",
        "positive = {}\n",
        "negative = {}\n",
        "sentiment = {'positive':0, 'negative':0}\n",
        "\n",
        "for i in range(n):\n",
        "  sentence = input('Enter a sentence : ')\n",
        "  sentence = sentence.split(' ')\n",
        "  s = input('Enter its sentiment : ')\n",
        "\n",
        "  if s == 'positive':\n",
        "    sentiment['positive'] += 1\n",
        "    for word in sentence:\n",
        "      if word in positive:\n",
        "        positive[word] += 1\n",
        "      else:\n",
        "        positive[word] = 1\n",
        "  else:\n",
        "    sentiment['negative'] += 1\n",
        "    for word in sentence:\n",
        "      if word in negative:\n",
        "        negative[word] += 1\n",
        "      else:\n",
        "        negative[word] = 1\n",
        "\n",
        "print('Set of positive sentences : ', positive.keys())\n",
        "print('Set of negative sentences : ', negative.keys())"
      ],
      "execution_count": 1,
      "outputs": [
        {
          "output_type": "stream",
          "text": [
            "Enter n : 5\n",
            "Enter a sentence : it was good\n",
            "Enter its sentiment : positive\n",
            "Enter a sentence : it was bad\n",
            "Enter its sentiment : negative\n",
            "Enter a sentence : worse\n",
            "Enter its sentiment : negative\n",
            "Enter a sentence : better\n",
            "Enter its sentiment : positive\n",
            "Enter a sentence : could'nt be worse\n",
            "Enter its sentiment : positive\n",
            "Set of positive sentences :  dict_keys(['it', 'was', 'good', 'better', \"could'nt\", 'be', 'worse'])\n",
            "Set of negative sentences :  dict_keys(['it', 'was', 'bad', 'worse'])\n"
          ],
          "name": "stdout"
        }
      ]
    },
    {
      "cell_type": "code",
      "metadata": {
        "id": "7RY4gh3-qCGB",
        "colab_type": "code",
        "outputId": "62fc4301-281e-4ecc-f918-f269027d100e",
        "colab": {
          "base_uri": "https://localhost:8080/",
          "height": 121
        }
      },
      "source": [
        "print('Select any five words from the above positive and negative sets...')\n",
        "a = input('Enter 1st word : ')\n",
        "b = input('Enter 2nd word : ')\n",
        "c = input('Enter 3rd word : ')\n",
        "d = input('Enter 4th word : ')\n",
        "e = input('Enter 5th word : ')\n",
        "\n",
        "count = []\n",
        "count_distinct = 0\n",
        "for i in positive.keys():\n",
        "  if i not in count:\n",
        "    count.append(i)\n",
        "    count_distinct += 1\n",
        "for i in negative.keys():\n",
        "  if i not in count:\n",
        "    count.append(i)\n",
        "    count_distinct += 1\n",
        "\n",
        "# print(count, count_distinct)"
      ],
      "execution_count": 2,
      "outputs": [
        {
          "output_type": "stream",
          "text": [
            "Select any five words from the above positive and negative sets...\n",
            "Enter 1st word : good\n",
            "Enter 2nd word : bad\n",
            "Enter 3rd word : better\n",
            "Enter 4th word : worse\n",
            "Enter 5th word : good\n"
          ],
          "name": "stdout"
        }
      ]
    },
    {
      "cell_type": "code",
      "metadata": {
        "id": "vXaONELyq79S",
        "colab_type": "code",
        "outputId": "e04c360e-8da7-422c-8582-1cec8cb1f599",
        "colab": {
          "base_uri": "https://localhost:8080/",
          "height": 69
        }
      },
      "source": [
        "print(positive, negative)\n",
        "\n",
        "num_words_pos = sum(positive.values())\n",
        "num_words_neg = sum(negative.values())\n",
        "\n",
        "pap = (positive[a] + 1 if a in positive else 1)/(num_words_pos + count_distinct)\n",
        "pbp = (positive[b] + 1 if b in positive else 1)/(num_words_pos + count_distinct)\n",
        "pcp = (positive[c] + 1 if c in positive else 1)/(num_words_pos + count_distinct)\n",
        "pdp = (positive[d] + 1 if d in positive else 1)/(num_words_pos + count_distinct)\n",
        "pep = (positive[e] + 1 if e in positive else 1)/(num_words_pos + count_distinct)\n",
        "\n",
        "fac = sentiment['positive']/n\n",
        "\n",
        "P = fac*pap*pbp*pcp*pdp*pep\n",
        "print('The joint probability of sampling a,b,c,d,e from positive sentences : ',P)\n",
        "\n",
        "pan = (negative[a] + 1 if a in negative else 1)/(num_words_neg + count_distinct)\n",
        "pbn = (negative[b] + 1 if b in negative else 1)/(num_words_neg + count_distinct)\n",
        "pcn = (negative[c] + 1 if c in negative else 1)/(num_words_neg + count_distinct)\n",
        "pdn = (negative[d] + 1 if d in negative else 1)/(num_words_neg + count_distinct)\n",
        "pen = (negative[e] + 1 if e in negative else 1)/(num_words_neg + count_distinct)\n",
        "\n",
        "facn = sentiment['negative']/n\n",
        "\n",
        "PN = facn*pan*pbn*pcn*pdn*pen\n",
        "print('The joint probability of sampling a,b,c,d,e from negative sentences : ',PN)"
      ],
      "execution_count": 5,
      "outputs": [
        {
          "output_type": "stream",
          "text": [
            "{'it': 1, 'was': 1, 'good': 1, 'better': 1, \"could'nt\": 1, 'be': 1, 'worse': 1} {'it': 1, 'was': 1, 'bad': 1, 'worse': 1}\n",
            "The joint probability of sampling a,b,c,d,e from positive sentences :  1.2641975308641972e-05\n",
            "The joint probability of sampling a,b,c,d,e from negative sentences :  6.430041152263373e-06\n"
          ],
          "name": "stdout"
        }
      ]
    }
  ]
}