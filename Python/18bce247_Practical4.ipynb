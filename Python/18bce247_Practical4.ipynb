{
  "nbformat": 4,
  "nbformat_minor": 0,
  "metadata": {
    "colab": {
      "name": "18bce247_Practical4.ipynb",
      "provenance": [],
      "authorship_tag": "ABX9TyNzdlK6Wq78zWX5n7SjKONc",
      "include_colab_link": true
    },
    "kernelspec": {
      "name": "python3",
      "display_name": "Python 3"
    }
  },
  "cells": [
    {
      "cell_type": "markdown",
      "metadata": {
        "id": "view-in-github",
        "colab_type": "text"
      },
      "source": [
        "<a href=\"https://colab.research.google.com/github/urvashiramdasani/Python/blob/master/18bce247_Practical4.ipynb\" target=\"_parent\"><img src=\"https://colab.research.google.com/assets/colab-badge.svg\" alt=\"Open In Colab\"/></a>"
      ]
    },
    {
      "cell_type": "markdown",
      "metadata": {
        "id": "d3SInXHJ289O",
        "colab_type": "text"
      },
      "source": [
        "Q 1. Define a class Bank that keeps track of bank customers. The class should contain the following data member: Data member name Details name Name of customer accountNum Account Number type Account Type amount Amount deposited in the bank account interest Interest earned by the customer The class should support the following methods: (a) __init__ for initializing the data members. (b) deposit for depositing money in the members. (c) withdrawal for withdrawing money from the account (d) findInterest that determines the interest on the basis of amount in the account Amount Interest per annum (%) >= 5,00,000 8 >= 3,00,000 and < 5,00,000 7 >=1,00,000 and <3,00,000 5 <1,00,000 3 \n",
        "b"
      ]
    },
    {
      "cell_type": "code",
      "metadata": {
        "id": "tP9kzaYpv5U_",
        "colab_type": "code",
        "outputId": "75afdf57-f701-45db-f295-3ac4d2d3d45d",
        "colab": {
          "base_uri": "https://localhost:8080/",
          "height": 69
        }
      },
      "source": [
        "# user defined exceptions\n",
        "class InvalidAmountException(Exception):\n",
        "  pass\n",
        "\n",
        "# class Bank\n",
        "class Bank:\n",
        "  def __init__(self,cname,anum,typ,amt):\n",
        "    self.name = cname\n",
        "    self.accountNum = anum\n",
        "    self.Type = typ\n",
        "    try:\n",
        "      if amt<0:\n",
        "        raise InvalidAmountException\n",
        "      else:\n",
        "        self.amount = amt\n",
        "    except InvalidAmountException as e:\n",
        "      print(\"Amount cannot be negative!\")\n",
        "\n",
        "  def deposit(self,Amount):\n",
        "    try:\n",
        "      if Amount < 0:\n",
        "        raise InvalidAmountException\n",
        "      else:\n",
        "        self.amount += Amount\n",
        "    except InvalidAmountException as e:\n",
        "      print(\"Amount cannot be negative!\")\n",
        "    print(\"Your updated balance : \"+str(self.amount))\n",
        "  \n",
        "  def withdrawal(self,Amount):\n",
        "    try:\n",
        "      if Amount > self.amount:\n",
        "        raise InvalidAmountException\n",
        "      else:\n",
        "        self.amount -= Amount\n",
        "    except InvalidAmountException as e:\n",
        "      print(\"Insufficient Balance!\")\n",
        "    print(\"Your updated balance : \"+str(self.amount))\n",
        "\n",
        "  def findInterest(self):\n",
        "    if(self.amount >= 500000):\n",
        "      self.interest = 0.08 * self.amount\n",
        "    elif(self.amount >= 300000 and self.amount <= 500000):\n",
        "      self.interest = 0.07 * self.amount\n",
        "    elif(self.amount >= 100000 and self.amount <= 300000):\n",
        "      self.interest = 0.05 * self.amount\n",
        "    elif(self.amount < 100000):\n",
        "      self.interest = 0.03 * self.amount\n",
        "    elif(self.amount < 0):\n",
        "      try:\n",
        "        raise InvalidAmountException\n",
        "      except InvalidAmountException:\n",
        "        print(\"Amount cannot be negative!\")\n",
        "    print(\"The Interest per annum is \"+str(self.interest))\n",
        "\n",
        "# class ends\n",
        "# main program\n",
        "c1 = Bank(\"Vansh\",990099,\"Savings\",350000)\n",
        "c1.deposit(2345)\n",
        "c1.withdrawal(2345)\n",
        "c1.findInterest()"
      ],
      "execution_count": 4,
      "outputs": [
        {
          "output_type": "stream",
          "text": [
            "Your updated balance : 352345\n",
            "Your updated balance : 350000\n",
            "The Interest per annum is 24500.000000000004\n"
          ],
          "name": "stdout"
        }
      ]
    },
    {
      "cell_type": "markdown",
      "metadata": {
        "id": "qPJfyxS93Mxc",
        "colab_type": "text"
      },
      "source": [
        "Q 2. Define a base class Person, having attributes name, birthdate and city. Define the class Student that derives from Person class which is having attributes like rollno, branch, totalMarks and year as data member. The class should contain the instance method __init__ and the abstract method percentage. Define two classes Grad and PostGrad which inherit from the base class Student. Both the classes should define their __init__ method which asks user to enter totalMarks value and should override the abstract method percentage of the superclass. Note that totalMarks obtained are out of 600 and 400 for Grad and PostGrad classes respectively."
      ]
    },
    {
      "cell_type": "code",
      "metadata": {
        "id": "2eaqOukd3I07",
        "colab_type": "code",
        "colab": {
          "base_uri": "https://localhost:8080/",
          "height": 52
        },
        "outputId": "0ae6a920-058d-4cf6-9219-eaa59b25f685"
      },
      "source": [
        "# class Person\n",
        "class Person(object):\n",
        "  def __init__(self, name, birthdate, city):\n",
        "    self.name = name\n",
        "    self.birthdate = birthdate\n",
        "    self.city = city\n",
        "\n",
        "# class Student \n",
        "class Student(Person):\n",
        "  def __init__(self, rollno, branch, totalMarks, year, name, birthdate, city):\n",
        "    super().__init__(name, birthdate, city)\n",
        "    self.rollno = rollno\n",
        "    self.branch = branch\n",
        "    self.totalMarks = totalMarks\n",
        "    self.year = year\n",
        "\n",
        "  def percentage(self):\n",
        "    pass\n",
        "\n",
        "# class Grad\n",
        "class Grad(Student):\n",
        "  def __init__(self,totalMarks, rollno, branch, year, name, birthdate, city):\n",
        "    super().__init__(rollno, branch, totalMarks, year, name, birthdate, city)\n",
        "    self.totalMarks = totalMarks\n",
        "  \n",
        "  def percentage(self):\n",
        "    return self.totalMarks/6\n",
        "\n",
        "# class PostGrad\n",
        "class PostGrad(Student):\n",
        "  def __init__(self,totalMarks, rollno, branch, year, name, birthdate, city):\n",
        "    super().__init__(rollno, branch, totalMarks, year, name, birthdate, city)\n",
        "    self.totalMarks = totalMarks\n",
        "\n",
        "  def percentage(self):\n",
        "    return self.totalMarks/4\n",
        "\n",
        "# main\n",
        "g = Grad(599, 247, \"CSE\", 2020, \"Urvashi\", \"18-09-2000\", \"Ahmedabad\")\n",
        "print(g.percentage())\n",
        "\n",
        "pg = PostGrad(399, 247, \"CSE\", 2020, \"Urvashi\", \"18-09-2000\", \"Ahmedabad\")\n",
        "print(pg.percentage())"
      ],
      "execution_count": 3,
      "outputs": [
        {
          "output_type": "stream",
          "text": [
            "99.83333333333333\n",
            "99.75\n"
          ],
          "name": "stdout"
        }
      ]
    },
    {
      "cell_type": "code",
      "metadata": {
        "id": "oUfgrW-jxdRM",
        "colab_type": "code",
        "colab": {}
      },
      "source": [
        ""
      ],
      "execution_count": 0,
      "outputs": []
    }
  ]
}
