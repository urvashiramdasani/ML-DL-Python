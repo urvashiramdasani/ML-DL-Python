{
  "nbformat": 4,
  "nbformat_minor": 0,
  "metadata": {
    "colab": {
      "name": "18bce247_Practical_6.ipynb",
      "provenance": [],
      "collapsed_sections": [],
      "authorship_tag": "ABX9TyNBX8c1eXc9tYPn4E5rjCHU",
      "include_colab_link": true
    },
    "kernelspec": {
      "name": "python3",
      "display_name": "Python 3"
    }
  },
  "cells": [
    {
      "cell_type": "markdown",
      "metadata": {
        "id": "view-in-github",
        "colab_type": "text"
      },
      "source": [
        "<a href=\"https://colab.research.google.com/github/urvashiramdasani/Python/blob/master/18bce247_Practical_6.ipynb\" target=\"_parent\"><img src=\"https://colab.research.google.com/assets/colab-badge.svg\" alt=\"Open In Colab\"/></a>"
      ]
    },
    {
      "cell_type": "markdown",
      "metadata": {
        "id": "opyokKJ-7r5M",
        "colab_type": "text"
      },
      "source": [
        "Q . 6 : Plot a line graph that shows in the figure for the given data. The runs scored between two-wicket fall in a one-day international match between India and England is generated using randomly."
      ]
    },
    {
      "cell_type": "code",
      "metadata": {
        "id": "85UqrqU67PlW",
        "colab_type": "code",
        "colab": {}
      },
      "source": [
        "import matplotlib\n",
        "import matplotlib.pyplot as plt\n",
        "import numpy as np"
      ],
      "execution_count": 0,
      "outputs": []
    },
    {
      "cell_type": "code",
      "metadata": {
        "id": "xy0wb-8V9EAF",
        "colab_type": "code",
        "outputId": "3dbd32d5-ec51-4032-be8c-366bcf565065",
        "colab": {
          "base_uri": "https://localhost:8080/",
          "height": 347
        }
      },
      "source": [
        "fig, ax = plt.subplots()\n",
        "wickets = [1,2,3,4,5,6,7,8,9,10]\n",
        "ind = [5, 35, 24, 0, 99, 1, 35, 15, 27, 14]\n",
        "eng = [10, 55, 34, 21, 2, 7, 118, 29, 32, 10]\n",
        "\n",
        "sum = 0\n",
        "ind_runs = []\n",
        "eng_runs = []\n",
        "for i in ind:\n",
        "  sum += i\n",
        "  ind_runs.append(sum)\n",
        "# ind_runs[9] = 0\n",
        "print(ind_runs)\n",
        "\n",
        "sum = 0\n",
        "for i in eng:\n",
        "  sum +=i\n",
        "  eng_runs.append(sum)\n",
        "# eng_runs[9] = 0\n",
        "print(eng_runs)\n",
        "\n",
        "ax.plot(wickets, ind_runs, label=\"India\", marker = 'o')\n",
        "ax.plot(wickets, eng_runs, label=\"England\", marker = 'o')\n",
        "ax.set_xlabel('Fall of Wickets')\n",
        "ax.set_ylabel('Runs')\n",
        "ax.set_title('Performance')\n",
        "ax.legend()"
      ],
      "execution_count": 19,
      "outputs": [
        {
          "output_type": "stream",
          "text": [
            "[5, 40, 64, 64, 163, 164, 199, 214, 241, 255]\n",
            "[10, 65, 99, 120, 122, 129, 247, 276, 308, 318]\n"
          ],
          "name": "stdout"
        },
        {
          "output_type": "execute_result",
          "data": {
            "text/plain": [
              "<matplotlib.legend.Legend at 0x7f18e600c278>"
            ]
          },
          "metadata": {
            "tags": []
          },
          "execution_count": 19
        },
        {
          "output_type": "display_data",
          "data": {
            "image/png": "[encoded data removed]",
            "text/plain": [
              "<Figure size 432x288 with 1 Axes>"
            ]
          },
          "metadata": {
            "tags": []
          }
        }
      ]
    },
    {
      "cell_type": "code",
      "metadata": {
        "id": "GVOxORQ9-s7y",
        "colab_type": "code",
        "colab": {}
      },
      "source": [
        ""
      ],
      "execution_count": 0,
      "outputs": []
    }
  ]
}
