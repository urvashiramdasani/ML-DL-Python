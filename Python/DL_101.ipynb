{
  "nbformat": 4,
  "nbformat_minor": 0,
  "metadata": {
    "colab": {
      "name": "DL#101.ipynb",
      "provenance": [],
      "collapsed_sections": [
        "t1wTld4VT6LY",
        "A32aeP5yWllK",
        "7sdejmG8hLBU",
        "cCN1Is1Csqw0",
        "NG9rquZcxTaP"
      ],
      "authorship_tag": "ABX9TyNcOrK/38VZR4Yd//f+gclu",
      "include_colab_link": true
    },
    "kernelspec": {
      "name": "python3",
      "display_name": "Python 3"
    }
  },
  "cells": [
    {
      "cell_type": "markdown",
      "metadata": {
        "id": "view-in-github",
        "colab_type": "text"
      },
      "source": [
        "<a href=\"https://colab.research.google.com/github/urvashiramdasani/Python/blob/master/DL_101.ipynb\" target=\"_parent\"><img src=\"https://colab.research.google.com/assets/colab-badge.svg\" alt=\"Open In Colab\"/></a>"
      ]
    },
    {
      "cell_type": "markdown",
      "metadata": {
        "id": "uA188DLKTfBy",
        "colab_type": "text"
      },
      "source": [
        "# Google Colab Introduction"
      ]
    },
    {
      "cell_type": "code",
      "metadata": {
        "id": "UlCj1e4nhJQw",
        "colab_type": "code",
        "outputId": "e539a024-1813-40a7-fd51-d2d303b09cbf",
        "colab": {
          "base_uri": "https://localhost:8080/",
          "height": 35
        }
      },
      "source": [
        "!ls"
      ],
      "execution_count": 0,
      "outputs": [
        {
          "output_type": "stream",
          "text": [
            "sample_data\n"
          ],
          "name": "stdout"
        }
      ]
    },
    {
      "cell_type": "code",
      "metadata": {
        "id": "AmGXrNrwhOWw",
        "colab_type": "code",
        "outputId": "ae008180-ad71-4757-8081-3baf2ec116e8",
        "colab": {
          "base_uri": "https://localhost:8080/",
          "height": 973
        }
      },
      "source": [
        "!cat /proc/cpuinfo"
      ],
      "execution_count": 0,
      "outputs": [
        {
          "output_type": "stream",
          "text": [
            "processor\t: 0\n",
            "vendor_id\t: GenuineIntel\n",
            "cpu family\t: 6\n",
            "model\t\t: 63\n",
            "model name\t: Intel(R) Xeon(R) CPU @ 2.30GHz\n",
            "stepping\t: 0\n",
            "microcode\t: 0x1\n",
            "cpu MHz\t\t: 2300.000\n",
            "cache size\t: 46080 KB\n",
            "physical id\t: 0\n",
            "siblings\t: 2\n",
            "core id\t\t: 0\n",
            "cpu cores\t: 1\n",
            "apicid\t\t: 0\n",
            "initial apicid\t: 0\n",
            "fpu\t\t: yes\n",
            "fpu_exception\t: yes\n",
            "cpuid level\t: 13\n",
            "wp\t\t: yes\n",
            "flags\t\t: fpu vme de pse tsc msr pae mce cx8 apic sep mtrr pge mca cmov pat pse36 clflush mmx fxsr sse sse2 ss ht syscall nx pdpe1gb rdtscp lm constant_tsc rep_good nopl xtopology nonstop_tsc cpuid tsc_known_freq pni pclmulqdq ssse3 fma cx16 pcid sse4_1 sse4_2 x2apic movbe popcnt aes xsave avx f16c rdrand hypervisor lahf_lm abm invpcid_single ssbd ibrs ibpb stibp fsgsbase tsc_adjust bmi1 avx2 smep bmi2 erms invpcid xsaveopt arat md_clear arch_capabilities\n",
            "bugs\t\t: cpu_meltdown spectre_v1 spectre_v2 spec_store_bypass l1tf mds swapgs\n",
            "bogomips\t: 4600.00\n",
            "clflush size\t: 64\n",
            "cache_alignment\t: 64\n",
            "address sizes\t: 46 bits physical, 48 bits virtual\n",
            "power management:\n",
            "\n",
            "processor\t: 1\n",
            "vendor_id\t: GenuineIntel\n",
            "cpu family\t: 6\n",
            "model\t\t: 63\n",
            "model name\t: Intel(R) Xeon(R) CPU @ 2.30GHz\n",
            "stepping\t: 0\n",
            "microcode\t: 0x1\n",
            "cpu MHz\t\t: 2300.000\n",
            "cache size\t: 46080 KB\n",
            "physical id\t: 0\n",
            "siblings\t: 2\n",
            "core id\t\t: 0\n",
            "cpu cores\t: 1\n",
            "apicid\t\t: 1\n",
            "initial apicid\t: 1\n",
            "fpu\t\t: yes\n",
            "fpu_exception\t: yes\n",
            "cpuid level\t: 13\n",
            "wp\t\t: yes\n",
            "flags\t\t: fpu vme de pse tsc msr pae mce cx8 apic sep mtrr pge mca cmov pat pse36 clflush mmx fxsr sse sse2 ss ht syscall nx pdpe1gb rdtscp lm constant_tsc rep_good nopl xtopology nonstop_tsc cpuid tsc_known_freq pni pclmulqdq ssse3 fma cx16 pcid sse4_1 sse4_2 x2apic movbe popcnt aes xsave avx f16c rdrand hypervisor lahf_lm abm invpcid_single ssbd ibrs ibpb stibp fsgsbase tsc_adjust bmi1 avx2 smep bmi2 erms invpcid xsaveopt arat md_clear arch_capabilities\n",
            "bugs\t\t: cpu_meltdown spectre_v1 spectre_v2 spec_store_bypass l1tf mds swapgs\n",
            "bogomips\t: 4600.00\n",
            "clflush size\t: 64\n",
            "cache_alignment\t: 64\n",
            "address sizes\t: 46 bits physical, 48 bits virtual\n",
            "power management:\n",
            "\n"
          ],
          "name": "stdout"
        }
      ]
    },
    {
      "cell_type": "code",
      "metadata": {
        "id": "HMRFOvJZhasA",
        "colab_type": "code",
        "outputId": "2b2f020f-f699-4881-9dd4-ddb571cc3886",
        "colab": {
          "base_uri": "https://localhost:8080/",
          "height": 797
        }
      },
      "source": [
        "!cat /proc/meminfo"
      ],
      "execution_count": 0,
      "outputs": [
        {
          "output_type": "stream",
          "text": [
            "MemTotal:       13335188 kB\n",
            "MemFree:        10603880 kB\n",
            "MemAvailable:   12520164 kB\n",
            "Buffers:           69228 kB\n",
            "Cached:          2002916 kB\n",
            "SwapCached:            0 kB\n",
            "Active:           693928 kB\n",
            "Inactive:        1795124 kB\n",
            "Active(anon):     394280 kB\n",
            "Inactive(anon):      312 kB\n",
            "Active(file):     299648 kB\n",
            "Inactive(file):  1794812 kB\n",
            "Unevictable:           0 kB\n",
            "Mlocked:               0 kB\n",
            "SwapTotal:             0 kB\n",
            "SwapFree:              0 kB\n",
            "Dirty:               228 kB\n",
            "Writeback:             0 kB\n",
            "AnonPages:        417000 kB\n",
            "Mapped:           216464 kB\n",
            "Shmem:               852 kB\n",
            "Slab:             155496 kB\n",
            "SReclaimable:     125608 kB\n",
            "SUnreclaim:        29888 kB\n",
            "KernelStack:        3424 kB\n",
            "PageTables:         5380 kB\n",
            "NFS_Unstable:          0 kB\n",
            "Bounce:                0 kB\n",
            "WritebackTmp:          0 kB\n",
            "CommitLimit:     6667592 kB\n",
            "Committed_AS:    2752264 kB\n",
            "VmallocTotal:   34359738367 kB\n",
            "VmallocUsed:           0 kB\n",
            "VmallocChunk:          0 kB\n",
            "AnonHugePages:         0 kB\n",
            "ShmemHugePages:        0 kB\n",
            "ShmemPmdMapped:        0 kB\n",
            "HugePages_Total:       0\n",
            "HugePages_Free:        0\n",
            "HugePages_Rsvd:        0\n",
            "HugePages_Surp:        0\n",
            "Hugepagesize:       2048 kB\n",
            "DirectMap4k:       65524 kB\n",
            "DirectMap2M:     6225920 kB\n",
            "DirectMap1G:     9437184 kB\n"
          ],
          "name": "stdout"
        }
      ]
    },
    {
      "cell_type": "markdown",
      "metadata": {
        "id": "woAcUwSAkcmt",
        "colab_type": "text"
      },
      "source": [
        "This is a text cell where i can write in **bold**\n",
        "$\\LaTeX$\n",
        "# Basic Data Types\n",
        "\n",
        "sample is visible in table of contents"
      ]
    },
    {
      "cell_type": "code",
      "metadata": {
        "id": "01lYDETwh85q",
        "colab_type": "code",
        "colab": {}
      },
      "source": [
        "name = 'Iphone 5s'"
      ],
      "execution_count": 0,
      "outputs": []
    },
    {
      "cell_type": "code",
      "metadata": {
        "id": "dGcjPFp4nV5m",
        "colab_type": "code",
        "outputId": "9417fbcf-2dac-4e77-acae-f9c76f716aab",
        "colab": {
          "base_uri": "https://localhost:8080/",
          "height": 35
        }
      },
      "source": [
        "type(name)"
      ],
      "execution_count": 0,
      "outputs": [
        {
          "output_type": "execute_result",
          "data": {
            "text/plain": [
              "str"
            ]
          },
          "metadata": {
            "tags": []
          },
          "execution_count": 5
        }
      ]
    },
    {
      "cell_type": "code",
      "metadata": {
        "id": "wUfgUM6NnfMo",
        "colab_type": "code",
        "outputId": "b47fdc90-03d5-42e1-fd43-1ebacffd70e8",
        "colab": {
          "base_uri": "https://localhost:8080/",
          "height": 35
        }
      },
      "source": [
        "print(name)"
      ],
      "execution_count": 0,
      "outputs": [
        {
          "output_type": "stream",
          "text": [
            "Iphone 5s\n"
          ],
          "name": "stdout"
        }
      ]
    },
    {
      "cell_type": "code",
      "metadata": {
        "id": "jh_gpzd5njIa",
        "colab_type": "code",
        "outputId": "b2fd4af5-4997-4282-dd72-62f418081075",
        "colab": {
          "base_uri": "https://localhost:8080/",
          "height": 35
        }
      },
      "source": [
        "screen_size = 4.3\n",
        "type(screen_size)"
      ],
      "execution_count": 0,
      "outputs": [
        {
          "output_type": "execute_result",
          "data": {
            "text/plain": [
              "float"
            ]
          },
          "metadata": {
            "tags": []
          },
          "execution_count": 7
        }
      ]
    },
    {
      "cell_type": "code",
      "metadata": {
        "id": "wArqhgdCobqp",
        "colab_type": "code",
        "outputId": "690d8575-341d-460b-8088-1f8d1c1e208e",
        "colab": {
          "base_uri": "https://localhost:8080/",
          "height": 35
        }
      },
      "source": [
        "num_of_speaker = 1\n",
        "type(num_of_speaker)"
      ],
      "execution_count": 0,
      "outputs": [
        {
          "output_type": "execute_result",
          "data": {
            "text/plain": [
              "int"
            ]
          },
          "metadata": {
            "tags": []
          },
          "execution_count": 8
        }
      ]
    },
    {
      "cell_type": "code",
      "metadata": {
        "id": "b-KjO0vZogkZ",
        "colab_type": "code",
        "outputId": "5e9a0921-18bd-4910-d2a8-2097665abc6d",
        "colab": {
          "base_uri": "https://localhost:8080/",
          "height": 35
        }
      },
      "source": [
        "print(\"I just bought a \"+name)"
      ],
      "execution_count": 0,
      "outputs": [
        {
          "output_type": "stream",
          "text": [
            "I just bought a Iphone 5s\n"
          ],
          "name": "stdout"
        }
      ]
    },
    {
      "cell_type": "code",
      "metadata": {
        "id": "HXprkGR5oj_b",
        "colab_type": "code",
        "outputId": "0a68b8d5-0ee1-4201-88a7-920b67991737",
        "colab": {
          "base_uri": "https://localhost:8080/",
          "height": 35
        }
      },
      "source": [
        "a = 3\n",
        "b = 2\n",
        "print(a * b, a + b, a - b, a / b, a ** b, a // b )"
      ],
      "execution_count": 0,
      "outputs": [
        {
          "output_type": "stream",
          "text": [
            "6 5 1 1.5 9 1\n"
          ],
          "name": "stdout"
        }
      ]
    },
    {
      "cell_type": "code",
      "metadata": {
        "id": "gTiFYV-ZpAEV",
        "colab_type": "code",
        "outputId": "111c834f-380f-40bb-c741-3cd61f013d6f",
        "colab": {
          "base_uri": "https://localhost:8080/",
          "height": 35
        }
      },
      "source": [
        "is_android = False\n",
        "type(is_android)"
      ],
      "execution_count": 0,
      "outputs": [
        {
          "output_type": "execute_result",
          "data": {
            "text/plain": [
              "bool"
            ]
          },
          "metadata": {
            "tags": []
          },
          "execution_count": 11
        }
      ]
    },
    {
      "cell_type": "code",
      "metadata": {
        "id": "0Qu5e183pRuf",
        "colab_type": "code",
        "outputId": "301fbc14-001a-4b2e-f20d-9680b3fa988f",
        "colab": {
          "base_uri": "https://localhost:8080/",
          "height": 35
        }
      },
      "source": [
        "print(is_android == True)"
      ],
      "execution_count": 0,
      "outputs": [
        {
          "output_type": "stream",
          "text": [
            "False\n"
          ],
          "name": "stdout"
        }
      ]
    },
    {
      "cell_type": "code",
      "metadata": {
        "id": "xOP0evNepWcO",
        "colab_type": "code",
        "outputId": "48704745-b737-47f6-a7a7-795530ca0202",
        "colab": {
          "base_uri": "https://localhost:8080/",
          "height": 35
        }
      },
      "source": [
        "print(is_android == False and num_of_speaker>1)"
      ],
      "execution_count": 0,
      "outputs": [
        {
          "output_type": "stream",
          "text": [
            "False\n"
          ],
          "name": "stdout"
        }
      ]
    },
    {
      "cell_type": "code",
      "metadata": {
        "id": "oBFPsU6PpxvZ",
        "colab_type": "code",
        "outputId": "d7c65f73-51d3-4bc2-95fc-459adbbfa5ee",
        "colab": {
          "base_uri": "https://localhost:8080/",
          "height": 35
        }
      },
      "source": [
        "if is_android == True:\n",
        "  print(name+'supports Android')\n",
        "  print('Continuing to write in if block')\n",
        "\n",
        "print('Writing outside if block')"
      ],
      "execution_count": 0,
      "outputs": [
        {
          "output_type": "stream",
          "text": [
            "Writing outside if block\n"
          ],
          "name": "stdout"
        }
      ]
    },
    {
      "cell_type": "code",
      "metadata": {
        "id": "_Ka0iVx5qA5r",
        "colab_type": "code",
        "outputId": "6ae23a7c-dc21-4e01-a775-c602d165ab17",
        "colab": {
          "base_uri": "https://localhost:8080/",
          "height": 104
        }
      },
      "source": [
        "for i in range(5):\n",
        "  print(i, i ** 2)"
      ],
      "execution_count": 0,
      "outputs": [
        {
          "output_type": "stream",
          "text": [
            "0 0\n",
            "1 1\n",
            "2 4\n",
            "3 9\n",
            "4 16\n"
          ],
          "name": "stdout"
        }
      ]
    },
    {
      "cell_type": "code",
      "metadata": {
        "id": "JGP83YhJqeVe",
        "colab_type": "code",
        "colab": {}
      },
      "source": [
        "range? # opens up help"
      ],
      "execution_count": 0,
      "outputs": []
    },
    {
      "cell_type": "code",
      "metadata": {
        "id": "xL-yhwBFqf2A",
        "colab_type": "code",
        "outputId": "0077918a-c6f8-4aa1-b870-d50012c2e166",
        "colab": {
          "base_uri": "https://localhost:8080/",
          "height": 104
        }
      },
      "source": [
        "i = 0\n",
        "while i < 5:\n",
        "  print(i, i ** 2)\n",
        "  i += 1"
      ],
      "execution_count": 0,
      "outputs": [
        {
          "output_type": "stream",
          "text": [
            "0 0\n",
            "1 1\n",
            "2 4\n",
            "3 9\n",
            "4 16\n"
          ],
          "name": "stdout"
        }
      ]
    },
    {
      "cell_type": "code",
      "metadata": {
        "id": "qGlokY-yq3FI",
        "colab_type": "code",
        "colab": {}
      },
      "source": [
        "def print_square(stop_val, start_val = 0):\n",
        "  \"\"\"Prints the square of number in a given range\"\"\"\n",
        "  for i in range(start_val, stop_val):\n",
        "    print(i, i ** 2)"
      ],
      "execution_count": 0,
      "outputs": []
    },
    {
      "cell_type": "code",
      "metadata": {
        "id": "JZ2K4moVrdMl",
        "colab_type": "code",
        "outputId": "059e3859-3fe9-4daa-eebb-0bd5d2b0d24f",
        "colab": {
          "base_uri": "https://localhost:8080/",
          "height": 69
        }
      },
      "source": [
        "print_square(5,2)"
      ],
      "execution_count": 0,
      "outputs": [
        {
          "output_type": "stream",
          "text": [
            "2 4\n",
            "3 9\n",
            "4 16\n"
          ],
          "name": "stdout"
        }
      ]
    },
    {
      "cell_type": "code",
      "metadata": {
        "id": "1rbAM8Gxrfsv",
        "colab_type": "code",
        "colab": {}
      },
      "source": [
        "def sum_of_squares(stop_val):\n",
        "  sum = 0\n",
        "  for i in range(stop_val):\n",
        "    sum += i**2\n",
        "  return sum"
      ],
      "execution_count": 0,
      "outputs": []
    },
    {
      "cell_type": "code",
      "metadata": {
        "id": "eWjpkS8IsCk2",
        "colab_type": "code",
        "colab": {}
      },
      "source": [
        "sum_5 = sum_of_squares(5)"
      ],
      "execution_count": 0,
      "outputs": []
    },
    {
      "cell_type": "code",
      "metadata": {
        "id": "IE1pYvMmsFS9",
        "colab_type": "code",
        "outputId": "63005319-e52f-4647-ceee-e757eaede343",
        "colab": {
          "base_uri": "https://localhost:8080/",
          "height": 104
        }
      },
      "source": [
        "help(print_square)"
      ],
      "execution_count": 0,
      "outputs": [
        {
          "output_type": "stream",
          "text": [
            "Help on function print_square in module __main__:\n",
            "\n",
            "print_square(stop_val, start_val=0)\n",
            "    Prints the square of number in a given range\n",
            "\n"
          ],
          "name": "stdout"
        }
      ]
    },
    {
      "cell_type": "code",
      "metadata": {
        "id": "dZTmrJSXtGky",
        "colab_type": "code",
        "colab": {}
      },
      "source": [
        "print_square?"
      ],
      "execution_count": 0,
      "outputs": []
    },
    {
      "cell_type": "markdown",
      "metadata": {
        "id": "t1wTld4VT6LY",
        "colab_type": "text"
      },
      "source": [
        "# Lists"
      ]
    },
    {
      "cell_type": "code",
      "metadata": {
        "id": "nZw_0PdktJmk",
        "colab_type": "code",
        "colab": {}
      },
      "source": [
        "my_phone = [name, is_android, screen_size]"
      ],
      "execution_count": 0,
      "outputs": []
    },
    {
      "cell_type": "code",
      "metadata": {
        "id": "nm1hwosrvKZF",
        "colab_type": "code",
        "outputId": "102f3208-d2e3-46f6-c472-039a88edaec7",
        "colab": {
          "base_uri": "https://localhost:8080/",
          "height": 35
        }
      },
      "source": [
        "print(my_phone)"
      ],
      "execution_count": 0,
      "outputs": [
        {
          "output_type": "stream",
          "text": [
            "['Iphone 5s', False, 4.3]\n"
          ],
          "name": "stdout"
        }
      ]
    },
    {
      "cell_type": "code",
      "metadata": {
        "id": "nnjGO39GvN0N",
        "colab_type": "code",
        "outputId": "edfc1a84-ca0f-460c-9030-67cb780ec01e",
        "colab": {
          "base_uri": "https://localhost:8080/",
          "height": 35
        }
      },
      "source": [
        "type(my_phone[0])"
      ],
      "execution_count": 0,
      "outputs": [
        {
          "output_type": "execute_result",
          "data": {
            "text/plain": [
              "str"
            ]
          },
          "metadata": {
            "tags": []
          },
          "execution_count": 33
        }
      ]
    },
    {
      "cell_type": "code",
      "metadata": {
        "id": "LkNy3qhIvTzQ",
        "colab_type": "code",
        "outputId": "aa3ead45-d50f-41b7-99ac-a9fe667ca8d4",
        "colab": {
          "base_uri": "https://localhost:8080/",
          "height": 35
        }
      },
      "source": [
        "my_phone[1:3]"
      ],
      "execution_count": 0,
      "outputs": [
        {
          "output_type": "execute_result",
          "data": {
            "text/plain": [
              "[False, 4.3]"
            ]
          },
          "metadata": {
            "tags": []
          },
          "execution_count": 34
        }
      ]
    },
    {
      "cell_type": "code",
      "metadata": {
        "id": "DQba_T3Rvgqr",
        "colab_type": "code",
        "outputId": "11dbfee5-27cd-4370-971e-5b111c6bcb3d",
        "colab": {
          "base_uri": "https://localhost:8080/",
          "height": 35
        }
      },
      "source": [
        "my_dads_phone = my_phone\n",
        "print(my_dads_phone)"
      ],
      "execution_count": 0,
      "outputs": [
        {
          "output_type": "stream",
          "text": [
            "['Iphone 5s', False, 4.3]\n"
          ],
          "name": "stdout"
        }
      ]
    },
    {
      "cell_type": "code",
      "metadata": {
        "id": "rJm48FR9v-B7",
        "colab_type": "code",
        "outputId": "0d748f69-1219-4331-a22d-cb959150ce0f",
        "colab": {
          "base_uri": "https://localhost:8080/",
          "height": 35
        }
      },
      "source": [
        "my_phone[2] = 4\n",
        "print(my_phone)"
      ],
      "execution_count": 0,
      "outputs": [
        {
          "output_type": "stream",
          "text": [
            "['Iphone 5s', False, 4]\n"
          ],
          "name": "stdout"
        }
      ]
    },
    {
      "cell_type": "code",
      "metadata": {
        "id": "v1oQAxStwByU",
        "colab_type": "code",
        "outputId": "281518a8-f135-4c64-927e-4cd7e390bc2e",
        "colab": {
          "base_uri": "https://localhost:8080/",
          "height": 35
        }
      },
      "source": [
        "print(my_dads_phone)"
      ],
      "execution_count": 0,
      "outputs": [
        {
          "output_type": "stream",
          "text": [
            "['Iphone 5s', False, 4]\n"
          ],
          "name": "stdout"
        }
      ]
    },
    {
      "cell_type": "code",
      "metadata": {
        "id": "BLWlSc42wEPX",
        "colab_type": "code",
        "outputId": "249316d9-0bb1-491b-9b73-884286c4917c",
        "colab": {
          "base_uri": "https://localhost:8080/",
          "height": 35
        }
      },
      "source": [
        "my_dads_phone = list(my_phone) # my_phone[:]\n",
        "print(my_dads_phone)"
      ],
      "execution_count": 0,
      "outputs": [
        {
          "output_type": "stream",
          "text": [
            "['Iphone 5s', False, 4]\n"
          ],
          "name": "stdout"
        }
      ]
    },
    {
      "cell_type": "code",
      "metadata": {
        "id": "VGLeOkZXwJtD",
        "colab_type": "code",
        "outputId": "773fa341-4b88-4261-ef06-9c1367a978b8",
        "colab": {
          "base_uri": "https://localhost:8080/",
          "height": 52
        }
      },
      "source": [
        "my_phone[2] = 4.3\n",
        "print(my_phone)\n",
        "print(my_dads_phone)"
      ],
      "execution_count": 0,
      "outputs": [
        {
          "output_type": "stream",
          "text": [
            "['Iphone 5s', False, 4.3]\n",
            "['Iphone 5s', False, 4]\n"
          ],
          "name": "stdout"
        }
      ]
    },
    {
      "cell_type": "code",
      "metadata": {
        "id": "rbqrRxg_wehY",
        "colab_type": "code",
        "outputId": "b7ea0512-a25a-4907-dc91-3548d57471fe",
        "colab": {
          "base_uri": "https://localhost:8080/",
          "height": 35
        }
      },
      "source": [
        "len(my_phone)"
      ],
      "execution_count": 0,
      "outputs": [
        {
          "output_type": "execute_result",
          "data": {
            "text/plain": [
              "3"
            ]
          },
          "metadata": {
            "tags": []
          },
          "execution_count": 40
        }
      ]
    },
    {
      "cell_type": "code",
      "metadata": {
        "id": "Zbpz1JtjwxKj",
        "colab_type": "code",
        "outputId": "0936c4aa-e1fe-4dad-f667-33cb23c71f77",
        "colab": {
          "base_uri": "https://localhost:8080/",
          "height": 35
        }
      },
      "source": [
        "my_phone.append('3G')\n",
        "len(my_phone)"
      ],
      "execution_count": 0,
      "outputs": [
        {
          "output_type": "execute_result",
          "data": {
            "text/plain": [
              "4"
            ]
          },
          "metadata": {
            "tags": []
          },
          "execution_count": 41
        }
      ]
    },
    {
      "cell_type": "code",
      "metadata": {
        "id": "s6B1I3xRw30T",
        "colab_type": "code",
        "outputId": "a96c7ea0-fdcc-4d3b-c7ab-9ba7d9dc4188",
        "colab": {
          "base_uri": "https://localhost:8080/",
          "height": 35
        }
      },
      "source": [
        "some = ['single sim', 35000]\n",
        "my_phone += some\n",
        "print(my_phone)"
      ],
      "execution_count": 0,
      "outputs": [
        {
          "output_type": "stream",
          "text": [
            "['Iphone 5s', False, 4.3, '3G', 'single sim', 35000]\n"
          ],
          "name": "stdout"
        }
      ]
    },
    {
      "cell_type": "code",
      "metadata": {
        "id": "hYNHPkqqz36_",
        "colab_type": "code",
        "outputId": "34e86d10-00ef-497e-bbc0-106ac94591a7",
        "colab": {
          "base_uri": "https://localhost:8080/",
          "height": 121
        }
      },
      "source": [
        "for data in my_phone:\n",
        "  print(data)"
      ],
      "execution_count": 0,
      "outputs": [
        {
          "output_type": "stream",
          "text": [
            "Iphone 5s\n",
            "False\n",
            "4.3\n",
            "3G\n",
            "single sim\n",
            "35000\n"
          ],
          "name": "stdout"
        }
      ]
    },
    {
      "cell_type": "code",
      "metadata": {
        "id": "Sqjb_UzuU8QO",
        "colab_type": "code",
        "outputId": "789ce324-f48d-44e9-890e-fd7d00e01105",
        "colab": {
          "base_uri": "https://localhost:8080/",
          "height": 35
        }
      },
      "source": [
        "a = list(range(5))\n",
        "b = list(map(lambda x:x ** 2, a))\n",
        "print(b)"
      ],
      "execution_count": 0,
      "outputs": [
        {
          "output_type": "stream",
          "text": [
            "[0, 1, 4, 9, 16]\n"
          ],
          "name": "stdout"
        }
      ]
    },
    {
      "cell_type": "code",
      "metadata": {
        "id": "--9ENyOXVFkK",
        "colab_type": "code",
        "outputId": "253217d6-b32b-4c29-d714-aa68cc22ef2e",
        "colab": {
          "base_uri": "https://localhost:8080/",
          "height": 35
        }
      },
      "source": [
        "c = list(filter(lambda x: x%2==0, b))\n",
        "print(c)"
      ],
      "execution_count": 0,
      "outputs": [
        {
          "output_type": "stream",
          "text": [
            "[0, 4, 16]\n"
          ],
          "name": "stdout"
        }
      ]
    },
    {
      "cell_type": "markdown",
      "metadata": {
        "id": "A32aeP5yWllK",
        "colab_type": "text"
      },
      "source": [
        "# Tuples, Set, Dictionaries"
      ]
    },
    {
      "cell_type": "code",
      "metadata": {
        "id": "aIGT6UkQWP5u",
        "colab_type": "code",
        "outputId": "b4db9dcd-08c9-46a8-cf2f-846a2f820644",
        "colab": {
          "base_uri": "https://localhost:8080/",
          "height": 52
        }
      },
      "source": [
        "my_phone_tuple = ('iPhone 5s', False, 4.3)\n",
        "print(my_phone_tuple)\n",
        "print(type(my_phone_tuple))"
      ],
      "execution_count": 0,
      "outputs": [
        {
          "output_type": "stream",
          "text": [
            "('iPhone 5s', False, 4.3)\n",
            "<class 'tuple'>\n"
          ],
          "name": "stdout"
        }
      ]
    },
    {
      "cell_type": "code",
      "metadata": {
        "id": "fIAjbIu-ZNlT",
        "colab_type": "code",
        "outputId": "8a23105a-f250-4892-9ae6-bfdb44884f91",
        "colab": {
          "base_uri": "https://localhost:8080/",
          "height": 35
        }
      },
      "source": [
        "my_phone_tuple[0:2]"
      ],
      "execution_count": 0,
      "outputs": [
        {
          "output_type": "execute_result",
          "data": {
            "text/plain": [
              "('iPhone 5s', False)"
            ]
          },
          "metadata": {
            "tags": []
          },
          "execution_count": 51
        }
      ]
    },
    {
      "cell_type": "code",
      "metadata": {
        "id": "dlggMwevZYcc",
        "colab_type": "code",
        "outputId": "de322b79-fe9c-43c0-ea77-de95a00326cc",
        "colab": {
          "base_uri": "https://localhost:8080/",
          "height": 69
        }
      },
      "source": [
        "for data in my_phone_tuple:\n",
        "  print(data)"
      ],
      "execution_count": 0,
      "outputs": [
        {
          "output_type": "stream",
          "text": [
            "iPhone 5s\n",
            "False\n",
            "4.3\n"
          ],
          "name": "stdout"
        }
      ]
    },
    {
      "cell_type": "code",
      "metadata": {
        "id": "gMWmQJlSZiX2",
        "colab_type": "code",
        "colab": {}
      },
      "source": [
        "import time"
      ],
      "execution_count": 0,
      "outputs": []
    },
    {
      "cell_type": "code",
      "metadata": {
        "id": "Fot_n7Y_aLF3",
        "colab_type": "code",
        "outputId": "5235a3fd-bb42-4992-d5c3-bc94b3a46177",
        "colab": {
          "base_uri": "https://localhost:8080/",
          "height": 35
        }
      },
      "source": [
        "tic = time.time()\n",
        "# do something\n",
        "toc = time.time()\n",
        "print('Elapsed time in seconds ',toc - tic)"
      ],
      "execution_count": 0,
      "outputs": [
        {
          "output_type": "stream",
          "text": [
            "Elapsed time in seconds  2.8848648071289062e-05\n"
          ],
          "name": "stdout"
        }
      ]
    },
    {
      "cell_type": "code",
      "metadata": {
        "id": "dsVIE6CvafDW",
        "colab_type": "code",
        "outputId": "f3336ef3-846d-4cf1-ab7c-590557a1d47e",
        "colab": {
          "base_uri": "https://localhost:8080/",
          "height": 35
        }
      },
      "source": [
        "my_list = list(range(1000000))\n",
        "tic = time.time()\n",
        "my_list_squared = map(lambda x: x**2, my_list)\n",
        "toc = time.time()\n",
        "print(toc - tic)"
      ],
      "execution_count": 0,
      "outputs": [
        {
          "output_type": "stream",
          "text": [
            "0.0002357959747314453\n"
          ],
          "name": "stdout"
        }
      ]
    },
    {
      "cell_type": "code",
      "metadata": {
        "id": "p1ZpEmPNbMrG",
        "colab_type": "code",
        "outputId": "97f76ada-797d-45ec-93dc-1232e516d437",
        "colab": {
          "base_uri": "https://localhost:8080/",
          "height": 35
        }
      },
      "source": [
        "my_tuple = tuple(range(1000000))\n",
        "tic = time.time()\n",
        "my_tuple_squared = map(lambda x: x**2, my_tuple)\n",
        "toc = time.time()\n",
        "print(toc - tic)"
      ],
      "execution_count": 0,
      "outputs": [
        {
          "output_type": "stream",
          "text": [
            "9.822845458984375e-05\n"
          ],
          "name": "stdout"
        }
      ]
    },
    {
      "cell_type": "code",
      "metadata": {
        "id": "RfbH4DvhbVqV",
        "colab_type": "code",
        "outputId": "01dc3644-e9a9-4bc0-db69-a3f85bd4fa9b",
        "colab": {
          "base_uri": "https://localhost:8080/",
          "height": 35
        }
      },
      "source": [
        "my_set = set(my_phone)\n",
        "print(my_set)"
      ],
      "execution_count": 0,
      "outputs": [
        {
          "output_type": "stream",
          "text": [
            "{False, 'single sim', '3G', 4.3, 'Iphone 5s', 35000}\n"
          ],
          "name": "stdout"
        }
      ]
    },
    {
      "cell_type": "code",
      "metadata": {
        "id": "1uqzLuzzcgOq",
        "colab_type": "code",
        "outputId": "b4f1266e-4743-4a69-c6b8-5ad8407e119f",
        "colab": {
          "base_uri": "https://localhost:8080/",
          "height": 35
        }
      },
      "source": [
        "my_set = set(range(1000000))\n",
        "tic = time.time()\n",
        "my_set_squared = map(lambda x: x**2, my_set)\n",
        "toc = time.time()\n",
        "print(toc - tic)"
      ],
      "execution_count": 0,
      "outputs": [
        {
          "output_type": "stream",
          "text": [
            "0.00012636184692382812\n"
          ],
          "name": "stdout"
        }
      ]
    },
    {
      "cell_type": "code",
      "metadata": {
        "id": "JOo58jrvdl7O",
        "colab_type": "code",
        "colab": {}
      },
      "source": [
        "my_phone_dict = dict()"
      ],
      "execution_count": 0,
      "outputs": []
    },
    {
      "cell_type": "code",
      "metadata": {
        "id": "9qkTQdQrfCTi",
        "colab_type": "code",
        "outputId": "cf5235a4-bc5c-46b6-e9bb-15ea309d44b1",
        "colab": {
          "base_uri": "https://localhost:8080/",
          "height": 35
        }
      },
      "source": [
        "my_phone_dict['name'] = 'iPhone 5s'\n",
        "my_phone_dict['is_android'] = False\n",
        "my_phone_dict['screen_size'] = 4.3\n",
        "\n",
        "print(my_phone_dict)"
      ],
      "execution_count": 0,
      "outputs": [
        {
          "output_type": "stream",
          "text": [
            "{'name': 'iPhone 5s', 'is_android': False, 'screen_size': 4.3}\n"
          ],
          "name": "stdout"
        }
      ]
    },
    {
      "cell_type": "code",
      "metadata": {
        "id": "ceKL2fPifab0",
        "colab_type": "code",
        "outputId": "affdf15b-42e8-403c-9118-8569d8673642",
        "colab": {
          "base_uri": "https://localhost:8080/",
          "height": 87
        }
      },
      "source": [
        "print(my_phone_dict['name'])\n",
        "print(my_phone_dict.keys())\n",
        "print(my_phone_dict.values())\n",
        "print(my_phone_dict.items())"
      ],
      "execution_count": 0,
      "outputs": [
        {
          "output_type": "stream",
          "text": [
            "iPhone 5s\n",
            "dict_keys(['name', 'is_android', 'screen_size'])\n",
            "dict_values(['iPhone 5s', False, 4.3])\n",
            "dict_items([('name', 'iPhone 5s'), ('is_android', False), ('screen_size', 4.3)])\n"
          ],
          "name": "stdout"
        }
      ]
    },
    {
      "cell_type": "code",
      "metadata": {
        "id": "1igWHCZlgKZl",
        "colab_type": "code",
        "outputId": "d080fd52-6b22-42a0-d39a-c85d8529dd63",
        "colab": {
          "base_uri": "https://localhost:8080/",
          "height": 69
        }
      },
      "source": [
        "for key in my_phone_dict:\n",
        "  print(key)"
      ],
      "execution_count": 0,
      "outputs": [
        {
          "output_type": "stream",
          "text": [
            "name\n",
            "is_android\n",
            "screen_size\n"
          ],
          "name": "stdout"
        }
      ]
    },
    {
      "cell_type": "markdown",
      "metadata": {
        "id": "7sdejmG8hLBU",
        "colab_type": "text"
      },
      "source": [
        "# Packages"
      ]
    },
    {
      "cell_type": "code",
      "metadata": {
        "id": "oVjVwhLAgoh8",
        "colab_type": "code",
        "colab": {}
      },
      "source": [
        "import math"
      ],
      "execution_count": 0,
      "outputs": []
    },
    {
      "cell_type": "code",
      "metadata": {
        "id": "C-AX8HXZh8kz",
        "colab_type": "code",
        "outputId": "958b6b4a-25b1-4557-f129-d6b33eff4afb",
        "colab": {
          "base_uri": "https://localhost:8080/",
          "height": 52
        }
      },
      "source": [
        "print(math.sqrt(100))\n",
        "print(math.pow(100, 0.5))"
      ],
      "execution_count": 0,
      "outputs": [
        {
          "output_type": "stream",
          "text": [
            "10.0\n",
            "10.0\n"
          ],
          "name": "stdout"
        }
      ]
    },
    {
      "cell_type": "code",
      "metadata": {
        "id": "SLBgZW_oiAFs",
        "colab_type": "code",
        "outputId": "9c0c3b18-e246-4195-9e87-82923f5e1ea6",
        "colab": {
          "base_uri": "https://localhost:8080/",
          "height": 55
        }
      },
      "source": [
        "y = 1\n",
        "for i in range(1,100):\n",
        "  y *= i\n",
        "print(y)"
      ],
      "execution_count": 0,
      "outputs": [
        {
          "output_type": "stream",
          "text": [
            "933262154439441526816992388562667004907159682643816214685929638952175999932299156089414639761565182862536979208272237582511852109168640000000000000000000000\n"
          ],
          "name": "stdout"
        }
      ]
    },
    {
      "cell_type": "code",
      "metadata": {
        "id": "yG1jK9DLmg1l",
        "colab_type": "code",
        "colab": {}
      },
      "source": [
        "import math as m"
      ],
      "execution_count": 0,
      "outputs": []
    },
    {
      "cell_type": "code",
      "metadata": {
        "id": "S8HlWwKbmlMG",
        "colab_type": "code",
        "colab": {}
      },
      "source": [
        "from math import factorial"
      ],
      "execution_count": 0,
      "outputs": []
    },
    {
      "cell_type": "code",
      "metadata": {
        "id": "_EvR49LAmnef",
        "colab_type": "code",
        "colab": {}
      },
      "source": [
        "y = factorial(100)"
      ],
      "execution_count": 0,
      "outputs": []
    },
    {
      "cell_type": "code",
      "metadata": {
        "id": "zE4BuijBmq2A",
        "colab_type": "code",
        "outputId": "b881f158-dce8-4027-bfd4-b60e00515515",
        "colab": {
          "base_uri": "https://localhost:8080/",
          "height": 52
        }
      },
      "source": [
        "vals = list(range(1,100))\n",
        "tic = time.time()\n",
        "for x in vals:\n",
        "  y = 1\n",
        "  for i in range(1,x):\n",
        "    y *= i\n",
        "toc = time.time()\n",
        "print(toc - tic)\n",
        "\n",
        "tic = time.time()\n",
        "for x in vals:\n",
        "  y = factorial(x)\n",
        "toc = time.time()\n",
        "print(toc - tic)"
      ],
      "execution_count": 0,
      "outputs": [
        {
          "output_type": "stream",
          "text": [
            "0.0008094310760498047\n",
            "0.00013709068298339844\n"
          ],
          "name": "stdout"
        }
      ]
    },
    {
      "cell_type": "code",
      "metadata": {
        "id": "nFUsaERRogko",
        "colab_type": "code",
        "colab": {}
      },
      "source": [
        "!echo 'def hello():' > my_first_module.py\n",
        "!echo \"       print('Hello, i am living in a different file!!!')\" >> my_first_module.py"
      ],
      "execution_count": 0,
      "outputs": []
    },
    {
      "cell_type": "code",
      "metadata": {
        "id": "AMqAaMCpqaJD",
        "colab_type": "code",
        "outputId": "ca0e7100-4b4a-4e7b-920c-ab208df72c2c",
        "colab": {
          "base_uri": "https://localhost:8080/",
          "height": 52
        }
      },
      "source": [
        "!cat my_first_module.py"
      ],
      "execution_count": 0,
      "outputs": [
        {
          "output_type": "stream",
          "text": [
            "def hello():\n",
            "       print('Hello, i am living in a different file!!!')\n"
          ],
          "name": "stdout"
        }
      ]
    },
    {
      "cell_type": "code",
      "metadata": {
        "id": "P2Fv-RCtqeEr",
        "colab_type": "code",
        "colab": {}
      },
      "source": [
        "import my_first_module"
      ],
      "execution_count": 0,
      "outputs": []
    },
    {
      "cell_type": "code",
      "metadata": {
        "id": "s1bkw6aIrOu_",
        "colab_type": "code",
        "outputId": "7d26cf94-4000-4fe3-f846-b7f87906ab45",
        "colab": {
          "base_uri": "https://localhost:8080/",
          "height": 35
        }
      },
      "source": [
        "my_first_module.hello()"
      ],
      "execution_count": 0,
      "outputs": [
        {
          "output_type": "stream",
          "text": [
            "Hello, i am living in a different file!!!\n"
          ],
          "name": "stdout"
        }
      ]
    },
    {
      "cell_type": "markdown",
      "metadata": {
        "id": "cCN1Is1Csqw0",
        "colab_type": "text"
      },
      "source": [
        "# File handling "
      ]
    },
    {
      "cell_type": "code",
      "metadata": {
        "id": "XPQAozlHrZkd",
        "colab_type": "code",
        "outputId": "2055a985-21b1-40ca-ed02-495fde92b569",
        "colab": {
          "base_uri": "https://localhost:8080/",
          "height": 121
        }
      },
      "source": [
        "!wget https://www.dropbox.com/s/raw/w94odi4aqlk44lf/mobile_cleaned.csv"
      ],
      "execution_count": 0,
      "outputs": [
        {
          "output_type": "stream",
          "text": [
            "--2020-03-25 12:41:51--  https://www.dropbox.com/s/raw/w94odi4aqlk44lf/mobile_cleaned.csv\n",
            "Resolving www.dropbox.com (www.dropbox.com)... 162.125.9.1, 2620:100:601f:1::a27d:901\n",
            "Connecting to www.dropbox.com (www.dropbox.com)|162.125.9.1|:443... connected.\n",
            "HTTP request sent, awaiting response... 404 Not Found\n",
            "2020-03-25 12:41:52 ERROR 404: Not Found.\n",
            "\n"
          ],
          "name": "stdout"
        }
      ]
    },
    {
      "cell_type": "code",
      "metadata": {
        "id": "Xm_-2ZaBtbN1",
        "colab_type": "code",
        "colab": {}
      },
      "source": [
        "file = open('Auto.csv', 'r')"
      ],
      "execution_count": 0,
      "outputs": []
    },
    {
      "cell_type": "code",
      "metadata": {
        "id": "-gdYjbm5uhtY",
        "colab_type": "code",
        "outputId": "c8022e2a-dc87-43c2-f0d2-b3fe056eebda",
        "colab": {
          "base_uri": "https://localhost:8080/",
          "height": 69
        }
      },
      "source": [
        "s = file.readline()\n",
        "print(s)\n",
        "print(s.split(','))"
      ],
      "execution_count": 0,
      "outputs": [
        {
          "output_type": "stream",
          "text": [
            "mpg,weight\n",
            "\n",
            "['mpg', 'weight\\n']\n"
          ],
          "name": "stdout"
        }
      ]
    },
    {
      "cell_type": "code",
      "metadata": {
        "id": "02JjPBPCurCY",
        "colab_type": "code",
        "outputId": "fa00b996-d28e-4d3b-f82b-d768c3add52b",
        "colab": {
          "base_uri": "https://localhost:8080/",
          "height": 1000
        }
      },
      "source": [
        "with open('Auto.csv', 'r') as file: # automatic closing\n",
        "  print(file.read())"
      ],
      "execution_count": 0,
      "outputs": [
        {
          "output_type": "stream",
          "text": [
            "mpg,weight\n",
            "18,3504\n",
            "15,3693\n",
            "18,3436\n",
            "16,3433\n",
            "17,3449\n",
            "15,4341\n",
            "14,4354\n",
            "14,4312\n",
            "14,4425\n",
            "15,3850\n",
            "15,3563\n",
            "14,3609\n",
            "15,3761\n",
            "14,3086\n",
            "24,2372\n",
            "22,2833\n",
            "18,2774\n",
            "21,2587\n",
            "27,2130\n",
            "26,1835\n",
            "25,2672\n",
            "24,2430\n",
            "25,2375\n",
            "26,2234\n",
            "21,2648\n",
            "10,4615\n",
            "10,4376\n",
            "11,4382\n",
            "9,4732\n",
            "27,2130\n",
            "28,2264\n",
            "25,2228\n",
            "19,2634\n",
            "16,3439\n",
            "17,3329\n",
            "19,3302\n",
            "18,3288\n",
            "14,4209\n",
            "14,4464\n",
            "14,4154\n",
            "14,4096\n",
            "12,4955\n",
            "13,4746\n",
            "13,5140\n",
            "18,2962\n",
            "22,2408\n",
            "19,3282\n",
            "18,3139\n",
            "23,2220\n",
            "28,2123\n",
            "30,2074\n",
            "30,2065\n",
            "31,1773\n",
            "35,1613\n",
            "27,1834\n",
            "26,1955\n",
            "24,2278\n",
            "25,2126\n",
            "23,2254\n",
            "20,2408\n",
            "21,2226\n",
            "13,4274\n",
            "14,4385\n",
            "15,4135\n",
            "14,4129\n",
            "17,3672\n",
            "11,4633\n",
            "13,4502\n",
            "12,4456\n",
            "13,4422\n",
            "19,2330\n",
            "15,3892\n",
            "13,4098\n",
            "13,4294\n",
            "14,4077\n",
            "18,2933\n",
            "22,2511\n",
            "21,2979\n",
            "26,2189\n",
            "22,2395\n",
            "28,2288\n",
            "23,2506\n",
            "28,2164\n",
            "27,2100\n",
            "13,4100\n",
            "14,3672\n",
            "13,3988\n",
            "14,4042\n",
            "15,3777\n",
            "12,4952\n",
            "13,4464\n",
            "13,4363\n",
            "14,4237\n",
            "13,4735\n",
            "12,4951\n",
            "13,3821\n",
            "18,3121\n",
            "16,3278\n",
            "18,2945\n",
            "18,3021\n",
            "23,2904\n",
            "26,1950\n",
            "11,4997\n",
            "12,4906\n",
            "13,4654\n",
            "12,4499\n",
            "18,2789\n",
            "20,2279\n",
            "21,2401\n",
            "22,2379\n",
            "18,2124\n",
            "19,2310\n",
            "21,2472\n",
            "26,2265\n",
            "15,4082\n",
            "16,4278\n",
            "29,1867\n",
            "24,2158\n",
            "20,2582\n",
            "19,2868\n",
            "15,3399\n",
            "24,2660\n",
            "20,2807\n",
            "11,3664\n",
            "20,3102\n",
            "19,2901\n",
            "15,3336\n",
            "31,1950\n",
            "26,2451\n",
            "32,1836\n",
            "25,2542\n",
            "16,3781\n",
            "16,3632\n",
            "18,3613\n",
            "16,4141\n",
            "13,4699\n",
            "14,4457\n",
            "14,4638\n",
            "14,4257\n",
            "29,2219\n",
            "26,1963\n",
            "26,2300\n",
            "31,1649\n",
            "32,2003\n",
            "28,2125\n",
            "24,2108\n",
            "26,2246\n",
            "24,2489\n",
            "26,2391\n",
            "31,2000\n",
            "19,3264\n",
            "18,3459\n",
            "15,3432\n",
            "15,3158\n",
            "16,4668\n",
            "15,4440\n",
            "16,4498\n",
            "14,4657\n",
            "17,3907\n",
            "16,3897\n",
            "15,3730\n",
            "18,3785\n",
            "21,3039\n",
            "20,3221\n",
            "13,3169\n",
            "29,2171\n",
            "23,2639\n",
            "20,2914\n",
            "23,2592\n",
            "24,2702\n",
            "25,2223\n",
            "24,2545\n",
            "18,2984\n",
            "29,1937\n",
            "19,3211\n",
            "23,2694\n",
            "23,2957\n",
            "22,2945\n",
            "25,2671\n",
            "33,1795\n",
            "28,2464\n",
            "25,2220\n",
            "25,2572\n",
            "26,2255\n",
            "27,2202\n",
            "17.5,4215\n",
            "16,4190\n",
            "15.5,3962\n",
            "14.5,4215\n",
            "22,3233\n",
            "22,3353\n",
            "24,3012\n",
            "22.5,3085\n",
            "29,2035\n",
            "24.5,2164\n",
            "29,1937\n",
            "33,1795\n",
            "20,3651\n",
            "18,3574\n",
            "18.5,3645\n",
            "17.5,3193\n",
            "29.5,1825\n",
            "32,1990\n",
            "28,2155\n",
            "26.5,2565\n",
            "20,3150\n",
            "13,3940\n",
            "19,3270\n",
            "19,2930\n",
            "16.5,3820\n",
            "16.5,4380\n",
            "13,4055\n",
            "13,3870\n",
            "13,3755\n",
            "31.5,2045\n",
            "30,2155\n",
            "36,1825\n",
            "25.5,2300\n",
            "33.5,1945\n",
            "17.5,3880\n",
            "17,4060\n",
            "15.5,4140\n",
            "15,4295\n",
            "17.5,3520\n",
            "20.5,3425\n",
            "19,3630\n",
            "18.5,3525\n",
            "16,4220\n",
            "15.5,4165\n",
            "15.5,4325\n",
            "16,4335\n",
            "29,1940\n",
            "24.5,2740\n",
            "26,2265\n",
            "25.5,2755\n",
            "30.5,2051\n",
            "33.5,2075\n",
            "30,1985\n",
            "30.5,2190\n",
            "22,2815\n",
            "21.5,2600\n",
            "21.5,2720\n",
            "43.1,1985\n",
            "36.1,1800\n",
            "32.8,1985\n",
            "39.4,2070\n",
            "36.1,1800\n",
            "19.9,3365\n",
            "19.4,3735\n",
            "20.2,3570\n",
            "19.2,3535\n",
            "20.5,3155\n",
            "20.2,2965\n",
            "25.1,2720\n",
            "20.5,3430\n",
            "19.4,3210\n",
            "20.6,3380\n",
            "20.8,3070\n",
            "18.6,3620\n",
            "18.1,3410\n",
            "19.2,3425\n",
            "17.7,3445\n",
            "18.1,3205\n",
            "17.5,4080\n",
            "30,2155\n",
            "27.5,2560\n",
            "27.2,2300\n",
            "30.9,2230\n",
            "21.1,2515\n",
            "23.2,2745\n",
            "23.8,2855\n",
            "23.9,2405\n",
            "20.3,2830\n",
            "17,3140\n",
            "21.6,2795\n",
            "16.2,3410\n",
            "31.5,1990\n",
            "29.5,2135\n",
            "21.5,3245\n",
            "19.8,2990\n",
            "22.3,2890\n",
            "20.2,3265\n",
            "20.6,3360\n",
            "17,3840\n",
            "17.6,3725\n",
            "16.5,3955\n",
            "18.2,3830\n",
            "16.9,4360\n",
            "15.5,4054\n",
            "19.2,3605\n",
            "18.5,3940\n",
            "31.9,1925\n",
            "34.1,1975\n",
            "35.7,1915\n",
            "27.4,2670\n",
            "25.4,3530\n",
            "23,3900\n",
            "27.2,3190\n",
            "23.9,3420\n",
            "34.2,2200\n",
            "\n"
          ],
          "name": "stdout"
        }
      ]
    },
    {
      "cell_type": "code",
      "metadata": {
        "id": "k18TrUpIvgAm",
        "colab_type": "code",
        "outputId": "98d6c2ff-7be1-4d32-83a3-a20b9a90dcfd",
        "colab": {
          "base_uri": "https://localhost:8080/",
          "height": 1000
        }
      },
      "source": [
        "with open('Auto.csv', 'r') as file:\n",
        "  for line in file:\n",
        "    for word in line.split(','):\n",
        "      print(word)\n",
        "print('-----')"
      ],
      "execution_count": 0,
      "outputs": [
        {
          "output_type": "stream",
          "text": [
            "mpg\n",
            "weight\n",
            "\n",
            "18\n",
            "3504\n",
            "\n",
            "15\n",
            "3693\n",
            "\n",
            "18\n",
            "3436\n",
            "\n",
            "16\n",
            "3433\n",
            "\n",
            "17\n",
            "3449\n",
            "\n",
            "15\n",
            "4341\n",
            "\n",
            "14\n",
            "4354\n",
            "\n",
            "14\n",
            "4312\n",
            "\n",
            "14\n",
            "4425\n",
            "\n",
            "15\n",
            "3850\n",
            "\n",
            "15\n",
            "3563\n",
            "\n",
            "14\n",
            "3609\n",
            "\n",
            "15\n",
            "3761\n",
            "\n",
            "14\n",
            "3086\n",
            "\n",
            "24\n",
            "2372\n",
            "\n",
            "22\n",
            "2833\n",
            "\n",
            "18\n",
            "2774\n",
            "\n",
            "21\n",
            "2587\n",
            "\n",
            "27\n",
            "2130\n",
            "\n",
            "26\n",
            "1835\n",
            "\n",
            "25\n",
            "2672\n",
            "\n",
            "24\n",
            "2430\n",
            "\n",
            "25\n",
            "2375\n",
            "\n",
            "26\n",
            "2234\n",
            "\n",
            "21\n",
            "2648\n",
            "\n",
            "10\n",
            "4615\n",
            "\n",
            "10\n",
            "4376\n",
            "\n",
            "11\n",
            "4382\n",
            "\n",
            "9\n",
            "4732\n",
            "\n",
            "27\n",
            "2130\n",
            "\n",
            "28\n",
            "2264\n",
            "\n",
            "25\n",
            "2228\n",
            "\n",
            "19\n",
            "2634\n",
            "\n",
            "16\n",
            "3439\n",
            "\n",
            "17\n",
            "3329\n",
            "\n",
            "19\n",
            "3302\n",
            "\n",
            "18\n",
            "3288\n",
            "\n",
            "14\n",
            "4209\n",
            "\n",
            "14\n",
            "4464\n",
            "\n",
            "14\n",
            "4154\n",
            "\n",
            "14\n",
            "4096\n",
            "\n",
            "12\n",
            "4955\n",
            "\n",
            "13\n",
            "4746\n",
            "\n",
            "13\n",
            "5140\n",
            "\n",
            "18\n",
            "2962\n",
            "\n",
            "22\n",
            "2408\n",
            "\n",
            "19\n",
            "3282\n",
            "\n",
            "18\n",
            "3139\n",
            "\n",
            "23\n",
            "2220\n",
            "\n",
            "28\n",
            "2123\n",
            "\n",
            "30\n",
            "2074\n",
            "\n",
            "30\n",
            "2065\n",
            "\n",
            "31\n",
            "1773\n",
            "\n",
            "35\n",
            "1613\n",
            "\n",
            "27\n",
            "1834\n",
            "\n",
            "26\n",
            "1955\n",
            "\n",
            "24\n",
            "2278\n",
            "\n",
            "25\n",
            "2126\n",
            "\n",
            "23\n",
            "2254\n",
            "\n",
            "20\n",
            "2408\n",
            "\n",
            "21\n",
            "2226\n",
            "\n",
            "13\n",
            "4274\n",
            "\n",
            "14\n",
            "4385\n",
            "\n",
            "15\n",
            "4135\n",
            "\n",
            "14\n",
            "4129\n",
            "\n",
            "17\n",
            "3672\n",
            "\n",
            "11\n",
            "4633\n",
            "\n",
            "13\n",
            "4502\n",
            "\n",
            "12\n",
            "4456\n",
            "\n",
            "13\n",
            "4422\n",
            "\n",
            "19\n",
            "2330\n",
            "\n",
            "15\n",
            "3892\n",
            "\n",
            "13\n",
            "4098\n",
            "\n",
            "13\n",
            "4294\n",
            "\n",
            "14\n",
            "4077\n",
            "\n",
            "18\n",
            "2933\n",
            "\n",
            "22\n",
            "2511\n",
            "\n",
            "21\n",
            "2979\n",
            "\n",
            "26\n",
            "2189\n",
            "\n",
            "22\n",
            "2395\n",
            "\n",
            "28\n",
            "2288\n",
            "\n",
            "23\n",
            "2506\n",
            "\n",
            "28\n",
            "2164\n",
            "\n",
            "27\n",
            "2100\n",
            "\n",
            "13\n",
            "4100\n",
            "\n",
            "14\n",
            "3672\n",
            "\n",
            "13\n",
            "3988\n",
            "\n",
            "14\n",
            "4042\n",
            "\n",
            "15\n",
            "3777\n",
            "\n",
            "12\n",
            "4952\n",
            "\n",
            "13\n",
            "4464\n",
            "\n",
            "13\n",
            "4363\n",
            "\n",
            "14\n",
            "4237\n",
            "\n",
            "13\n",
            "4735\n",
            "\n",
            "12\n",
            "4951\n",
            "\n",
            "13\n",
            "3821\n",
            "\n",
            "18\n",
            "3121\n",
            "\n",
            "16\n",
            "3278\n",
            "\n",
            "18\n",
            "2945\n",
            "\n",
            "18\n",
            "3021\n",
            "\n",
            "23\n",
            "2904\n",
            "\n",
            "26\n",
            "1950\n",
            "\n",
            "11\n",
            "4997\n",
            "\n",
            "12\n",
            "4906\n",
            "\n",
            "13\n",
            "4654\n",
            "\n",
            "12\n",
            "4499\n",
            "\n",
            "18\n",
            "2789\n",
            "\n",
            "20\n",
            "2279\n",
            "\n",
            "21\n",
            "2401\n",
            "\n",
            "22\n",
            "2379\n",
            "\n",
            "18\n",
            "2124\n",
            "\n",
            "19\n",
            "2310\n",
            "\n",
            "21\n",
            "2472\n",
            "\n",
            "26\n",
            "2265\n",
            "\n",
            "15\n",
            "4082\n",
            "\n",
            "16\n",
            "4278\n",
            "\n",
            "29\n",
            "1867\n",
            "\n",
            "24\n",
            "2158\n",
            "\n",
            "20\n",
            "2582\n",
            "\n",
            "19\n",
            "2868\n",
            "\n",
            "15\n",
            "3399\n",
            "\n",
            "24\n",
            "2660\n",
            "\n",
            "20\n",
            "2807\n",
            "\n",
            "11\n",
            "3664\n",
            "\n",
            "20\n",
            "3102\n",
            "\n",
            "19\n",
            "2901\n",
            "\n",
            "15\n",
            "3336\n",
            "\n",
            "31\n",
            "1950\n",
            "\n",
            "26\n",
            "2451\n",
            "\n",
            "32\n",
            "1836\n",
            "\n",
            "25\n",
            "2542\n",
            "\n",
            "16\n",
            "3781\n",
            "\n",
            "16\n",
            "3632\n",
            "\n",
            "18\n",
            "3613\n",
            "\n",
            "16\n",
            "4141\n",
            "\n",
            "13\n",
            "4699\n",
            "\n",
            "14\n",
            "4457\n",
            "\n",
            "14\n",
            "4638\n",
            "\n",
            "14\n",
            "4257\n",
            "\n",
            "29\n",
            "2219\n",
            "\n",
            "26\n",
            "1963\n",
            "\n",
            "26\n",
            "2300\n",
            "\n",
            "31\n",
            "1649\n",
            "\n",
            "32\n",
            "2003\n",
            "\n",
            "28\n",
            "2125\n",
            "\n",
            "24\n",
            "2108\n",
            "\n",
            "26\n",
            "2246\n",
            "\n",
            "24\n",
            "2489\n",
            "\n",
            "26\n",
            "2391\n",
            "\n",
            "31\n",
            "2000\n",
            "\n",
            "19\n",
            "3264\n",
            "\n",
            "18\n",
            "3459\n",
            "\n",
            "15\n",
            "3432\n",
            "\n",
            "15\n",
            "3158\n",
            "\n",
            "16\n",
            "4668\n",
            "\n",
            "15\n",
            "4440\n",
            "\n",
            "16\n",
            "4498\n",
            "\n",
            "14\n",
            "4657\n",
            "\n",
            "17\n",
            "3907\n",
            "\n",
            "16\n",
            "3897\n",
            "\n",
            "15\n",
            "3730\n",
            "\n",
            "18\n",
            "3785\n",
            "\n",
            "21\n",
            "3039\n",
            "\n",
            "20\n",
            "3221\n",
            "\n",
            "13\n",
            "3169\n",
            "\n",
            "29\n",
            "2171\n",
            "\n",
            "23\n",
            "2639\n",
            "\n",
            "20\n",
            "2914\n",
            "\n",
            "23\n",
            "2592\n",
            "\n",
            "24\n",
            "2702\n",
            "\n",
            "25\n",
            "2223\n",
            "\n",
            "24\n",
            "2545\n",
            "\n",
            "18\n",
            "2984\n",
            "\n",
            "29\n",
            "1937\n",
            "\n",
            "19\n",
            "3211\n",
            "\n",
            "23\n",
            "2694\n",
            "\n",
            "23\n",
            "2957\n",
            "\n",
            "22\n",
            "2945\n",
            "\n",
            "25\n",
            "2671\n",
            "\n",
            "33\n",
            "1795\n",
            "\n",
            "28\n",
            "2464\n",
            "\n",
            "25\n",
            "2220\n",
            "\n",
            "25\n",
            "2572\n",
            "\n",
            "26\n",
            "2255\n",
            "\n",
            "27\n",
            "2202\n",
            "\n",
            "17.5\n",
            "4215\n",
            "\n",
            "16\n",
            "4190\n",
            "\n",
            "15.5\n",
            "3962\n",
            "\n",
            "14.5\n",
            "4215\n",
            "\n",
            "22\n",
            "3233\n",
            "\n",
            "22\n",
            "3353\n",
            "\n",
            "24\n",
            "3012\n",
            "\n",
            "22.5\n",
            "3085\n",
            "\n",
            "29\n",
            "2035\n",
            "\n",
            "24.5\n",
            "2164\n",
            "\n",
            "29\n",
            "1937\n",
            "\n",
            "33\n",
            "1795\n",
            "\n",
            "20\n",
            "3651\n",
            "\n",
            "18\n",
            "3574\n",
            "\n",
            "18.5\n",
            "3645\n",
            "\n",
            "17.5\n",
            "3193\n",
            "\n",
            "29.5\n",
            "1825\n",
            "\n",
            "32\n",
            "1990\n",
            "\n",
            "28\n",
            "2155\n",
            "\n",
            "26.5\n",
            "2565\n",
            "\n",
            "20\n",
            "3150\n",
            "\n",
            "13\n",
            "3940\n",
            "\n",
            "19\n",
            "3270\n",
            "\n",
            "19\n",
            "2930\n",
            "\n",
            "16.5\n",
            "3820\n",
            "\n",
            "16.5\n",
            "4380\n",
            "\n",
            "13\n",
            "4055\n",
            "\n",
            "13\n",
            "3870\n",
            "\n",
            "13\n",
            "3755\n",
            "\n",
            "31.5\n",
            "2045\n",
            "\n",
            "30\n",
            "2155\n",
            "\n",
            "36\n",
            "1825\n",
            "\n",
            "25.5\n",
            "2300\n",
            "\n",
            "33.5\n",
            "1945\n",
            "\n",
            "17.5\n",
            "3880\n",
            "\n",
            "17\n",
            "4060\n",
            "\n",
            "15.5\n",
            "4140\n",
            "\n",
            "15\n",
            "4295\n",
            "\n",
            "17.5\n",
            "3520\n",
            "\n",
            "20.5\n",
            "3425\n",
            "\n",
            "19\n",
            "3630\n",
            "\n",
            "18.5\n",
            "3525\n",
            "\n",
            "16\n",
            "4220\n",
            "\n",
            "15.5\n",
            "4165\n",
            "\n",
            "15.5\n",
            "4325\n",
            "\n",
            "16\n",
            "4335\n",
            "\n",
            "29\n",
            "1940\n",
            "\n",
            "24.5\n",
            "2740\n",
            "\n",
            "26\n",
            "2265\n",
            "\n",
            "25.5\n",
            "2755\n",
            "\n",
            "30.5\n",
            "2051\n",
            "\n",
            "33.5\n",
            "2075\n",
            "\n",
            "30\n",
            "1985\n",
            "\n",
            "30.5\n",
            "2190\n",
            "\n",
            "22\n",
            "2815\n",
            "\n",
            "21.5\n",
            "2600\n",
            "\n",
            "21.5\n",
            "2720\n",
            "\n",
            "43.1\n",
            "1985\n",
            "\n",
            "36.1\n",
            "1800\n",
            "\n",
            "32.8\n",
            "1985\n",
            "\n",
            "39.4\n",
            "2070\n",
            "\n",
            "36.1\n",
            "1800\n",
            "\n",
            "19.9\n",
            "3365\n",
            "\n",
            "19.4\n",
            "3735\n",
            "\n",
            "20.2\n",
            "3570\n",
            "\n",
            "19.2\n",
            "3535\n",
            "\n",
            "20.5\n",
            "3155\n",
            "\n",
            "20.2\n",
            "2965\n",
            "\n",
            "25.1\n",
            "2720\n",
            "\n",
            "20.5\n",
            "3430\n",
            "\n",
            "19.4\n",
            "3210\n",
            "\n",
            "20.6\n",
            "3380\n",
            "\n",
            "20.8\n",
            "3070\n",
            "\n",
            "18.6\n",
            "3620\n",
            "\n",
            "18.1\n",
            "3410\n",
            "\n",
            "19.2\n",
            "3425\n",
            "\n",
            "17.7\n",
            "3445\n",
            "\n",
            "18.1\n",
            "3205\n",
            "\n",
            "17.5\n",
            "4080\n",
            "\n",
            "30\n",
            "2155\n",
            "\n",
            "27.5\n",
            "2560\n",
            "\n",
            "27.2\n",
            "2300\n",
            "\n",
            "30.9\n",
            "2230\n",
            "\n",
            "21.1\n",
            "2515\n",
            "\n",
            "23.2\n",
            "2745\n",
            "\n",
            "23.8\n",
            "2855\n",
            "\n",
            "23.9\n",
            "2405\n",
            "\n",
            "20.3\n",
            "2830\n",
            "\n",
            "17\n",
            "3140\n",
            "\n",
            "21.6\n",
            "2795\n",
            "\n",
            "16.2\n",
            "3410\n",
            "\n",
            "31.5\n",
            "1990\n",
            "\n",
            "29.5\n",
            "2135\n",
            "\n",
            "21.5\n",
            "3245\n",
            "\n",
            "19.8\n",
            "2990\n",
            "\n",
            "22.3\n",
            "2890\n",
            "\n",
            "20.2\n",
            "3265\n",
            "\n",
            "20.6\n",
            "3360\n",
            "\n",
            "17\n",
            "3840\n",
            "\n",
            "17.6\n",
            "3725\n",
            "\n",
            "16.5\n",
            "3955\n",
            "\n",
            "18.2\n",
            "3830\n",
            "\n",
            "16.9\n",
            "4360\n",
            "\n",
            "15.5\n",
            "4054\n",
            "\n",
            "19.2\n",
            "3605\n",
            "\n",
            "18.5\n",
            "3940\n",
            "\n",
            "31.9\n",
            "1925\n",
            "\n",
            "34.1\n",
            "1975\n",
            "\n",
            "35.7\n",
            "1915\n",
            "\n",
            "27.4\n",
            "2670\n",
            "\n",
            "25.4\n",
            "3530\n",
            "\n",
            "23\n",
            "3900\n",
            "\n",
            "27.2\n",
            "3190\n",
            "\n",
            "23.9\n",
            "3420\n",
            "\n",
            "34.2\n",
            "2200\n",
            "\n",
            "-----\n"
          ],
          "name": "stdout"
        }
      ]
    },
    {
      "cell_type": "code",
      "metadata": {
        "id": "mQ3Z15aIwSqo",
        "colab_type": "code",
        "colab": {}
      },
      "source": [
        "with open('my_first_file_output.txt', 'w') as file:\n",
        "  file.write('Hello from python code')"
      ],
      "execution_count": 0,
      "outputs": []
    },
    {
      "cell_type": "code",
      "metadata": {
        "id": "dHkMTN89w3qI",
        "colab_type": "code",
        "outputId": "d40edad8-976a-4ba7-8e67-0595c59ac241",
        "colab": {
          "base_uri": "https://localhost:8080/",
          "height": 35
        }
      },
      "source": [
        "!cat my_first_file_output.txt"
      ],
      "execution_count": 0,
      "outputs": [
        {
          "output_type": "stream",
          "text": [
            "Hello from python code"
          ],
          "name": "stdout"
        }
      ]
    },
    {
      "cell_type": "markdown",
      "metadata": {
        "id": "NG9rquZcxTaP",
        "colab_type": "text"
      },
      "source": [
        "# Classes"
      ]
    },
    {
      "cell_type": "code",
      "metadata": {
        "id": "J_3tgYpHw7cf",
        "colab_type": "code",
        "outputId": "bf1fe0e1-125f-40c9-ba17-9231bd5a036c",
        "colab": {
          "base_uri": "https://localhost:8080/",
          "height": 35
        }
      },
      "source": [
        "class MobilePhone:\n",
        "  \"\"\"This is a sample for understanding how Python classes work\"\"\"\n",
        "\n",
        "  def __init__(self,name, is_android = False, screen_size = 4.3):\n",
        "    self.name = name\n",
        "    self.is_android = is_android\n",
        "    self.screen_size = screen_size\n",
        "    self.rating = -1\n",
        "  \n",
        "  def has_rating(self):\n",
        "    return self.rating>-1\n",
        "\n",
        "new_phone = MobilePhone('iPhone 5s')"
      ],
      "execution_count": 0,
      "outputs": [
        {
          "output_type": "stream",
          "text": [
            "ERROR! Session/line number was not unique in database. History logging moved to new session 59\n"
          ],
          "name": "stdout"
        }
      ]
    },
    {
      "cell_type": "code",
      "metadata": {
        "id": "wHjVbwL2yJEI",
        "colab_type": "code",
        "outputId": "9e3ea052-e46d-4ac1-97eb-c1de71d0ba82",
        "colab": {
          "base_uri": "https://localhost:8080/",
          "height": 35
        }
      },
      "source": [
        "print(new_phone.name, new_phone.is_android, new_phone.screen_size)"
      ],
      "execution_count": 0,
      "outputs": [
        {
          "output_type": "stream",
          "text": [
            "iPhone 5s False 4\n"
          ],
          "name": "stdout"
        }
      ]
    },
    {
      "cell_type": "code",
      "metadata": {
        "id": "xK-S1HpLyq3V",
        "colab_type": "code",
        "outputId": "74a3a419-325c-4b93-d9ea-47fad55ae8e4",
        "colab": {
          "base_uri": "https://localhost:8080/",
          "height": 35
        }
      },
      "source": [
        "new_phone.screen_size = 4\n",
        "new_phone.has_rating()"
      ],
      "execution_count": 0,
      "outputs": [
        {
          "output_type": "execute_result",
          "data": {
            "text/plain": [
              "False"
            ]
          },
          "metadata": {
            "tags": []
          },
          "execution_count": 106
        }
      ]
    },
    {
      "cell_type": "code",
      "metadata": {
        "id": "j9xLQPevy4AI",
        "colab_type": "code",
        "outputId": "d8211c33-cc0c-4bd2-9fc1-1553f1acf68f",
        "colab": {
          "base_uri": "https://localhost:8080/",
          "height": 35
        }
      },
      "source": [
        "MobilePhone.__doc__"
      ],
      "execution_count": 0,
      "outputs": [
        {
          "output_type": "execute_result",
          "data": {
            "text/plain": [
              "'This is a sample foruderstanding how Python classes work'"
            ]
          },
          "metadata": {
            "tags": []
          },
          "execution_count": 108
        }
      ]
    },
    {
      "cell_type": "code",
      "metadata": {
        "id": "8BG39aqTz8Hl",
        "colab_type": "code",
        "colab": {}
      },
      "source": [
        "class iPhone(MobilePhone):\n",
        "  def __init__(self, name):\n",
        "    MobilePhone.__init__(self, name, False, 4)\n",
        "\n",
        "  def __str__(self):\n",
        "    return self.name + \" \" + str(self.is_android) + \" \" + str(self.screen_size)"
      ],
      "execution_count": 0,
      "outputs": []
    },
    {
      "cell_type": "code",
      "metadata": {
        "id": "wh2QzobA02dt",
        "colab_type": "code",
        "colab": {}
      },
      "source": [
        "new_iphone = iPhone('iPhone 6s')"
      ],
      "execution_count": 0,
      "outputs": []
    },
    {
      "cell_type": "code",
      "metadata": {
        "id": "XJdUUG4e1Lei",
        "colab_type": "code",
        "outputId": "3127d606-78c4-415f-fe2b-d0b4763eabea",
        "colab": {
          "base_uri": "https://localhost:8080/",
          "height": 35
        }
      },
      "source": [
        "print(new_iphone) # invokes __str__()"
      ],
      "execution_count": 0,
      "outputs": [
        {
          "output_type": "stream",
          "text": [
            "iPhone 6s False 4\n"
          ],
          "name": "stdout"
        }
      ]
    },
    {
      "cell_type": "markdown",
      "metadata": {
        "id": "frrGUMfr2BiZ",
        "colab_type": "text"
      },
      "source": [
        "# Numpy"
      ]
    },
    {
      "cell_type": "code",
      "metadata": {
        "id": "QwNKrq1L1o65",
        "colab_type": "code",
        "colab": {}
      },
      "source": [
        "import numpy as np"
      ],
      "execution_count": 0,
      "outputs": []
    },
    {
      "cell_type": "code",
      "metadata": {
        "id": "SGvYIjFfLnk8",
        "colab_type": "code",
        "outputId": "bd766e3a-148a-4a82-dabe-5e3d2fb9c404",
        "colab": {
          "base_uri": "https://localhost:8080/",
          "height": 52
        }
      },
      "source": [
        "x = np.array([1,2,3])\n",
        "print(x)\n",
        "type(x)"
      ],
      "execution_count": 0,
      "outputs": [
        {
          "output_type": "stream",
          "text": [
            "[1 2 3]\n"
          ],
          "name": "stdout"
        },
        {
          "output_type": "execute_result",
          "data": {
            "text/plain": [
              "numpy.ndarray"
            ]
          },
          "metadata": {
            "tags": []
          },
          "execution_count": 117
        }
      ]
    },
    {
      "cell_type": "code",
      "metadata": {
        "id": "MUPQ0BlMLuIq",
        "colab_type": "code",
        "outputId": "85a1e23e-a02d-4a0f-947c-909cdbb628ef",
        "colab": {
          "base_uri": "https://localhost:8080/",
          "height": 35
        }
      },
      "source": [
        "l = [4,5,6]\n",
        "y = np.asarray(l)\n",
        "type(y)"
      ],
      "execution_count": 0,
      "outputs": [
        {
          "output_type": "execute_result",
          "data": {
            "text/plain": [
              "numpy.ndarray"
            ]
          },
          "metadata": {
            "tags": []
          },
          "execution_count": 119
        }
      ]
    },
    {
      "cell_type": "code",
      "metadata": {
        "id": "Mr1qc-kwL5jC",
        "colab_type": "code",
        "outputId": "8bca1b50-37bd-4640-f854-cf56c165fb0b",
        "colab": {
          "base_uri": "https://localhost:8080/",
          "height": 35
        }
      },
      "source": [
        "z = np.array(l, float)\n",
        "print(z)\n",
        "z.shape"
      ],
      "execution_count": 0,
      "outputs": [
        {
          "output_type": "stream",
          "text": [
            "[4. 5. 6.]\n"
          ],
          "name": "stdout"
        }
      ]
    },
    {
      "cell_type": "code",
      "metadata": {
        "id": "m8UFsRBhMNFs",
        "colab_type": "code",
        "outputId": "989dbcef-e3af-46e4-9a9c-c5724fad8067",
        "colab": {
          "base_uri": "https://localhost:8080/",
          "height": 121
        }
      },
      "source": [
        "x = np.array([[1,2,3], [4,5,6]])\n",
        "print(x)\n",
        "print(x.shape)\n",
        "print(x[0,:])\n",
        "print(x[0, 0:2])\n",
        "print(x[1,2])"
      ],
      "execution_count": 0,
      "outputs": [
        {
          "output_type": "stream",
          "text": [
            "[[1 2 3]\n",
            " [4 5 6]]\n",
            "(2, 3)\n",
            "[1 2 3]\n",
            "[1 2]\n",
            "6\n"
          ],
          "name": "stdout"
        }
      ]
    },
    {
      "cell_type": "code",
      "metadata": {
        "id": "gQUWn1VYMcnt",
        "colab_type": "code",
        "outputId": "9ba97f65-5dca-4682-b72a-435963762982",
        "colab": {
          "base_uri": "https://localhost:8080/",
          "height": 156
        }
      },
      "source": [
        "x = np.zeros((4,5))\n",
        "print(x)\n",
        "x = np.eye(4, 4)\n",
        "print(x)"
      ],
      "execution_count": 0,
      "outputs": [
        {
          "output_type": "stream",
          "text": [
            "[[0. 0. 0. 0. 0.]\n",
            " [0. 0. 0. 0. 0.]\n",
            " [0. 0. 0. 0. 0.]\n",
            " [0. 0. 0. 0. 0.]]\n",
            "[[1. 0. 0. 0.]\n",
            " [0. 1. 0. 0.]\n",
            " [0. 0. 1. 0.]\n",
            " [0. 0. 0. 1.]]\n"
          ],
          "name": "stdout"
        }
      ]
    },
    {
      "cell_type": "code",
      "metadata": {
        "id": "OnkM2SbpN4cS",
        "colab_type": "code",
        "outputId": "002e9be3-f945-4f20-af0b-00d80481c84a",
        "colab": {
          "base_uri": "https://localhost:8080/",
          "height": 52
        }
      },
      "source": [
        "A = np.arange(5)\n",
        "B = np.arange(5)\n",
        "C = A + B\n",
        "D = A - B\n",
        "E = A * B\n",
        "print(C, D, E)\n",
        "print(A, A+1)"
      ],
      "execution_count": 0,
      "outputs": [
        {
          "output_type": "stream",
          "text": [
            "[0 2 4 6 8] [0 0 0 0 0] [ 0  1  4  9 16]\n",
            "[0 1 2 3 4] [1 2 3 4 5]\n"
          ],
          "name": "stdout"
        }
      ]
    },
    {
      "cell_type": "code",
      "metadata": {
        "id": "BStbxvKOhEXC",
        "colab_type": "code",
        "outputId": "0a4cb8e0-2f08-4910-bc28-8649a266e4a9",
        "colab": {
          "base_uri": "https://localhost:8080/",
          "height": 121
        }
      },
      "source": [
        "x = np.random.random((2,3))\n",
        "print(x, x+1)\n",
        "x.reshape((3,2))"
      ],
      "execution_count": 0,
      "outputs": [
        {
          "output_type": "stream",
          "text": [
            "[[0.07269098 0.18477586 0.18353584]\n",
            " [0.36970403 0.06302063 0.01624682]] [[1.07269098 1.18477586 1.18353584]\n",
            " [1.36970403 1.06302063 1.01624682]]\n"
          ],
          "name": "stdout"
        },
        {
          "output_type": "execute_result",
          "data": {
            "text/plain": [
              "array([[0.07269098, 0.18477586],\n",
              "       [0.18353584, 0.36970403],\n",
              "       [0.06302063, 0.01624682]])"
            ]
          },
          "metadata": {
            "tags": []
          },
          "execution_count": 134
        }
      ]
    },
    {
      "cell_type": "code",
      "metadata": {
        "id": "NEM52nSopNma",
        "colab_type": "code",
        "colab": {}
      },
      "source": [
        "A = np.floor(np.random.random((2,3)*10))\n",
        "print(A)"
      ],
      "execution_count": 0,
      "outputs": []
    },
    {
      "cell_type": "code",
      "metadata": {
        "id": "9sAOVDxEp2gc",
        "colab_type": "code",
        "outputId": "feca22d6-0a73-41e1-e07a-c22d7d533517",
        "colab": {
          "base_uri": "https://localhost:8080/",
          "height": 87
        }
      },
      "source": [
        "u = [1,2,3]\n",
        "v = [1,0,-1]\n",
        "print(np.inner(u,v))\n",
        "print(np.outer(u,v))"
      ],
      "execution_count": 0,
      "outputs": [
        {
          "output_type": "stream",
          "text": [
            "-2\n",
            "[[ 1  0 -1]\n",
            " [ 2  0 -2]\n",
            " [ 3  0 -3]]\n"
          ],
          "name": "stdout"
        }
      ]
    },
    {
      "cell_type": "code",
      "metadata": {
        "id": "h9EMr_gVqzMF",
        "colab_type": "code",
        "outputId": "eb0b7c49-2dbd-4d54-ade6-bf4c847948bc",
        "colab": {
          "base_uri": "https://localhost:8080/",
          "height": 87
        }
      },
      "source": [
        "A = np.ones((2,3))\n",
        "B = np.ones((3,2))\n",
        "np.dot(A,B)\n",
        "np.dot(B.T, A.T)\n",
        "print(A.sum())\n",
        "print(A.sum(axis = 0))\n",
        "print(A.sum(axis = 1))\n",
        "print(A.max())"
      ],
      "execution_count": 0,
      "outputs": [
        {
          "output_type": "stream",
          "text": [
            "6.0\n",
            "[2. 2. 2.]\n",
            "[3. 3.]\n",
            "1.0\n"
          ],
          "name": "stdout"
        }
      ]
    },
    {
      "cell_type": "markdown",
      "metadata": {
        "id": "Eo0U0nEVsfSv",
        "colab_type": "text"
      },
      "source": [
        "# Plotting"
      ]
    },
    {
      "cell_type": "code",
      "metadata": {
        "id": "cfbLE6QVrhd8",
        "colab_type": "code",
        "colab": {}
      },
      "source": [
        "import matplotlib.pyplot as plt"
      ],
      "execution_count": 0,
      "outputs": []
    },
    {
      "cell_type": "code",
      "metadata": {
        "id": "4J4wXUMvvw-5",
        "colab_type": "code",
        "outputId": "dcf6b321-3659-4818-f499-8debf36f8bfb",
        "colab": {
          "base_uri": "https://localhost:8080/",
          "height": 268
        }
      },
      "source": [
        "x = np.random.random((10,1))\n",
        "plt.plot(x, '*-')\n",
        "plt.show()"
      ],
      "execution_count": 0,
      "outputs": [
        {
          "output_type": "display_data",
          "data": {
            "image/png": "[encoded data removed]",
            "text/plain": [
              "<Figure size 432x288 with 1 Axes>"
            ]
          },
          "metadata": {
            "tags": []
          }
        }
      ]
    },
    {
      "cell_type": "code",
      "metadata": {
        "id": "KciPdGkXv50v",
        "colab_type": "code",
        "outputId": "9bb89779-3353-4dbb-f2bd-3da82231a8da",
        "colab": {
          "base_uri": "https://localhost:8080/",
          "height": 265
        }
      },
      "source": [
        "x = np.linspace(0, 10, 100)\n",
        "y = np.power(x, 0.5)\n",
        "plt.plot(x, y, '*-')\n",
        "plt.show()"
      ],
      "execution_count": 0,
      "outputs": [
        {
          "output_type": "display_data",
          "data": {
            "image/png": "[encoded data removed]",
            "text/plain": [
              "<Figure size 432x288 with 1 Axes>"
            ]
          },
          "metadata": {
            "tags": []
          }
        }
      ]
    },
    {
      "cell_type": "code",
      "metadata": {
        "id": "JPcQobdOwzSV",
        "colab_type": "code",
        "colab": {}
      },
      "source": [
        "import seaborn as sns"
      ],
      "execution_count": 0,
      "outputs": []
    },
    {
      "cell_type": "code",
      "metadata": {
        "id": "cd-1fJ1DxJ75",
        "colab_type": "code",
        "colab": {}
      },
      "source": [
        "sns.set()"
      ],
      "execution_count": 0,
      "outputs": []
    },
    {
      "cell_type": "code",
      "metadata": {
        "id": "z1g93_lfxVrt",
        "colab_type": "code",
        "outputId": "c5a5829e-050d-4f8b-a54e-754bd0e37181",
        "colab": {
          "base_uri": "https://localhost:8080/",
          "height": 285
        }
      },
      "source": [
        "sns.lineplot(x,y)"
      ],
      "execution_count": 0,
      "outputs": [
        {
          "output_type": "execute_result",
          "data": {
            "text/plain": [
              "<matplotlib.axes._subplots.AxesSubplot at 0x7faf52630c88>"
            ]
          },
          "metadata": {
            "tags": []
          },
          "execution_count": 18
        },
        {
          "output_type": "display_data",
          "data": {
            "image/png": "[encoded data removed]",
            "text/plain": [
              "<Figure size 432x288 with 1 Axes>"
            ]
          },
          "metadata": {
            "tags": []
          }
        }
      ]
    },
    {
      "cell_type": "code",
      "metadata": {
        "id": "VL-Y6a4VxYXY",
        "colab_type": "code",
        "outputId": "dd5e774f-702d-4cef-e1e0-58c1b618ff53",
        "colab": {
          "base_uri": "https://localhost:8080/",
          "height": 202
        }
      },
      "source": [
        "import pandas as pd\n",
        "data = pd.read_csv('Auto.csv')\n",
        "data.head()"
      ],
      "execution_count": 0,
      "outputs": [
        {
          "output_type": "execute_result",
          "data": {
            "text/html": [
              "<div>\n",
              "<style scoped>\n",
              "    .dataframe tbody tr th:only-of-type {\n",
              "        vertical-align: middle;\n",
              "    }\n",
              "\n",
              "    .dataframe tbody tr th {\n",
              "        vertical-align: top;\n",
              "    }\n",
              "\n",
              "    .dataframe thead th {\n",
              "        text-align: right;\n",
              "    }\n",
              "</style>\n",
              "<table border=\"1\" class=\"dataframe\">\n",
              "  <thead>\n",
              "    <tr style=\"text-align: right;\">\n",
              "      <th></th>\n",
              "      <th>mpg</th>\n",
              "      <th>weight</th>\n",
              "    </tr>\n",
              "  </thead>\n",
              "  <tbody>\n",
              "    <tr>\n",
              "      <th>0</th>\n",
              "      <td>18.0</td>\n",
              "      <td>3504</td>\n",
              "    </tr>\n",
              "    <tr>\n",
              "      <th>1</th>\n",
              "      <td>15.0</td>\n",
              "      <td>3693</td>\n",
              "    </tr>\n",
              "    <tr>\n",
              "      <th>2</th>\n",
              "      <td>18.0</td>\n",
              "      <td>3436</td>\n",
              "    </tr>\n",
              "    <tr>\n",
              "      <th>3</th>\n",
              "      <td>16.0</td>\n",
              "      <td>3433</td>\n",
              "    </tr>\n",
              "    <tr>\n",
              "      <th>4</th>\n",
              "      <td>17.0</td>\n",
              "      <td>3449</td>\n",
              "    </tr>\n",
              "  </tbody>\n",
              "</table>\n",
              "</div>"
            ],
            "text/plain": [
              "    mpg  weight\n",
              "0  18.0    3504\n",
              "1  15.0    3693\n",
              "2  18.0    3436\n",
              "3  16.0    3433\n",
              "4  17.0    3449"
            ]
          },
          "metadata": {
            "tags": []
          },
          "execution_count": 19
        }
      ]
    },
    {
      "cell_type": "code",
      "metadata": {
        "id": "CBoBMhZQyVia",
        "colab_type": "code",
        "outputId": "17c998ca-176a-477b-b762-b3b1c7902d62",
        "colab": {
          "base_uri": "https://localhost:8080/",
          "height": 285
        }
      },
      "source": [
        "ax = sns.scatterplot(x = 'mpg', y = 'weight', data = data, hue='mpg') # hue can be a third \n",
        "# variable on which mpg and weight depends "
      ],
      "execution_count": 0,
      "outputs": [
        {
          "output_type": "display_data",
          "data": {
            "image/png": "[encoded data removed]",
            "text/plain": [
              "<Figure size 432x288 with 1 Axes>"
            ]
          },
          "metadata": {
            "tags": []
          }
        }
      ]
    },
    {
      "cell_type": "code",
      "metadata": {
        "id": "cG4e1E7cyvwN",
        "colab_type": "code",
        "outputId": "a791ff15-aa90-4886-8fe8-c47b1500bfd7",
        "colab": {
          "base_uri": "https://localhost:8080/",
          "height": 303
        }
      },
      "source": [
        "sns.distplot(data['weight']) # histogram"
      ],
      "execution_count": 0,
      "outputs": [
        {
          "output_type": "execute_result",
          "data": {
            "text/plain": [
              "<matplotlib.axes._subplots.AxesSubplot at 0x7faf4e3d5080>"
            ]
          },
          "metadata": {
            "tags": []
          },
          "execution_count": 23
        },
        {
          "output_type": "display_data",
          "data": {
            "image/png": "[encoded data removed]",
            "text/plain": [
              "<Figure size 432x288 with 1 Axes>"
            ]
          },
          "metadata": {
            "tags": []
          }
        }
      ]
    },
    {
      "cell_type": "code",
      "metadata": {
        "id": "oZwh--W-zyBB",
        "colab_type": "code",
        "outputId": "dba93b74-8b1f-40a4-eceb-a9b3e18ae17d",
        "colab": {
          "base_uri": "https://localhost:8080/",
          "height": 303
        }
      },
      "source": [
        "sns.distplot(data['mpg'], kde = False, rug = True, bins = 20)"
      ],
      "execution_count": 0,
      "outputs": [
        {
          "output_type": "execute_result",
          "data": {
            "text/plain": [
              "<matplotlib.axes._subplots.AxesSubplot at 0x7faf4e206080>"
            ]
          },
          "metadata": {
            "tags": []
          },
          "execution_count": 26
        },
        {
          "output_type": "display_data",
          "data": {
            "image/png": "[encoded data removed]",
            "text/plain": [
              "<Figure size 432x288 with 1 Axes>"
            ]
          },
          "metadata": {
            "tags": []
          }
        }
      ]
    },
    {
      "cell_type": "code",
      "metadata": {
        "id": "Z6K8HlD70TVc",
        "colab_type": "code",
        "outputId": "b682af46-8951-44b4-91c8-8ea2e8c146c5",
        "colab": {
          "base_uri": "https://localhost:8080/",
          "height": 268
        }
      },
      "source": [
        "# there is also box plot in seaborn which takes only 2 values\n",
        "\n",
        "uniform = np.random.rand(10,12)\n",
        "ax = sns.heatmap(uniform, cmap='YlGnBu')"
      ],
      "execution_count": 0,
      "outputs": [
        {
          "output_type": "display_data",
          "data": {
            "image/png": "[encoded data removed]",
            "text/plain": [
              "<Figure size 432x288 with 2 Axes>"
            ]
          },
          "metadata": {
            "tags": []
          }
        }
      ]
    },
    {
      "cell_type": "code",
      "metadata": {
        "id": "zlNqCLv4156f",
        "colab_type": "code",
        "outputId": "621f0558-5216-4353-8d85-3c4392f44290",
        "colab": {
          "base_uri": "https://localhost:8080/",
          "height": 225
        }
      },
      "source": [
        "!wget https://miro.medium.com/max/950/1*sUHVxRoPHoZpPi7XjmVkzg.png"
      ],
      "execution_count": 0,
      "outputs": [
        {
          "output_type": "stream",
          "text": [
            "Warning: wildcards not supported in HTTP.\n",
            "--2020-03-25 18:02:43--  https://miro.medium.com/max/950/1*sUHVxRoPHoZpPi7XjmVkzg.png\n",
            "Resolving miro.medium.com (miro.medium.com)... 104.16.120.145, 104.16.117.145, 104.16.119.145, ...\n",
            "Connecting to miro.medium.com (miro.medium.com)|104.16.120.145|:443... connected.\n",
            "HTTP request sent, awaiting response... 200 OK\n",
            "Length: 39865 (39K) [image/png]\n",
            "Saving to: ‘1*sUHVxRoPHoZpPi7XjmVkzg.png’\n",
            "\n",
            "\r          1*sUHVxRo   0%[                    ]       0  --.-KB/s               \r1*sUHVxRoPHoZpPi7Xj 100%[===================>]  38.93K  --.-KB/s    in 0.01s   \n",
            "\n",
            "2020-03-25 18:02:43 (3.09 MB/s) - ‘1*sUHVxRoPHoZpPi7XjmVkzg.png’ saved [39865/39865]\n",
            "\n"
          ],
          "name": "stdout"
        }
      ]
    },
    {
      "cell_type": "code",
      "metadata": {
        "id": "laFooUFg3Fng",
        "colab_type": "code",
        "outputId": "47956aae-12b6-4843-d111-6776591f55f3",
        "colab": {
          "base_uri": "https://localhost:8080/",
          "height": 52
        }
      },
      "source": [
        "!ls"
      ],
      "execution_count": 0,
      "outputs": [
        {
          "output_type": "stream",
          "text": [
            "'1*sUHVxRoPHoZpPi7XjmVkzg.png'\t my_first_file_output.txt   __pycache__\n",
            " Auto.csv\t\t\t my_first_module.py\t    sample_data\n"
          ],
          "name": "stdout"
        }
      ]
    },
    {
      "cell_type": "code",
      "metadata": {
        "id": "syY0GeOw3Hdy",
        "colab_type": "code",
        "colab": {}
      },
      "source": [
        "!mv 1*sUHVxRoPHoZpPi7XjmVkzg.png onefourthlabs.png"
      ],
      "execution_count": 0,
      "outputs": []
    },
    {
      "cell_type": "code",
      "metadata": {
        "id": "xk6jhg-q3Nvo",
        "colab_type": "code",
        "colab": {}
      },
      "source": [
        "import matplotlib.image as mpimg"
      ],
      "execution_count": 0,
      "outputs": []
    },
    {
      "cell_type": "code",
      "metadata": {
        "id": "1iz5CqiI3WDv",
        "colab_type": "code",
        "outputId": "f10c1fcf-b48e-447c-93dc-215c5047cd62",
        "colab": {
          "base_uri": "https://localhost:8080/",
          "height": 867
        }
      },
      "source": [
        "img = mpimg.imread('onefourthlabs.png') # get matrix\n",
        "print(img)"
      ],
      "execution_count": 0,
      "outputs": [
        {
          "output_type": "stream",
          "text": [
            "[[[0. 0. 0. 0.]\n",
            "  [0. 0. 0. 0.]\n",
            "  [0. 0. 0. 0.]\n",
            "  ...\n",
            "  [0. 0. 0. 0.]\n",
            "  [0. 0. 0. 0.]\n",
            "  [0. 0. 0. 0.]]\n",
            "\n",
            " [[0. 0. 0. 0.]\n",
            "  [0. 0. 0. 0.]\n",
            "  [0. 0. 0. 0.]\n",
            "  ...\n",
            "  [0. 0. 0. 0.]\n",
            "  [0. 0. 0. 0.]\n",
            "  [0. 0. 0. 0.]]\n",
            "\n",
            " [[0. 0. 0. 0.]\n",
            "  [0. 0. 0. 0.]\n",
            "  [0. 0. 0. 0.]\n",
            "  ...\n",
            "  [0. 0. 0. 0.]\n",
            "  [0. 0. 0. 0.]\n",
            "  [0. 0. 0. 0.]]\n",
            "\n",
            " ...\n",
            "\n",
            " [[0. 0. 0. 0.]\n",
            "  [0. 0. 0. 0.]\n",
            "  [0. 0. 0. 0.]\n",
            "  ...\n",
            "  [0. 0. 0. 0.]\n",
            "  [0. 0. 0. 0.]\n",
            "  [0. 0. 0. 0.]]\n",
            "\n",
            " [[0. 0. 0. 0.]\n",
            "  [0. 0. 0. 0.]\n",
            "  [0. 0. 0. 0.]\n",
            "  ...\n",
            "  [0. 0. 0. 0.]\n",
            "  [0. 0. 0. 0.]\n",
            "  [0. 0. 0. 0.]]\n",
            "\n",
            " [[0. 0. 0. 0.]\n",
            "  [0. 0. 0. 0.]\n",
            "  [0. 0. 0. 0.]\n",
            "  ...\n",
            "  [0. 0. 0. 0.]\n",
            "  [0. 0. 0. 0.]\n",
            "  [0. 0. 0. 0.]]]\n"
          ],
          "name": "stdout"
        }
      ]
    },
    {
      "cell_type": "code",
      "metadata": {
        "id": "_THIISja3jMO",
        "colab_type": "code",
        "outputId": "5c18138e-9e3f-4e36-d83b-3f3281712e00",
        "colab": {
          "base_uri": "https://localhost:8080/",
          "height": 139
        }
      },
      "source": [
        "imgplot = plt.imshow(img) # print image"
      ],
      "execution_count": 0,
      "outputs": [
        {
          "output_type": "display_data",
          "data": {
            "image/png": "[encoded data removed]",
            "text/plain": [
              "<Figure size 432x288 with 1 Axes>"
            ]
          },
          "metadata": {
            "tags": []
          }
        }
      ]
    },
    {
      "cell_type": "markdown",
      "metadata": {
        "id": "RSUJYf0tUe1x",
        "colab_type": "text"
      },
      "source": [
        "# Colab and Drive Collaboration"
      ]
    },
    {
      "cell_type": "code",
      "metadata": {
        "id": "Elodk5Id3-0o",
        "colab_type": "code",
        "colab": {
          "base_uri": "https://localhost:8080/",
          "height": 35
        },
        "outputId": "cc2ab812-f4ae-47c8-ee31-d3c4b3b593e4"
      },
      "source": [
        "# Import PyDrive and associated libraries.\n",
        "# This only needs to be done once in a notebook.\n",
        "from pydrive.auth import GoogleAuth\n",
        "from pydrive.drive import GoogleDrive\n",
        "from google.colab import auth\n",
        "from oauth2client.client import GoogleCredentials\n",
        "\n",
        "# Authenticate and create the PyDrive client.\n",
        "# This only needs to be done once in a notebook.\n",
        "auth.authenticate_user()\n",
        "gauth = GoogleAuth()\n",
        "gauth.credentials = GoogleCredentials.get_application_default()\n",
        "drive = GoogleDrive(gauth)\n",
        "\n",
        "# Create & upload a text file.\n",
        "uploaded = drive.CreateFile({'title': 'file.txt'})\n",
        "uploaded.SetContentString('Hello World')\n",
        "uploaded.Upload()\n",
        "print('Uploaded file with ID {}'.format(uploaded.get('id')))"
      ],
      "execution_count": 2,
      "outputs": [
        {
          "output_type": "stream",
          "text": [
            "Uploaded file with ID 1oeWa42KTWDPegixr7tjy4uDqBK32Ns_J\n"
          ],
          "name": "stdout"
        }
      ]
    },
    {
      "cell_type": "code",
      "metadata": {
        "id": "xHzzDPNPVI8j",
        "colab_type": "code",
        "colab": {
          "base_uri": "https://localhost:8080/",
          "height": 104
        },
        "outputId": "7be4f721-f6b4-446d-b92f-ba5d08dda11a"
      },
      "source": [
        "# List .txt files in the root.\n",
        "#\n",
        "# Search query reference:\n",
        "# https://developers.google.com/drive/v2/web/search-parameters\n",
        "listed = drive.ListFile({'q': \"title contains '.txt' and 'root' in parents\"}).GetList()\n",
        "for file in listed:\n",
        "  print('title {}, id {}'.format(file['title'], file['id']))"
      ],
      "execution_count": 3,
      "outputs": [
        {
          "output_type": "stream",
          "text": [
            "title file.txt, id 1oeWa42KTWDPegixr7tjy4uDqBK32Ns_J\n",
            "title Sample file.txt, id 1cJwPVndb5ufh1hyKVKXaJtZRctIMFkbL\n",
            "title dbfeb4.txt, id 1dQRPPv3lkhYHhG78akQzznqNwJQ5amUA\n",
            "title dbjan28.txt, id 18fCdrzoguKAf3rP1_oFVcLIkZnCDPIxM\n",
            "title instagram.txt, id 0ByzJNNEitjnfV3NFR2trMGt3VmNmQUx4ZkVwRmFkbVc3TUFF\n"
          ],
          "name": "stdout"
        }
      ]
    },
    {
      "cell_type": "code",
      "metadata": {
        "id": "7SzMX5dMZsEI",
        "colab_type": "code",
        "colab": {}
      },
      "source": [
        "# https://drive.google.com/open?id=1Gd3HA5nJ9pYtGGm5YQ9RH3qXh2mVKsb-\n",
        "# Download a file based on its file ID.\n",
        "#\n",
        "# A file ID looks like: laggVyWshwcyP6kEI-y_W3P8D26sz\n",
        "file_id = '1Gd3HA5nJ9pYtGGm5YQ9RH3qXh2mVKsb-'\n",
        "downloaded = drive.CreateFile({'id': file_id})\n",
        "downloaded.GetContentFile('local.csv')"
      ],
      "execution_count": 0,
      "outputs": []
    },
    {
      "cell_type": "code",
      "metadata": {
        "id": "pxVK6Hleadvd",
        "colab_type": "code",
        "colab": {
          "base_uri": "https://localhost:8080/",
          "height": 202
        },
        "outputId": "2645cf7c-7921-4253-9f62-84a44995e559"
      },
      "source": [
        "import pandas as pd\n",
        "df = pd.read_csv('local.csv') # read_xls\n",
        "df.head()"
      ],
      "execution_count": 7,
      "outputs": [
        {
          "output_type": "execute_result",
          "data": {
            "text/html": [
              "<div>\n",
              "<style scoped>\n",
              "    .dataframe tbody tr th:only-of-type {\n",
              "        vertical-align: middle;\n",
              "    }\n",
              "\n",
              "    .dataframe tbody tr th {\n",
              "        vertical-align: top;\n",
              "    }\n",
              "\n",
              "    .dataframe thead th {\n",
              "        text-align: right;\n",
              "    }\n",
              "</style>\n",
              "<table border=\"1\" class=\"dataframe\">\n",
              "  <thead>\n",
              "    <tr style=\"text-align: right;\">\n",
              "      <th></th>\n",
              "      <th>mpg</th>\n",
              "      <th>weight</th>\n",
              "    </tr>\n",
              "  </thead>\n",
              "  <tbody>\n",
              "    <tr>\n",
              "      <th>0</th>\n",
              "      <td>18.0</td>\n",
              "      <td>3504</td>\n",
              "    </tr>\n",
              "    <tr>\n",
              "      <th>1</th>\n",
              "      <td>15.0</td>\n",
              "      <td>3693</td>\n",
              "    </tr>\n",
              "    <tr>\n",
              "      <th>2</th>\n",
              "      <td>18.0</td>\n",
              "      <td>3436</td>\n",
              "    </tr>\n",
              "    <tr>\n",
              "      <th>3</th>\n",
              "      <td>16.0</td>\n",
              "      <td>3433</td>\n",
              "    </tr>\n",
              "    <tr>\n",
              "      <th>4</th>\n",
              "      <td>17.0</td>\n",
              "      <td>3449</td>\n",
              "    </tr>\n",
              "  </tbody>\n",
              "</table>\n",
              "</div>"
            ],
            "text/plain": [
              "    mpg  weight\n",
              "0  18.0    3504\n",
              "1  15.0    3693\n",
              "2  18.0    3436\n",
              "3  16.0    3433\n",
              "4  17.0    3449"
            ]
          },
          "metadata": {
            "tags": []
          },
          "execution_count": 7
        }
      ]
    },
    {
      "cell_type": "markdown",
      "metadata": {
        "id": "y3TBvEmXc2g-",
        "colab_type": "text"
      },
      "source": [
        "# Pandas"
      ]
    },
    {
      "cell_type": "code",
      "metadata": {
        "id": "5lzsTqW6by8m",
        "colab_type": "code",
        "colab": {
          "base_uri": "https://localhost:8080/",
          "height": 1000
        },
        "outputId": "b3412569-d986-4dcb-847e-9dba5f28c027"
      },
      "source": [
        "df.tail()\n",
        "type(df)\n",
        "dir(df)"
      ],
      "execution_count": 8,
      "outputs": [
        {
          "output_type": "execute_result",
          "data": {
            "text/plain": [
              "['T',\n",
              " '_AXIS_ALIASES',\n",
              " '_AXIS_IALIASES',\n",
              " '_AXIS_LEN',\n",
              " '_AXIS_NAMES',\n",
              " '_AXIS_NUMBERS',\n",
              " '_AXIS_ORDERS',\n",
              " '_AXIS_REVERSED',\n",
              " '__abs__',\n",
              " '__add__',\n",
              " '__and__',\n",
              " '__array__',\n",
              " '__array_priority__',\n",
              " '__array_wrap__',\n",
              " '__bool__',\n",
              " '__class__',\n",
              " '__contains__',\n",
              " '__copy__',\n",
              " '__deepcopy__',\n",
              " '__delattr__',\n",
              " '__delitem__',\n",
              " '__dict__',\n",
              " '__dir__',\n",
              " '__div__',\n",
              " '__doc__',\n",
              " '__eq__',\n",
              " '__finalize__',\n",
              " '__floordiv__',\n",
              " '__format__',\n",
              " '__ge__',\n",
              " '__getattr__',\n",
              " '__getattribute__',\n",
              " '__getitem__',\n",
              " '__getstate__',\n",
              " '__gt__',\n",
              " '__hash__',\n",
              " '__iadd__',\n",
              " '__iand__',\n",
              " '__ifloordiv__',\n",
              " '__imod__',\n",
              " '__imul__',\n",
              " '__init__',\n",
              " '__init_subclass__',\n",
              " '__invert__',\n",
              " '__ior__',\n",
              " '__ipow__',\n",
              " '__isub__',\n",
              " '__iter__',\n",
              " '__itruediv__',\n",
              " '__ixor__',\n",
              " '__le__',\n",
              " '__len__',\n",
              " '__lt__',\n",
              " '__matmul__',\n",
              " '__mod__',\n",
              " '__module__',\n",
              " '__mul__',\n",
              " '__ne__',\n",
              " '__neg__',\n",
              " '__new__',\n",
              " '__nonzero__',\n",
              " '__or__',\n",
              " '__pos__',\n",
              " '__pow__',\n",
              " '__radd__',\n",
              " '__rand__',\n",
              " '__rdiv__',\n",
              " '__reduce__',\n",
              " '__reduce_ex__',\n",
              " '__repr__',\n",
              " '__rfloordiv__',\n",
              " '__rmatmul__',\n",
              " '__rmod__',\n",
              " '__rmul__',\n",
              " '__ror__',\n",
              " '__round__',\n",
              " '__rpow__',\n",
              " '__rsub__',\n",
              " '__rtruediv__',\n",
              " '__rxor__',\n",
              " '__setattr__',\n",
              " '__setitem__',\n",
              " '__setstate__',\n",
              " '__sizeof__',\n",
              " '__str__',\n",
              " '__sub__',\n",
              " '__subclasshook__',\n",
              " '__truediv__',\n",
              " '__weakref__',\n",
              " '__xor__',\n",
              " '_accessors',\n",
              " '_add_numeric_operations',\n",
              " '_add_series_only_operations',\n",
              " '_add_series_or_dataframe_operations',\n",
              " '_agg_by_level',\n",
              " '_agg_examples_doc',\n",
              " '_agg_summary_and_see_also_doc',\n",
              " '_aggregate',\n",
              " '_aggregate_multiple_funcs',\n",
              " '_align_frame',\n",
              " '_align_series',\n",
              " '_box_col_values',\n",
              " '_box_item_values',\n",
              " '_builtin_table',\n",
              " '_check_inplace_setting',\n",
              " '_check_is_chained_assignment_possible',\n",
              " '_check_label_or_level_ambiguity',\n",
              " '_check_percentile',\n",
              " '_check_setitem_copy',\n",
              " '_clear_item_cache',\n",
              " '_clip_with_one_bound',\n",
              " '_clip_with_scalar',\n",
              " '_combine_const',\n",
              " '_combine_frame',\n",
              " '_combine_match_columns',\n",
              " '_combine_match_index',\n",
              " '_consolidate',\n",
              " '_consolidate_inplace',\n",
              " '_construct_axes_dict',\n",
              " '_construct_axes_dict_from',\n",
              " '_construct_axes_from_arguments',\n",
              " '_constructor',\n",
              " '_constructor_expanddim',\n",
              " '_constructor_sliced',\n",
              " '_convert',\n",
              " '_count_level',\n",
              " '_create_indexer',\n",
              " '_cython_table',\n",
              " '_data',\n",
              " '_deprecations',\n",
              " '_dir_additions',\n",
              " '_dir_deletions',\n",
              " '_drop_axis',\n",
              " '_drop_labels_or_levels',\n",
              " '_ensure_valid_index',\n",
              " '_find_valid_index',\n",
              " '_from_arrays',\n",
              " '_from_axes',\n",
              " '_get_agg_axis',\n",
              " '_get_axis',\n",
              " '_get_axis_name',\n",
              " '_get_axis_number',\n",
              " '_get_axis_resolvers',\n",
              " '_get_block_manager_axis',\n",
              " '_get_bool_data',\n",
              " '_get_cacher',\n",
              " '_get_index_resolvers',\n",
              " '_get_item_cache',\n",
              " '_get_label_or_level_values',\n",
              " '_get_numeric_data',\n",
              " '_get_space_character_free_column_resolvers',\n",
              " '_get_value',\n",
              " '_get_values',\n",
              " '_getitem_bool_array',\n",
              " '_getitem_frame',\n",
              " '_getitem_multilevel',\n",
              " '_gotitem',\n",
              " '_iget_item_cache',\n",
              " '_indexed_same',\n",
              " '_info_axis',\n",
              " '_info_axis_name',\n",
              " '_info_axis_number',\n",
              " '_info_repr',\n",
              " '_init_mgr',\n",
              " '_internal_get_values',\n",
              " '_internal_names',\n",
              " '_internal_names_set',\n",
              " '_is_builtin_func',\n",
              " '_is_cached',\n",
              " '_is_copy',\n",
              " '_is_cython_func',\n",
              " '_is_datelike_mixed_type',\n",
              " '_is_homogeneous_type',\n",
              " '_is_label_or_level_reference',\n",
              " '_is_label_reference',\n",
              " '_is_level_reference',\n",
              " '_is_mixed_type',\n",
              " '_is_numeric_mixed_type',\n",
              " '_is_view',\n",
              " '_ix',\n",
              " '_ixs',\n",
              " '_join_compat',\n",
              " '_maybe_cache_changed',\n",
              " '_maybe_update_cacher',\n",
              " '_metadata',\n",
              " '_needs_reindex_multi',\n",
              " '_obj_with_exclusions',\n",
              " '_protect_consolidate',\n",
              " '_reduce',\n",
              " '_reindex_axes',\n",
              " '_reindex_columns',\n",
              " '_reindex_index',\n",
              " '_reindex_multi',\n",
              " '_reindex_with_indexers',\n",
              " '_repr_data_resource_',\n",
              " '_repr_fits_horizontal_',\n",
              " '_repr_fits_vertical_',\n",
              " '_repr_html_',\n",
              " '_repr_latex_',\n",
              " '_reset_cache',\n",
              " '_reset_cacher',\n",
              " '_sanitize_column',\n",
              " '_selected_obj',\n",
              " '_selection',\n",
              " '_selection_list',\n",
              " '_selection_name',\n",
              " '_series',\n",
              " '_set_as_cached',\n",
              " '_set_axis',\n",
              " '_set_axis_name',\n",
              " '_set_is_copy',\n",
              " '_set_item',\n",
              " '_set_value',\n",
              " '_setitem_array',\n",
              " '_setitem_frame',\n",
              " '_setitem_slice',\n",
              " '_setup_axes',\n",
              " '_shallow_copy',\n",
              " '_slice',\n",
              " '_stat_axis',\n",
              " '_stat_axis_name',\n",
              " '_stat_axis_number',\n",
              " '_to_dict_of_blocks',\n",
              " '_try_aggregate_string_function',\n",
              " '_typ',\n",
              " '_unpickle_frame_compat',\n",
              " '_unpickle_matrix_compat',\n",
              " '_update_inplace',\n",
              " '_validate_dtype',\n",
              " '_values',\n",
              " '_where',\n",
              " '_xs',\n",
              " 'abs',\n",
              " 'add',\n",
              " 'add_prefix',\n",
              " 'add_suffix',\n",
              " 'agg',\n",
              " 'aggregate',\n",
              " 'align',\n",
              " 'all',\n",
              " 'any',\n",
              " 'append',\n",
              " 'apply',\n",
              " 'applymap',\n",
              " 'as_matrix',\n",
              " 'asfreq',\n",
              " 'asof',\n",
              " 'assign',\n",
              " 'astype',\n",
              " 'at',\n",
              " 'at_time',\n",
              " 'axes',\n",
              " 'between_time',\n",
              " 'bfill',\n",
              " 'bool',\n",
              " 'boxplot',\n",
              " 'clip',\n",
              " 'clip_lower',\n",
              " 'clip_upper',\n",
              " 'columns',\n",
              " 'combine',\n",
              " 'combine_first',\n",
              " 'compound',\n",
              " 'copy',\n",
              " 'corr',\n",
              " 'corrwith',\n",
              " 'count',\n",
              " 'cov',\n",
              " 'cummax',\n",
              " 'cummin',\n",
              " 'cumprod',\n",
              " 'cumsum',\n",
              " 'describe',\n",
              " 'diff',\n",
              " 'div',\n",
              " 'divide',\n",
              " 'dot',\n",
              " 'drop',\n",
              " 'drop_duplicates',\n",
              " 'droplevel',\n",
              " 'dropna',\n",
              " 'dtypes',\n",
              " 'duplicated',\n",
              " 'empty',\n",
              " 'eq',\n",
              " 'equals',\n",
              " 'eval',\n",
              " 'ewm',\n",
              " 'expanding',\n",
              " 'explode',\n",
              " 'ffill',\n",
              " 'fillna',\n",
              " 'filter',\n",
              " 'first',\n",
              " 'first_valid_index',\n",
              " 'floordiv',\n",
              " 'from_dict',\n",
              " 'from_records',\n",
              " 'ge',\n",
              " 'get',\n",
              " 'get_dtype_counts',\n",
              " 'get_ftype_counts',\n",
              " 'get_values',\n",
              " 'groupby',\n",
              " 'gt',\n",
              " 'head',\n",
              " 'hist',\n",
              " 'iat',\n",
              " 'idxmax',\n",
              " 'idxmin',\n",
              " 'iloc',\n",
              " 'index',\n",
              " 'infer_objects',\n",
              " 'info',\n",
              " 'insert',\n",
              " 'interpolate',\n",
              " 'isin',\n",
              " 'isna',\n",
              " 'isnull',\n",
              " 'items',\n",
              " 'iteritems',\n",
              " 'iterrows',\n",
              " 'itertuples',\n",
              " 'join',\n",
              " 'keys',\n",
              " 'kurt',\n",
              " 'kurtosis',\n",
              " 'last',\n",
              " 'last_valid_index',\n",
              " 'le',\n",
              " 'loc',\n",
              " 'lookup',\n",
              " 'lt',\n",
              " 'mad',\n",
              " 'mask',\n",
              " 'max',\n",
              " 'mean',\n",
              " 'median',\n",
              " 'melt',\n",
              " 'memory_usage',\n",
              " 'merge',\n",
              " 'min',\n",
              " 'mod',\n",
              " 'mode',\n",
              " 'mpg',\n",
              " 'mul',\n",
              " 'multiply',\n",
              " 'ndim',\n",
              " 'ne',\n",
              " 'nlargest',\n",
              " 'notna',\n",
              " 'notnull',\n",
              " 'nsmallest',\n",
              " 'nunique',\n",
              " 'pct_change',\n",
              " 'pipe',\n",
              " 'pivot',\n",
              " 'pivot_table',\n",
              " 'plot',\n",
              " 'pop',\n",
              " 'pow',\n",
              " 'prod',\n",
              " 'product',\n",
              " 'quantile',\n",
              " 'query',\n",
              " 'radd',\n",
              " 'rank',\n",
              " 'rdiv',\n",
              " 'reindex',\n",
              " 'reindex_like',\n",
              " 'rename',\n",
              " 'rename_axis',\n",
              " 'reorder_levels',\n",
              " 'replace',\n",
              " 'resample',\n",
              " 'reset_index',\n",
              " 'rfloordiv',\n",
              " 'rmod',\n",
              " 'rmul',\n",
              " 'rolling',\n",
              " 'round',\n",
              " 'rpow',\n",
              " 'rsub',\n",
              " 'rtruediv',\n",
              " 'sample',\n",
              " 'select_dtypes',\n",
              " 'sem',\n",
              " 'set_axis',\n",
              " 'set_index',\n",
              " 'shape',\n",
              " 'shift',\n",
              " 'size',\n",
              " 'skew',\n",
              " 'slice_shift',\n",
              " 'sort_index',\n",
              " 'sort_values',\n",
              " 'sparse',\n",
              " 'squeeze',\n",
              " 'stack',\n",
              " 'std',\n",
              " 'style',\n",
              " 'sub',\n",
              " 'subtract',\n",
              " 'sum',\n",
              " 'swapaxes',\n",
              " 'swaplevel',\n",
              " 'tail',\n",
              " 'take',\n",
              " 'to_clipboard',\n",
              " 'to_csv',\n",
              " 'to_dense',\n",
              " 'to_dict',\n",
              " 'to_excel',\n",
              " 'to_feather',\n",
              " 'to_gbq',\n",
              " 'to_hdf',\n",
              " 'to_html',\n",
              " 'to_json',\n",
              " 'to_latex',\n",
              " 'to_msgpack',\n",
              " 'to_numpy',\n",
              " 'to_parquet',\n",
              " 'to_period',\n",
              " 'to_pickle',\n",
              " 'to_records',\n",
              " 'to_sparse',\n",
              " 'to_sql',\n",
              " 'to_stata',\n",
              " 'to_string',\n",
              " 'to_timestamp',\n",
              " 'to_xarray',\n",
              " 'transform',\n",
              " 'transpose',\n",
              " 'truediv',\n",
              " 'truncate',\n",
              " 'tshift',\n",
              " 'tz_convert',\n",
              " 'tz_localize',\n",
              " 'unstack',\n",
              " 'update',\n",
              " 'values',\n",
              " 'var',\n",
              " 'weight',\n",
              " 'where',\n",
              " 'xs']"
            ]
          },
          "metadata": {
            "tags": []
          },
          "execution_count": 8
        }
      ]
    },
    {
      "cell_type": "code",
      "metadata": {
        "id": "R9dme1tXdFXk",
        "colab_type": "code",
        "colab": {
          "base_uri": "https://localhost:8080/",
          "height": 35
        },
        "outputId": "090e52dc-b697-4fe7-c154-888c135c8b66"
      },
      "source": [
        "len(df)"
      ],
      "execution_count": 9,
      "outputs": [
        {
          "output_type": "execute_result",
          "data": {
            "text/plain": [
              "300"
            ]
          },
          "metadata": {
            "tags": []
          },
          "execution_count": 9
        }
      ]
    },
    {
      "cell_type": "code",
      "metadata": {
        "id": "R8vaM1lvdZb1",
        "colab_type": "code",
        "colab": {
          "base_uri": "https://localhost:8080/",
          "height": 35
        },
        "outputId": "025eba3a-d683-4bb3-b16c-2b69a90a905f"
      },
      "source": [
        "df.shape"
      ],
      "execution_count": 10,
      "outputs": [
        {
          "output_type": "execute_result",
          "data": {
            "text/plain": [
              "(300, 2)"
            ]
          },
          "metadata": {
            "tags": []
          },
          "execution_count": 10
        }
      ]
    },
    {
      "cell_type": "code",
      "metadata": {
        "id": "pnMKnkPddb0O",
        "colab_type": "code",
        "colab": {
          "base_uri": "https://localhost:8080/",
          "height": 69
        },
        "outputId": "df150c72-5a71-4ffa-a257-d2def0b62d33"
      },
      "source": [
        "df.loc[5]"
      ],
      "execution_count": 11,
      "outputs": [
        {
          "output_type": "execute_result",
          "data": {
            "text/plain": [
              "mpg         15.0\n",
              "weight    4341.0\n",
              "Name: 5, dtype: float64"
            ]
          },
          "metadata": {
            "tags": []
          },
          "execution_count": 11
        }
      ]
    },
    {
      "cell_type": "code",
      "metadata": {
        "id": "7c_v-_EPdpZh",
        "colab_type": "code",
        "colab": {
          "base_uri": "https://localhost:8080/",
          "height": 35
        },
        "outputId": "e842403e-d9f7-44f9-da31-915608e07320"
      },
      "source": [
        "df_short = df[0:10]\n",
        "df_short.shape"
      ],
      "execution_count": 13,
      "outputs": [
        {
          "output_type": "execute_result",
          "data": {
            "text/plain": [
              "(10, 2)"
            ]
          },
          "metadata": {
            "tags": []
          },
          "execution_count": 13
        }
      ]
    },
    {
      "cell_type": "code",
      "metadata": {
        "id": "i5AfKFryduRr",
        "colab_type": "code",
        "colab": {
          "base_uri": "https://localhost:8080/",
          "height": 202
        },
        "outputId": "e856bc0a-9117-4831-e2d4-86c0a723e7c4"
      },
      "source": [
        "df_thin = df[['mpg']]\n",
        "df_thin.head()"
      ],
      "execution_count": 14,
      "outputs": [
        {
          "output_type": "execute_result",
          "data": {
            "text/html": [
              "<div>\n",
              "<style scoped>\n",
              "    .dataframe tbody tr th:only-of-type {\n",
              "        vertical-align: middle;\n",
              "    }\n",
              "\n",
              "    .dataframe tbody tr th {\n",
              "        vertical-align: top;\n",
              "    }\n",
              "\n",
              "    .dataframe thead th {\n",
              "        text-align: right;\n",
              "    }\n",
              "</style>\n",
              "<table border=\"1\" class=\"dataframe\">\n",
              "  <thead>\n",
              "    <tr style=\"text-align: right;\">\n",
              "      <th></th>\n",
              "      <th>mpg</th>\n",
              "    </tr>\n",
              "  </thead>\n",
              "  <tbody>\n",
              "    <tr>\n",
              "      <th>0</th>\n",
              "      <td>18.0</td>\n",
              "    </tr>\n",
              "    <tr>\n",
              "      <th>1</th>\n",
              "      <td>15.0</td>\n",
              "    </tr>\n",
              "    <tr>\n",
              "      <th>2</th>\n",
              "      <td>18.0</td>\n",
              "    </tr>\n",
              "    <tr>\n",
              "      <th>3</th>\n",
              "      <td>16.0</td>\n",
              "    </tr>\n",
              "    <tr>\n",
              "      <th>4</th>\n",
              "      <td>17.0</td>\n",
              "    </tr>\n",
              "  </tbody>\n",
              "</table>\n",
              "</div>"
            ],
            "text/plain": [
              "    mpg\n",
              "0  18.0\n",
              "1  15.0\n",
              "2  18.0\n",
              "3  16.0\n",
              "4  17.0"
            ]
          },
          "metadata": {
            "tags": []
          },
          "execution_count": 14
        }
      ]
    },
    {
      "cell_type": "code",
      "metadata": {
        "id": "8DbOyIG1eMWN",
        "colab_type": "code",
        "colab": {
          "base_uri": "https://localhost:8080/",
          "height": 35
        },
        "outputId": "cd6d8a5b-db25-4936-9567-a86e68d1a503"
      },
      "source": [
        "df_thin['mpg'].mean() # max, min, count"
      ],
      "execution_count": 15,
      "outputs": [
        {
          "output_type": "execute_result",
          "data": {
            "text/plain": [
              "20.839333333333332"
            ]
          },
          "metadata": {
            "tags": []
          },
          "execution_count": 15
        }
      ]
    },
    {
      "cell_type": "code",
      "metadata": {
        "id": "rZjNmWtgexcB",
        "colab_type": "code",
        "colab": {
          "base_uri": "https://localhost:8080/",
          "height": 294
        },
        "outputId": "f15a2e9d-40d9-4db1-aea1-efd55a2df4d8"
      },
      "source": [
        "df_thin.describe()"
      ],
      "execution_count": 16,
      "outputs": [
        {
          "output_type": "execute_result",
          "data": {
            "text/html": [
              "<div>\n",
              "<style scoped>\n",
              "    .dataframe tbody tr th:only-of-type {\n",
              "        vertical-align: middle;\n",
              "    }\n",
              "\n",
              "    .dataframe tbody tr th {\n",
              "        vertical-align: top;\n",
              "    }\n",
              "\n",
              "    .dataframe thead th {\n",
              "        text-align: right;\n",
              "    }\n",
              "</style>\n",
              "<table border=\"1\" class=\"dataframe\">\n",
              "  <thead>\n",
              "    <tr style=\"text-align: right;\">\n",
              "      <th></th>\n",
              "      <th>mpg</th>\n",
              "    </tr>\n",
              "  </thead>\n",
              "  <tbody>\n",
              "    <tr>\n",
              "      <th>count</th>\n",
              "      <td>300.000000</td>\n",
              "    </tr>\n",
              "    <tr>\n",
              "      <th>mean</th>\n",
              "      <td>20.839333</td>\n",
              "    </tr>\n",
              "    <tr>\n",
              "      <th>std</th>\n",
              "      <td>6.330712</td>\n",
              "    </tr>\n",
              "    <tr>\n",
              "      <th>min</th>\n",
              "      <td>9.000000</td>\n",
              "    </tr>\n",
              "    <tr>\n",
              "      <th>25%</th>\n",
              "      <td>16.000000</td>\n",
              "    </tr>\n",
              "    <tr>\n",
              "      <th>50%</th>\n",
              "      <td>20.000000</td>\n",
              "    </tr>\n",
              "    <tr>\n",
              "      <th>75%</th>\n",
              "      <td>25.025000</td>\n",
              "    </tr>\n",
              "    <tr>\n",
              "      <th>max</th>\n",
              "      <td>43.100000</td>\n",
              "    </tr>\n",
              "  </tbody>\n",
              "</table>\n",
              "</div>"
            ],
            "text/plain": [
              "              mpg\n",
              "count  300.000000\n",
              "mean    20.839333\n",
              "std      6.330712\n",
              "min      9.000000\n",
              "25%     16.000000\n",
              "50%     20.000000\n",
              "75%     25.025000\n",
              "max     43.100000"
            ]
          },
          "metadata": {
            "tags": []
          },
          "execution_count": 16
        }
      ]
    },
    {
      "cell_type": "code",
      "metadata": {
        "id": "B2tinHhKe9Ve",
        "colab_type": "code",
        "colab": {
          "base_uri": "https://localhost:8080/",
          "height": 1000
        },
        "outputId": "2db04303-717a-4395-df71-0e830c72824b"
      },
      "source": [
        "g = df.groupby('weight')\n",
        "for key, df_key in g:\n",
        "  print(key)\n",
        "  print(df_key)"
      ],
      "execution_count": 18,
      "outputs": [
        {
          "output_type": "stream",
          "text": [
            "1613\n",
            "     mpg  weight\n",
            "53  35.0    1613\n",
            "1649\n",
            "      mpg  weight\n",
            "142  31.0    1649\n",
            "1773\n",
            "     mpg  weight\n",
            "52  31.0    1773\n",
            "1795\n",
            "      mpg  weight\n",
            "179  33.0    1795\n",
            "196  33.0    1795\n",
            "1800\n",
            "      mpg  weight\n",
            "243  36.1    1800\n",
            "246  36.1    1800\n",
            "1825\n",
            "      mpg  weight\n",
            "201  29.5    1825\n",
            "216  36.0    1825\n",
            "1834\n",
            "     mpg  weight\n",
            "54  27.0    1834\n",
            "1835\n",
            "     mpg  weight\n",
            "19  26.0    1835\n",
            "1836\n",
            "      mpg  weight\n",
            "129  32.0    1836\n",
            "1867\n",
            "      mpg  weight\n",
            "116  29.0    1867\n",
            "1915\n",
            "      mpg  weight\n",
            "293  35.7    1915\n",
            "1925\n",
            "      mpg  weight\n",
            "291  31.9    1925\n",
            "1937\n",
            "      mpg  weight\n",
            "173  29.0    1937\n",
            "195  29.0    1937\n",
            "1940\n",
            "      mpg  weight\n",
            "231  29.0    1940\n",
            "1945\n",
            "      mpg  weight\n",
            "218  33.5    1945\n",
            "1950\n",
            "      mpg  weight\n",
            "101  26.0    1950\n",
            "127  31.0    1950\n",
            "1955\n",
            "     mpg  weight\n",
            "55  26.0    1955\n",
            "1963\n",
            "      mpg  weight\n",
            "140  26.0    1963\n",
            "1975\n",
            "      mpg  weight\n",
            "292  34.1    1975\n",
            "1985\n",
            "      mpg  weight\n",
            "237  30.0    1985\n",
            "242  43.1    1985\n",
            "244  32.8    1985\n",
            "1990\n",
            "      mpg  weight\n",
            "202  32.0    1990\n",
            "276  31.5    1990\n",
            "2000\n",
            "      mpg  weight\n",
            "149  31.0    2000\n",
            "2003\n",
            "      mpg  weight\n",
            "143  32.0    2003\n",
            "2035\n",
            "      mpg  weight\n",
            "193  29.0    2035\n",
            "2045\n",
            "      mpg  weight\n",
            "214  31.5    2045\n",
            "2051\n",
            "      mpg  weight\n",
            "235  30.5    2051\n",
            "2065\n",
            "     mpg  weight\n",
            "51  30.0    2065\n",
            "2070\n",
            "      mpg  weight\n",
            "245  39.4    2070\n",
            "2074\n",
            "     mpg  weight\n",
            "50  30.0    2074\n",
            "2075\n",
            "      mpg  weight\n",
            "236  33.5    2075\n",
            "2100\n",
            "     mpg  weight\n",
            "83  27.0    2100\n",
            "2108\n",
            "      mpg  weight\n",
            "145  24.0    2108\n",
            "2123\n",
            "     mpg  weight\n",
            "49  28.0    2123\n",
            "2124\n",
            "      mpg  weight\n",
            "110  18.0    2124\n",
            "2125\n",
            "      mpg  weight\n",
            "144  28.0    2125\n",
            "2126\n",
            "     mpg  weight\n",
            "57  25.0    2126\n",
            "2130\n",
            "     mpg  weight\n",
            "18  27.0    2130\n",
            "29  27.0    2130\n",
            "2135\n",
            "      mpg  weight\n",
            "277  29.5    2135\n",
            "2155\n",
            "      mpg  weight\n",
            "203  28.0    2155\n",
            "215  30.0    2155\n",
            "264  30.0    2155\n",
            "2158\n",
            "      mpg  weight\n",
            "117  24.0    2158\n",
            "2164\n",
            "      mpg  weight\n",
            "82   28.0    2164\n",
            "194  24.5    2164\n",
            "2171\n",
            "      mpg  weight\n",
            "165  29.0    2171\n",
            "2189\n",
            "     mpg  weight\n",
            "78  26.0    2189\n",
            "2190\n",
            "      mpg  weight\n",
            "238  30.5    2190\n",
            "2200\n",
            "      mpg  weight\n",
            "299  34.2    2200\n",
            "2202\n",
            "      mpg  weight\n",
            "184  27.0    2202\n",
            "2219\n",
            "      mpg  weight\n",
            "139  29.0    2219\n",
            "2220\n",
            "      mpg  weight\n",
            "48   23.0    2220\n",
            "181  25.0    2220\n",
            "2223\n",
            "      mpg  weight\n",
            "170  25.0    2223\n",
            "2226\n",
            "     mpg  weight\n",
            "60  21.0    2226\n",
            "2228\n",
            "     mpg  weight\n",
            "31  25.0    2228\n",
            "2230\n",
            "      mpg  weight\n",
            "267  30.9    2230\n",
            "2234\n",
            "     mpg  weight\n",
            "23  26.0    2234\n",
            "2246\n",
            "      mpg  weight\n",
            "146  26.0    2246\n",
            "2254\n",
            "     mpg  weight\n",
            "58  23.0    2254\n",
            "2255\n",
            "      mpg  weight\n",
            "183  26.0    2255\n",
            "2264\n",
            "     mpg  weight\n",
            "30  28.0    2264\n",
            "2265\n",
            "      mpg  weight\n",
            "113  26.0    2265\n",
            "233  26.0    2265\n",
            "2278\n",
            "     mpg  weight\n",
            "56  24.0    2278\n",
            "2279\n",
            "      mpg  weight\n",
            "107  20.0    2279\n",
            "2288\n",
            "     mpg  weight\n",
            "80  28.0    2288\n",
            "2300\n",
            "      mpg  weight\n",
            "141  26.0    2300\n",
            "217  25.5    2300\n",
            "266  27.2    2300\n",
            "2310\n",
            "      mpg  weight\n",
            "111  19.0    2310\n",
            "2330\n",
            "     mpg  weight\n",
            "70  19.0    2330\n",
            "2372\n",
            "     mpg  weight\n",
            "14  24.0    2372\n",
            "2375\n",
            "     mpg  weight\n",
            "22  25.0    2375\n",
            "2379\n",
            "      mpg  weight\n",
            "109  22.0    2379\n",
            "2391\n",
            "      mpg  weight\n",
            "148  26.0    2391\n",
            "2395\n",
            "     mpg  weight\n",
            "79  22.0    2395\n",
            "2401\n",
            "      mpg  weight\n",
            "108  21.0    2401\n",
            "2405\n",
            "      mpg  weight\n",
            "271  23.9    2405\n",
            "2408\n",
            "     mpg  weight\n",
            "45  22.0    2408\n",
            "59  20.0    2408\n",
            "2430\n",
            "     mpg  weight\n",
            "21  24.0    2430\n",
            "2451\n",
            "      mpg  weight\n",
            "128  26.0    2451\n",
            "2464\n",
            "      mpg  weight\n",
            "180  28.0    2464\n",
            "2472\n",
            "      mpg  weight\n",
            "112  21.0    2472\n",
            "2489\n",
            "      mpg  weight\n",
            "147  24.0    2489\n",
            "2506\n",
            "     mpg  weight\n",
            "81  23.0    2506\n",
            "2511\n",
            "     mpg  weight\n",
            "76  22.0    2511\n",
            "2515\n",
            "      mpg  weight\n",
            "268  21.1    2515\n",
            "2542\n",
            "      mpg  weight\n",
            "130  25.0    2542\n",
            "2545\n",
            "      mpg  weight\n",
            "171  24.0    2545\n",
            "2560\n",
            "      mpg  weight\n",
            "265  27.5    2560\n",
            "2565\n",
            "      mpg  weight\n",
            "204  26.5    2565\n",
            "2572\n",
            "      mpg  weight\n",
            "182  25.0    2572\n",
            "2582\n",
            "      mpg  weight\n",
            "118  20.0    2582\n",
            "2587\n",
            "     mpg  weight\n",
            "17  21.0    2587\n",
            "2592\n",
            "      mpg  weight\n",
            "168  23.0    2592\n",
            "2600\n",
            "      mpg  weight\n",
            "240  21.5    2600\n",
            "2634\n",
            "     mpg  weight\n",
            "32  19.0    2634\n",
            "2639\n",
            "      mpg  weight\n",
            "166  23.0    2639\n",
            "2648\n",
            "     mpg  weight\n",
            "24  21.0    2648\n",
            "2660\n",
            "      mpg  weight\n",
            "121  24.0    2660\n",
            "2670\n",
            "      mpg  weight\n",
            "294  27.4    2670\n",
            "2671\n",
            "      mpg  weight\n",
            "178  25.0    2671\n",
            "2672\n",
            "     mpg  weight\n",
            "20  25.0    2672\n",
            "2694\n",
            "      mpg  weight\n",
            "175  23.0    2694\n",
            "2702\n",
            "      mpg  weight\n",
            "169  24.0    2702\n",
            "2720\n",
            "      mpg  weight\n",
            "241  21.5    2720\n",
            "253  25.1    2720\n",
            "2740\n",
            "      mpg  weight\n",
            "232  24.5    2740\n",
            "2745\n",
            "      mpg  weight\n",
            "269  23.2    2745\n",
            "2755\n",
            "      mpg  weight\n",
            "234  25.5    2755\n",
            "2774\n",
            "     mpg  weight\n",
            "16  18.0    2774\n",
            "2789\n",
            "      mpg  weight\n",
            "106  18.0    2789\n",
            "2795\n",
            "      mpg  weight\n",
            "274  21.6    2795\n",
            "2807\n",
            "      mpg  weight\n",
            "122  20.0    2807\n",
            "2815\n",
            "      mpg  weight\n",
            "239  22.0    2815\n",
            "2830\n",
            "      mpg  weight\n",
            "272  20.3    2830\n",
            "2833\n",
            "     mpg  weight\n",
            "15  22.0    2833\n",
            "2855\n",
            "      mpg  weight\n",
            "270  23.8    2855\n",
            "2868\n",
            "      mpg  weight\n",
            "119  19.0    2868\n",
            "2890\n",
            "      mpg  weight\n",
            "280  22.3    2890\n",
            "2901\n",
            "      mpg  weight\n",
            "125  19.0    2901\n",
            "2904\n",
            "      mpg  weight\n",
            "100  23.0    2904\n",
            "2914\n",
            "      mpg  weight\n",
            "167  20.0    2914\n",
            "2930\n",
            "      mpg  weight\n",
            "208  19.0    2930\n",
            "2933\n",
            "     mpg  weight\n",
            "75  18.0    2933\n",
            "2945\n",
            "      mpg  weight\n",
            "98   18.0    2945\n",
            "177  22.0    2945\n",
            "2957\n",
            "      mpg  weight\n",
            "176  23.0    2957\n",
            "2962\n",
            "     mpg  weight\n",
            "44  18.0    2962\n",
            "2965\n",
            "      mpg  weight\n",
            "252  20.2    2965\n",
            "2979\n",
            "     mpg  weight\n",
            "77  21.0    2979\n",
            "2984\n",
            "      mpg  weight\n",
            "172  18.0    2984\n",
            "2990\n",
            "      mpg  weight\n",
            "279  19.8    2990\n",
            "3012\n",
            "      mpg  weight\n",
            "191  24.0    3012\n",
            "3021\n",
            "     mpg  weight\n",
            "99  18.0    3021\n",
            "3039\n",
            "      mpg  weight\n",
            "162  21.0    3039\n",
            "3070\n",
            "      mpg  weight\n",
            "257  20.8    3070\n",
            "3085\n",
            "      mpg  weight\n",
            "192  22.5    3085\n",
            "3086\n",
            "     mpg  weight\n",
            "13  14.0    3086\n",
            "3102\n",
            "      mpg  weight\n",
            "124  20.0    3102\n",
            "3121\n",
            "     mpg  weight\n",
            "96  18.0    3121\n",
            "3139\n",
            "     mpg  weight\n",
            "47  18.0    3139\n",
            "3140\n",
            "      mpg  weight\n",
            "273  17.0    3140\n",
            "3150\n",
            "      mpg  weight\n",
            "205  20.0    3150\n",
            "3155\n",
            "      mpg  weight\n",
            "251  20.5    3155\n",
            "3158\n",
            "      mpg  weight\n",
            "153  15.0    3158\n",
            "3169\n",
            "      mpg  weight\n",
            "164  13.0    3169\n",
            "3190\n",
            "      mpg  weight\n",
            "297  27.2    3190\n",
            "3193\n",
            "      mpg  weight\n",
            "200  17.5    3193\n",
            "3205\n",
            "      mpg  weight\n",
            "262  18.1    3205\n",
            "3210\n",
            "      mpg  weight\n",
            "255  19.4    3210\n",
            "3211\n",
            "      mpg  weight\n",
            "174  19.0    3211\n",
            "3221\n",
            "      mpg  weight\n",
            "163  20.0    3221\n",
            "3233\n",
            "      mpg  weight\n",
            "189  22.0    3233\n",
            "3245\n",
            "      mpg  weight\n",
            "278  21.5    3245\n",
            "3264\n",
            "      mpg  weight\n",
            "150  19.0    3264\n",
            "3265\n",
            "      mpg  weight\n",
            "281  20.2    3265\n",
            "3270\n",
            "      mpg  weight\n",
            "207  19.0    3270\n",
            "3278\n",
            "     mpg  weight\n",
            "97  16.0    3278\n",
            "3282\n",
            "     mpg  weight\n",
            "46  19.0    3282\n",
            "3288\n",
            "     mpg  weight\n",
            "36  18.0    3288\n",
            "3302\n",
            "     mpg  weight\n",
            "35  19.0    3302\n",
            "3329\n",
            "     mpg  weight\n",
            "34  17.0    3329\n",
            "3336\n",
            "      mpg  weight\n",
            "126  15.0    3336\n",
            "3353\n",
            "      mpg  weight\n",
            "190  22.0    3353\n",
            "3360\n",
            "      mpg  weight\n",
            "282  20.6    3360\n",
            "3365\n",
            "      mpg  weight\n",
            "247  19.9    3365\n",
            "3380\n",
            "      mpg  weight\n",
            "256  20.6    3380\n",
            "3399\n",
            "      mpg  weight\n",
            "120  15.0    3399\n",
            "3410\n",
            "      mpg  weight\n",
            "259  18.1    3410\n",
            "275  16.2    3410\n",
            "3420\n",
            "      mpg  weight\n",
            "298  23.9    3420\n",
            "3425\n",
            "      mpg  weight\n",
            "224  20.5    3425\n",
            "260  19.2    3425\n",
            "3430\n",
            "      mpg  weight\n",
            "254  20.5    3430\n",
            "3432\n",
            "      mpg  weight\n",
            "152  15.0    3432\n",
            "3433\n",
            "    mpg  weight\n",
            "3  16.0    3433\n",
            "3436\n",
            "    mpg  weight\n",
            "2  18.0    3436\n",
            "3439\n",
            "     mpg  weight\n",
            "33  16.0    3439\n",
            "3445\n",
            "      mpg  weight\n",
            "261  17.7    3445\n",
            "3449\n",
            "    mpg  weight\n",
            "4  17.0    3449\n",
            "3459\n",
            "      mpg  weight\n",
            "151  18.0    3459\n",
            "3504\n",
            "    mpg  weight\n",
            "0  18.0    3504\n",
            "3520\n",
            "      mpg  weight\n",
            "223  17.5    3520\n",
            "3525\n",
            "      mpg  weight\n",
            "226  18.5    3525\n",
            "3530\n",
            "      mpg  weight\n",
            "295  25.4    3530\n",
            "3535\n",
            "      mpg  weight\n",
            "250  19.2    3535\n",
            "3563\n",
            "     mpg  weight\n",
            "10  15.0    3563\n",
            "3570\n",
            "      mpg  weight\n",
            "249  20.2    3570\n",
            "3574\n",
            "      mpg  weight\n",
            "198  18.0    3574\n",
            "3605\n",
            "      mpg  weight\n",
            "289  19.2    3605\n",
            "3609\n",
            "     mpg  weight\n",
            "11  14.0    3609\n",
            "3613\n",
            "      mpg  weight\n",
            "133  18.0    3613\n",
            "3620\n",
            "      mpg  weight\n",
            "258  18.6    3620\n",
            "3630\n",
            "      mpg  weight\n",
            "225  19.0    3630\n",
            "3632\n",
            "      mpg  weight\n",
            "132  16.0    3632\n",
            "3645\n",
            "      mpg  weight\n",
            "199  18.5    3645\n",
            "3651\n",
            "      mpg  weight\n",
            "197  20.0    3651\n",
            "3664\n",
            "      mpg  weight\n",
            "123  11.0    3664\n",
            "3672\n",
            "     mpg  weight\n",
            "65  17.0    3672\n",
            "85  14.0    3672\n",
            "3693\n",
            "    mpg  weight\n",
            "1  15.0    3693\n",
            "3725\n",
            "      mpg  weight\n",
            "284  17.6    3725\n",
            "3730\n",
            "      mpg  weight\n",
            "160  15.0    3730\n",
            "3735\n",
            "      mpg  weight\n",
            "248  19.4    3735\n",
            "3755\n",
            "      mpg  weight\n",
            "213  13.0    3755\n",
            "3761\n",
            "     mpg  weight\n",
            "12  15.0    3761\n",
            "3777\n",
            "     mpg  weight\n",
            "88  15.0    3777\n",
            "3781\n",
            "      mpg  weight\n",
            "131  16.0    3781\n",
            "3785\n",
            "      mpg  weight\n",
            "161  18.0    3785\n",
            "3820\n",
            "      mpg  weight\n",
            "209  16.5    3820\n",
            "3821\n",
            "     mpg  weight\n",
            "95  13.0    3821\n",
            "3830\n",
            "      mpg  weight\n",
            "286  18.2    3830\n",
            "3840\n",
            "      mpg  weight\n",
            "283  17.0    3840\n",
            "3850\n",
            "    mpg  weight\n",
            "9  15.0    3850\n",
            "3870\n",
            "      mpg  weight\n",
            "212  13.0    3870\n",
            "3880\n",
            "      mpg  weight\n",
            "219  17.5    3880\n",
            "3892\n",
            "     mpg  weight\n",
            "71  15.0    3892\n",
            "3897\n",
            "      mpg  weight\n",
            "159  16.0    3897\n",
            "3900\n",
            "      mpg  weight\n",
            "296  23.0    3900\n",
            "3907\n",
            "      mpg  weight\n",
            "158  17.0    3907\n",
            "3940\n",
            "      mpg  weight\n",
            "206  13.0    3940\n",
            "290  18.5    3940\n",
            "3955\n",
            "      mpg  weight\n",
            "285  16.5    3955\n",
            "3962\n",
            "      mpg  weight\n",
            "187  15.5    3962\n",
            "3988\n",
            "     mpg  weight\n",
            "86  13.0    3988\n",
            "4042\n",
            "     mpg  weight\n",
            "87  14.0    4042\n",
            "4054\n",
            "      mpg  weight\n",
            "288  15.5    4054\n",
            "4055\n",
            "      mpg  weight\n",
            "211  13.0    4055\n",
            "4060\n",
            "      mpg  weight\n",
            "220  17.0    4060\n",
            "4077\n",
            "     mpg  weight\n",
            "74  14.0    4077\n",
            "4080\n",
            "      mpg  weight\n",
            "263  17.5    4080\n",
            "4082\n",
            "      mpg  weight\n",
            "114  15.0    4082\n",
            "4096\n",
            "     mpg  weight\n",
            "40  14.0    4096\n",
            "4098\n",
            "     mpg  weight\n",
            "72  13.0    4098\n",
            "4100\n",
            "     mpg  weight\n",
            "84  13.0    4100\n",
            "4129\n",
            "     mpg  weight\n",
            "64  14.0    4129\n",
            "4135\n",
            "     mpg  weight\n",
            "63  15.0    4135\n",
            "4140\n",
            "      mpg  weight\n",
            "221  15.5    4140\n",
            "4141\n",
            "      mpg  weight\n",
            "134  16.0    4141\n",
            "4154\n",
            "     mpg  weight\n",
            "39  14.0    4154\n",
            "4165\n",
            "      mpg  weight\n",
            "228  15.5    4165\n",
            "4190\n",
            "      mpg  weight\n",
            "186  16.0    4190\n",
            "4209\n",
            "     mpg  weight\n",
            "37  14.0    4209\n",
            "4215\n",
            "      mpg  weight\n",
            "185  17.5    4215\n",
            "188  14.5    4215\n",
            "4220\n",
            "      mpg  weight\n",
            "227  16.0    4220\n",
            "4237\n",
            "     mpg  weight\n",
            "92  14.0    4237\n",
            "4257\n",
            "      mpg  weight\n",
            "138  14.0    4257\n",
            "4274\n",
            "     mpg  weight\n",
            "61  13.0    4274\n",
            "4278\n",
            "      mpg  weight\n",
            "115  16.0    4278\n",
            "4294\n",
            "     mpg  weight\n",
            "73  13.0    4294\n",
            "4295\n",
            "      mpg  weight\n",
            "222  15.0    4295\n",
            "4312\n",
            "    mpg  weight\n",
            "7  14.0    4312\n",
            "4325\n",
            "      mpg  weight\n",
            "229  15.5    4325\n",
            "4335\n",
            "      mpg  weight\n",
            "230  16.0    4335\n",
            "4341\n",
            "    mpg  weight\n",
            "5  15.0    4341\n",
            "4354\n",
            "    mpg  weight\n",
            "6  14.0    4354\n",
            "4360\n",
            "      mpg  weight\n",
            "287  16.9    4360\n",
            "4363\n",
            "     mpg  weight\n",
            "91  13.0    4363\n",
            "4376\n",
            "     mpg  weight\n",
            "26  10.0    4376\n",
            "4380\n",
            "      mpg  weight\n",
            "210  16.5    4380\n",
            "4382\n",
            "     mpg  weight\n",
            "27  11.0    4382\n",
            "4385\n",
            "     mpg  weight\n",
            "62  14.0    4385\n",
            "4422\n",
            "     mpg  weight\n",
            "69  13.0    4422\n",
            "4425\n",
            "    mpg  weight\n",
            "8  14.0    4425\n",
            "4440\n",
            "      mpg  weight\n",
            "155  15.0    4440\n",
            "4456\n",
            "     mpg  weight\n",
            "68  12.0    4456\n",
            "4457\n",
            "      mpg  weight\n",
            "136  14.0    4457\n",
            "4464\n",
            "     mpg  weight\n",
            "38  14.0    4464\n",
            "90  13.0    4464\n",
            "4498\n",
            "      mpg  weight\n",
            "156  16.0    4498\n",
            "4499\n",
            "      mpg  weight\n",
            "105  12.0    4499\n",
            "4502\n",
            "     mpg  weight\n",
            "67  13.0    4502\n",
            "4615\n",
            "     mpg  weight\n",
            "25  10.0    4615\n",
            "4633\n",
            "     mpg  weight\n",
            "66  11.0    4633\n",
            "4638\n",
            "      mpg  weight\n",
            "137  14.0    4638\n",
            "4654\n",
            "      mpg  weight\n",
            "104  13.0    4654\n",
            "4657\n",
            "      mpg  weight\n",
            "157  14.0    4657\n",
            "4668\n",
            "      mpg  weight\n",
            "154  16.0    4668\n",
            "4699\n",
            "      mpg  weight\n",
            "135  13.0    4699\n",
            "4732\n",
            "    mpg  weight\n",
            "28  9.0    4732\n",
            "4735\n",
            "     mpg  weight\n",
            "93  13.0    4735\n",
            "4746\n",
            "     mpg  weight\n",
            "42  13.0    4746\n",
            "4906\n",
            "      mpg  weight\n",
            "103  12.0    4906\n",
            "4951\n",
            "     mpg  weight\n",
            "94  12.0    4951\n",
            "4952\n",
            "     mpg  weight\n",
            "89  12.0    4952\n",
            "4955\n",
            "     mpg  weight\n",
            "41  12.0    4955\n",
            "4997\n",
            "      mpg  weight\n",
            "102  11.0    4997\n",
            "5140\n",
            "     mpg  weight\n",
            "43  13.0    5140\n"
          ],
          "name": "stdout"
        }
      ]
    },
    {
      "cell_type": "code",
      "metadata": {
        "id": "z2ZcalVhghu-",
        "colab_type": "code",
        "colab": {
          "base_uri": "https://localhost:8080/",
          "height": 477
        },
        "outputId": "3f479276-3084-425c-c64c-dd7c459d3b5e"
      },
      "source": [
        "df.groupby('weight').describe()"
      ],
      "execution_count": 21,
      "outputs": [
        {
          "output_type": "execute_result",
          "data": {
            "text/html": [
              "<div>\n",
              "<style scoped>\n",
              "    .dataframe tbody tr th:only-of-type {\n",
              "        vertical-align: middle;\n",
              "    }\n",
              "\n",
              "    .dataframe tbody tr th {\n",
              "        vertical-align: top;\n",
              "    }\n",
              "\n",
              "    .dataframe thead tr th {\n",
              "        text-align: left;\n",
              "    }\n",
              "\n",
              "    .dataframe thead tr:last-of-type th {\n",
              "        text-align: right;\n",
              "    }\n",
              "</style>\n",
              "<table border=\"1\" class=\"dataframe\">\n",
              "  <thead>\n",
              "    <tr>\n",
              "      <th></th>\n",
              "      <th colspan=\"8\" halign=\"left\">mpg</th>\n",
              "    </tr>\n",
              "    <tr>\n",
              "      <th></th>\n",
              "      <th>count</th>\n",
              "      <th>mean</th>\n",
              "      <th>std</th>\n",
              "      <th>min</th>\n",
              "      <th>25%</th>\n",
              "      <th>50%</th>\n",
              "      <th>75%</th>\n",
              "      <th>max</th>\n",
              "    </tr>\n",
              "    <tr>\n",
              "      <th>weight</th>\n",
              "      <th></th>\n",
              "      <th></th>\n",
              "      <th></th>\n",
              "      <th></th>\n",
              "      <th></th>\n",
              "      <th></th>\n",
              "      <th></th>\n",
              "      <th></th>\n",
              "    </tr>\n",
              "  </thead>\n",
              "  <tbody>\n",
              "    <tr>\n",
              "      <th>1613</th>\n",
              "      <td>1.0</td>\n",
              "      <td>35.0</td>\n",
              "      <td>NaN</td>\n",
              "      <td>35.0</td>\n",
              "      <td>35.0</td>\n",
              "      <td>35.0</td>\n",
              "      <td>35.0</td>\n",
              "      <td>35.0</td>\n",
              "    </tr>\n",
              "    <tr>\n",
              "      <th>1649</th>\n",
              "      <td>1.0</td>\n",
              "      <td>31.0</td>\n",
              "      <td>NaN</td>\n",
              "      <td>31.0</td>\n",
              "      <td>31.0</td>\n",
              "      <td>31.0</td>\n",
              "      <td>31.0</td>\n",
              "      <td>31.0</td>\n",
              "    </tr>\n",
              "    <tr>\n",
              "      <th>1773</th>\n",
              "      <td>1.0</td>\n",
              "      <td>31.0</td>\n",
              "      <td>NaN</td>\n",
              "      <td>31.0</td>\n",
              "      <td>31.0</td>\n",
              "      <td>31.0</td>\n",
              "      <td>31.0</td>\n",
              "      <td>31.0</td>\n",
              "    </tr>\n",
              "    <tr>\n",
              "      <th>1795</th>\n",
              "      <td>2.0</td>\n",
              "      <td>33.0</td>\n",
              "      <td>0.0</td>\n",
              "      <td>33.0</td>\n",
              "      <td>33.0</td>\n",
              "      <td>33.0</td>\n",
              "      <td>33.0</td>\n",
              "      <td>33.0</td>\n",
              "    </tr>\n",
              "    <tr>\n",
              "      <th>1800</th>\n",
              "      <td>2.0</td>\n",
              "      <td>36.1</td>\n",
              "      <td>0.0</td>\n",
              "      <td>36.1</td>\n",
              "      <td>36.1</td>\n",
              "      <td>36.1</td>\n",
              "      <td>36.1</td>\n",
              "      <td>36.1</td>\n",
              "    </tr>\n",
              "    <tr>\n",
              "      <th>...</th>\n",
              "      <td>...</td>\n",
              "      <td>...</td>\n",
              "      <td>...</td>\n",
              "      <td>...</td>\n",
              "      <td>...</td>\n",
              "      <td>...</td>\n",
              "      <td>...</td>\n",
              "      <td>...</td>\n",
              "    </tr>\n",
              "    <tr>\n",
              "      <th>4951</th>\n",
              "      <td>1.0</td>\n",
              "      <td>12.0</td>\n",
              "      <td>NaN</td>\n",
              "      <td>12.0</td>\n",
              "      <td>12.0</td>\n",
              "      <td>12.0</td>\n",
              "      <td>12.0</td>\n",
              "      <td>12.0</td>\n",
              "    </tr>\n",
              "    <tr>\n",
              "      <th>4952</th>\n",
              "      <td>1.0</td>\n",
              "      <td>12.0</td>\n",
              "      <td>NaN</td>\n",
              "      <td>12.0</td>\n",
              "      <td>12.0</td>\n",
              "      <td>12.0</td>\n",
              "      <td>12.0</td>\n",
              "      <td>12.0</td>\n",
              "    </tr>\n",
              "    <tr>\n",
              "      <th>4955</th>\n",
              "      <td>1.0</td>\n",
              "      <td>12.0</td>\n",
              "      <td>NaN</td>\n",
              "      <td>12.0</td>\n",
              "      <td>12.0</td>\n",
              "      <td>12.0</td>\n",
              "      <td>12.0</td>\n",
              "      <td>12.0</td>\n",
              "    </tr>\n",
              "    <tr>\n",
              "      <th>4997</th>\n",
              "      <td>1.0</td>\n",
              "      <td>11.0</td>\n",
              "      <td>NaN</td>\n",
              "      <td>11.0</td>\n",
              "      <td>11.0</td>\n",
              "      <td>11.0</td>\n",
              "      <td>11.0</td>\n",
              "      <td>11.0</td>\n",
              "    </tr>\n",
              "    <tr>\n",
              "      <th>5140</th>\n",
              "      <td>1.0</td>\n",
              "      <td>13.0</td>\n",
              "      <td>NaN</td>\n",
              "      <td>13.0</td>\n",
              "      <td>13.0</td>\n",
              "      <td>13.0</td>\n",
              "      <td>13.0</td>\n",
              "      <td>13.0</td>\n",
              "    </tr>\n",
              "  </tbody>\n",
              "</table>\n",
              "<p>275 rows × 8 columns</p>\n",
              "</div>"
            ],
            "text/plain": [
              "         mpg                                         \n",
              "       count  mean  std   min   25%   50%   75%   max\n",
              "weight                                               \n",
              "1613     1.0  35.0  NaN  35.0  35.0  35.0  35.0  35.0\n",
              "1649     1.0  31.0  NaN  31.0  31.0  31.0  31.0  31.0\n",
              "1773     1.0  31.0  NaN  31.0  31.0  31.0  31.0  31.0\n",
              "1795     2.0  33.0  0.0  33.0  33.0  33.0  33.0  33.0\n",
              "1800     2.0  36.1  0.0  36.1  36.1  36.1  36.1  36.1\n",
              "...      ...   ...  ...   ...   ...   ...   ...   ...\n",
              "4951     1.0  12.0  NaN  12.0  12.0  12.0  12.0  12.0\n",
              "4952     1.0  12.0  NaN  12.0  12.0  12.0  12.0  12.0\n",
              "4955     1.0  12.0  NaN  12.0  12.0  12.0  12.0  12.0\n",
              "4997     1.0  11.0  NaN  11.0  11.0  11.0  11.0  11.0\n",
              "5140     1.0  13.0  NaN  13.0  13.0  13.0  13.0  13.0\n",
              "\n",
              "[275 rows x 8 columns]"
            ]
          },
          "metadata": {
            "tags": []
          },
          "execution_count": 21
        }
      ]
    },
    {
      "cell_type": "code",
      "metadata": {
        "id": "caVA7mevhqV0",
        "colab_type": "code",
        "colab": {
          "base_uri": "https://localhost:8080/",
          "height": 387
        },
        "outputId": "0dad5638-d346-4527-b728-60af030e93f0"
      },
      "source": [
        "import matplotlib.pyplot as plt\n",
        "import seaborn as sns\n",
        "sns.set()\n",
        "ax = sns.pairplot(df, diag_kind='hist')"
      ],
      "execution_count": 23,
      "outputs": [
        {
          "output_type": "display_data",
          "data": {
            "image/png": "[encoded data removed]",
            "text/plain": [
              "<Figure size 360x360 with 6 Axes>"
            ]
          },
          "metadata": {
            "tags": []
          }
        }
      ]
    },
    {
      "cell_type": "markdown",
      "metadata": {
        "id": "g9PrFbnNKnva",
        "colab_type": "text"
      },
      "source": [
        "# Debugging"
      ]
    },
    {
      "cell_type": "code",
      "metadata": {
        "id": "Q6Fgkc7FiwKT",
        "colab_type": "code",
        "colab": {}
      },
      "source": [
        "def factorial(x):\n",
        "  if x == 0:\n",
        "    return 1\n",
        "  return x * factorial(x-1)"
      ],
      "execution_count": 0,
      "outputs": []
    },
    {
      "cell_type": "code",
      "metadata": {
        "id": "Wn0ibzkrK8oX",
        "colab_type": "code",
        "colab": {
          "base_uri": "https://localhost:8080/",
          "height": 35
        },
        "outputId": "6c5420cc-2464-43e4-9764-cb72e3bce68c"
      },
      "source": [
        "factorial(4)"
      ],
      "execution_count": 25,
      "outputs": [
        {
          "output_type": "execute_result",
          "data": {
            "text/plain": [
              "24"
            ]
          },
          "metadata": {
            "tags": []
          },
          "execution_count": 25
        }
      ]
    },
    {
      "cell_type": "code",
      "metadata": {
        "id": "Zg50tWzLK_Ud",
        "colab_type": "code",
        "colab": {}
      },
      "source": [
        "import random\n",
        "def code_to_debug():\n",
        "  #import pdb # python debugger\n",
        "  #pdb.set_trace()\n",
        "  for i in range(10):\n",
        "    x = random.random()\n",
        "    factorial(x)"
      ],
      "execution_count": 0,
      "outputs": []
    },
    {
      "cell_type": "code",
      "metadata": {
        "id": "ZQO7KeOwPk35",
        "colab_type": "code",
        "colab": {
          "base_uri": "https://localhost:8080/",
          "height": 35
        },
        "outputId": "59570ae9-539c-4442-9c73-451d9d54a859"
      },
      "source": [
        "%xmode Verbose"
      ],
      "execution_count": 47,
      "outputs": [
        {
          "output_type": "stream",
          "text": [
            "Exception reporting mode: Verbose\n"
          ],
          "name": "stdout"
        }
      ]
    },
    {
      "cell_type": "code",
      "metadata": {
        "id": "GccUPom5Lumk",
        "colab_type": "code",
        "colab": {
          "base_uri": "https://localhost:8080/",
          "height": 363
        },
        "outputId": "92f520c1-49a0-4fe5-a9ab-088a92e0fb49"
      },
      "source": [
        "code_to_debug()"
      ],
      "execution_count": 48,
      "outputs": [
        {
          "output_type": "error",
          "ename": "RecursionError",
          "evalue": "ignored",
          "traceback": [
            "\u001b[0;31m---------------------------------------------------------------------------\u001b[0m",
            "\u001b[0;31mRecursionError\u001b[0m                            Traceback (most recent call last)",
            "\u001b[0;32m<ipython-input-48-35361d661c6e>\u001b[0m in \u001b[0;36m<module>\u001b[0;34m()\u001b[0m\n\u001b[0;32m----> 1\u001b[0;31m \u001b[0mcode_to_debug\u001b[0m\u001b[0;34m(\u001b[0m\u001b[0;34m)\u001b[0m\u001b[0;34m\u001b[0m\u001b[0;34m\u001b[0m\u001b[0m\n\u001b[0m        \u001b[0;36mglobal\u001b[0m \u001b[0;36mcode_to_debug\u001b[0m \u001b[0;34m= <function code_to_debug at 0x7f62a25ff730>\u001b[0m\n",
            "\u001b[0;32m<ipython-input-46-f4ab7c88716b>\u001b[0m in \u001b[0;36mcode_to_debug\u001b[0;34m()\u001b[0m\n\u001b[1;32m      5\u001b[0m   \u001b[0;32mfor\u001b[0m \u001b[0mi\u001b[0m \u001b[0;32min\u001b[0m \u001b[0mrange\u001b[0m\u001b[0;34m(\u001b[0m\u001b[0;36m10\u001b[0m\u001b[0;34m)\u001b[0m\u001b[0;34m:\u001b[0m\u001b[0;34m\u001b[0m\u001b[0;34m\u001b[0m\u001b[0m\n\u001b[1;32m      6\u001b[0m     \u001b[0mx\u001b[0m \u001b[0;34m=\u001b[0m \u001b[0mrandom\u001b[0m\u001b[0;34m.\u001b[0m\u001b[0mrandom\u001b[0m\u001b[0;34m(\u001b[0m\u001b[0;34m)\u001b[0m\u001b[0;34m\u001b[0m\u001b[0;34m\u001b[0m\u001b[0m\n\u001b[0;32m----> 7\u001b[0;31m     \u001b[0mfactorial\u001b[0m\u001b[0;34m(\u001b[0m\u001b[0mx\u001b[0m\u001b[0;34m)\u001b[0m\u001b[0;34m\u001b[0m\u001b[0;34m\u001b[0m\u001b[0m\n\u001b[0m        \u001b[0;36mglobal\u001b[0m \u001b[0;36mfactorial\u001b[0m \u001b[0;34m= <function factorial at 0x7f62a25ffae8>\u001b[0m\u001b[0;34m\n        \u001b[0m\u001b[0;36mx\u001b[0m \u001b[0;34m= 0.6255032254513728\u001b[0m\n",
            "\u001b[0;32m<ipython-input-45-614d3ba4e89d>\u001b[0m in \u001b[0;36mfactorial\u001b[0;34m(x=0.6255032254513728)\u001b[0m\n\u001b[1;32m      2\u001b[0m   \u001b[0;32mif\u001b[0m \u001b[0mx\u001b[0m \u001b[0;34m==\u001b[0m \u001b[0;36m0\u001b[0m\u001b[0;34m:\u001b[0m\u001b[0;34m\u001b[0m\u001b[0;34m\u001b[0m\u001b[0m\n\u001b[1;32m      3\u001b[0m     \u001b[0;32mreturn\u001b[0m \u001b[0;36m1\u001b[0m\u001b[0;34m\u001b[0m\u001b[0;34m\u001b[0m\u001b[0m\n\u001b[0;32m----> 4\u001b[0;31m   \u001b[0;32mreturn\u001b[0m \u001b[0mx\u001b[0m \u001b[0;34m*\u001b[0m \u001b[0mfactorial\u001b[0m\u001b[0;34m(\u001b[0m\u001b[0mx\u001b[0m\u001b[0;34m-\u001b[0m\u001b[0;36m1\u001b[0m\u001b[0;34m)\u001b[0m\u001b[0;34m\u001b[0m\u001b[0;34m\u001b[0m\u001b[0m\n\u001b[0m        \u001b[0;36mx\u001b[0m \u001b[0;34m= 0.6255032254513728\u001b[0m\u001b[0;34m\n        \u001b[0m\u001b[0;36mglobal\u001b[0m \u001b[0;36mfactorial\u001b[0m \u001b[0;34m= <function factorial at 0x7f62a25ffae8>\u001b[0m\n",
            "... last 1 frames repeated, from the frame below ...\n",
            "\u001b[0;32m<ipython-input-45-614d3ba4e89d>\u001b[0m in \u001b[0;36mfactorial\u001b[0;34m(x=-0.3744967745486272)\u001b[0m\n\u001b[1;32m      2\u001b[0m   \u001b[0;32mif\u001b[0m \u001b[0mx\u001b[0m \u001b[0;34m==\u001b[0m \u001b[0;36m0\u001b[0m\u001b[0;34m:\u001b[0m\u001b[0;34m\u001b[0m\u001b[0;34m\u001b[0m\u001b[0m\n\u001b[1;32m      3\u001b[0m     \u001b[0;32mreturn\u001b[0m \u001b[0;36m1\u001b[0m\u001b[0;34m\u001b[0m\u001b[0;34m\u001b[0m\u001b[0m\n\u001b[0;32m----> 4\u001b[0;31m   \u001b[0;32mreturn\u001b[0m \u001b[0mx\u001b[0m \u001b[0;34m*\u001b[0m \u001b[0mfactorial\u001b[0m\u001b[0;34m(\u001b[0m\u001b[0mx\u001b[0m\u001b[0;34m-\u001b[0m\u001b[0;36m1\u001b[0m\u001b[0;34m)\u001b[0m\u001b[0;34m\u001b[0m\u001b[0;34m\u001b[0m\u001b[0m\n\u001b[0m        \u001b[0;36mx\u001b[0m \u001b[0;34m= -0.3744967745486272\u001b[0m\u001b[0;34m\n        \u001b[0m\u001b[0;36mglobal\u001b[0m \u001b[0;36mfactorial\u001b[0m \u001b[0;34m= <function factorial at 0x7f62a25ffae8>\u001b[0m\n",
            "\u001b[0;31mRecursionError\u001b[0m: maximum recursion depth exceeded in comparison"
          ]
        }
      ]
    },
    {
      "cell_type": "code",
      "metadata": {
        "id": "Te8PpAdbLwfR",
        "colab_type": "code",
        "colab": {}
      },
      "source": [
        "def factorial_debugged(x):\n",
        "  if not isinstance(x, int):\n",
        "    print('This method only supports integer values.')\n",
        "    return -1\n",
        "  if x == 0:\n",
        "    return 1\n",
        "  return x * factorial_debugged(x-1)"
      ],
      "execution_count": 0,
      "outputs": []
    },
    {
      "cell_type": "code",
      "metadata": {
        "id": "r20wR7ZzOwBE",
        "colab_type": "code",
        "colab": {}
      },
      "source": [
        "import random\n",
        "def code_to_debug():\n",
        "  import pdb # python debugger\n",
        "  pdb.set_trace()\n",
        "  for i in range(10):\n",
        "    x = random.random()\n",
        "    factorial_debugged(x)"
      ],
      "execution_count": 0,
      "outputs": []
    },
    {
      "cell_type": "code",
      "metadata": {
        "id": "HYacuj27PCgC",
        "colab_type": "code",
        "colab": {
          "base_uri": "https://localhost:8080/",
          "height": 243
        },
        "outputId": "0d265ac6-ca19-4817-e778-f97fd3ff9379"
      },
      "source": [
        "code_to_debug()"
      ],
      "execution_count": 36,
      "outputs": [
        {
          "output_type": "stream",
          "text": [
            "> <ipython-input-35-560bfaafe2fb>(5)code_to_debug()\n",
            "-> for i in range(10):\n",
            "(Pdb) c\n",
            "This method only supports integer values.\n",
            "This method only supports integer values.\n",
            "This method only supports integer values.\n",
            "This method only supports integer values.\n",
            "This method only supports integer values.\n",
            "This method only supports integer values.\n",
            "This method only supports integer values.\n",
            "This method only supports integer values.\n",
            "This method only supports integer values.\n",
            "This method only supports integer values.\n"
          ],
          "name": "stdout"
        }
      ]
    },
    {
      "cell_type": "markdown",
      "metadata": {
        "id": "zysgkHeueoyJ",
        "colab_type": "text"
      },
      "source": [
        "# Vectors"
      ]
    },
    {
      "cell_type": "code",
      "metadata": {
        "id": "QeQ5yeyvPFC3",
        "colab_type": "code",
        "colab": {
          "base_uri": "https://localhost:8080/",
          "height": 272
        },
        "outputId": "cdf1521a-0927-4e0f-98ee-3dd103ca4268"
      },
      "source": [
        "import numpy as np\n",
        "import matplotlib.pyplot as plt\n",
        "plt.quiver(0,0,3,4, scale = 1, scale_units='xy', angles='xy', color='r') # used to plot vector\n",
        "plt.quiver(0,0,-3,4, scale = 1, scale_units='xy', angles='xy', color='g')\n",
        "plt.xlim(-10,10)\n",
        "plt.ylim(-10,10)\n",
        "plt.show()"
      ],
      "execution_count": 53,
      "outputs": [
        {
          "output_type": "display_data",
          "data": {
            "image/png": "[encoded data removed]",
            "text/plain": [
              "<Figure size 432x288 with 1 Axes>"
            ]
          },
          "metadata": {
            "tags": []
          }
        }
      ]
    },
    {
      "cell_type": "code",
      "metadata": {
        "id": "pCtO-S6KfGcS",
        "colab_type": "code",
        "colab": {
          "base_uri": "https://localhost:8080/",
          "height": 272
        },
        "outputId": "8ece7bd9-ab41-4e2e-c96b-ec910bacf407"
      },
      "source": [
        "def plot_vectors(vecs):\n",
        "  colors = ['r','g','b','y']\n",
        "  i = 0\n",
        "  for vec in vecs:\n",
        "    plt.quiver(vec[0],vec[1],vec[2],vec[3], scale = 1, scale_units='xy', angles='xy', color=colors[i%len(colors)])\n",
        "    i+=1\n",
        "  plt.xlim(-10,10)\n",
        "  plt.ylim(-10,10)\n",
        "  plt.show()\n",
        "\n",
        "plot_vectors([np.asarray([0,0,3,4]), np.asarray([0,0,-3,4]), np.asarray([0,0,-3,-2]), np.asarray([0,0,4,-1])])"
      ],
      "execution_count": 59,
      "outputs": [
        {
          "output_type": "display_data",
          "data": {
            "image/png": "[encoded data removed]",
            "text/plain": [
              "<Figure size 432x288 with 1 Axes>"
            ]
          },
          "metadata": {
            "tags": []
          }
        }
      ]
    },
    {
      "cell_type": "code",
      "metadata": {
        "id": "bqQ_-R5Hhh-t",
        "colab_type": "code",
        "colab": {
          "base_uri": "https://localhost:8080/",
          "height": 35
        },
        "outputId": "2319b848-39b4-44b1-ed3c-b7f93befdf4e"
      },
      "source": [
        "vecs = [np.asarray([0,0,3,4]), np.asarray([0,0,-3,4]), np.asarray([0,0,-3,-2]), np.asarray([0,0,4,-1])]\n",
        "vecs[0]+vecs[1]"
      ],
      "execution_count": 60,
      "outputs": [
        {
          "output_type": "execute_result",
          "data": {
            "text/plain": [
              "array([0, 0, 0, 8])"
            ]
          },
          "metadata": {
            "tags": []
          },
          "execution_count": 60
        }
      ]
    },
    {
      "cell_type": "code",
      "metadata": {
        "id": "x05eUJmilArV",
        "colab_type": "code",
        "colab": {
          "base_uri": "https://localhost:8080/",
          "height": 272
        },
        "outputId": "8e3260e1-36f7-43a2-f5af-e25abf163409"
      },
      "source": [
        "plot_vectors([vecs[0], vecs[3], vecs[0]+vecs[3]])"
      ],
      "execution_count": 61,
      "outputs": [
        {
          "output_type": "display_data",
          "data": {
            "image/png": "[encoded data removed]",
            "text/plain": [
              "<Figure size 432x288 with 1 Axes>"
            ]
          },
          "metadata": {
            "tags": []
          }
        }
      ]
    },
    {
      "cell_type": "code",
      "metadata": {
        "id": "RDB4wV-_olR7",
        "colab_type": "code",
        "colab": {
          "base_uri": "https://localhost:8080/",
          "height": 272
        },
        "outputId": "f575e9bb-d7a1-40c8-da9e-1bd411227635"
      },
      "source": [
        "plot_vectors([vecs[0], vecs[3], vecs[0]-vecs[3]])"
      ],
      "execution_count": 62,
      "outputs": [
        {
          "output_type": "display_data",
          "data": {
            "image/png": "[encoded data removed]",
            "text/plain": [
              "<Figure size 432x288 with 1 Axes>"
            ]
          },
          "metadata": {
            "tags": []
          }
        }
      ]
    },
    {
      "cell_type": "markdown",
      "metadata": {
        "id": "BfvlxOS2qb_J",
        "colab_type": "text"
      },
      "source": [
        "$\\vec{a}\\cdot\\vec{b} = |\\vec{a}||\\vec{b}|cos(\\theta) = a_x b_x + a_y b_y$"
      ]
    },
    {
      "cell_type": "code",
      "metadata": {
        "id": "JuVqTzN8po_I",
        "colab_type": "code",
        "colab": {
          "base_uri": "https://localhost:8080/",
          "height": 35
        },
        "outputId": "b1e7ac07-788c-4c76-bd51-62f88814cd24"
      },
      "source": [
        "a = np.asarray([3,4])\n",
        "b = np.asarray([4,-1])\n",
        "a_dot_b = np.dot(a,b)\n",
        "print(a_dot_b)"
      ],
      "execution_count": 64,
      "outputs": [
        {
          "output_type": "stream",
          "text": [
            "8\n"
          ],
          "name": "stdout"
        }
      ]
    },
    {
      "cell_type": "markdown",
      "metadata": {
        "id": "crblmRaosx71",
        "colab_type": "text"
      },
      "source": [
        "$a_b = |\\vec{a}|cos(\\theta) = |\\vec{a}| \\frac{\\vec{a}\\cdot\\vec{b}}{|\\vec{a}||\\vec{b}|} = \\frac{\\vec{a}\\cdot\\vec{b}}{|\\vec{b}|}$"
      ]
    },
    {
      "cell_type": "code",
      "metadata": {
        "id": "BWwC8HWosqTI",
        "colab_type": "code",
        "colab": {
          "base_uri": "https://localhost:8080/",
          "height": 35
        },
        "outputId": "93048f28-eca1-4656-b710-d048665c45c9"
      },
      "source": [
        "a_b = np.dot(a, b) / np.linalg.norm(b)\n",
        "print(a_b)"
      ],
      "execution_count": 66,
      "outputs": [
        {
          "output_type": "stream",
          "text": [
            "1.9402850002906638\n"
          ],
          "name": "stdout"
        }
      ]
    },
    {
      "cell_type": "markdown",
      "metadata": {
        "id": "kug_p2bLu43V",
        "colab_type": "text"
      },
      "source": [
        "$\\vec{a_b} = a_b \\hat{b} = a_b \\frac{\\vec{b}}{|\\vec{b}|}$"
      ]
    },
    {
      "cell_type": "code",
      "metadata": {
        "id": "kKn2g-59unFH",
        "colab_type": "code",
        "colab": {
          "base_uri": "https://localhost:8080/",
          "height": 35
        },
        "outputId": "c24b7e81-d11c-430b-dbe1-3336fa45e831"
      },
      "source": [
        "vec_a_b = (a_b/np.linalg.norm(b))*b\n",
        "print(vec_a_b)"
      ],
      "execution_count": 67,
      "outputs": [
        {
          "output_type": "stream",
          "text": [
            "[ 1.88235294 -0.47058824]\n"
          ],
          "name": "stdout"
        }
      ]
    },
    {
      "cell_type": "code",
      "metadata": {
        "id": "e5aV90Z9vkXT",
        "colab_type": "code",
        "colab": {
          "base_uri": "https://localhost:8080/",
          "height": 272
        },
        "outputId": "1b45ac0e-481c-45e1-cb51-2f6617a31202"
      },
      "source": [
        "plot_vectors([np.asarray([0,0,3,4]), np.asarray([0,0,4,-1]), np.asarray([0,0,1.88235294 ,-0.47058824])])"
      ],
      "execution_count": 69,
      "outputs": [
        {
          "output_type": "display_data",
          "data": {
            "image/png": "[encoded data removed]",
            "text/plain": [
              "<Figure size 432x288 with 1 Axes>"
            ]
          },
          "metadata": {
            "tags": []
          }
        }
      ]
    },
    {
      "cell_type": "code",
      "metadata": {
        "id": "j9bRX148wNk9",
        "colab_type": "code",
        "colab": {}
      },
      "source": [
        ""
      ],
      "execution_count": 0,
      "outputs": []
    }
  ]
}
