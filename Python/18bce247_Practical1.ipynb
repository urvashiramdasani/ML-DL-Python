{
  "nbformat": 4,
  "nbformat_minor": 0,
  "metadata": {
    "colab": {
      "name": "18bce247_Practical1.ipynb",
      "provenance": [],
      "authorship_tag": "ABX9TyPllW1Hj1EKuoLCYIOYJokn",
      "include_colab_link": true
    },
    "kernelspec": {
      "name": "python3",
      "display_name": "Python 3"
    }
  },
  "cells": [
    {
      "cell_type": "markdown",
      "metadata": {
        "id": "view-in-github",
        "colab_type": "text"
      },
      "source": [
        "<a href=\"https://colab.research.google.com/github/urvashiramdasani/Python/blob/master/18bce247_Practical1.ipynb\" target=\"_parent\"><img src=\"https://colab.research.google.com/assets/colab-badge.svg\" alt=\"Open In Colab\"/></a>"
      ]
    },
    {
      "cell_type": "code",
      "metadata": {
        "id": "OwkF6ssa1vrw",
        "colab_type": "code",
        "colab": {
          "base_uri": "https://localhost:8080/",
          "height": 121
        },
        "outputId": "846ccf25-2c14-436f-8495-feb8678acce5"
      },
      "source": [
        "#This is a comment\n",
        "num1 = input('Enter first number: ')\n",
        "num2 = input('Enter second number: ')\n",
        "result = int(num1) + int(num2)\n",
        "#print('Addition is ',result) this is trivial way of printing statements\n",
        "print(\"Addition of {0} and {1} is {2}\".format(num1,num2,result))\n",
        "\n",
        "result = int(num1) - int(num2)\n",
        "print(\"Subtraction of {0} and {1} is {2}\".format(num1,num2,result))\n",
        "\n",
        "result = int(num1) * int(num2)\n",
        "print(\"Multiplication of {0} and {1} is {2}\".format(num1,num2,result))\n",
        "\n",
        "result = int(num1) / int(num2)\n",
        "print(\"Division of {0} and {1} is {2}\".format(num1,num2,result))\n"
      ],
      "execution_count": 1,
      "outputs": [
        {
          "output_type": "stream",
          "text": [
            "Enter first number: 1\n",
            "Enter second number: 2\n",
            "Addition of 1 and 2 is 3\n",
            "Subtraction of 1 and 2 is -1\n",
            "Multiplication of 1 and 2 is 2\n",
            "Division of 1 and 2 is 0.5\n"
          ],
          "name": "stdout"
        }
      ]
    },
    {
      "cell_type": "code",
      "metadata": {
        "id": "tJbExMDC1z-H",
        "colab_type": "code",
        "colab": {
          "base_uri": "https://localhost:8080/",
          "height": 87
        },
        "outputId": "c41956e2-be55-4d02-8f36-28e0f10a158b"
      },
      "source": [
        "#Practical 2.a Date 9 January 2020\n",
        "import math\n",
        "def areaTriangle():\n",
        "    s1 = int(input('Enter first side: '))\n",
        "    s2 = int(input('Enter second side: '))\n",
        "    s3 = int(input('Enter third side: '))\n",
        "    s = float((s1 + s2 +s3)/2)\n",
        "    area = math.sqrt(s*(s-s1)*(s-s2)*(s-s3))\n",
        "    print(\"Area of triangle is {0}\".format(area))\n",
        "areaTriangle()\n"
      ],
      "execution_count": 2,
      "outputs": [
        {
          "output_type": "stream",
          "text": [
            "Enter first side: 3\n",
            "Enter second side: 4\n",
            "Enter third side: 5\n",
            "Area of triangle is 6.0\n"
          ],
          "name": "stdout"
        }
      ]
    },
    {
      "cell_type": "code",
      "metadata": {
        "id": "U3RHM3-016k2",
        "colab_type": "code",
        "colab": {
          "base_uri": "https://localhost:8080/",
          "height": 69
        },
        "outputId": "bb0a1e71-2ab7-4091-b0fb-2c8daa1d4f09"
      },
      "source": [
        "#Practical 1.c Date 9 January 2020\n",
        "def iscoprime():\n",
        "    flag = 0\n",
        "    num1 = int(input('Enter first number: '))\n",
        "    num2 = int(input('Enter second number: '))\n",
        "    if num1>num2:\n",
        "        small = num2\n",
        "    else:\n",
        "        small = num1\n",
        "    small = int(small/2)\n",
        "    for x in range(2,small):\n",
        "        if num1%x==0 and num2%x==0:\n",
        "            flag = 1\n",
        "    if flag==0:\n",
        "        return False\n",
        "    else:\n",
        "        return True\n",
        "print(iscoprime())\n"
      ],
      "execution_count": 3,
      "outputs": [
        {
          "output_type": "stream",
          "text": [
            "Enter first number: 3\n",
            "Enter second number: 5\n",
            "False\n"
          ],
          "name": "stdout"
        }
      ]
    },
    {
      "cell_type": "code",
      "metadata": {
        "id": "6IscN4Ub2DK-",
        "colab_type": "code",
        "colab": {
          "base_uri": "https://localhost:8080/",
          "height": 52
        },
        "outputId": "5c16f875-bbcc-4164-849e-691e58aa9b81"
      },
      "source": [
        "#Modify string\n",
        "def modify():\n",
        "    str = input('Enter a string: ')\n",
        "    l1 = list(str)\n",
        "    l1.reverse()\n",
        "    for i in range(0,len(l1)-1):\n",
        "        if l1[i] == l1[i+1]:\n",
        "            l1[i] = '*'\n",
        "    l1.reverse()\n",
        "    str = ''.join(l1)\n",
        "    print(str)\n",
        "modify()\n"
      ],
      "execution_count": 4,
      "outputs": [
        {
          "output_type": "stream",
          "text": [
            "Enter a string: ballloooonnnn\n",
            "bal**o***n***\n"
          ],
          "name": "stdout"
        }
      ]
    },
    {
      "cell_type": "code",
      "metadata": {
        "id": "3fRY5j6T2LGQ",
        "colab_type": "code",
        "colab": {
          "base_uri": "https://localhost:8080/",
          "height": 87
        },
        "outputId": "05c4ca45-c595-4b32-e97d-fa23be2dd5d6"
      },
      "source": [
        "#use dictionary\n",
        "def numTostring():\n",
        "    values = {1:'One',2:'Two',3:'Three',4:'Four',5:'Five',6:'Six',7:'Seven',8:'Eight',9:'Nine',0:'Zero'}\n",
        "   # n = int(input('Enter the length: '))\n",
        "    num = int(input('Enter a number: '))\n",
        "    #l1 = list(num)\n",
        "    #l1\n",
        "    list1 = []\n",
        "    while num>0:\n",
        "        d = num%10\n",
        "        num = int(num/10)\n",
        "        list1.append(values[d])\n",
        "   # list1.sort()\n",
        "    list1.reverse()\n",
        "    for i in list1:\n",
        "        print(i)\n",
        "numTostring()\n"
      ],
      "execution_count": 7,
      "outputs": [
        {
          "output_type": "stream",
          "text": [
            "Enter a number: 245\n",
            "Two\n",
            "Four\n",
            "Five\n"
          ],
          "name": "stdout"
        }
      ]
    },
    {
      "cell_type": "code",
      "metadata": {
        "id": "OPYrLErO2RkK",
        "colab_type": "code",
        "colab": {
          "base_uri": "https://localhost:8080/",
          "height": 52
        },
        "outputId": "acf3699c-f996-46de-8bec-5dab55005d9e"
      },
      "source": [
        "x = int(input('Enter a number : '))\n",
        "i = x\n",
        "\n",
        "def func(x):\n",
        "    if(x==2*i):\n",
        "        return\n",
        "    else:\n",
        "        print(x,end='')\n",
        "        func(x+1)\n",
        "\n",
        "func(x)\n"
      ],
      "execution_count": 6,
      "outputs": [
        {
          "output_type": "stream",
          "text": [
            "Enter a number : 6\n",
            "67891011"
          ],
          "name": "stdout"
        }
      ]
    },
    {
      "cell_type": "code",
      "metadata": {
        "id": "tOSagA6k2YIw",
        "colab_type": "code",
        "colab": {}
      },
      "source": [
        ""
      ],
      "execution_count": 0,
      "outputs": []
    }
  ]
}
