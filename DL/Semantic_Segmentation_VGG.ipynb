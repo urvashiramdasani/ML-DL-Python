{
  "nbformat": 4,
  "nbformat_minor": 0,
  "metadata": {
    "colab": {
      "name": "Semantic-Segmentation-VGG.ipynb",
      "provenance": [],
      "collapsed_sections": [],
      "authorship_tag": "ABX9TyP4hY/K3FmZicmajNCMck5j",
      "include_colab_link": true
    },
    "kernelspec": {
      "name": "python3",
      "display_name": "Python 3"
    },
    "language_info": {
      "name": "python"
    },
    "accelerator": "GPU"
  },
  "cells": [
    {
      "cell_type": "markdown",
      "metadata": {
        "id": "view-in-github",
        "colab_type": "text"
      },
      "source": [
        "<a href=\"https://colab.research.google.com/github/urvashiramdasani/ML-DL-Python/blob/master/DL/Semantic_Segmentation_VGG.ipynb\" target=\"_parent\"><img src=\"https://colab.research.google.com/assets/colab-badge.svg\" alt=\"Open In Colab\"/></a>"
      ]
    },
    {
      "cell_type": "markdown",
      "metadata": {
        "id": "KXs6GYUujJuv"
      },
      "source": [
        "Name : Urvashi Ramdasani\n",
        "\n",
        "Roll Number : 18BCE247\n",
        "\n",
        "Aim : Semantic Segmentation using VGG16 Autoencoder"
      ]
    },
    {
      "cell_type": "code",
      "metadata": {
        "colab": {
          "base_uri": "https://localhost:8080/"
        },
        "id": "6NHXSbIzHAge",
        "outputId": "977c83d9-b1f2-48f7-b731-c711f1fa7ed6"
      },
      "source": [
        "!gdown --id 0B0d9ZiqAgFkiOHR1NTJhWVJMNEU"
      ],
      "execution_count": 1,
      "outputs": [
        {
          "output_type": "stream",
          "text": [
            "Downloading...\n",
            "From: https://drive.google.com/uc?id=0B0d9ZiqAgFkiOHR1NTJhWVJMNEU\n",
            "To: /content/dataset1.zip\n",
            "126MB [00:00, 154MB/s]\n"
          ],
          "name": "stdout"
        }
      ]
    },
    {
      "cell_type": "code",
      "metadata": {
        "id": "JW5BESVIsVE-"
      },
      "source": [
        "import zipfile\n",
        "with zipfile.ZipFile('/content/dataset1.zip', 'r') as zip_ref:\n",
        "    zip_ref.extractall('/content/')"
      ],
      "execution_count": 2,
      "outputs": []
    },
    {
      "cell_type": "code",
      "metadata": {
        "id": "KEnyj3FUHeV7"
      },
      "source": [
        "import numpy as np\n",
        "from tensorflow import keras\n",
        "from keras.applications.vgg16 import VGG16, preprocess_input\n",
        "from keras.models import Model\n",
        "from keras.layers import Conv2D, MaxPooling2D, BatchNormalization, concatenate, UpSampling2D, Lambda\n",
        "from keras.preprocessing.image import ImageDataGenerator"
      ],
      "execution_count": 3,
      "outputs": []
    },
    {
      "cell_type": "code",
      "metadata": {
        "id": "9NNa5t6eQ8WI"
      },
      "source": [
        "batch_size = 2\n",
        "epochs = 5\n",
        "classes = 12"
      ],
      "execution_count": 4,
      "outputs": []
    },
    {
      "cell_type": "code",
      "metadata": {
        "id": "68l3WonHRFdZ"
      },
      "source": [
        "def unet_with_vgg_encoder():\n",
        "  pretrained_model = VGG16(include_top = False, weights = 'imagenet', input_shape = (360, 480, 3))\n",
        "  pretrained_model.summary()\n",
        "\n",
        "  input_layer = pretrained_model.input\n",
        "  output_layer_pretrained = pretrained_model.layers[-6].output\n",
        "\n",
        "  encoder = Model(input_layer, output_layer_pretrained)\n",
        "  for i in encoder.layers:\n",
        "    i.trainable = False\n",
        "\n",
        "  encoder.summary()\n",
        "\n",
        "  lastPooling = MaxPooling2D(pool_size = (2, 2), padding = 'same')(output_layer_pretrained)\n",
        "  center = Conv2D(1024, (3, 3), activation = 'relu', padding = 'same')(lastPooling)\n",
        "  center = Conv2D(1024, (3, 3), activation = 'relu', padding = 'same')(center)\n",
        "  center = BatchNormalization()(center)\n",
        "\n",
        "  up4 = UpSampling2D((2, 2))(center)\n",
        "  up4 = Conv2D(512, (2, 2), activation = 'relu', padding = 'same')(up4)\n",
        "  up4 = Lambda(lambda x: x[:, 0:45, :, :])(up4)\n",
        "  up4 = concatenate([up4, encoder.get_layer('block4_conv3').output], axis = 3)\n",
        "  up4 = Conv2D(512, (3, 3), activation = 'relu', padding = 'same')(up4)\n",
        "  up4 = Conv2D(512, (3, 3), activation = 'relu', padding = 'same')(up4)\n",
        "  up4 = Conv2D(512, (3, 3), activation = 'relu', padding = 'same')(up4)\n",
        "  up4 = BatchNormalization()(up4)\n",
        "\n",
        "  up3 = UpSampling2D((2, 2))(up4)\n",
        "  up3 = Conv2D(256, (2, 2), activation = 'relu', padding = 'same')(up3)\n",
        "  up3 = concatenate([up3, encoder.get_layer('block3_conv3').output], axis = 3)\n",
        "  up3 = Conv2D(256, (3, 3), activation = 'relu', padding = 'same')(up3)\n",
        "  up3 = Conv2D(256, (3, 3), activation = 'relu', padding = 'same')(up3)\n",
        "  up3 = Conv2D(256, (3, 3), activation = 'relu', padding = 'same')(up3)\n",
        "  up3 = BatchNormalization()(up3)\n",
        "\n",
        "  up2 = UpSampling2D((2, 2))(up3)\n",
        "  up2 = Conv2D(128, (2, 2), activation = 'relu', padding = 'same')(up2)\n",
        "  up2 = concatenate([up2, encoder.get_layer('block2_conv2').output], axis = 3)\n",
        "  up2 = Conv2D(128, (3, 3), activation = 'relu', padding = 'same')(up2)\n",
        "  up2 = Conv2D(128, (3, 3), activation = 'relu', padding = 'same')(up2)\n",
        "  up2 = BatchNormalization()(up2)\n",
        "\n",
        "  up1 = UpSampling2D((2, 2))(up2)\n",
        "  up1 = Conv2D(64, (2, 2), activation = 'relu', padding = 'same')(up1)\n",
        "  up1 = concatenate([up1, encoder.get_layer('block1_conv2').output], axis = 3)\n",
        "  up1 = Conv2D(64, (3, 3), activation = 'relu', padding = 'same')(up1)\n",
        "  up1 = Conv2D(64, (3, 3), activation = 'relu', padding = 'same')(up1)\n",
        "  up1 = Conv2D(classes, (1, 1), activation = 'softmax', padding = 'same')(up1)\n",
        "\n",
        "  model = Model(input_layer, up1)\n",
        "  model.summary()\n",
        "  return model"
      ],
      "execution_count": 5,
      "outputs": []
    },
    {
      "cell_type": "code",
      "metadata": {
        "id": "8sVKJGAArdxp"
      },
      "source": [
        "def traingenerator():\n",
        "  image_datagen = ImageDataGenerator(rescale = 1 / 255)\n",
        "  mask_datagen = ImageDataGenerator()\n",
        "\n",
        "  image_batch_generator = image_datagen.flow_from_directory(\n",
        "      directory = '/content/dataset1/train', class_mode = None, target_size = (360, 480),\n",
        "      shuffle = False, seed = 2019, batch_size = batch_size, color_mode = 'rgb'\n",
        "  )\n",
        "\n",
        "  mask_batch_generator = mask_datagen.flow_from_directory(\n",
        "      directory = '/content/dataset1/annotations', class_mode = None, target_size = (360, 480),\n",
        "      shuffle = False, seed = 2019, batch_size = batch_size, color_mode = 'grayscale'\n",
        "  )\n",
        "\n",
        "  combined_generator = zip(image_batch_generator, mask_batch_generator)\n",
        "\n",
        "  for (i, j) in combined_generator:\n",
        "    new_mask = np.zeros(shape = (j.shape[0], j.shape[1], j.shape[2], classes))\n",
        "    for k in range(j.shape[0]):\n",
        "      mask = j[k]\n",
        "      for m in range(classes):\n",
        "        new_mask[k, :, :, m] = mask[:, :, 0] == m\n",
        "    yield(i, new_mask)"
      ],
      "execution_count": 6,
      "outputs": []
    },
    {
      "cell_type": "code",
      "metadata": {
        "id": "sBNmIgqAvlMF"
      },
      "source": [
        "def testgenerator():\n",
        "  image_test_datagen = ImageDataGenerator(rescale = 1 / 255)\n",
        "\n",
        "  image_test_generator = image_test_datagen.flow_from_directory(\n",
        "      directory = '/content/dataset1/test', class_mode = None, target_size = (360, 480),\n",
        "      shuffle = False, seed = 2019, batch_size = batch_size, color_mode = 'rgb'\n",
        "  )\n",
        "\n",
        "  for i in image_test_generator:\n",
        "    yield i"
      ],
      "execution_count": 7,
      "outputs": []
    },
    {
      "cell_type": "code",
      "metadata": {
        "colab": {
          "base_uri": "https://localhost:8080/"
        },
        "id": "heV1zaAPwVPH",
        "outputId": "e7b0adbc-4284-484b-a50f-c4e7cac57cb3"
      },
      "source": [
        "unet = unet_with_vgg_encoder()\n",
        "unet.compile(optimizer = keras.optimizers.Adam(lr = 1e-4), loss = 'categorical_crossentropy', metrics = ['accuracy'])"
      ],
      "execution_count": 8,
      "outputs": [
        {
          "output_type": "stream",
          "text": [
            "Downloading data from https://storage.googleapis.com/tensorflow/keras-applications/vgg16/vgg16_weights_tf_dim_ordering_tf_kernels_notop.h5\n",
            "58892288/58889256 [==============================] - 0s 0us/step\n",
            "Model: \"vgg16\"\n",
            "_________________________________________________________________\n",
            "Layer (type)                 Output Shape              Param #   \n",
            "=================================================================\n",
            "input_1 (InputLayer)         [(None, 360, 480, 3)]     0         \n",
            "_________________________________________________________________\n",
            "block1_conv1 (Conv2D)        (None, 360, 480, 64)      1792      \n",
            "_________________________________________________________________\n",
            "block1_conv2 (Conv2D)        (None, 360, 480, 64)      36928     \n",
            "_________________________________________________________________\n",
            "block1_pool (MaxPooling2D)   (None, 180, 240, 64)      0         \n",
            "_________________________________________________________________\n",
            "block2_conv1 (Conv2D)        (None, 180, 240, 128)     73856     \n",
            "_________________________________________________________________\n",
            "block2_conv2 (Conv2D)        (None, 180, 240, 128)     147584    \n",
            "_________________________________________________________________\n",
            "block2_pool (MaxPooling2D)   (None, 90, 120, 128)      0         \n",
            "_________________________________________________________________\n",
            "block3_conv1 (Conv2D)        (None, 90, 120, 256)      295168    \n",
            "_________________________________________________________________\n",
            "block3_conv2 (Conv2D)        (None, 90, 120, 256)      590080    \n",
            "_________________________________________________________________\n",
            "block3_conv3 (Conv2D)        (None, 90, 120, 256)      590080    \n",
            "_________________________________________________________________\n",
            "block3_pool (MaxPooling2D)   (None, 45, 60, 256)       0         \n",
            "_________________________________________________________________\n",
            "block4_conv1 (Conv2D)        (None, 45, 60, 512)       1180160   \n",
            "_________________________________________________________________\n",
            "block4_conv2 (Conv2D)        (None, 45, 60, 512)       2359808   \n",
            "_________________________________________________________________\n",
            "block4_conv3 (Conv2D)        (None, 45, 60, 512)       2359808   \n",
            "_________________________________________________________________\n",
            "block4_pool (MaxPooling2D)   (None, 22, 30, 512)       0         \n",
            "_________________________________________________________________\n",
            "block5_conv1 (Conv2D)        (None, 22, 30, 512)       2359808   \n",
            "_________________________________________________________________\n",
            "block5_conv2 (Conv2D)        (None, 22, 30, 512)       2359808   \n",
            "_________________________________________________________________\n",
            "block5_conv3 (Conv2D)        (None, 22, 30, 512)       2359808   \n",
            "_________________________________________________________________\n",
            "block5_pool (MaxPooling2D)   (None, 11, 15, 512)       0         \n",
            "=================================================================\n",
            "Total params: 14,714,688\n",
            "Trainable params: 14,714,688\n",
            "Non-trainable params: 0\n",
            "_________________________________________________________________\n",
            "Model: \"model\"\n",
            "_________________________________________________________________\n",
            "Layer (type)                 Output Shape              Param #   \n",
            "=================================================================\n",
            "input_1 (InputLayer)         [(None, 360, 480, 3)]     0         \n",
            "_________________________________________________________________\n",
            "block1_conv1 (Conv2D)        (None, 360, 480, 64)      1792      \n",
            "_________________________________________________________________\n",
            "block1_conv2 (Conv2D)        (None, 360, 480, 64)      36928     \n",
            "_________________________________________________________________\n",
            "block1_pool (MaxPooling2D)   (None, 180, 240, 64)      0         \n",
            "_________________________________________________________________\n",
            "block2_conv1 (Conv2D)        (None, 180, 240, 128)     73856     \n",
            "_________________________________________________________________\n",
            "block2_conv2 (Conv2D)        (None, 180, 240, 128)     147584    \n",
            "_________________________________________________________________\n",
            "block2_pool (MaxPooling2D)   (None, 90, 120, 128)      0         \n",
            "_________________________________________________________________\n",
            "block3_conv1 (Conv2D)        (None, 90, 120, 256)      295168    \n",
            "_________________________________________________________________\n",
            "block3_conv2 (Conv2D)        (None, 90, 120, 256)      590080    \n",
            "_________________________________________________________________\n",
            "block3_conv3 (Conv2D)        (None, 90, 120, 256)      590080    \n",
            "_________________________________________________________________\n",
            "block3_pool (MaxPooling2D)   (None, 45, 60, 256)       0         \n",
            "_________________________________________________________________\n",
            "block4_conv1 (Conv2D)        (None, 45, 60, 512)       1180160   \n",
            "_________________________________________________________________\n",
            "block4_conv2 (Conv2D)        (None, 45, 60, 512)       2359808   \n",
            "_________________________________________________________________\n",
            "block4_conv3 (Conv2D)        (None, 45, 60, 512)       2359808   \n",
            "=================================================================\n",
            "Total params: 7,635,264\n",
            "Trainable params: 0\n",
            "Non-trainable params: 7,635,264\n",
            "_________________________________________________________________\n",
            "Model: \"model_1\"\n",
            "__________________________________________________________________________________________________\n",
            "Layer (type)                    Output Shape         Param #     Connected to                     \n",
            "==================================================================================================\n",
            "input_1 (InputLayer)            [(None, 360, 480, 3) 0                                            \n",
            "__________________________________________________________________________________________________\n",
            "block1_conv1 (Conv2D)           (None, 360, 480, 64) 1792        input_1[0][0]                    \n",
            "__________________________________________________________________________________________________\n",
            "block1_conv2 (Conv2D)           (None, 360, 480, 64) 36928       block1_conv1[0][0]               \n",
            "__________________________________________________________________________________________________\n",
            "block1_pool (MaxPooling2D)      (None, 180, 240, 64) 0           block1_conv2[0][0]               \n",
            "__________________________________________________________________________________________________\n",
            "block2_conv1 (Conv2D)           (None, 180, 240, 128 73856       block1_pool[0][0]                \n",
            "__________________________________________________________________________________________________\n",
            "block2_conv2 (Conv2D)           (None, 180, 240, 128 147584      block2_conv1[0][0]               \n",
            "__________________________________________________________________________________________________\n",
            "block2_pool (MaxPooling2D)      (None, 90, 120, 128) 0           block2_conv2[0][0]               \n",
            "__________________________________________________________________________________________________\n",
            "block3_conv1 (Conv2D)           (None, 90, 120, 256) 295168      block2_pool[0][0]                \n",
            "__________________________________________________________________________________________________\n",
            "block3_conv2 (Conv2D)           (None, 90, 120, 256) 590080      block3_conv1[0][0]               \n",
            "__________________________________________________________________________________________________\n",
            "block3_conv3 (Conv2D)           (None, 90, 120, 256) 590080      block3_conv2[0][0]               \n",
            "__________________________________________________________________________________________________\n",
            "block3_pool (MaxPooling2D)      (None, 45, 60, 256)  0           block3_conv3[0][0]               \n",
            "__________________________________________________________________________________________________\n",
            "block4_conv1 (Conv2D)           (None, 45, 60, 512)  1180160     block3_pool[0][0]                \n",
            "__________________________________________________________________________________________________\n",
            "block4_conv2 (Conv2D)           (None, 45, 60, 512)  2359808     block4_conv1[0][0]               \n",
            "__________________________________________________________________________________________________\n",
            "block4_conv3 (Conv2D)           (None, 45, 60, 512)  2359808     block4_conv2[0][0]               \n",
            "__________________________________________________________________________________________________\n",
            "max_pooling2d (MaxPooling2D)    (None, 23, 30, 512)  0           block4_conv3[0][0]               \n",
            "__________________________________________________________________________________________________\n",
            "conv2d (Conv2D)                 (None, 23, 30, 1024) 4719616     max_pooling2d[0][0]              \n",
            "__________________________________________________________________________________________________\n",
            "conv2d_1 (Conv2D)               (None, 23, 30, 1024) 9438208     conv2d[0][0]                     \n",
            "__________________________________________________________________________________________________\n",
            "batch_normalization (BatchNorma (None, 23, 30, 1024) 4096        conv2d_1[0][0]                   \n",
            "__________________________________________________________________________________________________\n",
            "up_sampling2d (UpSampling2D)    (None, 46, 60, 1024) 0           batch_normalization[0][0]        \n",
            "__________________________________________________________________________________________________\n",
            "conv2d_2 (Conv2D)               (None, 46, 60, 512)  2097664     up_sampling2d[0][0]              \n",
            "__________________________________________________________________________________________________\n",
            "lambda (Lambda)                 (None, 45, 60, 512)  0           conv2d_2[0][0]                   \n",
            "__________________________________________________________________________________________________\n",
            "concatenate (Concatenate)       (None, 45, 60, 1024) 0           lambda[0][0]                     \n",
            "                                                                 block4_conv3[0][0]               \n",
            "__________________________________________________________________________________________________\n",
            "conv2d_3 (Conv2D)               (None, 45, 60, 512)  4719104     concatenate[0][0]                \n",
            "__________________________________________________________________________________________________\n",
            "conv2d_4 (Conv2D)               (None, 45, 60, 512)  2359808     conv2d_3[0][0]                   \n",
            "__________________________________________________________________________________________________\n",
            "conv2d_5 (Conv2D)               (None, 45, 60, 512)  2359808     conv2d_4[0][0]                   \n",
            "__________________________________________________________________________________________________\n",
            "batch_normalization_1 (BatchNor (None, 45, 60, 512)  2048        conv2d_5[0][0]                   \n",
            "__________________________________________________________________________________________________\n",
            "up_sampling2d_1 (UpSampling2D)  (None, 90, 120, 512) 0           batch_normalization_1[0][0]      \n",
            "__________________________________________________________________________________________________\n",
            "conv2d_6 (Conv2D)               (None, 90, 120, 256) 524544      up_sampling2d_1[0][0]            \n",
            "__________________________________________________________________________________________________\n",
            "concatenate_1 (Concatenate)     (None, 90, 120, 512) 0           conv2d_6[0][0]                   \n",
            "                                                                 block3_conv3[0][0]               \n",
            "__________________________________________________________________________________________________\n",
            "conv2d_7 (Conv2D)               (None, 90, 120, 256) 1179904     concatenate_1[0][0]              \n",
            "__________________________________________________________________________________________________\n",
            "conv2d_8 (Conv2D)               (None, 90, 120, 256) 590080      conv2d_7[0][0]                   \n",
            "__________________________________________________________________________________________________\n",
            "conv2d_9 (Conv2D)               (None, 90, 120, 256) 590080      conv2d_8[0][0]                   \n",
            "__________________________________________________________________________________________________\n",
            "batch_normalization_2 (BatchNor (None, 90, 120, 256) 1024        conv2d_9[0][0]                   \n",
            "__________________________________________________________________________________________________\n",
            "up_sampling2d_2 (UpSampling2D)  (None, 180, 240, 256 0           batch_normalization_2[0][0]      \n",
            "__________________________________________________________________________________________________\n",
            "conv2d_10 (Conv2D)              (None, 180, 240, 128 131200      up_sampling2d_2[0][0]            \n",
            "__________________________________________________________________________________________________\n",
            "concatenate_2 (Concatenate)     (None, 180, 240, 256 0           conv2d_10[0][0]                  \n",
            "                                                                 block2_conv2[0][0]               \n",
            "__________________________________________________________________________________________________\n",
            "conv2d_11 (Conv2D)              (None, 180, 240, 128 295040      concatenate_2[0][0]              \n",
            "__________________________________________________________________________________________________\n",
            "conv2d_12 (Conv2D)              (None, 180, 240, 128 147584      conv2d_11[0][0]                  \n",
            "__________________________________________________________________________________________________\n",
            "batch_normalization_3 (BatchNor (None, 180, 240, 128 512         conv2d_12[0][0]                  \n",
            "__________________________________________________________________________________________________\n",
            "up_sampling2d_3 (UpSampling2D)  (None, 360, 480, 128 0           batch_normalization_3[0][0]      \n",
            "__________________________________________________________________________________________________\n",
            "conv2d_13 (Conv2D)              (None, 360, 480, 64) 32832       up_sampling2d_3[0][0]            \n",
            "__________________________________________________________________________________________________\n",
            "concatenate_3 (Concatenate)     (None, 360, 480, 128 0           conv2d_13[0][0]                  \n",
            "                                                                 block1_conv2[0][0]               \n",
            "__________________________________________________________________________________________________\n",
            "conv2d_14 (Conv2D)              (None, 360, 480, 64) 73792       concatenate_3[0][0]              \n",
            "__________________________________________________________________________________________________\n",
            "conv2d_15 (Conv2D)              (None, 360, 480, 64) 36928       conv2d_14[0][0]                  \n",
            "__________________________________________________________________________________________________\n",
            "conv2d_16 (Conv2D)              (None, 360, 480, 12) 780         conv2d_15[0][0]                  \n",
            "==================================================================================================\n",
            "Total params: 36,939,916\n",
            "Trainable params: 29,300,812\n",
            "Non-trainable params: 7,639,104\n",
            "__________________________________________________________________________________________________\n"
          ],
          "name": "stdout"
        }
      ]
    },
    {
      "cell_type": "code",
      "metadata": {
        "colab": {
          "base_uri": "https://localhost:8080/"
        },
        "id": "Hjk1BwI_wja2",
        "outputId": "cb484098-95c8-46dd-ec4b-807803fb1996"
      },
      "source": [
        "unet.fit(traingenerator(), steps_per_epoch = 400, epochs = epochs)"
      ],
      "execution_count": 9,
      "outputs": [
        {
          "output_type": "stream",
          "text": [
            "Found 367 images belonging to 1 classes.\n",
            "Found 367 images belonging to 1 classes.\n",
            "Epoch 1/5\n",
            "400/400 [==============================] - 208s 413ms/step - loss: 1.1130 - accuracy: 0.6503\n",
            "Epoch 2/5\n",
            "400/400 [==============================] - 160s 400ms/step - loss: 0.7172 - accuracy: 0.7756\n",
            "Epoch 3/5\n",
            "400/400 [==============================] - 160s 401ms/step - loss: 0.5801 - accuracy: 0.8225\n",
            "Epoch 4/5\n",
            "400/400 [==============================] - 161s 402ms/step - loss: 0.4575 - accuracy: 0.8615\n",
            "Epoch 5/5\n",
            "400/400 [==============================] - 161s 402ms/step - loss: 0.4026 - accuracy: 0.8744\n"
          ],
          "name": "stdout"
        },
        {
          "output_type": "execute_result",
          "data": {
            "text/plain": [
              "<tensorflow.python.keras.callbacks.History at 0x7f83d61c7590>"
            ]
          },
          "metadata": {
            "tags": []
          },
          "execution_count": 9
        }
      ]
    },
    {
      "cell_type": "code",
      "metadata": {
        "id": "IaQ2Y_sXw_fp",
        "colab": {
          "base_uri": "https://localhost:8080/"
        },
        "outputId": "eba32a85-38f9-4c8a-d016-616c6e17a272"
      },
      "source": [
        "results = unet.predict(testgenerator(), steps = 51)"
      ],
      "execution_count": 10,
      "outputs": [
        {
          "output_type": "stream",
          "text": [
            "Found 101 images belonging to 1 classes.\n"
          ],
          "name": "stdout"
        }
      ]
    },
    {
      "cell_type": "code",
      "metadata": {
        "id": "PD98PSIHyOev",
        "colab": {
          "base_uri": "https://localhost:8080/",
          "height": 269
        },
        "outputId": "33b137f6-9275-45ec-91ae-2688470a312e"
      },
      "source": [
        "import matplotlib.pyplot as plt\n",
        "\n",
        "img1 = np.argmax(results[0, :, :, :], axis = 2)\n",
        "img1 = np.reshape(img1, (360, 480))\n",
        "plt.imshow(img1)\n",
        "plt.show()"
      ],
      "execution_count": 11,
      "outputs": [
        {
          "output_type": "display_data",
          "data": {
            "image/png": "[encoded data removed]",
            "text/plain": [
              "<Figure size 432x288 with 1 Axes>"
            ]
          },
          "metadata": {
            "tags": [],
            "needs_background": "light"
          }
        }
      ]
    },
    {
      "cell_type": "code",
      "metadata": {
        "id": "wPNQ-Q3oyxFH"
      },
      "source": [
        ""
      ],
      "execution_count": null,
      "outputs": []
    }
  ]
}