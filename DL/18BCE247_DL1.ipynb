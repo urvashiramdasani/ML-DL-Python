{
  "nbformat": 4,
  "nbformat_minor": 0,
  "metadata": {
    "colab": {
      "name": "18BCE247_DL1.ipynb",
      "provenance": [],
      "collapsed_sections": [],
      "authorship_tag": "ABX9TyNP5xOi7L4Xk617IoSYB3sj",
      "include_colab_link": true
    },
    "kernelspec": {
      "name": "python3",
      "display_name": "Python 3"
    }
  },
  "cells": [
    {
      "cell_type": "markdown",
      "metadata": {
        "id": "view-in-github",
        "colab_type": "text"
      },
      "source": [
        "<a href=\"https://colab.research.google.com/github/urvashiramdasani/ML-DL-Python/blob/master/DL/18BCE247_DL1.ipynb\" target=\"_parent\"><img src=\"https://colab.research.google.com/assets/colab-badge.svg\" alt=\"Open In Colab\"/></a>"
      ]
    },
    {
      "cell_type": "markdown",
      "metadata": {
        "id": "ytAX4K1fqshj"
      },
      "source": [
        "Name : Urvashi Ramdasani\r\n",
        "\r\n",
        "Division : EL3\r\n",
        "\r\n",
        "Aim : "
      ]
    },
    {
      "cell_type": "code",
      "metadata": {
        "id": "zTL0ew7Bqguh"
      },
      "source": [
        "# Load the libraries\r\n",
        "\r\n",
        "import pickle\r\n",
        "from sklearn.neural_network import MLPClassifier\r\n",
        "import numpy as np\r\n",
        "from sklearn import metrics\r\n",
        "import matplotlib.pyplot as plt"
      ],
      "execution_count": 23,
      "outputs": []
    },
    {
      "cell_type": "code",
      "metadata": {
        "colab": {
          "base_uri": "https://localhost:8080/"
        },
        "id": "MUNFCoH5yebq",
        "outputId": "76e3df96-6cc8-470f-da81-dfb826efc6ac"
      },
      "source": [
        "!pip install patool"
      ],
      "execution_count": 3,
      "outputs": [
        {
          "output_type": "stream",
          "text": [
            "Collecting patool\n",
            "\u001b[?25l  Downloading https://files.pythonhosted.org/packages/43/94/52243ddff508780dd2d8110964320ab4851134a55ab102285b46e740f76a/patool-1.12-py2.py3-none-any.whl (77kB)\n",
            "\r\u001b[K     |████▎                           | 10kB 21.6MB/s eta 0:00:01\r\u001b[K     |████████▌                       | 20kB 16.7MB/s eta 0:00:01\r\u001b[K     |████████████▊                   | 30kB 13.3MB/s eta 0:00:01\r\u001b[K     |█████████████████               | 40kB 12.6MB/s eta 0:00:01\r\u001b[K     |█████████████████████▏          | 51kB 8.1MB/s eta 0:00:01\r\u001b[K     |█████████████████████████▍      | 61kB 8.8MB/s eta 0:00:01\r\u001b[K     |█████████████████████████████▋  | 71kB 8.8MB/s eta 0:00:01\r\u001b[K     |████████████████████████████████| 81kB 5.1MB/s \n",
            "\u001b[?25hInstalling collected packages: patool\n",
            "Successfully installed patool-1.12\n"
          ],
          "name": "stdout"
        }
      ]
    },
    {
      "cell_type": "code",
      "metadata": {
        "colab": {
          "base_uri": "https://localhost:8080/",
          "height": 102
        },
        "id": "IcPC9zkuw1NT",
        "outputId": "bfd084f3-eaf6-4b1a-8ad8-2cffc3e0c123"
      },
      "source": [
        "import patoolib      # For extracting .pkl file \r\n",
        "\r\n",
        "patoolib.extract_archive(\"mnist.rar\", outdir=\"/content\")"
      ],
      "execution_count": 10,
      "outputs": [
        {
          "output_type": "stream",
          "text": [
            "patool: Extracting mnist.rar ...\n",
            "patool: running /usr/bin/unrar x -- /content/mnist.rar\n",
            "patool:     with cwd='/content'\n",
            "patool: ... mnist.rar extracted to `/content'.\n"
          ],
          "name": "stdout"
        },
        {
          "output_type": "execute_result",
          "data": {
            "application/vnd.google.colaboratory.intrinsic+json": {
              "type": "string"
            },
            "text/plain": [
              "'/content'"
            ]
          },
          "metadata": {
            "tags": []
          },
          "execution_count": 10
        }
      ]
    },
    {
      "cell_type": "code",
      "metadata": {
        "id": "mHJvqopssxed"
      },
      "source": [
        "# Load the data\r\n",
        "\r\n",
        "data = open('mnist.pkl', 'rb')\r\n",
        "train, validation, test = pickle.load(data, encoding = 'latin1')"
      ],
      "execution_count": 12,
      "outputs": []
    },
    {
      "cell_type": "code",
      "metadata": {
        "id": "3No40DXXtoRD"
      },
      "source": [
        "# Splitting input and output variables\r\n",
        "\r\n",
        "X_train = train[0]\r\n",
        "y_train = train[1]\r\n",
        "X_test = test[0]\r\n",
        "y_test = test[1]\r\n",
        "X_val = validation[0]\r\n",
        "y_val = validation[1]"
      ],
      "execution_count": 13,
      "outputs": []
    },
    {
      "cell_type": "code",
      "metadata": {
        "colab": {
          "base_uri": "https://localhost:8080/"
        },
        "id": "8KBoiliEufxD",
        "outputId": "92d8446e-3b97-4c6c-fcd1-41dfb306e62b"
      },
      "source": [
        "print(X_train.shape, y_train.shape, X_test.shape, y_test.shape, X_val.shape, y_val.shape)"
      ],
      "execution_count": 14,
      "outputs": [
        {
          "output_type": "stream",
          "text": [
            "(50000, 784) (50000,) (10000, 784) (10000,) (10000, 784) (10000,)\n"
          ],
          "name": "stdout"
        }
      ]
    },
    {
      "cell_type": "code",
      "metadata": {
        "colab": {
          "base_uri": "https://localhost:8080/"
        },
        "id": "XdAceHxwvPNj",
        "outputId": "94714600-6a6d-4171-bbb3-04c361437f50"
      },
      "source": [
        "# Combining train set and validation set images\r\n",
        "\r\n",
        "X_train = np.concatenate((X_train, X_val), axis = 0)\r\n",
        "y_train = np.concatenate((y_train, y_val), axis = 0)\r\n",
        "print(X_train.shape, y_train.shape)"
      ],
      "execution_count": 15,
      "outputs": [
        {
          "output_type": "stream",
          "text": [
            "(60000, 784) (60000,)\n"
          ],
          "name": "stdout"
        }
      ]
    },
    {
      "cell_type": "code",
      "metadata": {
        "colab": {
          "base_uri": "https://localhost:8080/"
        },
        "id": "2fcTbNozvj7f",
        "outputId": "8a8c7524-6aa3-4355-a73a-afa68470a12e"
      },
      "source": [
        "# Train the data\r\n",
        "\r\n",
        "clf = MLPClassifier(hidden_layer_sizes = (784,), max_iter = 10, solver = 'adam', learning_rate_init = 0.1)\r\n",
        "clf.fit(X_train, y_train)"
      ],
      "execution_count": 33,
      "outputs": [
        {
          "output_type": "stream",
          "text": [
            "/usr/local/lib/python3.6/dist-packages/sklearn/neural_network/_multilayer_perceptron.py:571: ConvergenceWarning: Stochastic Optimizer: Maximum iterations (10) reached and the optimization hasn't converged yet.\n",
            "  % self.max_iter, ConvergenceWarning)\n"
          ],
          "name": "stderr"
        },
        {
          "output_type": "execute_result",
          "data": {
            "text/plain": [
              "MLPClassifier(activation='relu', alpha=0.0001, batch_size='auto', beta_1=0.9,\n",
              "              beta_2=0.999, early_stopping=False, epsilon=1e-08,\n",
              "              hidden_layer_sizes=(784,), learning_rate='constant',\n",
              "              learning_rate_init=0.1, max_fun=15000, max_iter=10, momentum=0.9,\n",
              "              n_iter_no_change=10, nesterovs_momentum=True, power_t=0.5,\n",
              "              random_state=None, shuffle=True, solver='adam', tol=0.0001,\n",
              "              validation_fraction=0.1, verbose=False, warm_start=False)"
            ]
          },
          "metadata": {
            "tags": []
          },
          "execution_count": 33
        }
      ]
    },
    {
      "cell_type": "code",
      "metadata": {
        "colab": {
          "base_uri": "https://localhost:8080/"
        },
        "id": "flLqh9m8wCjy",
        "outputId": "b3d1cf2d-37af-444b-bb25-ca5a63443c56"
      },
      "source": [
        "# Predictions\r\n",
        "\r\n",
        "y_predict = clf.predict(X_test)\r\n",
        "print(y_predict)"
      ],
      "execution_count": 34,
      "outputs": [
        {
          "output_type": "stream",
          "text": [
            "[7 2 1 ... 4 5 6]\n"
          ],
          "name": "stdout"
        }
      ]
    },
    {
      "cell_type": "code",
      "metadata": {
        "colab": {
          "base_uri": "https://localhost:8080/"
        },
        "id": "pO7djITBwMkl",
        "outputId": "56fc4ab6-6cc3-4952-f220-2c85911f9383"
      },
      "source": [
        "# Performance Measures\r\n",
        "\r\n",
        "print('Accuracy Score : ', metrics.accuracy_score(y_true = y_test, y_pred = y_predict))\r\n",
        "print('Classification Report : ')\r\n",
        "print(metrics.classification_report(y_true = y_test, y_pred = y_predict))"
      ],
      "execution_count": 35,
      "outputs": [
        {
          "output_type": "stream",
          "text": [
            "Accuracy Score :  0.894\n",
            "Classification Report : \n",
            "              precision    recall  f1-score   support\n",
            "\n",
            "           0       0.99      0.84      0.91       980\n",
            "           1       1.00      0.94      0.97      1135\n",
            "           2       0.94      0.92      0.93      1032\n",
            "           3       0.81      0.90      0.85      1010\n",
            "           4       0.92      0.93      0.92       982\n",
            "           5       0.94      0.86      0.90       892\n",
            "           6       0.96      0.91      0.93       958\n",
            "           7       0.98      0.79      0.88      1028\n",
            "           8       0.65      0.95      0.77       974\n",
            "           9       0.90      0.90      0.90      1009\n",
            "\n",
            "    accuracy                           0.89     10000\n",
            "   macro avg       0.91      0.89      0.90     10000\n",
            "weighted avg       0.91      0.89      0.90     10000\n",
            "\n"
          ],
          "name": "stdout"
        }
      ]
    },
    {
      "cell_type": "code",
      "metadata": {
        "colab": {
          "base_uri": "https://localhost:8080/",
          "height": 597
        },
        "id": "OTrXMJtj0wir",
        "outputId": "39dc38ae-5a30-4add-eb7e-00f4a5c65e7a"
      },
      "source": [
        "fig, ax = plt.subplots(figsize=(10, 10))\r\n",
        "metrics.plot_confusion_matrix(clf, X_test, y_test, ax = ax, cmap=plt.cm.Blues)"
      ],
      "execution_count": 36,
      "outputs": [
        {
          "output_type": "execute_result",
          "data": {
            "text/plain": [
              "<sklearn.metrics._plot.confusion_matrix.ConfusionMatrixDisplay at 0x7fe6f07f4470>"
            ]
          },
          "metadata": {
            "tags": []
          },
          "execution_count": 36
        },
        {
          "output_type": "display_data",
          "data": {
            "image/png": "[encoded data removed]",
            "text/plain": [
              "<Figure size 720x720 with 2 Axes>"
            ]
          },
          "metadata": {
            "tags": [],
            "needs_background": "light"
          }
        }
      ]
    },
    {
      "cell_type": "code",
      "metadata": {
        "id": "uyPg_PVr1tMy"
      },
      "source": [
        ""
      ],
      "execution_count": null,
      "outputs": []
    }
  ]
}