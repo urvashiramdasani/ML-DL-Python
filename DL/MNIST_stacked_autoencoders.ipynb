{
  "nbformat": 4,
  "nbformat_minor": 0,
  "metadata": {
    "colab": {
      "name": "MNIST-stacked-autoencoders.ipynb",
      "provenance": [],
      "authorship_tag": "ABX9TyMMZH1/rrbGyBpxRw/k355M",
      "include_colab_link": true
    },
    "kernelspec": {
      "name": "python3",
      "display_name": "Python 3"
    },
    "language_info": {
      "name": "python"
    }
  },
  "cells": [
    {
      "cell_type": "markdown",
      "metadata": {
        "id": "view-in-github",
        "colab_type": "text"
      },
      "source": [
        "<a href=\"https://colab.research.google.com/github/urvashiramdasani/ML-DL-Python/blob/master/DL/MNIST_stacked_autoencoders.ipynb\" target=\"_parent\"><img src=\"https://colab.research.google.com/assets/colab-badge.svg\" alt=\"Open In Colab\"/></a>"
      ]
    },
    {
      "cell_type": "code",
      "metadata": {
        "id": "LtfdlaiTPyO-"
      },
      "source": [
        "from tensorflow import keras\n",
        "from keras.layers import Dense, Input\n",
        "from keras.models import Model, Sequential\n",
        "from keras.datasets import mnist\n",
        "import numpy as np\n",
        "from keras.utils import to_categorical"
      ],
      "execution_count": 1,
      "outputs": []
    },
    {
      "cell_type": "code",
      "metadata": {
        "colab": {
          "base_uri": "https://localhost:8080/"
        },
        "id": "nrQF2AqBgrDV",
        "outputId": "2f50d89d-877b-48a0-c693-48bc6bf841fc"
      },
      "source": [
        "(X_train, y_train), (X_test, y_test) = mnist.load_data()\n",
        "print('X_train shape : ', X_train.shape)\n",
        "print('X_test shape : ', X_test.shape)\n",
        "print('y_train shape : ', y_train.shape)\n",
        "print('y_test shape : ', y_test.shape)"
      ],
      "execution_count": 2,
      "outputs": [
        {
          "output_type": "stream",
          "text": [
            "Downloading data from https://storage.googleapis.com/tensorflow/tf-keras-datasets/mnist.npz\n",
            "11493376/11490434 [==============================] - 0s 0us/step\n",
            "X_train shape :  (60000, 28, 28)\n",
            "X_test shape :  (10000, 28, 28)\n",
            "y_train shape :  (60000,)\n",
            "y_test shape :  (10000,)\n"
          ],
          "name": "stdout"
        }
      ]
    },
    {
      "cell_type": "code",
      "metadata": {
        "id": "O0zQqi7jhaCq"
      },
      "source": [
        "X_train = np.reshape(X_train, newshape = (60000, 784)).astype('float32')\n",
        "X_test = np.reshape(X_test, newshape = (10000, 784)).astype('float32')\n",
        "y_train = to_categorical(y_train, num_classes = 10)\n",
        "y_test = to_categorical(y_test, num_classes = 10)\n",
        "X_train = X_train / 255\n",
        "X_test = X_test / 255"
      ],
      "execution_count": 3,
      "outputs": []
    },
    {
      "cell_type": "code",
      "metadata": {
        "colab": {
          "base_uri": "https://localhost:8080/"
        },
        "id": "MEAJKm6airp9",
        "outputId": "bd50d188-8e3b-4db6-cae4-4c51853b96d7"
      },
      "source": [
        "input_main = Input(shape = (784, ))\n",
        "h1 = Dense(units = 100, activation = 'sigmoid')(input_main)\n",
        "o1 = Dense(units = 784, activation = 'sigmoid')(h1)\n",
        "autoencoder1 = Model(inputs = input_main, outputs = o1)\n",
        "autoencoder1.summary()"
      ],
      "execution_count": 4,
      "outputs": [
        {
          "output_type": "stream",
          "text": [
            "Model: \"model\"\n",
            "_________________________________________________________________\n",
            "Layer (type)                 Output Shape              Param #   \n",
            "=================================================================\n",
            "input_1 (InputLayer)         [(None, 784)]             0         \n",
            "_________________________________________________________________\n",
            "dense (Dense)                (None, 100)               78500     \n",
            "_________________________________________________________________\n",
            "dense_1 (Dense)              (None, 784)               79184     \n",
            "=================================================================\n",
            "Total params: 157,684\n",
            "Trainable params: 157,684\n",
            "Non-trainable params: 0\n",
            "_________________________________________________________________\n"
          ],
          "name": "stdout"
        }
      ]
    },
    {
      "cell_type": "code",
      "metadata": {
        "id": "AlUXtjMWjPCS"
      },
      "source": [
        "autoencoder1.compile(loss = 'mse', optimizer = 'adam', metrics = ['accuracy'])"
      ],
      "execution_count": 5,
      "outputs": []
    },
    {
      "cell_type": "code",
      "metadata": {
        "colab": {
          "base_uri": "https://localhost:8080/"
        },
        "id": "yCde5doNkgAc",
        "outputId": "553877ce-19bb-47ca-e713-732a8e098d96"
      },
      "source": [
        "print(type(autoencoder1.layers[0].get_weights()))\n",
        "print(type(autoencoder1.layers[1].get_weights()))\n",
        "print(type(autoencoder1.layers[2].get_weights()))"
      ],
      "execution_count": 6,
      "outputs": [
        {
          "output_type": "stream",
          "text": [
            "<class 'list'>\n",
            "<class 'list'>\n",
            "<class 'list'>\n"
          ],
          "name": "stdout"
        }
      ]
    },
    {
      "cell_type": "code",
      "metadata": {
        "colab": {
          "base_uri": "https://localhost:8080/"
        },
        "id": "MTENtzqSnQIM",
        "outputId": "65f1bb78-0e48-4336-ab02-cf7a45dcc3b5"
      },
      "source": [
        "print(len(autoencoder1.layers[0].get_weights()))\n",
        "print(len(autoencoder1.layers[1].get_weights()))\n",
        "print(len(autoencoder1.layers[2].get_weights()))"
      ],
      "execution_count": 7,
      "outputs": [
        {
          "output_type": "stream",
          "text": [
            "0\n",
            "2\n",
            "2\n"
          ],
          "name": "stdout"
        }
      ]
    },
    {
      "cell_type": "code",
      "metadata": {
        "colab": {
          "base_uri": "https://localhost:8080/"
        },
        "id": "924f2YsvnYNk",
        "outputId": "daa6fe80-e35c-40a8-90a8-21173b1a2517"
      },
      "source": [
        "print(type(autoencoder1.layers[1].get_weights()[0]))\n",
        "print(type(autoencoder1.layers[1].get_weights()[1]))"
      ],
      "execution_count": 11,
      "outputs": [
        {
          "output_type": "stream",
          "text": [
            "<class 'numpy.ndarray'>\n",
            "<class 'numpy.ndarray'>\n"
          ],
          "name": "stdout"
        }
      ]
    },
    {
      "cell_type": "code",
      "metadata": {
        "colab": {
          "base_uri": "https://localhost:8080/"
        },
        "id": "P8BIsw4hHl6h",
        "outputId": "10e58bb8-2c25-4f5e-cf8d-f7f2a89d02ed"
      },
      "source": [
        "print(autoencoder1.layers[1].get_weights()[0].shape)\n",
        "print(autoencoder1.layers[1].get_weights()[1].shape)"
      ],
      "execution_count": 12,
      "outputs": [
        {
          "output_type": "stream",
          "text": [
            "(784, 100)\n",
            "(100,)\n"
          ],
          "name": "stdout"
        }
      ]
    },
    {
      "cell_type": "code",
      "metadata": {
        "colab": {
          "base_uri": "https://localhost:8080/"
        },
        "id": "PQ8ygLchHvfl",
        "outputId": "ad097d49-166b-441b-ecf9-4b17c21254ea"
      },
      "source": [
        "print(type(autoencoder1.layers[2].get_weights()[0]))\n",
        "print(type(autoencoder1.layers[2].get_weights()[1]))\n",
        "print(autoencoder1.layers[2].get_weights()[0].shape)\n",
        "print(autoencoder1.layers[2].get_weights()[1].shape)"
      ],
      "execution_count": 13,
      "outputs": [
        {
          "output_type": "stream",
          "text": [
            "<class 'numpy.ndarray'>\n",
            "<class 'numpy.ndarray'>\n",
            "(100, 784)\n",
            "(784,)\n"
          ],
          "name": "stdout"
        }
      ]
    },
    {
      "cell_type": "code",
      "metadata": {
        "colab": {
          "base_uri": "https://localhost:8080/"
        },
        "id": "5wbkW9xNH_Rm",
        "outputId": "97e61ae3-e0a1-4c3e-ba59-85596d9d1da4"
      },
      "source": [
        "print(autoencoder1.layers[1].get_weights()[0][50, 50])\n",
        "print(autoencoder1.layers[1].get_weights()[1][10])\n",
        "print(autoencoder1.layers[2].get_weights()[0][50, 50])\n",
        "print(autoencoder1.layers[2].get_weights()[1][10])"
      ],
      "execution_count": 14,
      "outputs": [
        {
          "output_type": "stream",
          "text": [
            "0.015663475\n",
            "0.0\n",
            "0.05205694\n",
            "0.0\n"
          ],
          "name": "stdout"
        }
      ]
    },
    {
      "cell_type": "code",
      "metadata": {
        "colab": {
          "base_uri": "https://localhost:8080/"
        },
        "id": "vGQuMl9rJE6v",
        "outputId": "cebfc4df-a310-44cd-9107-0fec1e5bf049"
      },
      "source": [
        "# Training the model\n",
        "autoencoder1.fit(X_train, X_train, epochs = 5)"
      ],
      "execution_count": 15,
      "outputs": [
        {
          "output_type": "stream",
          "text": [
            "Epoch 1/5\n",
            "1875/1875 [==============================] - 7s 3ms/step - loss: 0.0603 - accuracy: 0.0118\n",
            "Epoch 2/5\n",
            "1875/1875 [==============================] - 6s 3ms/step - loss: 0.0217 - accuracy: 0.0119\n",
            "Epoch 3/5\n",
            "1875/1875 [==============================] - 6s 3ms/step - loss: 0.0135 - accuracy: 0.0126\n",
            "Epoch 4/5\n",
            "1875/1875 [==============================] - 6s 3ms/step - loss: 0.0101 - accuracy: 0.0141\n",
            "Epoch 5/5\n",
            "1875/1875 [==============================] - 6s 3ms/step - loss: 0.0082 - accuracy: 0.0125\n"
          ],
          "name": "stdout"
        },
        {
          "output_type": "execute_result",
          "data": {
            "text/plain": [
              "<tensorflow.python.keras.callbacks.History at 0x7fb2fa9131d0>"
            ]
          },
          "metadata": {
            "tags": []
          },
          "execution_count": 15
        }
      ]
    },
    {
      "cell_type": "code",
      "metadata": {
        "colab": {
          "base_uri": "https://localhost:8080/"
        },
        "id": "xWpNROhDJTe4",
        "outputId": "66fd68ce-f115-414c-e4b7-a039898d8ab6"
      },
      "source": [
        "print(autoencoder1.layers[1].get_weights()[0][50, 50])\n",
        "print(autoencoder1.layers[1].get_weights()[1][10])\n",
        "print(autoencoder1.layers[2].get_weights()[0][50, 50])\n",
        "print(autoencoder1.layers[2].get_weights()[1][10])"
      ],
      "execution_count": 16,
      "outputs": [
        {
          "output_type": "stream",
          "text": [
            "-0.04634018\n",
            "-2.4717333\n",
            "-0.05773265\n",
            "-0.10475027\n"
          ],
          "name": "stdout"
        }
      ]
    },
    {
      "cell_type": "code",
      "metadata": {
        "id": "wQgFJRLhJWvE"
      },
      "source": [
        "hidden_output = autoencoder1.layers[1].output\n",
        "trimmed_autoencoder = Model(inputs = input_main, outputs = hidden_output)\n",
        "X_train_ae2 = trimmed_autoencoder.predict(X_train)\n",
        "X_test_ae2 = trimmed_autoencoder.predict(X_test)"
      ],
      "execution_count": 17,
      "outputs": []
    },
    {
      "cell_type": "code",
      "metadata": {
        "id": "tnp4qI_3RKJj"
      },
      "source": [
        "# Defining another autoencoder\n",
        "input_ae2 = Input(shape = (100, ))\n",
        "h2 = Dense(units = 50, activation = 'sigmoid')(input_ae2)\n",
        "o2 = Dense(units = 100, activation = 'sigmoid')(h2)\n",
        "autoencoder2 = Model(inputs = input_ae2, outputs = o2)\n",
        "autoencoder2.compile(loss = 'mse', optimizer = 'adam', metrics = ['accuracy'])"
      ],
      "execution_count": 18,
      "outputs": []
    },
    {
      "cell_type": "code",
      "metadata": {
        "colab": {
          "base_uri": "https://localhost:8080/"
        },
        "id": "kzJBwrLoSQEj",
        "outputId": "64b36227-aab8-4dba-b16b-436ec0b7eb2e"
      },
      "source": [
        "print(autoencoder2.layers[1].get_weights()[0].shape)\n",
        "print(autoencoder2.layers[2].get_weights()[0].shape)"
      ],
      "execution_count": 19,
      "outputs": [
        {
          "output_type": "stream",
          "text": [
            "(100, 50)\n",
            "(50, 100)\n"
          ],
          "name": "stdout"
        }
      ]
    },
    {
      "cell_type": "code",
      "metadata": {
        "colab": {
          "base_uri": "https://localhost:8080/"
        },
        "id": "V9kbOBTAVBog",
        "outputId": "b3e06d56-5b12-4fb5-d792-faa37aac0922"
      },
      "source": [
        "autoencoder2.fit(X_train_ae2, X_train_ae2, epochs = 5)"
      ],
      "execution_count": 20,
      "outputs": [
        {
          "output_type": "stream",
          "text": [
            "Epoch 1/5\n",
            "1875/1875 [==============================] - 3s 1ms/step - loss: 0.0726 - accuracy: 0.0128\n",
            "Epoch 2/5\n",
            "1875/1875 [==============================] - 3s 1ms/step - loss: 0.0263 - accuracy: 0.0235\n",
            "Epoch 3/5\n",
            "1875/1875 [==============================] - 3s 1ms/step - loss: 0.0153 - accuracy: 0.0319\n",
            "Epoch 4/5\n",
            "1875/1875 [==============================] - 3s 1ms/step - loss: 0.0121 - accuracy: 0.0464\n",
            "Epoch 5/5\n",
            "1875/1875 [==============================] - 3s 1ms/step - loss: 0.0109 - accuracy: 0.0734\n"
          ],
          "name": "stdout"
        },
        {
          "output_type": "execute_result",
          "data": {
            "text/plain": [
              "<tensorflow.python.keras.callbacks.History at 0x7fb2f8182bd0>"
            ]
          },
          "metadata": {
            "tags": []
          },
          "execution_count": 20
        }
      ]
    },
    {
      "cell_type": "code",
      "metadata": {
        "id": "wwuQtVjdWj-Z"
      },
      "source": [
        "autoencoder2_hidden_output = autoencoder2.layers[1].output\n",
        "trimmed_autoencoder2 = Model(inputs = input_ae2, outputs = autoencoder2_hidden_output)\n",
        "X_train_clf = trimmed_autoencoder2.predict(X_train_ae2)\n",
        "X_test_clf = trimmed_autoencoder2.predict(X_test_ae2)"
      ],
      "execution_count": 22,
      "outputs": []
    },
    {
      "cell_type": "code",
      "metadata": {
        "colab": {
          "base_uri": "https://localhost:8080/"
        },
        "id": "3THitVLjYVHO",
        "outputId": "4c78938e-73a2-4c5d-bc9b-a3ab15a23a12"
      },
      "source": [
        "input_clf = Input(shape = (50, ))\n",
        "f_output = Dense(units = 10, activation = 'softmax')(input_clf)\n",
        "clf = Model(inputs = input_clf, outputs = f_output)\n",
        "clf.compile(loss = 'categorical_crossentropy', optimizer = 'adam', metrics = ['accuracy'])\n",
        "clf.fit(X_train_clf, y_train, epochs = 5)"
      ],
      "execution_count": 23,
      "outputs": [
        {
          "output_type": "stream",
          "text": [
            "Epoch 1/5\n",
            "1875/1875 [==============================] - 2s 1ms/step - loss: 1.8142 - accuracy: 0.4681\n",
            "Epoch 2/5\n",
            "1875/1875 [==============================] - 2s 1ms/step - loss: 0.8365 - accuracy: 0.8319\n",
            "Epoch 3/5\n",
            "1875/1875 [==============================] - 2s 1ms/step - loss: 0.6064 - accuracy: 0.8581\n",
            "Epoch 4/5\n",
            "1875/1875 [==============================] - 2s 1ms/step - loss: 0.5134 - accuracy: 0.8671\n",
            "Epoch 5/5\n",
            "1875/1875 [==============================] - 2s 1ms/step - loss: 0.4644 - accuracy: 0.8742\n"
          ],
          "name": "stdout"
        },
        {
          "output_type": "execute_result",
          "data": {
            "text/plain": [
              "<tensorflow.python.keras.callbacks.History at 0x7fb2f5f0f510>"
            ]
          },
          "metadata": {
            "tags": []
          },
          "execution_count": 23
        }
      ]
    },
    {
      "cell_type": "code",
      "metadata": {
        "colab": {
          "base_uri": "https://localhost:8080/"
        },
        "id": "PFJphmkteUFO",
        "outputId": "3bacaeb0-f361-4083-afd5-02a11b64ceec"
      },
      "source": [
        "print(clf.evaluate(X_test_clf, y_test))"
      ],
      "execution_count": 24,
      "outputs": [
        {
          "output_type": "stream",
          "text": [
            "313/313 [==============================] - 0s 922us/step - loss: 0.4239 - accuracy: 0.8820\n",
            "[0.42394691705703735, 0.8820000290870667]\n"
          ],
          "name": "stdout"
        }
      ]
    },
    {
      "cell_type": "code",
      "metadata": {
        "colab": {
          "base_uri": "https://localhost:8080/"
        },
        "id": "Ykm9-0rZemzr",
        "outputId": "59e9b28b-3e03-4c16-9b62-6a81c63d45a5"
      },
      "source": [
        "new_model = Sequential()\n",
        "new_model.add(autoencoder1.layers[0])\n",
        "new_model.add(autoencoder1.layers[1])\n",
        "new_model.add(autoencoder2.layers[1])\n",
        "new_model.add(clf.layers[-1])\n",
        "new_model.summary()"
      ],
      "execution_count": 25,
      "outputs": [
        {
          "output_type": "stream",
          "text": [
            "Model: \"sequential\"\n",
            "_________________________________________________________________\n",
            "Layer (type)                 Output Shape              Param #   \n",
            "=================================================================\n",
            "dense (Dense)                (None, 100)               78500     \n",
            "_________________________________________________________________\n",
            "dense_2 (Dense)              (None, 50)                5050      \n",
            "_________________________________________________________________\n",
            "dense_4 (Dense)              (None, 10)                510       \n",
            "=================================================================\n",
            "Total params: 84,060\n",
            "Trainable params: 84,060\n",
            "Non-trainable params: 0\n",
            "_________________________________________________________________\n"
          ],
          "name": "stdout"
        }
      ]
    },
    {
      "cell_type": "code",
      "metadata": {
        "colab": {
          "base_uri": "https://localhost:8080/"
        },
        "id": "H6n1jKuje6I9",
        "outputId": "5a4634c0-2afd-4a4f-9b28-9ea9e3786bd1"
      },
      "source": [
        "new_model.compile(loss = 'categorical_crossentropy', metrics = ['accuracy'], optimizer = 'adam')\n",
        "new_model.fit(X_train, y_train, epochs = 5)"
      ],
      "execution_count": 26,
      "outputs": [
        {
          "output_type": "stream",
          "text": [
            "Epoch 1/5\n",
            "1875/1875 [==============================] - 4s 2ms/step - loss: 0.3199 - accuracy: 0.9062\n",
            "Epoch 2/5\n",
            "1875/1875 [==============================] - 4s 2ms/step - loss: 0.1665 - accuracy: 0.9517\n",
            "Epoch 3/5\n",
            "1875/1875 [==============================] - 4s 2ms/step - loss: 0.1246 - accuracy: 0.9648\n",
            "Epoch 4/5\n",
            "1875/1875 [==============================] - 4s 2ms/step - loss: 0.0962 - accuracy: 0.9729\n",
            "Epoch 5/5\n",
            "1875/1875 [==============================] - 4s 2ms/step - loss: 0.0707 - accuracy: 0.9802\n"
          ],
          "name": "stdout"
        },
        {
          "output_type": "execute_result",
          "data": {
            "text/plain": [
              "<tensorflow.python.keras.callbacks.History at 0x7fb2f4dfa310>"
            ]
          },
          "metadata": {
            "tags": []
          },
          "execution_count": 26
        }
      ]
    },
    {
      "cell_type": "code",
      "metadata": {
        "colab": {
          "base_uri": "https://localhost:8080/"
        },
        "id": "bEnHTTpcfQb7",
        "outputId": "4c82d518-13a5-44fa-c473-f27818dcb734"
      },
      "source": [
        "print(new_model.evaluate(X_test, y_test))"
      ],
      "execution_count": 27,
      "outputs": [
        {
          "output_type": "stream",
          "text": [
            "313/313 [==============================] - 0s 1ms/step - loss: 0.0975 - accuracy: 0.9689\n",
            "[0.0974593237042427, 0.9689000248908997]\n"
          ],
          "name": "stdout"
        }
      ]
    },
    {
      "cell_type": "code",
      "metadata": {
        "id": "Fsh1GITufVoX"
      },
      "source": [
        ""
      ],
      "execution_count": null,
      "outputs": []
    }
  ]
}