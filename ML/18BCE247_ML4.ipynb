{
  "nbformat": 4,
  "nbformat_minor": 0,
  "metadata": {
    "colab": {
      "name": "18BCE247_ML4.ipynb",
      "provenance": [],
      "collapsed_sections": [],
      "authorship_tag": "ABX9TyOyy1fkVmGwyQyhDqvUTkvt",
      "include_colab_link": true
    },
    "kernelspec": {
      "name": "python3",
      "display_name": "Python 3"
    }
  },
  "cells": [
    {
      "cell_type": "markdown",
      "metadata": {
        "id": "view-in-github",
        "colab_type": "text"
      },
      "source": [
        "<a href=\"https://colab.research.google.com/github/urvashiramdasani/ML-DL-Python/blob/master/ML/18BCE247_ML4.ipynb\" target=\"_parent\"><img src=\"https://colab.research.google.com/assets/colab-badge.svg\" alt=\"Open In Colab\"/></a>"
      ]
    },
    {
      "cell_type": "markdown",
      "metadata": {
        "id": "Gv9nddd1wQZ5",
        "colab_type": "text"
      },
      "source": [
        "Name - Urvashi Ramdasani\n",
        "\n",
        "Roll Number - 18BCE247\n",
        "\n",
        "Batch - D3\n",
        "\n",
        "Aim : Linear Regression with Regularization (without using\n",
        "sklearn or equivalent library) and Simple and Multiple\n",
        "Linear Regression with and without regularization using\n",
        "Sklearn"
      ]
    },
    {
      "cell_type": "code",
      "metadata": {
        "id": "HcqWFJxaw53E",
        "colab_type": "code",
        "colab": {}
      },
      "source": [
        "# Load the libraries\n",
        "\n",
        "import numpy as np\n",
        "from sklearn import datasets, metrics\n",
        "from sklearn.preprocessing import StandardScaler\n",
        "import matplotlib.pyplot as plt"
      ],
      "execution_count": 1,
      "outputs": []
    },
    {
      "cell_type": "code",
      "metadata": {
        "id": "n5AnpeqEw-sa",
        "colab_type": "code",
        "colab": {
          "base_uri": "https://localhost:8080/",
          "height": 52
        },
        "outputId": "c4a4c0d7-1bd0-4c36-ed53-31c21508bd8f"
      },
      "source": [
        "# Load the Data\n",
        "\n",
        "X, y = datasets.load_boston(return_X_y = True)\n",
        "print('Shape of Independent Variables : ', X.shape)\n",
        "print('Shape of Dependent Variables : ', y.shape)"
      ],
      "execution_count": 2,
      "outputs": [
        {
          "output_type": "stream",
          "text": [
            "Shape of Independent Variables :  (506, 13)\n",
            "Shape of Dependent Variables :  (506,)\n"
          ],
          "name": "stdout"
        }
      ]
    },
    {
      "cell_type": "code",
      "metadata": {
        "id": "_xUQaB8ZxCa0",
        "colab_type": "code",
        "colab": {}
      },
      "source": [
        "# Data Preprocessing\n",
        "\n",
        "X_train_tmp = X[0:400, :]\n",
        "X_train = np.ones((X_train_tmp.shape[0], X_train_tmp.shape[1] + 1))\n",
        "X_test_tmp = X[400:506, :]\n",
        "y_train = y[0:400]\n",
        "y_test = y[400:506]\n",
        "X_train[:, 1:] = X_train_tmp\n",
        "X_test = np.ones((X_test_tmp.shape[0], X_test_tmp.shape[1] + 1))\n",
        "X_test[:, 1:] = X_test_tmp\n",
        "\n",
        "# Scale the model\n",
        "\n",
        "scalar = StandardScaler()\n",
        "scalar.fit(X_train[:, 1:])\n",
        "X_train[:, 1:] = scalar.transform(X_train[:, 1:])\n",
        "X_test[:, 1:] = scalar.transform(X_test[:, 1:])"
      ],
      "execution_count": 3,
      "outputs": []
    },
    {
      "cell_type": "code",
      "metadata": {
        "id": "HJXX9MD3xDzS",
        "colab_type": "code",
        "colab": {
          "base_uri": "https://localhost:8080/",
          "height": 69
        },
        "outputId": "c020bf99-9dd5-43fc-fa13-2e840c9d39fa"
      },
      "source": [
        "# Implement the algorithm\n",
        "\n",
        "theta = np.random.randn(X_train.shape[1])\n",
        "theta"
      ],
      "execution_count": 4,
      "outputs": [
        {
          "output_type": "execute_result",
          "data": {
            "text/plain": [
              "array([ 0.36329366, -0.3289416 ,  0.0467768 , -0.26213866,  0.95466226,\n",
              "       -1.31858491,  0.82182801,  0.61009815,  0.22714846,  2.47403332,\n",
              "       -2.01641508, -2.18620675,  1.0986749 ,  1.48545247])"
            ]
          },
          "metadata": {
            "tags": []
          },
          "execution_count": 4
        }
      ]
    },
    {
      "cell_type": "code",
      "metadata": {
        "id": "UybMg_7swm5D",
        "colab_type": "code",
        "colab": {
          "base_uri": "https://localhost:8080/",
          "height": 295
        },
        "outputId": "8a443001-bdc3-4811-818d-46c6ef2bcc32"
      },
      "source": [
        "# Normal Equation with Regularisation\n",
        "\n",
        "matrix = np.zeros((X_train.shape[1], X_train.shape[1]))\n",
        "for i in range(1, X_train.shape[1]):\n",
        "  matrix[i, i] = 1\n",
        "\n",
        "train_mse = []\n",
        "test_mse = []\n",
        "\n",
        "for lam in range(10, 150):\n",
        "  X_tmp = np.linalg.inv(np.dot(X_train.T, X_train) + lam * matrix) # Regularisation\n",
        "  x = np.dot(X_tmp, X_train.T)\n",
        "  thetas = np.dot(x, y_train)\n",
        "  \n",
        "  y_train_predict = np.dot(X_train, thetas)\n",
        "  mse_train = metrics.mean_squared_error(y_true = y_train, y_pred = y_train_predict)\n",
        "  train_mse.append(mse_train)\n",
        "\n",
        "  predict = np.dot(X_test, thetas)\n",
        "  mse_test = metrics.mean_squared_error(y_true = y_test, y_pred = predict)\n",
        "  test_mse.append(mse_test)\n",
        "\n",
        "plt.plot(train_mse)\n",
        "plt.plot(test_mse)\n",
        "plt.title('MSE VS lambda for Train and Test Set')\n",
        "plt.xlabel('Values of lambda')\n",
        "plt.ylabel('MSE')\n",
        "plt.legend(['Train', 'Test'])\n",
        "plt.show()"
      ],
      "execution_count": 5,
      "outputs": [
        {
          "output_type": "display_data",
          "data": {
            "image/png": "[encoded data removed]",
            "text/plain": [
              "<Figure size 432x288 with 1 Axes>"
            ]
          },
          "metadata": {
            "tags": [],
            "needs_background": "light"
          }
        }
      ]
    },
    {
      "cell_type": "code",
      "metadata": {
        "id": "GSJ-3hOGxLs8",
        "colab_type": "code",
        "colab": {}
      },
      "source": [
        ""
      ],
      "execution_count": null,
      "outputs": []
    }
  ]
}