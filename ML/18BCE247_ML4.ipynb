{
  "nbformat": 4,
  "nbformat_minor": 0,
  "metadata": {
    "colab": {
      "name": "18BCE247_ML4.ipynb",
      "provenance": [],
      "collapsed_sections": [],
      "authorship_tag": "ABX9TyN5mSbIotOHv31xTuOaiaDv",
      "include_colab_link": true
    },
    "kernelspec": {
      "name": "python3",
      "display_name": "Python 3"
    }
  },
  "cells": [
    {
      "cell_type": "markdown",
      "metadata": {
        "id": "view-in-github",
        "colab_type": "text"
      },
      "source": [
        "<a href=\"https://colab.research.google.com/github/urvashiramdasani/ML-DL-Python/blob/master/ML/18BCE247_ML4.ipynb\" target=\"_parent\"><img src=\"https://colab.research.google.com/assets/colab-badge.svg\" alt=\"Open In Colab\"/></a>"
      ]
    },
    {
      "cell_type": "markdown",
      "metadata": {
        "id": "Gv9nddd1wQZ5",
        "colab_type": "text"
      },
      "source": [
        "Name - Urvashi Ramdasani\n",
        "\n",
        "Roll Number - 18BCE247\n",
        "\n",
        "Batch - D3\n",
        "\n",
        "Aim : Linear Regression with Regularization (without using\n",
        "sklearn or equivalent library) and Simple and Multiple\n",
        "Linear Regression with and without regularization using\n",
        "Sklearn"
      ]
    },
    {
      "cell_type": "code",
      "metadata": {
        "id": "HcqWFJxaw53E",
        "colab_type": "code",
        "colab": {}
      },
      "source": [
        "# Load the libraries\n",
        "\n",
        "import numpy as np\n",
        "from sklearn import datasets, metrics\n",
        "from sklearn.preprocessing import StandardScaler\n",
        "import matplotlib.pyplot as plt\n",
        "from sklearn.linear_model import LinearRegression\n",
        "from sklearn import linear_model"
      ],
      "execution_count": 25,
      "outputs": []
    },
    {
      "cell_type": "code",
      "metadata": {
        "id": "n5AnpeqEw-sa",
        "colab_type": "code",
        "colab": {
          "base_uri": "https://localhost:8080/",
          "height": 52
        },
        "outputId": "c2f8e336-4695-4e77-dfea-6b193f32dcb4"
      },
      "source": [
        "# Load the Data\n",
        "\n",
        "X, y = datasets.load_boston(return_X_y = True)\n",
        "print('Shape of Independent Variables : ', X.shape)\n",
        "print('Shape of Dependent Variables : ', y.shape)"
      ],
      "execution_count": 2,
      "outputs": [
        {
          "output_type": "stream",
          "text": [
            "Shape of Independent Variables :  (506, 13)\n",
            "Shape of Dependent Variables :  (506,)\n"
          ],
          "name": "stdout"
        }
      ]
    },
    {
      "cell_type": "code",
      "metadata": {
        "id": "_xUQaB8ZxCa0",
        "colab_type": "code",
        "colab": {}
      },
      "source": [
        "# Data Preprocessing\n",
        "\n",
        "X_train_tmp = X[0:400, :]\n",
        "X_train = np.ones((X_train_tmp.shape[0], X_train_tmp.shape[1] + 1))\n",
        "X_test_tmp = X[400:506, :]\n",
        "y_train = y[0:400]\n",
        "y_test = y[400:506]\n",
        "X_train[:, 1:] = X_train_tmp\n",
        "X_test = np.ones((X_test_tmp.shape[0], X_test_tmp.shape[1] + 1))\n",
        "X_test[:, 1:] = X_test_tmp\n",
        "\n",
        "# Scale the model\n",
        "\n",
        "scalar = StandardScaler()\n",
        "scalar.fit(X_train[:, 1:])\n",
        "X_train[:, 1:] = scalar.transform(X_train[:, 1:])\n",
        "X_test[:, 1:] = scalar.transform(X_test[:, 1:])"
      ],
      "execution_count": 3,
      "outputs": []
    },
    {
      "cell_type": "code",
      "metadata": {
        "id": "HJXX9MD3xDzS",
        "colab_type": "code",
        "colab": {
          "base_uri": "https://localhost:8080/",
          "height": 69
        },
        "outputId": "3250c092-d86e-4b6b-8f84-a239e53dc009"
      },
      "source": [
        "# Implement the algorithm\n",
        "\n",
        "theta = np.random.randn(X_train.shape[1])\n",
        "theta"
      ],
      "execution_count": 4,
      "outputs": [
        {
          "output_type": "execute_result",
          "data": {
            "text/plain": [
              "array([-0.17781241,  1.08103227,  0.35414639,  0.22641583,  0.77134   ,\n",
              "        1.51322952, -0.56227292, -1.51915236, -0.90229805, -2.15976783,\n",
              "       -0.08308202,  1.75204728, -0.37362886, -0.91965146])"
            ]
          },
          "metadata": {
            "tags": []
          },
          "execution_count": 4
        }
      ]
    },
    {
      "cell_type": "code",
      "metadata": {
        "id": "UybMg_7swm5D",
        "colab_type": "code",
        "colab": {
          "base_uri": "https://localhost:8080/",
          "height": 295
        },
        "outputId": "8a443001-bdc3-4811-818d-46c6ef2bcc32"
      },
      "source": [
        "# Normal Equation with Regularisation\n",
        "\n",
        "matrix = np.zeros((X_train.shape[1], X_train.shape[1]))\n",
        "for i in range(1, X_train.shape[1]):\n",
        "  matrix[i, i] = 1\n",
        "\n",
        "train_mse = []\n",
        "test_mse = []\n",
        "\n",
        "for lam in range(10, 150):\n",
        "  X_tmp = np.linalg.inv(np.dot(X_train.T, X_train) + lam * matrix) # Regularisation\n",
        "  x = np.dot(X_tmp, X_train.T)\n",
        "  thetas = np.dot(x, y_train)\n",
        "  \n",
        "  y_train_predict = np.dot(X_train, thetas)\n",
        "  mse_train = metrics.mean_squared_error(y_true = y_train, y_pred = y_train_predict)\n",
        "  train_mse.append(mse_train)\n",
        "\n",
        "  predict = np.dot(X_test, thetas)\n",
        "  mse_test = metrics.mean_squared_error(y_true = y_test, y_pred = predict)\n",
        "  test_mse.append(mse_test)\n",
        "\n",
        "plt.plot(train_mse)\n",
        "plt.plot(test_mse)\n",
        "plt.title('MSE VS lambda for Train and Test Set')\n",
        "plt.xlabel('Values of lambda')\n",
        "plt.ylabel('MSE')\n",
        "plt.legend(['Train', 'Test'])\n",
        "plt.show()"
      ],
      "execution_count": null,
      "outputs": [
        {
          "output_type": "display_data",
          "data": {
            "image/png": "[encoded data removed]",
            "text/plain": [
              "<Figure size 432x288 with 1 Axes>"
            ]
          },
          "metadata": {
            "tags": [],
            "needs_background": "light"
          }
        }
      ]
    },
    {
      "cell_type": "code",
      "metadata": {
        "id": "GSJ-3hOGxLs8",
        "colab_type": "code",
        "colab": {}
      },
      "source": [
        "# Gradient Descent with Regularisation\n",
        "\n",
        "alpha = 0.01\n",
        "epochs = 1000\n",
        "m = X_train.shape[0]\n",
        "n = X_train.shape[1]\n",
        "train_mse = []\n",
        "test_mse = []\n",
        "\n",
        "for lam in range(0, 50):\n",
        "  for i in range(epochs):\n",
        "    y_predicted = np.dot(X_train, theta)\n",
        "    error = y_predicted - y_train\n",
        "    updates = np.zeros(n)\n",
        "\n",
        "    for j in range(n):\n",
        "      updates[j] = np.sum(error * X_train.T[j])\n",
        "    theta = theta * (1 - alpha * lam / m) - alpha / m * (updates)\n",
        "    \n",
        "  y_train_predict = np.dot(X_train, theta)\n",
        "  mse_train = metrics.mean_squared_error(y_true = y_train, y_pred = y_train_predict)\n",
        "  train_mse.append(mse_train)\n",
        "\n",
        "  predict = np.dot(X_test, theta)\n",
        "  mse_test = metrics.mean_squared_error(y_true = y_test, y_pred = predict)\n",
        "  test_mse.append(mse_test)"
      ],
      "execution_count": 11,
      "outputs": []
    },
    {
      "cell_type": "code",
      "metadata": {
        "id": "1x6M7ZzmXb_w",
        "colab_type": "code",
        "colab": {
          "base_uri": "https://localhost:8080/",
          "height": 295
        },
        "outputId": "1f83705f-ec58-4288-b877-753185aa2402"
      },
      "source": [
        "plt.plot(train_mse)\n",
        "plt.plot(test_mse)\n",
        "plt.title('MSE VS lambda for Train and Test Set')\n",
        "plt.xlabel('Values of lambda')\n",
        "plt.ylabel('MSE')\n",
        "plt.legend(['Train', 'Test'])\n",
        "plt.show()"
      ],
      "execution_count": 12,
      "outputs": [
        {
          "output_type": "display_data",
          "data": {
            "image/png": "[encoded data removed]",
            "text/plain": [
              "<Figure size 432x288 with 1 Axes>"
            ]
          },
          "metadata": {
            "tags": [],
            "needs_background": "light"
          }
        }
      ]
    },
    {
      "cell_type": "code",
      "metadata": {
        "id": "Eb4B19dgYvKi",
        "colab_type": "code",
        "colab": {
          "base_uri": "https://localhost:8080/",
          "height": 35
        },
        "outputId": "d09af659-7c7a-4eb3-e796-6a679217e0ea"
      },
      "source": [
        "# Linear Regression using sklearn without regularization\n",
        "\n",
        "regr = LinearRegression()\n",
        "regr.fit(X_train, y_train)\n",
        "print(regr.score(X_test, y_test))\n",
        "y_predicted = regr.predict(X_test)"
      ],
      "execution_count": 16,
      "outputs": [
        {
          "output_type": "stream",
          "text": [
            "-0.34102440100404774\n"
          ],
          "name": "stdout"
        }
      ]
    },
    {
      "cell_type": "code",
      "metadata": {
        "id": "l-jkt0pPa5Uz",
        "colab_type": "code",
        "colab": {
          "base_uri": "https://localhost:8080/",
          "height": 52
        },
        "outputId": "afd1223a-9029-40d3-b90d-b9ad4ceef182"
      },
      "source": [
        "print('Mean Squared Error : ', metrics.mean_squared_error(y_true = y_test, y_pred = y_predicted))\n",
        "print('Mean Absolute Error : ', metrics.mean_absolute_error(y_true = y_test, y_pred = y_predicted))"
      ],
      "execution_count": 24,
      "outputs": [
        {
          "output_type": "stream",
          "text": [
            "Mean Squared Error :  37.89377859960133\n",
            "Mean Absolute Error :  5.142232214465249\n"
          ],
          "name": "stdout"
        }
      ]
    },
    {
      "cell_type": "code",
      "metadata": {
        "id": "wM0B8wqYbaqT",
        "colab_type": "code",
        "colab": {
          "base_uri": "https://localhost:8080/",
          "height": 35
        },
        "outputId": "95cb490d-b563-4279-dcc4-447e6aaea723"
      },
      "source": [
        "# Linear Regression using sklearn with regularization - Ridge\n",
        "\n",
        "regr = linear_model.Ridge(alpha = 0.3)\n",
        "regr.fit(X_train, y_train)\n",
        "y_predicted = regr.predict(X_test)\n",
        "print(regr.score(X_test, y_test))"
      ],
      "execution_count": 30,
      "outputs": [
        {
          "output_type": "stream",
          "text": [
            "-0.33622696682123543\n"
          ],
          "name": "stdout"
        }
      ]
    },
    {
      "cell_type": "code",
      "metadata": {
        "id": "InMzaZRGdJgM",
        "colab_type": "code",
        "colab": {
          "base_uri": "https://localhost:8080/",
          "height": 52
        },
        "outputId": "bd3fca0c-8760-4aaf-f3f4-ed61be5f8a7e"
      },
      "source": [
        "print('Mean Squared Error : ', metrics.mean_squared_error(y_true = y_test, y_pred = y_predicted))\n",
        "print('Mean Absolute Error : ', metrics.mean_absolute_error(y_true = y_test, y_pred = y_predicted))"
      ],
      "execution_count": 31,
      "outputs": [
        {
          "output_type": "stream",
          "text": [
            "Mean Squared Error :  37.75821588453549\n",
            "Mean Absolute Error :  5.13240429385621\n"
          ],
          "name": "stdout"
        }
      ]
    },
    {
      "cell_type": "code",
      "metadata": {
        "id": "hWa1q5rDdlMd",
        "colab_type": "code",
        "colab": {
          "base_uri": "https://localhost:8080/",
          "height": 35
        },
        "outputId": "7040e714-994a-49cd-ab20-750aa9a3d636"
      },
      "source": [
        "# Linear Regression using sklearn with regularization - Lasso\n",
        "\n",
        "regr = linear_model.Lasso(alpha = 0.3)\n",
        "regr.fit(X_train, y_train)\n",
        "y_predicted = regr.predict(X_test)\n",
        "print(regr.score(X_test, y_test))"
      ],
      "execution_count": 32,
      "outputs": [
        {
          "output_type": "stream",
          "text": [
            "-0.18466769714633505\n"
          ],
          "name": "stdout"
        }
      ]
    },
    {
      "cell_type": "code",
      "metadata": {
        "id": "-uZR9GlUdpeo",
        "colab_type": "code",
        "colab": {
          "base_uri": "https://localhost:8080/",
          "height": 52
        },
        "outputId": "40bbb141-f766-4cf0-a9b3-a7a8dae43a95"
      },
      "source": [
        "print('Mean Squared Error : ', metrics.mean_squared_error(y_true = y_test, y_pred = y_predicted))\n",
        "print('Mean Absolute Error : ', metrics.mean_absolute_error(y_true = y_test, y_pred = y_predicted))"
      ],
      "execution_count": 33,
      "outputs": [
        {
          "output_type": "stream",
          "text": [
            "Mean Squared Error :  33.475554506056504\n",
            "Mean Absolute Error :  4.807191237590843\n"
          ],
          "name": "stdout"
        }
      ]
    },
    {
      "cell_type": "code",
      "metadata": {
        "id": "cF6EmSTtdrfd",
        "colab_type": "code",
        "colab": {}
      },
      "source": [
        ""
      ],
      "execution_count": null,
      "outputs": []
    }
  ]
}