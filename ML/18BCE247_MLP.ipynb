{
  "nbformat": 4,
  "nbformat_minor": 0,
  "metadata": {
    "colab": {
      "name": "18BCE247_MLP.ipynb",
      "provenance": [],
      "collapsed_sections": [],
      "authorship_tag": "ABX9TyNkmqYp4/qQmVYY65y4WMg0",
      "include_colab_link": true
    },
    "kernelspec": {
      "name": "python3",
      "display_name": "Python 3"
    }
  },
  "cells": [
    {
      "cell_type": "markdown",
      "metadata": {
        "id": "view-in-github",
        "colab_type": "text"
      },
      "source": [
        "<a href=\"https://colab.research.google.com/github/urvashiramdasani/ML-DL-Python/blob/master/ML/18BCE247_MLP.ipynb\" target=\"_parent\"><img src=\"https://colab.research.google.com/assets/colab-badge.svg\" alt=\"Open In Colab\"/></a>"
      ]
    },
    {
      "cell_type": "markdown",
      "metadata": {
        "id": "A4fyNbotixfO"
      },
      "source": [
        "Name : Urvashi Ramdasani\n",
        "\n",
        "Roll Number : 18BCE247\n",
        "\n",
        "Batch : D3\n",
        "\n",
        "Aim : Implement Multi-Layer Perceptron and k-means Clustering"
      ]
    },
    {
      "cell_type": "code",
      "metadata": {
        "id": "SctuYYqreYiG"
      },
      "source": [
        "# Load the libraries\n",
        "\n",
        "import numpy\n",
        "import matplotlib.pyplot as plt\n",
        "from sklearn import datasets, metrics\n",
        "import seaborn as sns\n",
        "from sklearn.neural_network import MLPClassifier\n",
        "from sklearn.cluster import KMeans"
      ],
      "execution_count": 11,
      "outputs": []
    },
    {
      "cell_type": "code",
      "metadata": {
        "id": "oqO1gMNrmlQE",
        "colab": {
          "base_uri": "https://localhost:8080/"
        },
        "outputId": "19077e79-5959-4f5c-f705-04d0c7811568"
      },
      "source": [
        "# Load dataset\n",
        "\n",
        "X, y = datasets.load_iris(return_X_y = True)\n",
        "print(X.shape)\n",
        "print(y.shape)"
      ],
      "execution_count": 2,
      "outputs": [
        {
          "output_type": "stream",
          "text": [
            "(150, 4)\n",
            "(150,)\n"
          ],
          "name": "stdout"
        }
      ]
    },
    {
      "cell_type": "code",
      "metadata": {
        "id": "QtkfzyUqmqbo",
        "colab": {
          "base_uri": "https://localhost:8080/"
        },
        "outputId": "b980ad75-bc83-4151-8f67-f7f216165d57"
      },
      "source": [
        "# Train test split without sklearn\n",
        "\n",
        "X_train = X[range(0, 150, 2), :]\n",
        "y_train = y[range(0, 150, 2)]\n",
        "print(X_train.shape)\n",
        "print(y_train.shape)"
      ],
      "execution_count": 3,
      "outputs": [
        {
          "output_type": "stream",
          "text": [
            "(75, 4)\n",
            "(75,)\n"
          ],
          "name": "stdout"
        }
      ]
    },
    {
      "cell_type": "code",
      "metadata": {
        "id": "nyYBLM66mtjQ",
        "colab": {
          "base_uri": "https://localhost:8080/"
        },
        "outputId": "2baaf67d-a131-409f-e03b-e62ec9275685"
      },
      "source": [
        "X_test = X[range(1, 150, 2), :]\n",
        "y_test = y[range(1, 150, 2)]\n",
        "print(X_test.shape)\n",
        "\n",
        "print(y_test.shape)"
      ],
      "execution_count": 4,
      "outputs": [
        {
          "output_type": "stream",
          "text": [
            "(75, 4)\n",
            "(75,)\n"
          ],
          "name": "stdout"
        }
      ]
    },
    {
      "cell_type": "code",
      "metadata": {
        "id": "XEyJMhtHm09D",
        "colab": {
          "base_uri": "https://localhost:8080/"
        },
        "outputId": "28e62341-9e87-422b-c4e8-9921abce8ee2"
      },
      "source": [
        "classifier = MLPClassifier(hidden_layer_sizes=(65), solver='sgd')\n",
        "classifier.fit(X_train, y_train)"
      ],
      "execution_count": 5,
      "outputs": [
        {
          "output_type": "stream",
          "text": [
            "/usr/local/lib/python3.6/dist-packages/sklearn/neural_network/_multilayer_perceptron.py:571: ConvergenceWarning: Stochastic Optimizer: Maximum iterations (200) reached and the optimization hasn't converged yet.\n",
            "  % self.max_iter, ConvergenceWarning)\n"
          ],
          "name": "stderr"
        },
        {
          "output_type": "execute_result",
          "data": {
            "text/plain": [
              "MLPClassifier(activation='relu', alpha=0.0001, batch_size='auto', beta_1=0.9,\n",
              "              beta_2=0.999, early_stopping=False, epsilon=1e-08,\n",
              "              hidden_layer_sizes=65, learning_rate='constant',\n",
              "              learning_rate_init=0.001, max_fun=15000, max_iter=200,\n",
              "              momentum=0.9, n_iter_no_change=10, nesterovs_momentum=True,\n",
              "              power_t=0.5, random_state=None, shuffle=True, solver='sgd',\n",
              "              tol=0.0001, validation_fraction=0.1, verbose=False,\n",
              "              warm_start=False)"
            ]
          },
          "metadata": {
            "tags": []
          },
          "execution_count": 5
        }
      ]
    },
    {
      "cell_type": "code",
      "metadata": {
        "id": "EQsDx4BvnxHu",
        "colab": {
          "base_uri": "https://localhost:8080/"
        },
        "outputId": "af6e5794-c129-42ca-fc77-963cc50d6d21"
      },
      "source": [
        "# Predict the values\n",
        "\n",
        "y_predicted = classifier.predict(X_test)\n",
        "print(y_predicted)"
      ],
      "execution_count": 6,
      "outputs": [
        {
          "output_type": "stream",
          "text": [
            "[0 0 0 0 0 0 0 0 0 0 0 0 0 0 0 0 0 0 0 0 0 0 0 0 0 1 1 2 1 1 1 2 1 1 1 1 2\n",
            " 1 2 1 1 2 1 1 1 1 1 1 1 1 2 2 2 2 2 2 2 2 2 2 2 2 2 2 2 2 2 2 2 2 2 2 2 2\n",
            " 2]\n"
          ],
          "name": "stdout"
        }
      ]
    },
    {
      "cell_type": "code",
      "metadata": {
        "id": "-TC6Ig9_v_nv",
        "colab": {
          "base_uri": "https://localhost:8080/"
        },
        "outputId": "353eb498-602f-40a8-d6e0-75c219084cc4"
      },
      "source": [
        "prob = classifier.predict_proba(X_test)\n",
        "print(prob)"
      ],
      "execution_count": 7,
      "outputs": [
        {
          "output_type": "stream",
          "text": [
            "[[0.84567306 0.12279986 0.03152708]\n",
            " [0.83369385 0.13208254 0.03422361]\n",
            " [0.89180646 0.08943449 0.01875905]\n",
            " [0.87705029 0.09991694 0.02303277]\n",
            " [0.85180696 0.11816902 0.03002402]\n",
            " [0.85891656 0.11371416 0.02736928]\n",
            " [0.86859745 0.1050826  0.02631996]\n",
            " [0.93840572 0.05246484 0.00912944]\n",
            " [0.89205106 0.08866061 0.01928833]\n",
            " [0.90337806 0.08008387 0.01653807]\n",
            " [0.88963925 0.09084641 0.01951434]\n",
            " [0.80931828 0.15110058 0.03958114]\n",
            " [0.8170798  0.14396511 0.03895509]\n",
            " [0.89026257 0.08982811 0.01990932]\n",
            " [0.83295369 0.13284171 0.0342046 ]\n",
            " [0.87094457 0.10472483 0.0243306 ]\n",
            " [0.93768375 0.05271442 0.00960183]\n",
            " [0.89018502 0.08935011 0.02046487]\n",
            " [0.90421033 0.0788142  0.01697547]\n",
            " [0.87944489 0.09804624 0.02250887]\n",
            " [0.73218121 0.20196421 0.06585457]\n",
            " [0.83762107 0.13063905 0.03173988]\n",
            " [0.8335512  0.1320579  0.0343909 ]\n",
            " [0.86002977 0.11257153 0.02739869]\n",
            " [0.87971343 0.09764351 0.02264306]\n",
            " [0.0761205  0.50424067 0.41963883]\n",
            " [0.05842613 0.4852988  0.45627507]\n",
            " [0.05237834 0.47338575 0.47423591]\n",
            " [0.14880654 0.50012965 0.3510638 ]\n",
            " [0.08035629 0.49151678 0.42812693]\n",
            " [0.08072139 0.50112042 0.41815819]\n",
            " [0.04630591 0.47288255 0.48081154]\n",
            " [0.09023096 0.51678398 0.39298506]\n",
            " [0.09678909 0.50272627 0.40048464]\n",
            " [0.09111635 0.50350857 0.40537508]\n",
            " [0.10266378 0.51403811 0.38329811]\n",
            " [0.04905755 0.47381793 0.47712451]\n",
            " [0.08078316 0.51309125 0.40612559]\n",
            " [0.0330838  0.46307295 0.50384324]\n",
            " [0.16860771 0.50675369 0.3246386 ]\n",
            " [0.1103263  0.50653295 0.38314075]\n",
            " [0.01998359 0.4135315  0.56648491]\n",
            " [0.0769556  0.49519139 0.42785301]\n",
            " [0.04486141 0.47849312 0.47664546]\n",
            " [0.06930176 0.49188164 0.43881661]\n",
            " [0.0569458  0.48432519 0.45872901]\n",
            " [0.14063798 0.50333878 0.35602324]\n",
            " [0.09416836 0.49967618 0.40615546]\n",
            " [0.08110134 0.50610189 0.41279677]\n",
            " [0.08345233 0.49949615 0.41705152]\n",
            " [0.01506844 0.39406806 0.5908635 ]\n",
            " [0.01187294 0.377633   0.61049406]\n",
            " [0.00410829 0.31611714 0.67977457]\n",
            " [0.00642252 0.34146852 0.65210896]\n",
            " [0.00904143 0.37307442 0.61788415]\n",
            " [0.01383391 0.39602847 0.59013762]\n",
            " [0.01282473 0.38471942 0.60245585]\n",
            " [0.01626044 0.40831662 0.57542294]\n",
            " [0.00723616 0.35568834 0.63707551]\n",
            " [0.01559849 0.39643715 0.58796436]\n",
            " [0.01880434 0.40718802 0.57400763]\n",
            " [0.02396063 0.43742458 0.53861479]\n",
            " [0.01211556 0.38822832 0.59965612]\n",
            " [0.02981788 0.44543851 0.52474361]\n",
            " [0.01518519 0.40434268 0.58047213]\n",
            " [0.01314804 0.40275769 0.58409427]\n",
            " [0.02558457 0.43426377 0.54015166]\n",
            " [0.00696627 0.36326557 0.62976817]\n",
            " [0.01663436 0.40441194 0.5789537 ]\n",
            " [0.0172857  0.42180027 0.56091403]\n",
            " [0.02177475 0.44299607 0.53522918]\n",
            " [0.00835166 0.36374228 0.62790606]\n",
            " [0.0166036  0.41952536 0.56387105]\n",
            " [0.01964857 0.42437037 0.55598106]\n",
            " [0.02205286 0.41868146 0.55926568]]\n"
          ],
          "name": "stdout"
        }
      ]
    },
    {
      "cell_type": "code",
      "metadata": {
        "id": "ct_7Y3F2n6ov",
        "colab": {
          "base_uri": "https://localhost:8080/"
        },
        "outputId": "c21ef8d2-b968-4d06-b7de-8c40a6a180e9"
      },
      "source": [
        "# Accuracy and other measures\n",
        "\n",
        "print('Accuracy Score : ', metrics.accuracy_score(y_true = y_test, y_pred = y_predicted))"
      ],
      "execution_count": 8,
      "outputs": [
        {
          "output_type": "stream",
          "text": [
            "Accuracy Score :  0.9333333333333333\n"
          ],
          "name": "stdout"
        }
      ]
    },
    {
      "cell_type": "code",
      "metadata": {
        "id": "W1ei4VUvn-LW",
        "colab": {
          "base_uri": "https://localhost:8080/"
        },
        "outputId": "a4d13b28-96de-4fd2-fd96-e37a38aed91e"
      },
      "source": [
        "print('Classification Report : ')\n",
        "print(metrics.classification_report(y_true = y_test, y_pred = y_predicted))"
      ],
      "execution_count": 9,
      "outputs": [
        {
          "output_type": "stream",
          "text": [
            "Classification Report : \n",
            "              precision    recall  f1-score   support\n",
            "\n",
            "           0       1.00      1.00      1.00        25\n",
            "           1       1.00      0.80      0.89        25\n",
            "           2       0.83      1.00      0.91        25\n",
            "\n",
            "    accuracy                           0.93        75\n",
            "   macro avg       0.94      0.93      0.93        75\n",
            "weighted avg       0.94      0.93      0.93        75\n",
            "\n"
          ],
          "name": "stdout"
        }
      ]
    },
    {
      "cell_type": "code",
      "metadata": {
        "id": "SYLROc31oBEv",
        "colab": {
          "base_uri": "https://localhost:8080/",
          "height": 356
        },
        "outputId": "45ad9cc2-e4c9-455e-828d-61afb1ee0a9f"
      },
      "source": [
        "print('Confusion Matrix : ')\n",
        "cm = metrics.confusion_matrix(y_true = y_test, y_pred = y_predicted)\n",
        "print(cm)\n",
        "sns.heatmap(cm, annot = True, cmap = 'plasma')"
      ],
      "execution_count": 10,
      "outputs": [
        {
          "output_type": "stream",
          "text": [
            "Confusion Matrix : \n",
            "[[25  0  0]\n",
            " [ 0 20  5]\n",
            " [ 0  0 25]]\n"
          ],
          "name": "stdout"
        },
        {
          "output_type": "execute_result",
          "data": {
            "text/plain": [
              "<matplotlib.axes._subplots.AxesSubplot at 0x7f99992fba58>"
            ]
          },
          "metadata": {
            "tags": []
          },
          "execution_count": 10
        },
        {
          "output_type": "display_data",
          "data": {
            "image/png": "[encoded data removed]",
            "text/plain": [
              "<Figure size 432x288 with 2 Axes>"
            ]
          },
          "metadata": {
            "tags": [],
            "needs_background": "light"
          }
        }
      ]
    },
    {
      "cell_type": "code",
      "metadata": {
        "id": "TAwKPd_7uYIM",
        "colab": {
          "base_uri": "https://localhost:8080/"
        },
        "outputId": "b60f0ba9-92fd-4149-a295-76066d60f59d"
      },
      "source": [
        "clf = KMeans(n_clusters = 3, max_iter = 100)\n",
        "clf.fit(X_train)"
      ],
      "execution_count": 64,
      "outputs": [
        {
          "output_type": "execute_result",
          "data": {
            "text/plain": [
              "KMeans(algorithm='auto', copy_x=True, init='k-means++', max_iter=100,\n",
              "       n_clusters=3, n_init=10, n_jobs=None, precompute_distances='auto',\n",
              "       random_state=None, tol=0.0001, verbose=0)"
            ]
          },
          "metadata": {
            "tags": []
          },
          "execution_count": 64
        }
      ]
    },
    {
      "cell_type": "code",
      "metadata": {
        "colab": {
          "base_uri": "https://localhost:8080/"
        },
        "id": "7H-dX5Na9kKv",
        "outputId": "fe1cef0e-ed95-45ce-b76f-bc8a5cc0c013"
      },
      "source": [
        "# Predict the values\n",
        "\n",
        "y_predicted = clf.predict(X_test)\n",
        "print(y_predicted)"
      ],
      "execution_count": 65,
      "outputs": [
        {
          "output_type": "stream",
          "text": [
            "[0 0 0 0 0 0 0 0 0 0 0 0 0 0 0 0 0 0 0 0 0 0 0 0 0 1 1 1 1 1 1 1 1 1 1 1 1\n",
            " 1 2 1 1 1 1 1 1 1 1 1 1 1 1 2 2 2 2 2 1 2 2 1 1 1 2 1 2 2 1 2 2 2 2 2 2 2\n",
            " 1]\n"
          ],
          "name": "stdout"
        }
      ]
    },
    {
      "cell_type": "code",
      "metadata": {
        "colab": {
          "base_uri": "https://localhost:8080/"
        },
        "id": "F6ccr9Rk9qNC",
        "outputId": "f5256228-0c72-4c35-ccfa-b94da5a1a61c"
      },
      "source": [
        "# Accuracy and other measures\n",
        "\n",
        "print('Accuracy Score : ', metrics.accuracy_score(y_true = y_test, y_pred = y_predicted))"
      ],
      "execution_count": 66,
      "outputs": [
        {
          "output_type": "stream",
          "text": [
            "Accuracy Score :  0.88\n"
          ],
          "name": "stdout"
        }
      ]
    },
    {
      "cell_type": "code",
      "metadata": {
        "colab": {
          "base_uri": "https://localhost:8080/"
        },
        "id": "2QqhpGtK90k3",
        "outputId": "6ca45790-8800-4b36-b1b2-a2bc0abed9f3"
      },
      "source": [
        "print('Classification Report : ')\n",
        "print(metrics.classification_report(y_true = y_test, y_pred = y_predicted))"
      ],
      "execution_count": 67,
      "outputs": [
        {
          "output_type": "stream",
          "text": [
            "Classification Report : \n",
            "              precision    recall  f1-score   support\n",
            "\n",
            "           0       1.00      1.00      1.00        25\n",
            "           1       0.75      0.96      0.84        25\n",
            "           2       0.94      0.68      0.79        25\n",
            "\n",
            "    accuracy                           0.88        75\n",
            "   macro avg       0.90      0.88      0.88        75\n",
            "weighted avg       0.90      0.88      0.88        75\n",
            "\n"
          ],
          "name": "stdout"
        }
      ]
    },
    {
      "cell_type": "code",
      "metadata": {
        "colab": {
          "base_uri": "https://localhost:8080/",
          "height": 356
        },
        "id": "tQ2wbSA795QL",
        "outputId": "9288adaf-0f7c-4527-e986-e369daabe50d"
      },
      "source": [
        "print('Confusion Matrix : ')\n",
        "cm = metrics.confusion_matrix(y_true = y_test, y_pred = y_predicted)\n",
        "print(cm)\n",
        "sns.heatmap(cm, annot = True, cmap = 'plasma')"
      ],
      "execution_count": 68,
      "outputs": [
        {
          "output_type": "stream",
          "text": [
            "Confusion Matrix : \n",
            "[[25  0  0]\n",
            " [ 0 24  1]\n",
            " [ 0  8 17]]\n"
          ],
          "name": "stdout"
        },
        {
          "output_type": "execute_result",
          "data": {
            "text/plain": [
              "<matplotlib.axes._subplots.AxesSubplot at 0x7f9991d86128>"
            ]
          },
          "metadata": {
            "tags": []
          },
          "execution_count": 68
        },
        {
          "output_type": "display_data",
          "data": {
            "image/png": "[encoded data removed]",
            "text/plain": [
              "<Figure size 432x288 with 2 Axes>"
            ]
          },
          "metadata": {
            "tags": [],
            "needs_background": "light"
          }
        }
      ]
    },
    {
      "cell_type": "code",
      "metadata": {
        "id": "_hDhh2Qm99HK"
      },
      "source": [
        ""
      ],
      "execution_count": null,
      "outputs": []
    }
  ]
}