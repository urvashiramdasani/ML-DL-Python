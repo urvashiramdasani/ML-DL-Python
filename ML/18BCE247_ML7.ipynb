{
  "nbformat": 4,
  "nbformat_minor": 0,
  "metadata": {
    "colab": {
      "name": "18BCE247_ML7.ipynb",
      "provenance": [],
      "authorship_tag": "ABX9TyNqsDMAJJh3wJxSZLwkocp4",
      "include_colab_link": true
    },
    "kernelspec": {
      "name": "python3",
      "display_name": "Python 3"
    }
  },
  "cells": [
    {
      "cell_type": "markdown",
      "metadata": {
        "id": "view-in-github",
        "colab_type": "text"
      },
      "source": [
        "<a href=\"https://colab.research.google.com/github/urvashiramdasani/ML-DL-Python/blob/master/ML/18BCE247_ML7.ipynb\" target=\"_parent\"><img src=\"https://colab.research.google.com/assets/colab-badge.svg\" alt=\"Open In Colab\"/></a>"
      ]
    },
    {
      "cell_type": "markdown",
      "metadata": {
        "id": "TOK-Atl2gG8m"
      },
      "source": [
        "Name - Urvashi Kamal Ramdasani\n",
        "\n",
        "Roll Number - 18BCE247\n",
        "\n",
        "Batch - D3\n",
        "\n",
        "Aim - kNN with Grid Search for Hyper-parameter tuning using sklearn"
      ]
    },
    {
      "cell_type": "code",
      "metadata": {
        "id": "nMkdHs78fIxJ"
      },
      "source": [
        "# Load the libraries\n",
        "\n",
        "import numpy\n",
        "import matplotlib.pyplot as plt\n",
        "from sklearn import datasets, metrics\n",
        "import seaborn as sns\n",
        "from sklearn import neighbors\n",
        "from sklearn.model_selection import GridSearchCV"
      ],
      "execution_count": 7,
      "outputs": []
    },
    {
      "cell_type": "code",
      "metadata": {
        "id": "lKl4HguLhjev",
        "outputId": "836f6149-e516-488d-9ff7-2879124aaede",
        "colab": {
          "base_uri": "https://localhost:8080/",
          "height": 52
        }
      },
      "source": [
        "# Load dataset\n",
        "\n",
        "X, y = datasets.load_iris(return_X_y = True)\n",
        "print(X.shape)\n",
        "print(y.shape)"
      ],
      "execution_count": 2,
      "outputs": [
        {
          "output_type": "stream",
          "text": [
            "(150, 4)\n",
            "(150,)\n"
          ],
          "name": "stdout"
        }
      ]
    },
    {
      "cell_type": "code",
      "metadata": {
        "id": "FkbqzFiihp5E",
        "outputId": "5001f117-d738-4250-cf4c-99ff94b68285",
        "colab": {
          "base_uri": "https://localhost:8080/",
          "height": 52
        }
      },
      "source": [
        "# Train test split without sklearn\n",
        "\n",
        "X_train = X[range(0, 150, 2), :]\n",
        "y_train = y[range(0, 150, 2)]\n",
        "print(X_train.shape)\n",
        "print(y_train.shape)"
      ],
      "execution_count": 3,
      "outputs": [
        {
          "output_type": "stream",
          "text": [
            "(75, 4)\n",
            "(75,)\n"
          ],
          "name": "stdout"
        }
      ]
    },
    {
      "cell_type": "code",
      "metadata": {
        "id": "gF3WXy9Mhtmu",
        "outputId": "76cf1d0a-8e56-46ab-cd74-132dfe782bfe",
        "colab": {
          "base_uri": "https://localhost:8080/",
          "height": 52
        }
      },
      "source": [
        "X_test = X[range(1, 150, 2), :]\n",
        "y_test = y[range(1, 150, 2)]\n",
        "print(X_test.shape)\n",
        "\n",
        "print(y_test.shape)"
      ],
      "execution_count": 4,
      "outputs": [
        {
          "output_type": "stream",
          "text": [
            "(75, 4)\n",
            "(75,)\n"
          ],
          "name": "stdout"
        }
      ]
    },
    {
      "cell_type": "code",
      "metadata": {
        "id": "1RW08rRJhxUH"
      },
      "source": [
        "clf = neighbors.KNeighborsClassifier()"
      ],
      "execution_count": 5,
      "outputs": []
    },
    {
      "cell_type": "code",
      "metadata": {
        "id": "HVk8FIIth4JG"
      },
      "source": [
        "params_grid = [{'n_neighbors' : [1, 3, 5, 7, 9, 11], 'weights' : ['uniform', 'distance']}]"
      ],
      "execution_count": 6,
      "outputs": []
    },
    {
      "cell_type": "code",
      "metadata": {
        "id": "1nJ4wv2tiG3G"
      },
      "source": [
        "clf_gs = GridSearchCV(clf, param_grid = params_grid, cv = 5) # 5 fold cross validation"
      ],
      "execution_count": 8,
      "outputs": []
    },
    {
      "cell_type": "code",
      "metadata": {
        "id": "C01Sav58iuZC",
        "outputId": "3644692f-1749-40e6-e73d-3e74618c0597",
        "colab": {
          "base_uri": "https://localhost:8080/",
          "height": 87
        }
      },
      "source": [
        "# Training with clf_gs\n",
        "\n",
        "clf_gs.fit(X_train, y_train)\n",
        "y_predicted = clf_gs.predict(X_test)\n",
        "best_params = clf_gs.best_params_\n",
        "print('Best Parameters : ', best_params)\n",
        "print('Predicted Values : ', y_predicted)"
      ],
      "execution_count": 14,
      "outputs": [
        {
          "output_type": "stream",
          "text": [
            "Best Parameters :  {'n_neighbors': 3, 'weights': 'uniform'}\n",
            "Predicted Values :  [0 0 0 0 0 0 0 0 0 0 0 0 0 0 0 0 0 0 0 0 0 0 0 0 0 1 1 1 1 1 1 2 1 1 1 1 1\n",
            " 1 1 1 1 2 1 1 1 1 1 1 1 1 2 2 2 2 2 2 2 2 2 1 2 2 2 2 2 2 2 2 2 2 2 2 2 2\n",
            " 2]\n"
          ],
          "name": "stdout"
        }
      ]
    },
    {
      "cell_type": "code",
      "metadata": {
        "id": "lJlilQ-YjBa5",
        "outputId": "66a7a4fc-4588-4356-e5b4-4d8eb5e993a3",
        "colab": {
          "base_uri": "https://localhost:8080/",
          "height": 564
        }
      },
      "source": [
        "# Accuracy and other measures\n",
        "\n",
        "print('Accuracy Score : ', metrics.accuracy_score(y_true = y_test, y_pred = y_predicted))\n",
        "print('Classification Report : ')\n",
        "print(metrics.classification_report(y_true = y_test, y_pred = y_predicted))\n",
        "print('Confusion Matrix : ')\n",
        "\n",
        "cm = metrics.confusion_matrix(y_true = y_test, y_pred = y_predicted)\n",
        "print(cm)\n",
        "sns.heatmap(cm, annot = True, cmap = 'plasma')"
      ],
      "execution_count": 13,
      "outputs": [
        {
          "output_type": "stream",
          "text": [
            "Accuracy Score :  0.96\n",
            "Classification Report : \n",
            "              precision    recall  f1-score   support\n",
            "\n",
            "           0       1.00      1.00      1.00        25\n",
            "           1       0.96      0.92      0.94        25\n",
            "           2       0.92      0.96      0.94        25\n",
            "\n",
            "    accuracy                           0.96        75\n",
            "   macro avg       0.96      0.96      0.96        75\n",
            "weighted avg       0.96      0.96      0.96        75\n",
            "\n",
            "Confusion Matrix : \n",
            "[[25  0  0]\n",
            " [ 0 23  2]\n",
            " [ 0  1 24]]\n"
          ],
          "name": "stdout"
        },
        {
          "output_type": "execute_result",
          "data": {
            "text/plain": [
              "<matplotlib.axes._subplots.AxesSubplot at 0x7f2ab3481cc0>"
            ]
          },
          "metadata": {
            "tags": []
          },
          "execution_count": 13
        },
        {
          "output_type": "display_data",
          "data": {
            "image/png": "[encoded data removed]",
            "text/plain": [
              "<Figure size 432x288 with 2 Axes>"
            ]
          },
          "metadata": {
            "tags": [],
            "needs_background": "light"
          }
        }
      ]
    },
    {
      "cell_type": "code",
      "metadata": {
        "id": "ZrJ01fc4jTRw",
        "outputId": "1f1e1aa7-22eb-4821-dd88-93a4b8ee55fd",
        "colab": {
          "base_uri": "https://localhost:8080/",
          "height": 69
        }
      },
      "source": [
        "# Training with clf\n",
        "\n",
        "clf = neighbors.KNeighborsClassifier(best_params['n_neighbors'], best_params['weights'])\n",
        "clf.fit(X_train, y_train)\n",
        "y_predicted = clf.predict(X_test)\n",
        "print('Predicted Values : ', y_predicted)"
      ],
      "execution_count": 15,
      "outputs": [
        {
          "output_type": "stream",
          "text": [
            "Predicted Values :  [0 0 0 0 0 0 0 0 0 0 0 0 0 0 0 0 0 0 0 0 0 0 0 0 0 1 1 1 1 1 1 2 1 1 1 1 1\n",
            " 1 1 1 1 2 1 1 1 1 1 1 1 1 2 2 2 2 2 2 2 2 2 1 2 2 2 2 2 2 2 2 2 2 2 2 2 2\n",
            " 2]\n"
          ],
          "name": "stdout"
        }
      ]
    },
    {
      "cell_type": "code",
      "metadata": {
        "id": "lahv3q2skebW",
        "outputId": "02ae5a45-6bb1-431a-c090-c47ca15a1c6c",
        "colab": {
          "base_uri": "https://localhost:8080/",
          "height": 564
        }
      },
      "source": [
        "# Accuracy and other measures\n",
        "\n",
        "print('Accuracy Score : ', metrics.accuracy_score(y_true = y_test, y_pred = y_predicted))\n",
        "print('Classification Report : ')\n",
        "print(metrics.classification_report(y_true = y_test, y_pred = y_predicted))\n",
        "print('Confusion Matrix : ')\n",
        "\n",
        "cm = metrics.confusion_matrix(y_true = y_test, y_pred = y_predicted)\n",
        "print(cm)\n",
        "sns.heatmap(cm, annot = True, cmap = 'plasma')"
      ],
      "execution_count": 16,
      "outputs": [
        {
          "output_type": "stream",
          "text": [
            "Accuracy Score :  0.96\n",
            "Classification Report : \n",
            "              precision    recall  f1-score   support\n",
            "\n",
            "           0       1.00      1.00      1.00        25\n",
            "           1       0.96      0.92      0.94        25\n",
            "           2       0.92      0.96      0.94        25\n",
            "\n",
            "    accuracy                           0.96        75\n",
            "   macro avg       0.96      0.96      0.96        75\n",
            "weighted avg       0.96      0.96      0.96        75\n",
            "\n",
            "Confusion Matrix : \n",
            "[[25  0  0]\n",
            " [ 0 23  2]\n",
            " [ 0  1 24]]\n"
          ],
          "name": "stdout"
        },
        {
          "output_type": "execute_result",
          "data": {
            "text/plain": [
              "<matplotlib.axes._subplots.AxesSubplot at 0x7f2ab32f6240>"
            ]
          },
          "metadata": {
            "tags": []
          },
          "execution_count": 16
        },
        {
          "output_type": "display_data",
          "data": {
            "image/png": "[encoded data removed]",
            "text/plain": [
              "<Figure size 432x288 with 2 Axes>"
            ]
          },
          "metadata": {
            "tags": [],
            "needs_background": "light"
          }
        }
      ]
    },
    {
      "cell_type": "code",
      "metadata": {
        "id": "fHQ1H6Wjkigl"
      },
      "source": [
        ""
      ],
      "execution_count": null,
      "outputs": []
    }
  ]
}