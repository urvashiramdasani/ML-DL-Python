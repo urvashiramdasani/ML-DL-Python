{
  "nbformat": 4,
  "nbformat_minor": 0,
  "metadata": {
    "colab": {
      "name": "18BCE247_ML7.ipynb",
      "provenance": [],
      "collapsed_sections": [],
      "authorship_tag": "ABX9TyNXUBYaShl3mZBvOGjx1PuJ",
      "include_colab_link": true
    },
    "kernelspec": {
      "name": "python3",
      "display_name": "Python 3"
    }
  },
  "cells": [
    {
      "cell_type": "markdown",
      "metadata": {
        "id": "view-in-github",
        "colab_type": "text"
      },
      "source": [
        "<a href=\"https://colab.research.google.com/github/urvashiramdasani/ML-DL-Python/blob/master/ML/18BCE247_ML7.ipynb\" target=\"_parent\"><img src=\"https://colab.research.google.com/assets/colab-badge.svg\" alt=\"Open In Colab\"/></a>"
      ]
    },
    {
      "cell_type": "markdown",
      "metadata": {
        "id": "TOK-Atl2gG8m"
      },
      "source": [
        "Name - Urvashi Kamal Ramdasani\n",
        "\n",
        "Roll Number - 18BCE247\n",
        "\n",
        "Batch - D3\n",
        "\n",
        "Aim - Support Vector Classification and Regression with Grid\n",
        "Search for Hyper-parameter tuning using sklearn"
      ]
    },
    {
      "cell_type": "code",
      "metadata": {
        "id": "nMkdHs78fIxJ"
      },
      "source": [
        "# Load the libraries\n",
        "\n",
        "import numpy\n",
        "import matplotlib.pyplot as plt\n",
        "from sklearn import datasets, metrics\n",
        "import seaborn as sns\n",
        "from sklearn import neighbors, svm\n",
        "from sklearn.model_selection import GridSearchCV"
      ],
      "execution_count": null,
      "outputs": []
    },
    {
      "cell_type": "code",
      "metadata": {
        "id": "lKl4HguLhjev",
        "colab": {
          "base_uri": "https://localhost:8080/"
        },
        "outputId": "82410288-cb6b-49b7-e611-21ce4e41c005"
      },
      "source": [
        "# Load dataset\n",
        "\n",
        "X, y = datasets.load_iris(return_X_y = True)\n",
        "print(X.shape)\n",
        "print(y.shape)"
      ],
      "execution_count": null,
      "outputs": [
        {
          "output_type": "stream",
          "text": [
            "(150, 4)\n",
            "(150,)\n"
          ],
          "name": "stdout"
        }
      ]
    },
    {
      "cell_type": "code",
      "metadata": {
        "id": "FkbqzFiihp5E",
        "colab": {
          "base_uri": "https://localhost:8080/"
        },
        "outputId": "00bbf287-25e2-4d1a-fa40-1b8c7bdde390"
      },
      "source": [
        "# Train test split without sklearn\n",
        "\n",
        "X_train = X[range(0, 150, 2), :]\n",
        "y_train = y[range(0, 150, 2)]\n",
        "print(X_train.shape)\n",
        "print(y_train.shape)"
      ],
      "execution_count": null,
      "outputs": [
        {
          "output_type": "stream",
          "text": [
            "(75, 4)\n",
            "(75,)\n"
          ],
          "name": "stdout"
        }
      ]
    },
    {
      "cell_type": "code",
      "metadata": {
        "id": "gF3WXy9Mhtmu",
        "colab": {
          "base_uri": "https://localhost:8080/"
        },
        "outputId": "ef204e8b-c61a-4fed-a135-01d6c7761b99"
      },
      "source": [
        "X_test = X[range(1, 150, 2), :]\n",
        "y_test = y[range(1, 150, 2)]\n",
        "print(X_test.shape)\n",
        "\n",
        "print(y_test.shape)"
      ],
      "execution_count": null,
      "outputs": [
        {
          "output_type": "stream",
          "text": [
            "(75, 4)\n",
            "(75,)\n"
          ],
          "name": "stdout"
        }
      ]
    },
    {
      "cell_type": "code",
      "metadata": {
        "id": "1RW08rRJhxUH"
      },
      "source": [
        "clf = neighbors.KNeighborsClassifier()"
      ],
      "execution_count": null,
      "outputs": []
    },
    {
      "cell_type": "code",
      "metadata": {
        "id": "HVk8FIIth4JG"
      },
      "source": [
        "params_grid = [{'n_neighbors' : [1, 3, 5, 7, 9, 11], 'weights' : ['uniform', 'distance']}]"
      ],
      "execution_count": null,
      "outputs": []
    },
    {
      "cell_type": "code",
      "metadata": {
        "id": "1nJ4wv2tiG3G"
      },
      "source": [
        "clf_gs = GridSearchCV(clf, param_grid = params_grid, cv = 5) # 5 fold cross validation"
      ],
      "execution_count": null,
      "outputs": []
    },
    {
      "cell_type": "code",
      "metadata": {
        "id": "C01Sav58iuZC",
        "colab": {
          "base_uri": "https://localhost:8080/"
        },
        "outputId": "e11c556c-956e-4bc3-d139-1b71661fefa8"
      },
      "source": [
        "# Training with clf_gs\n",
        "\n",
        "clf_gs.fit(X_train, y_train)\n",
        "y_predicted = clf_gs.predict(X_test)\n",
        "best_params = clf_gs.best_params_\n",
        "print('Best Parameters : ', best_params)\n",
        "print('Predicted Values : ', y_predicted)"
      ],
      "execution_count": null,
      "outputs": [
        {
          "output_type": "stream",
          "text": [
            "Best Parameters :  {'n_neighbors': 3, 'weights': 'uniform'}\n",
            "Predicted Values :  [0 0 0 0 0 0 0 0 0 0 0 0 0 0 0 0 0 0 0 0 0 0 0 0 0 1 1 1 1 1 1 2 1 1 1 1 1\n",
            " 1 1 1 1 2 1 1 1 1 1 1 1 1 2 2 2 2 2 2 2 2 2 1 2 2 2 2 2 2 2 2 2 2 2 2 2 2\n",
            " 2]\n"
          ],
          "name": "stdout"
        }
      ]
    },
    {
      "cell_type": "code",
      "metadata": {
        "id": "lJlilQ-YjBa5",
        "colab": {
          "base_uri": "https://localhost:8080/",
          "height": 564
        },
        "outputId": "6588b0a8-a5af-4d1d-f313-fab015a22164"
      },
      "source": [
        "# Accuracy and other measures\n",
        "\n",
        "print('Accuracy Score : ', metrics.accuracy_score(y_true = y_test, y_pred = y_predicted))\n",
        "print('Classification Report : ')\n",
        "print(metrics.classification_report(y_true = y_test, y_pred = y_predicted))\n",
        "print('Confusion Matrix : ')\n",
        "\n",
        "cm = metrics.confusion_matrix(y_true = y_test, y_pred = y_predicted)\n",
        "print(cm)\n",
        "sns.heatmap(cm, annot = True, cmap = 'plasma')"
      ],
      "execution_count": null,
      "outputs": [
        {
          "output_type": "stream",
          "text": [
            "Accuracy Score :  0.96\n",
            "Classification Report : \n",
            "              precision    recall  f1-score   support\n",
            "\n",
            "           0       1.00      1.00      1.00        25\n",
            "           1       0.96      0.92      0.94        25\n",
            "           2       0.92      0.96      0.94        25\n",
            "\n",
            "    accuracy                           0.96        75\n",
            "   macro avg       0.96      0.96      0.96        75\n",
            "weighted avg       0.96      0.96      0.96        75\n",
            "\n",
            "Confusion Matrix : \n",
            "[[25  0  0]\n",
            " [ 0 23  2]\n",
            " [ 0  1 24]]\n"
          ],
          "name": "stdout"
        },
        {
          "output_type": "execute_result",
          "data": {
            "text/plain": [
              "<matplotlib.axes._subplots.AxesSubplot at 0x7fd299c212b0>"
            ]
          },
          "metadata": {
            "tags": []
          },
          "execution_count": 9
        },
        {
          "output_type": "display_data",
          "data": {
            "image/png": "[encoded data removed]",
            "text/plain": [
              "<Figure size 432x288 with 2 Axes>"
            ]
          },
          "metadata": {
            "tags": [],
            "needs_background": "light"
          }
        }
      ]
    },
    {
      "cell_type": "code",
      "metadata": {
        "id": "ZrJ01fc4jTRw",
        "colab": {
          "base_uri": "https://localhost:8080/"
        },
        "outputId": "b300280c-f8f8-43f3-ccb6-57da40a4401c"
      },
      "source": [
        "# Training with clf\n",
        "\n",
        "clf = neighbors.KNeighborsClassifier(best_params['n_neighbors'], best_params['weights'])\n",
        "clf.fit(X_train, y_train)\n",
        "y_predicted = clf.predict(X_test)\n",
        "print('Predicted Values : ', y_predicted)"
      ],
      "execution_count": null,
      "outputs": [
        {
          "output_type": "stream",
          "text": [
            "Predicted Values :  [0 0 0 0 0 0 0 0 0 0 0 0 0 0 0 0 0 0 0 0 0 0 0 0 0 1 1 1 1 1 1 2 1 1 1 1 1\n",
            " 1 1 1 1 2 1 1 1 1 1 1 1 1 2 2 2 2 2 2 2 2 2 1 2 2 2 2 2 2 2 2 2 2 2 2 2 2\n",
            " 2]\n"
          ],
          "name": "stdout"
        }
      ]
    },
    {
      "cell_type": "code",
      "metadata": {
        "id": "lahv3q2skebW",
        "colab": {
          "base_uri": "https://localhost:8080/",
          "height": 564
        },
        "outputId": "59d4088f-efad-411b-d1de-d237469abd37"
      },
      "source": [
        "# Accuracy and other measures\n",
        "\n",
        "print('Accuracy Score : ', metrics.accuracy_score(y_true = y_test, y_pred = y_predicted))\n",
        "print('Classification Report : ')\n",
        "print(metrics.classification_report(y_true = y_test, y_pred = y_predicted))\n",
        "print('Confusion Matrix : ')\n",
        "\n",
        "cm = metrics.confusion_matrix(y_true = y_test, y_pred = y_predicted)\n",
        "print(cm)\n",
        "sns.heatmap(cm, annot = True, cmap = 'plasma')"
      ],
      "execution_count": null,
      "outputs": [
        {
          "output_type": "stream",
          "text": [
            "Accuracy Score :  0.96\n",
            "Classification Report : \n",
            "              precision    recall  f1-score   support\n",
            "\n",
            "           0       1.00      1.00      1.00        25\n",
            "           1       0.96      0.92      0.94        25\n",
            "           2       0.92      0.96      0.94        25\n",
            "\n",
            "    accuracy                           0.96        75\n",
            "   macro avg       0.96      0.96      0.96        75\n",
            "weighted avg       0.96      0.96      0.96        75\n",
            "\n",
            "Confusion Matrix : \n",
            "[[25  0  0]\n",
            " [ 0 23  2]\n",
            " [ 0  1 24]]\n"
          ],
          "name": "stdout"
        },
        {
          "output_type": "execute_result",
          "data": {
            "text/plain": [
              "<matplotlib.axes._subplots.AxesSubplot at 0x7fd2972cac18>"
            ]
          },
          "metadata": {
            "tags": []
          },
          "execution_count": 11
        },
        {
          "output_type": "display_data",
          "data": {
            "image/png": "[encoded data removed]",
            "text/plain": [
              "<Figure size 432x288 with 2 Axes>"
            ]
          },
          "metadata": {
            "tags": [],
            "needs_background": "light"
          }
        }
      ]
    },
    {
      "cell_type": "markdown",
      "metadata": {
        "id": "o8qmuurJQW_f"
      },
      "source": [
        "#### Support Vector Machine"
      ]
    },
    {
      "cell_type": "code",
      "metadata": {
        "id": "fHQ1H6Wjkigl"
      },
      "source": [
        "classifier = svm.SVC()"
      ],
      "execution_count": null,
      "outputs": []
    },
    {
      "cell_type": "code",
      "metadata": {
        "id": "lWeBv-akQlzt",
        "colab": {
          "base_uri": "https://localhost:8080/"
        },
        "outputId": "6ae57793-18a0-430d-e88b-ea72e1595946"
      },
      "source": [
        "classifier.fit(X_train, y_train)\n",
        "y_predicted = classifier.predict(X_test)\n",
        "print('Predicted Values : ', y_predicted)"
      ],
      "execution_count": null,
      "outputs": [
        {
          "output_type": "stream",
          "text": [
            "Predicted Values :  [0 0 0 0 0 0 0 0 0 0 0 0 0 0 0 0 0 0 0 0 0 0 0 0 0 1 1 1 1 1 1 1 1 1 1 1 1\n",
            " 1 1 1 1 2 1 1 1 1 1 1 1 1 2 2 2 2 2 2 2 2 2 1 2 1 2 1 2 2 1 2 2 2 2 2 2 2\n",
            " 2]\n"
          ],
          "name": "stdout"
        }
      ]
    },
    {
      "cell_type": "code",
      "metadata": {
        "id": "T27XGIiGQqQ-",
        "colab": {
          "base_uri": "https://localhost:8080/",
          "height": 564
        },
        "outputId": "b18126ce-211b-4543-ffdf-51165cc4318a"
      },
      "source": [
        "# Accuracy and other measures\n",
        "\n",
        "print('Accuracy Score : ', metrics.accuracy_score(y_true = y_test, y_pred = y_predicted))\n",
        "print('Classification Report : ')\n",
        "print(metrics.classification_report(y_true = y_test, y_pred = y_predicted))\n",
        "print('Confusion Matrix : ')\n",
        "\n",
        "cm = metrics.confusion_matrix(y_true = y_test, y_pred = y_predicted)\n",
        "print(cm)\n",
        "sns.heatmap(cm, annot = True, cmap = 'plasma')"
      ],
      "execution_count": null,
      "outputs": [
        {
          "output_type": "stream",
          "text": [
            "Accuracy Score :  0.9333333333333333\n",
            "Classification Report : \n",
            "              precision    recall  f1-score   support\n",
            "\n",
            "           0       1.00      1.00      1.00        25\n",
            "           1       0.86      0.96      0.91        25\n",
            "           2       0.95      0.84      0.89        25\n",
            "\n",
            "    accuracy                           0.93        75\n",
            "   macro avg       0.94      0.93      0.93        75\n",
            "weighted avg       0.94      0.93      0.93        75\n",
            "\n",
            "Confusion Matrix : \n",
            "[[25  0  0]\n",
            " [ 0 24  1]\n",
            " [ 0  4 21]]\n"
          ],
          "name": "stdout"
        },
        {
          "output_type": "execute_result",
          "data": {
            "text/plain": [
              "<matplotlib.axes._subplots.AxesSubplot at 0x7fd2972ca0f0>"
            ]
          },
          "metadata": {
            "tags": []
          },
          "execution_count": 15
        },
        {
          "output_type": "display_data",
          "data": {
            "image/png": "[encoded data removed]",
            "text/plain": [
              "<Figure size 432x288 with 2 Axes>"
            ]
          },
          "metadata": {
            "tags": [],
            "needs_background": "light"
          }
        }
      ]
    },
    {
      "cell_type": "code",
      "metadata": {
        "id": "DQ_5fpw4Sfs7"
      },
      "source": [
        ""
      ],
      "execution_count": null,
      "outputs": []
    }
  ]
}