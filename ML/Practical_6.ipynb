{
  "nbformat": 4,
  "nbformat_minor": 0,
  "metadata": {
    "colab": {
      "name": "Practical_6.ipynb",
      "provenance": [],
      "authorship_tag": "ABX9TyPEFzF4jcBu5/ZGgf8eH1oj",
      "include_colab_link": true
    },
    "kernelspec": {
      "name": "python3",
      "display_name": "Python 3"
    }
  },
  "cells": [
    {
      "cell_type": "markdown",
      "metadata": {
        "id": "view-in-github",
        "colab_type": "text"
      },
      "source": [
        "<a href=\"https://colab.research.google.com/github/urvashiramdasani/Python/blob/master/Practical_6.ipynb\" target=\"_parent\"><img src=\"https://colab.research.google.com/assets/colab-badge.svg\" alt=\"Open In Colab\"/></a>"
      ]
    },
    {
      "cell_type": "markdown",
      "metadata": {
        "id": "D4ooyPR-seCI",
        "colab_type": "text"
      },
      "source": [
        "Assume that you are a professional fighter and in the past, you had fights with Undertaker. There were total of 10 fights between you and Undertaker. Assume that you set up a fresh fight tournament of 20 fights between you and Undertaker. Write a program which scans result of 10 earlier fights and computes the probability of (i) you wining x number of fights (ii) you winning more than y number of fights in the new tournament. Scan x and y from the user. Assume that fights are independent and each fight can either result in you or him winning. Assume that probability of you winning in each fight remains constant."
      ]
    },
    {
      "cell_type": "code",
      "metadata": {
        "id": "md0UTBrZxl2G",
        "colab_type": "code",
        "colab": {}
      },
      "source": [
        "import math"
      ],
      "execution_count": 0,
      "outputs": []
    },
    {
      "cell_type": "code",
      "metadata": {
        "id": "ztAtvm5lsmSK",
        "colab_type": "code",
        "colab": {
          "base_uri": "https://localhost:8080/",
          "height": 295
        },
        "outputId": "8348d54b-0345-4230-d90a-7cc801704116"
      },
      "source": [
        "def nCr(n,r):\n",
        "  return math.factorial(n)/(math.factorial(r)*math.factorial(n-r))\n",
        "\n",
        "print('Enter the results of fight for the 10 fights tournament ')\n",
        "print('Denote Win by W and Lost by L')\n",
        "result = [] # use random.choice to generate randomly w and l\n",
        "\n",
        "for i in range(0,10):\n",
        "  ch = input('Match {} '.format(i+1))\n",
        "  result.append(ch)\n",
        "\n",
        "result = [x.lower() for x in result]\n",
        "#print(result)\n",
        "win_count = result.count('w')\n",
        "#print(win_count)\n",
        "loss_count = result.count('l')\n",
        "p = win_count/10\n",
        "q = loss_count/10\n",
        "\n",
        "x = int(input('Enter the number of fights you will win in 20 match tournament : '))\n",
        "y = int(input('Enter the least number of fights you will win : '))\n",
        "\n",
        "PX = nCr(20,x)*(p**x)*(q**(20-x))\n",
        "print(PX)\n",
        "sum_y = []\n",
        "for i in range(y+1,21):\n",
        "  p_y = nCr(20,i)*(p**i)*(q**(20-i))\n",
        "  sum_y.append(p_y)\n",
        "print(sum(sum_y))"
      ],
      "execution_count": 11,
      "outputs": [
        {
          "output_type": "stream",
          "text": [
            "Enter the results of fight for the 10 fights tournament \n",
            "Denote Win by W and Lost by L\n",
            "Match 1 w\n",
            "Match 2 w\n",
            "Match 3 w\n",
            "Match 4 w\n",
            "Match 5 w\n",
            "Match 6 l\n",
            "Match 7 l\n",
            "Match 8 l\n",
            "Match 9 l\n",
            "Match 10 l\n",
            "Enter the number of fights you will win in 20 match tournament : 5\n",
            "Enter the least number of fights you will win : 10\n",
            "0.0147857666015625\n",
            "0.41190147399902344\n"
          ],
          "name": "stdout"
        }
      ]
    },
    {
      "cell_type": "code",
      "metadata": {
        "id": "-XSFL1wttekR",
        "colab_type": "code",
        "colab": {}
      },
      "source": [
        ""
      ],
      "execution_count": 0,
      "outputs": []
    }
  ]
}
