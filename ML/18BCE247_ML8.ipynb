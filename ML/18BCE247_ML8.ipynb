{
  "nbformat": 4,
  "nbformat_minor": 0,
  "metadata": {
    "colab": {
      "name": "18BCE247_ML8.ipynb",
      "provenance": [],
      "collapsed_sections": [],
      "authorship_tag": "ABX9TyNEBguUVIJWiQTmkGJHVrRA",
      "include_colab_link": true
    },
    "kernelspec": {
      "name": "python3",
      "display_name": "Python 3"
    }
  },
  "cells": [
    {
      "cell_type": "markdown",
      "metadata": {
        "id": "view-in-github",
        "colab_type": "text"
      },
      "source": [
        "<a href=\"https://colab.research.google.com/github/urvashiramdasani/ML-DL-Python/blob/master/ML/18BCE247_ML8.ipynb\" target=\"_parent\"><img src=\"https://colab.research.google.com/assets/colab-badge.svg\" alt=\"Open In Colab\"/></a>"
      ]
    },
    {
      "cell_type": "markdown",
      "metadata": {
        "id": "Q3RwM6URc7AJ"
      },
      "source": [
        "Name : Urvashi Ramdasani\n",
        "\n",
        "Roll Number : 18BCE247\n",
        "\n",
        "Batch : D3\n",
        "\n",
        "Aim : AND gate using Perceptron Learning"
      ]
    },
    {
      "cell_type": "code",
      "metadata": {
        "id": "QWcEKGfOcj0D"
      },
      "source": [
        "import numpy as np\n",
        "import pandas as pd\n",
        "import matplotlib.pyplot as plt"
      ],
      "execution_count": null,
      "outputs": []
    },
    {
      "cell_type": "code",
      "metadata": {
        "id": "jJzehjizhOpi"
      },
      "source": [
        "X = np.array([[0, 0], [0, 1], [1, 0], [1, 1]])\n",
        "y = np.array([0, 0, 0, 1])"
      ],
      "execution_count": null,
      "outputs": []
    },
    {
      "cell_type": "code",
      "metadata": {
        "id": "P27-f9uCsrbv",
        "colab": {
          "base_uri": "https://localhost:8080/",
          "height": 281
        },
        "outputId": "6647505f-f96d-4d0e-8f0d-998fe2e6a641"
      },
      "source": [
        "# Plot for different classes\n",
        "\n",
        "plt.scatter(0, 0, color='blue', label='Class 0')\n",
        "plt.scatter(0, 1, color='blue', label='Class 0')\n",
        "plt.scatter(1, 0, color='blue', label='Class 0')\n",
        "plt.scatter(1, 1, color='orange', label='Class 1')\n",
        "plt.title('Scatter plot')\n",
        "plt.show()"
      ],
      "execution_count": null,
      "outputs": [
        {
          "output_type": "display_data",
          "data": {
            "image/png": "[encoded data removed]",
            "text/plain": [
              "<Figure size 432x288 with 1 Axes>"
            ]
          },
          "metadata": {
            "tags": [],
            "needs_background": "light"
          }
        }
      ]
    },
    {
      "cell_type": "code",
      "metadata": {
        "id": "v-8ikUEbfTSQ",
        "colab": {
          "base_uri": "https://localhost:8080/"
        },
        "outputId": "63597306-972b-4a5a-c398-cee83bdad3a7"
      },
      "source": [
        "w = np.zeros(X.shape[1])\n",
        "b = 0\n",
        "print('w : ', w)\n",
        "print('b : ', b)\n",
        "print('w.shape : ', w.shape)"
      ],
      "execution_count": null,
      "outputs": [
        {
          "output_type": "stream",
          "text": [
            "w :  [0. 0.]\n",
            "b :  0\n",
            "w.shape :  (2,)\n"
          ],
          "name": "stdout"
        }
      ]
    },
    {
      "cell_type": "code",
      "metadata": {
        "id": "d_27nyl7jp0Z"
      },
      "source": [
        "def hardlim(target):\n",
        "  if target >= 0:\n",
        "    return 1\n",
        "  else:\n",
        "    return 0"
      ],
      "execution_count": null,
      "outputs": []
    },
    {
      "cell_type": "code",
      "metadata": {
        "id": "U32999iWiZhO",
        "colab": {
          "base_uri": "https://localhost:8080/"
        },
        "outputId": "6ecf5c16-38e2-49f9-def1-680e0553c92c"
      },
      "source": [
        "epochs = 5\n",
        "lr = .01\n",
        "\n",
        "for epoch in range(epochs):\n",
        "  for i in range(X.shape[0]):\n",
        "    target = np.dot(w, X[i]) + b\n",
        "    target = hardlim(target) \n",
        "    e = y[i] - target\n",
        "\n",
        "    w = w + X[i] * e * lr\n",
        "    b = b + lr * e\n",
        "\n",
        "print('Updated w : ', w)\n",
        "print('Updated b : ', b)\n",
        "\n",
        "predictions = []\n",
        "for i in range(X.shape[0]):\n",
        "  predictions.append(hardlim(np.dot(w, X[i]) + b))\n",
        "print(predictions)"
      ],
      "execution_count": null,
      "outputs": [
        {
          "output_type": "stream",
          "text": [
            "Updated w :  [0.02 0.01]\n",
            "Updated b :  -0.03\n",
            "[0, 0, 0, 1]\n"
          ],
          "name": "stdout"
        }
      ]
    },
    {
      "cell_type": "code",
      "metadata": {
        "id": "tNsekQyMbe59",
        "colab": {
          "base_uri": "https://localhost:8080/"
        },
        "outputId": "7366e298-6b06-4104-8b12-31a54bdecafc"
      },
      "source": [
        "# Calulations for plotting decision boundary\n",
        "\n",
        "w1 = w[0]\n",
        "w2 = w[1]\n",
        "x_intercept = (0, -b / w2)\n",
        "y_intercept = (-b / w1, 0)\n",
        "m = -(b / w1) / (b / w2)\n",
        "y = m * X + (-b / w1)\n",
        "print(y)"
      ],
      "execution_count": null,
      "outputs": [
        {
          "output_type": "stream",
          "text": [
            "[[1.5 1.5]\n",
            " [1.5 1. ]\n",
            " [1.  1.5]\n",
            " [1.  1. ]]\n"
          ],
          "name": "stdout"
        }
      ]
    },
    {
      "cell_type": "code",
      "metadata": {
        "id": "FLkWnAqvchBo",
        "colab": {
          "base_uri": "https://localhost:8080/",
          "height": 281
        },
        "outputId": "c1833b80-739b-4b71-ba5c-0e0db2284ce1"
      },
      "source": [
        "# Plot for decision boundary\n",
        "\n",
        "plt.scatter(0, 0, color='blue', label='Class 0')\n",
        "plt.scatter(0, 1, color='blue', label='Class 0')\n",
        "plt.scatter(1, 0, color='blue', label='Class 0')\n",
        "plt.scatter(1, 1, color='orange', label='Class 1')\n",
        "plt.title('Scatter plot with hyperplane')\n",
        "plt.plot(X, y, 'k-')\n",
        "plt.show()"
      ],
      "execution_count": null,
      "outputs": [
        {
          "output_type": "display_data",
          "data": {
            "image/png": "[encoded data removed]",
            "text/plain": [
              "<Figure size 432x288 with 1 Axes>"
            ]
          },
          "metadata": {
            "tags": [],
            "needs_background": "light"
          }
        }
      ]
    },
    {
      "cell_type": "code",
      "metadata": {
        "id": "Mg4YdxxgczI2"
      },
      "source": [
        ""
      ],
      "execution_count": null,
      "outputs": []
    }
  ]
}