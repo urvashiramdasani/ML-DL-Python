{
  "nbformat": 4,
  "nbformat_minor": 0,
  "metadata": {
    "colab": {
      "name": "bayes_theorm.ipynb",
      "provenance": [],
      "authorship_tag": "ABX9TyPyGCYS5bGUURxgCU5BK+HM",
      "include_colab_link": true
    },
    "kernelspec": {
      "name": "python3",
      "display_name": "Python 3"
    }
  },
  "cells": [
    {
      "cell_type": "markdown",
      "metadata": {
        "id": "view-in-github",
        "colab_type": "text"
      },
      "source": [
        "<a href=\"https://colab.research.google.com/github/urvashiramdasani/Python/blob/master/bayes_theorm.ipynb\" target=\"_parent\"><img src=\"https://colab.research.google.com/assets/colab-badge.svg\" alt=\"Open In Colab\"/></a>"
      ]
    },
    {
      "cell_type": "code",
      "metadata": {
        "id": "iZM-s0i5gnFG",
        "colab_type": "code",
        "colab": {
          "base_uri": "https://localhost:8080/",
          "height": 139
        },
        "outputId": "6c46d877-9817-432d-c74a-da5a8b3eb26a"
      },
      "source": [
        "#bayes theroem (i)\n",
        "import numpy as np\n",
        "k = int(input('Enter the number of events: '))\n",
        "\n",
        "while(k<=0):\n",
        "  k = int(input('Enter a positive value : '))\n",
        "\n",
        "List = []\n",
        "for i in range(1,k+1):\n",
        "  tmp = float(input('Enter P(E{0}) : '.format(i)))\n",
        "  while tmp<0.0 and tmp>1:\n",
        "    print('Invalid Value!')\n",
        "    tmp = float(input('Enter P(E{0}) : '.format(i)))\n",
        "  List.append(tmp)\n",
        "\n",
        "while not(sum(List)==1):\n",
        "  List.clear()\n",
        "  print('Invalid set of Values!')\n",
        "  for i in range(1,k+1):\n",
        "    tmp = float(input('Enter P(E{0}) : '.format(i)))\n",
        "    while tmp<0.0 and tmp>1:\n",
        "      print('Invalid Value!')\n",
        "      tmp = float(input('Enter P(E{0}) : '.format(i)))\n",
        "    List.append(tmp)\n",
        "\n",
        "pe = np.array(List,float)\n",
        "\n",
        "List2 = []\n",
        "for i in range(1,k+1):\n",
        "  tmp = float(input('Enter P(B/E{0}) : '.format(i)))\n",
        "  while tmp<0.0 and tmp>1:\n",
        "    print('Invalid Value!')\n",
        "    tmp = float(input('Enter P(B/E{0}) : '.format(i)))\n",
        "  List2.append(tmp)\n",
        "\n",
        "pbe = np.array(List2,float)\n",
        "temp = pe*pbe\n",
        "pb = sum(temp)\n",
        "peb = temp/pb\n",
        "\n",
        "for i in range(0,k):\n",
        "  print('P(E{0}/B) = '.format(i+1),peb[i])"
      ],
      "execution_count": 27,
      "outputs": [
        {
          "output_type": "stream",
          "text": [
            "Enter the number of events: 2\n",
            "Enter P(E1) : 0\n",
            "Enter P(E2) : 1\n",
            "Enter P(B/E1) : .75\n",
            "Enter P(B/E2) : .5\n",
            "P(E1/B) =  0.0\n",
            "P(E2/B) =  1.0\n"
          ],
          "name": "stdout"
        }
      ]
    },
    {
      "cell_type": "code",
      "metadata": {
        "id": "SAH8q8f4jUUu",
        "colab_type": "code",
        "colab": {}
      },
      "source": [
        ""
      ],
      "execution_count": 0,
      "outputs": []
    }
  ]
}
