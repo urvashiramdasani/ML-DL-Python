{
  "nbformat": 4,
  "nbformat_minor": 0,
  "metadata": {
    "colab": {
      "name": "Copy of Practical_7.ipynb",
      "provenance": [],
      "collapsed_sections": [],
      "authorship_tag": "ABX9TyOlGSXlnQJ9L9L5ufUTYi5d",
      "include_colab_link": true
    },
    "kernelspec": {
      "name": "python3",
      "display_name": "Python 3"
    }
  },
  "cells": [
    {
      "cell_type": "markdown",
      "metadata": {
        "id": "view-in-github",
        "colab_type": "text"
      },
      "source": [
        "<a href=\"https://colab.research.google.com/github/urvashiramdasani/Python/blob/master/Copy_of_Practical_7.ipynb\" target=\"_parent\"><img src=\"https://colab.research.google.com/assets/colab-badge.svg\" alt=\"Open In Colab\"/></a>"
      ]
    },
    {
      "cell_type": "markdown",
      "metadata": {
        "id": "Z4_HUIK5DoF3",
        "colab_type": "text"
      },
      "source": [
        "Scan an integer n from the user. Scan n sentences (no special character, punctuation, all lower case letters). Each sentence’s sentiment is either positive or negative. Scan 2 different words y and z from the user. y and z should be words from the set of distinct words constructed from n sentences. Write a program to estimate (i) the probability of y being present in the positive sentences (ii) the joint probability of y and z being present in positive sentences assuming that the presence of y and z in any sentence are independent events. What would be this probability if these events are not independent?"
      ]
    },
    {
      "cell_type": "code",
      "metadata": {
        "id": "btKIclPLDy4r",
        "colab_type": "code",
        "colab": {}
      },
      "source": [
        "import numpy as np\n",
        "import matplotlib.pyplot as plt\n",
        "import math"
      ],
      "execution_count": 0,
      "outputs": []
    },
    {
      "cell_type": "code",
      "metadata": {
        "id": "_-QrcOKfEE5w",
        "colab_type": "code",
        "outputId": "ec7f6156-ec22-4fa6-b171-086879dfd018",
        "colab": {
          "base_uri": "https://localhost:8080/",
          "height": 225
        }
      },
      "source": [
        "n = int(input('Enter n : '))\n",
        "# sentences = []\n",
        "positive_word = []\n",
        "negative_word = []\n",
        "sent = {'positive':0, 'negative':0}\n",
        "\n",
        "for i in range(0,n):\n",
        "  sentiment = input(\"Enter the sentiment of {0} sentence : (positve or negative) \".format(i+1))\n",
        "  sentence = input(('Enter {0} sentence : '.format(i+1)))\n",
        "\n",
        "  if sentiment == 'positive':\n",
        "    positive_word.extend(sentence.split(' '))\n",
        "    sent['positive'] += 1\n",
        "\n",
        "  elif sentiment == 'negative':\n",
        "    negative_word.extend(sentence.split(' '))\n",
        "    sent['negative'] += 1\n",
        "    \n",
        "# print(positive_word)\n",
        "# print(negative_word)\n",
        "\n",
        "positive = {}\n",
        "negative = {}\n",
        "for word in positive_word:\n",
        "  if word in positive:\n",
        "    positive[word] += 1\n",
        "  \n",
        "  else:\n",
        "    positive[word] = 1\n",
        "\n",
        "for word in negative_word:\n",
        "  if word in negative:\n",
        "    negative[word] += 1\n",
        "\n",
        "  else:\n",
        "    negative[word] = 1\n",
        "\n",
        "# print(positive)\n",
        "# print(negative)\n",
        "\n",
        "  # sentences.append(input())\n",
        "# print(sentences)\n",
        "\n",
        "y,z = eval(input('Enter two words (comma separated) : '))\n",
        "# print(y,z)\n",
        "\n",
        "# for string in sentences:\n",
        "#   word.extend(string.split(' '))\n",
        "# print(word)\n",
        "\n",
        "#arr = np.array(sentences,word) cant do\n",
        "# words = np.array(word)\n",
        "# print(words)\n"
      ],
      "execution_count": 0,
      "outputs": [
        {
          "output_type": "stream",
          "text": [
            "Enter n : 5\n",
            "Enter the sentiment of 1 sentence : (positve or negative) positive\n",
            "Enter 1 sentence : it was good\n",
            "Enter the sentiment of 2 sentence : (positve or negative) negative\n",
            "Enter 2 sentence : it was bad\n",
            "Enter the sentiment of 3 sentence : (positve or negative) positive\n",
            "Enter 3 sentence : better\n",
            "Enter the sentiment of 4 sentence : (positve or negative) negative\n",
            "Enter 4 sentence : worse\n",
            "Enter the sentiment of 5 sentence : (positve or negative) positive\n",
            "Enter 5 sentence : it was good and bad\n",
            "Enter two words (comma separated) : \"good\",\"bad\"\n"
          ],
          "name": "stdout"
        }
      ]
    },
    {
      "cell_type": "code",
      "metadata": {
        "id": "CRkSV9K9Ezs5",
        "colab_type": "code",
        "outputId": "d645e0c8-b974-414b-fae9-366b0b840210",
        "colab": {
          "base_uri": "https://localhost:8080/",
          "height": 69
        }
      },
      "source": [
        "# word_count = sum(positive.values()) + sum(negative.values())\n",
        "# print(word_count)\n",
        "\n",
        "dfyp = positive[y]\n",
        "dfzp = positive[z]\n",
        "dfp = sent['positive']\n",
        "pyp = (dfyp+1)/(dfp+2)\n",
        "pzp = (dfzp+1)/(dfp+2)\n",
        "\n",
        "print(\"The Probability of y being present in positive sentences : \",pyp)\n",
        "print(\"The Probability of z being present in positive sentences : \",pzp)\n",
        "print(\"The Joint Probablity of y and z being present in positive sentences (when y and z are independent): \",pyp*pzp)"
      ],
      "execution_count": 0,
      "outputs": [
        {
          "output_type": "stream",
          "text": [
            "The Probability of y being present in positive sentences :  0.6\n",
            "The Probability of z being present in positive sentences :  0.4\n",
            "The Joint Probablity of y and z being present in positive sentences (when y and z are independent):  0.24\n"
          ],
          "name": "stdout"
        }
      ]
    },
    {
      "cell_type": "code",
      "metadata": {
        "id": "tQzmfaCwA9ct",
        "colab_type": "code",
        "colab": {}
      },
      "source": [
        ""
      ],
      "execution_count": 0,
      "outputs": []
    }
  ]
}
