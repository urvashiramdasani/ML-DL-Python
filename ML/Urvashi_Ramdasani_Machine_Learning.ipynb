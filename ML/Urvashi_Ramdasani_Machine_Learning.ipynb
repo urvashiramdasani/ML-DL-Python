{
  "nbformat": 4,
  "nbformat_minor": 0,
  "metadata": {
    "colab": {
      "name": "Urvashi-Ramdasani_Machine-Learning.ipynb",
      "provenance": [],
      "collapsed_sections": [
        "qSIM8xIYTXfE"
      ],
      "authorship_tag": "ABX9TyNTXtLAaUWgh7rjnrrtTTPV",
      "include_colab_link": true
    },
    "kernelspec": {
      "name": "python3",
      "display_name": "Python 3"
    }
  },
  "cells": [
    {
      "cell_type": "markdown",
      "metadata": {
        "id": "view-in-github",
        "colab_type": "text"
      },
      "source": [
        "<a href=\"https://colab.research.google.com/github/urvashiramdasani/ML-DL-Python/blob/master/ML/Urvashi_Ramdasani_Machine_Learning.ipynb\" target=\"_parent\"><img src=\"https://colab.research.google.com/assets/colab-badge.svg\" alt=\"Open In Colab\"/></a>"
      ]
    },
    {
      "cell_type": "markdown",
      "metadata": {
        "id": "qSIM8xIYTXfE"
      },
      "source": [
        "Submitted By : Urvashi Ramdasani\n",
        "\n",
        "## Task A\n",
        "\n",
        "\n",
        "1) Develop a program to create recommendation system to recommend\n",
        "products to a customer on a website like flipkart. Recommendations should be\n",
        "based on the products consumer has searched on other sites like Google or\n",
        "Amazon.\n",
        "\n",
        "2) You can use any programming language to do this\n",
        "\n",
        "3) Create a sample data set for implementing the feature.\n",
        "\n",
        "4) Drive information by analyzing the data set you have made and present\n",
        "valuable information from it in a presentable format."
      ]
    },
    {
      "cell_type": "code",
      "metadata": {
        "id": "7Mxt4qV3GG3k"
      },
      "source": [
        "# Import all libraries\n",
        "\n",
        "from sklearn.feature_extraction.text import TfidfVectorizer\n",
        "from sklearn.cluster import KMeans\n",
        "import numpy as np\n",
        "import pandas as pd\n",
        "import random\n",
        "import math\n",
        "import re\n",
        "from collections import Counter"
      ],
      "execution_count": null,
      "outputs": []
    },
    {
      "cell_type": "code",
      "metadata": {
        "colab": {
          "base_uri": "https://localhost:8080/",
          "height": 402
        },
        "id": "FUL9N618JyV7",
        "outputId": "d0a897c7-1b43-405d-800a-03e902c86c7b"
      },
      "source": [
        "data = pd.read_csv(\"product-dataset.csv\")\n",
        "data"
      ],
      "execution_count": null,
      "outputs": [
        {
          "output_type": "execute_result",
          "data": {
            "text/html": [
              "<div>\n",
              "<style scoped>\n",
              "    .dataframe tbody tr th:only-of-type {\n",
              "        vertical-align: middle;\n",
              "    }\n",
              "\n",
              "    .dataframe tbody tr th {\n",
              "        vertical-align: top;\n",
              "    }\n",
              "\n",
              "    .dataframe thead th {\n",
              "        text-align: right;\n",
              "    }\n",
              "</style>\n",
              "<table border=\"1\" class=\"dataframe\">\n",
              "  <thead>\n",
              "    <tr style=\"text-align: right;\">\n",
              "      <th></th>\n",
              "      <th>Customer ID</th>\n",
              "      <th>Search String</th>\n",
              "    </tr>\n",
              "  </thead>\n",
              "  <tbody>\n",
              "    <tr>\n",
              "      <th>0</th>\n",
              "      <td>CUST001</td>\n",
              "      <td>NaN</td>\n",
              "    </tr>\n",
              "    <tr>\n",
              "      <th>1</th>\n",
              "      <td>CUST002</td>\n",
              "      <td>NaN</td>\n",
              "    </tr>\n",
              "    <tr>\n",
              "      <th>2</th>\n",
              "      <td>CUST003</td>\n",
              "      <td>NaN</td>\n",
              "    </tr>\n",
              "    <tr>\n",
              "      <th>3</th>\n",
              "      <td>CUST004</td>\n",
              "      <td>NaN</td>\n",
              "    </tr>\n",
              "    <tr>\n",
              "      <th>4</th>\n",
              "      <td>CUST005</td>\n",
              "      <td>NaN</td>\n",
              "    </tr>\n",
              "    <tr>\n",
              "      <th>...</th>\n",
              "      <td>...</td>\n",
              "      <td>...</td>\n",
              "    </tr>\n",
              "    <tr>\n",
              "      <th>245</th>\n",
              "      <td>CUST246</td>\n",
              "      <td>NaN</td>\n",
              "    </tr>\n",
              "    <tr>\n",
              "      <th>246</th>\n",
              "      <td>CUST247</td>\n",
              "      <td>NaN</td>\n",
              "    </tr>\n",
              "    <tr>\n",
              "      <th>247</th>\n",
              "      <td>CUST248</td>\n",
              "      <td>NaN</td>\n",
              "    </tr>\n",
              "    <tr>\n",
              "      <th>248</th>\n",
              "      <td>CUST249</td>\n",
              "      <td>NaN</td>\n",
              "    </tr>\n",
              "    <tr>\n",
              "      <th>249</th>\n",
              "      <td>CUST250</td>\n",
              "      <td>NaN</td>\n",
              "    </tr>\n",
              "  </tbody>\n",
              "</table>\n",
              "<p>250 rows × 2 columns</p>\n",
              "</div>"
            ],
            "text/plain": [
              "    Customer ID  Search String\n",
              "0       CUST001            NaN\n",
              "1       CUST002            NaN\n",
              "2       CUST003            NaN\n",
              "3       CUST004            NaN\n",
              "4       CUST005            NaN\n",
              "..          ...            ...\n",
              "245     CUST246            NaN\n",
              "246     CUST247            NaN\n",
              "247     CUST248            NaN\n",
              "248     CUST249            NaN\n",
              "249     CUST250            NaN\n",
              "\n",
              "[250 rows x 2 columns]"
            ]
          },
          "metadata": {
            "tags": []
          },
          "execution_count": 16
        }
      ]
    },
    {
      "cell_type": "code",
      "metadata": {
        "id": "U355N5ZTJsUz"
      },
      "source": [
        "# Generating Dataset\n",
        "# Assuming that two classes of products - Mobile, Computers and Women Clothing are available.\n",
        "\n",
        "search_terms = [\"Mobiles\", \"Tablets & More\", \"All Mobile Phones\", \"All Mobile Accessories\", \"Cases & Covers\", \"Screen Protectors\", \"Power Banks\", \n",
        "                \"Refurbished & Open Box\", \"Tablets\", \"Wearable Devices\", \"Smart Home\", \"Office Supplies & Stationery\", \"Software\", \"Computers & Accessories\",\n",
        "                \"All Computers & Accessories\", \"Laptops\", \"Drives & Storage\", \"Printers & Ink\", \"Networking Devices\", \"Computer Accessories\", \"Game Zone\"\n",
        "                \"Monitors\", \"Desktops\", \"Components\", \"Women's Clothing\", \"Clothing\", \"Western Wear\", \"Ethnic Wear\", \"Lingerie & Nightwear\", \"Top Brands\", \n",
        "                \"Accessories\", \"Watches\", \"Handbags & Clutches\", \"Gold & Diamond Jewellery\", \"Fashion & Silver Jewellery\", \"Sunglasses\", \"Women's Shoes\", \n",
        "                \"Shoes\", \"Fashion Sandals\", \"Ballerinas\"]"
      ],
      "execution_count": null,
      "outputs": []
    },
    {
      "cell_type": "code",
      "metadata": {
        "colab": {
          "base_uri": "https://localhost:8080/",
          "height": 570
        },
        "id": "Y03rg_8pL-sT",
        "outputId": "84b654d1-15aa-4f81-954b-1f5016a7028f"
      },
      "source": [
        "# Randomly assigning random number of search terms to customer IDs. \n",
        "\n",
        "for i in range(len(data)):\n",
        "  n = random.randint(2, 10)\n",
        "  data['Search String'][i] = \"\"\n",
        "  for j in range(n):\n",
        "    item_no = random.randint(0, len(search_terms) - 1)\n",
        "    data['Search String'][i] = data['Search String'][i] + search_terms[item_no] + \",\"\n",
        "\n",
        "data "
      ],
      "execution_count": null,
      "outputs": [
        {
          "output_type": "stream",
          "text": [
            "/usr/local/lib/python3.7/dist-packages/ipykernel_launcher.py:5: SettingWithCopyWarning: \n",
            "A value is trying to be set on a copy of a slice from a DataFrame\n",
            "\n",
            "See the caveats in the documentation: https://pandas.pydata.org/pandas-docs/stable/user_guide/indexing.html#returning-a-view-versus-a-copy\n",
            "  \"\"\"\n",
            "/usr/local/lib/python3.7/dist-packages/pandas/core/indexing.py:670: SettingWithCopyWarning: \n",
            "A value is trying to be set on a copy of a slice from a DataFrame\n",
            "\n",
            "See the caveats in the documentation: https://pandas.pydata.org/pandas-docs/stable/user_guide/indexing.html#returning-a-view-versus-a-copy\n",
            "  iloc._setitem_with_indexer(indexer, value)\n"
          ],
          "name": "stderr"
        },
        {
          "output_type": "execute_result",
          "data": {
            "text/html": [
              "<div>\n",
              "<style scoped>\n",
              "    .dataframe tbody tr th:only-of-type {\n",
              "        vertical-align: middle;\n",
              "    }\n",
              "\n",
              "    .dataframe tbody tr th {\n",
              "        vertical-align: top;\n",
              "    }\n",
              "\n",
              "    .dataframe thead th {\n",
              "        text-align: right;\n",
              "    }\n",
              "</style>\n",
              "<table border=\"1\" class=\"dataframe\">\n",
              "  <thead>\n",
              "    <tr style=\"text-align: right;\">\n",
              "      <th></th>\n",
              "      <th>Customer ID</th>\n",
              "      <th>Search String</th>\n",
              "    </tr>\n",
              "  </thead>\n",
              "  <tbody>\n",
              "    <tr>\n",
              "      <th>0</th>\n",
              "      <td>CUST001</td>\n",
              "      <td>Laptops,Western Wear,Refurbished &amp; Open Box,Go...</td>\n",
              "    </tr>\n",
              "    <tr>\n",
              "      <th>1</th>\n",
              "      <td>CUST002</td>\n",
              "      <td>Women's Clothing,Accessories,Drives &amp; Storage,...</td>\n",
              "    </tr>\n",
              "    <tr>\n",
              "      <th>2</th>\n",
              "      <td>CUST003</td>\n",
              "      <td>Watches,Computer Accessories,Computer Accessor...</td>\n",
              "    </tr>\n",
              "    <tr>\n",
              "      <th>3</th>\n",
              "      <td>CUST004</td>\n",
              "      <td>Office Supplies &amp; Stationery,All Computers &amp; A...</td>\n",
              "    </tr>\n",
              "    <tr>\n",
              "      <th>4</th>\n",
              "      <td>CUST005</td>\n",
              "      <td>Laptops,Office Supplies &amp; Stationery,Ballerinas,</td>\n",
              "    </tr>\n",
              "    <tr>\n",
              "      <th>...</th>\n",
              "      <td>...</td>\n",
              "      <td>...</td>\n",
              "    </tr>\n",
              "    <tr>\n",
              "      <th>245</th>\n",
              "      <td>CUST246</td>\n",
              "      <td>Lingerie &amp; Nightwear,Cases &amp; Covers,Tablets,La...</td>\n",
              "    </tr>\n",
              "    <tr>\n",
              "      <th>246</th>\n",
              "      <td>CUST247</td>\n",
              "      <td>Refurbished &amp; Open Box,Watches,Computers &amp; Acc...</td>\n",
              "    </tr>\n",
              "    <tr>\n",
              "      <th>247</th>\n",
              "      <td>CUST248</td>\n",
              "      <td>Printers &amp; Ink,Wearable Devices,Wearable Devic...</td>\n",
              "    </tr>\n",
              "    <tr>\n",
              "      <th>248</th>\n",
              "      <td>CUST249</td>\n",
              "      <td>Mobiles,Drives &amp; Storage,Sunglasses,Fashion Sa...</td>\n",
              "    </tr>\n",
              "    <tr>\n",
              "      <th>249</th>\n",
              "      <td>CUST250</td>\n",
              "      <td>Software,Gold &amp; Diamond Jewellery,Fashion Sand...</td>\n",
              "    </tr>\n",
              "  </tbody>\n",
              "</table>\n",
              "<p>250 rows × 2 columns</p>\n",
              "</div>"
            ],
            "text/plain": [
              "    Customer ID                                      Search String\n",
              "0       CUST001  Laptops,Western Wear,Refurbished & Open Box,Go...\n",
              "1       CUST002  Women's Clothing,Accessories,Drives & Storage,...\n",
              "2       CUST003  Watches,Computer Accessories,Computer Accessor...\n",
              "3       CUST004  Office Supplies & Stationery,All Computers & A...\n",
              "4       CUST005   Laptops,Office Supplies & Stationery,Ballerinas,\n",
              "..          ...                                                ...\n",
              "245     CUST246  Lingerie & Nightwear,Cases & Covers,Tablets,La...\n",
              "246     CUST247  Refurbished & Open Box,Watches,Computers & Acc...\n",
              "247     CUST248  Printers & Ink,Wearable Devices,Wearable Devic...\n",
              "248     CUST249  Mobiles,Drives & Storage,Sunglasses,Fashion Sa...\n",
              "249     CUST250  Software,Gold & Diamond Jewellery,Fashion Sand...\n",
              "\n",
              "[250 rows x 2 columns]"
            ]
          },
          "metadata": {
            "tags": []
          },
          "execution_count": 18
        }
      ]
    },
    {
      "cell_type": "code",
      "metadata": {
        "colab": {
          "base_uri": "https://localhost:8080/"
        },
        "id": "b8Q0zJsaNzNK",
        "outputId": "4615d499-4f11-4115-c5bf-094c22bace73"
      },
      "source": [
        "# Getting a list of all search strings\n",
        "\n",
        "document = []\n",
        "\n",
        "for i in range(len(data)):\n",
        "  document.append(data['Search String'][i])\n",
        "\n",
        "document"
      ],
      "execution_count": null,
      "outputs": [
        {
          "output_type": "execute_result",
          "data": {
            "text/plain": [
              "[\"Laptops,Western Wear,Refurbished & Open Box,Gold & Diamond Jewellery,Top Brands,Women's Clothing,\",\n",
              " \"Women's Clothing,Accessories,Drives & Storage,Desktops,Ballerinas,Mobiles,Gold & Diamond Jewellery,\",\n",
              " 'Watches,Computer Accessories,Computer Accessories,Mobiles,Smart Home,Smart Home,Handbags & Clutches,Gold & Diamond Jewellery,Gold & Diamond Jewellery,Shoes,',\n",
              " 'Office Supplies & Stationery,All Computers & Accessories,Smart Home,Shoes,Refurbished & Open Box,Wearable Devices,Ethnic Wear,',\n",
              " 'Laptops,Office Supplies & Stationery,Ballerinas,',\n",
              " 'Ethnic Wear,Ballerinas,Lingerie & Nightwear,Fashion Sandals,All Mobile Accessories,Western Wear,Components,Western Wear,All Mobile Accessories,',\n",
              " 'Computer Accessories,Computers & Accessories,',\n",
              " \"Accessories,Women's Clothing,Smart Home,Cases & Covers,\",\n",
              " \"Computer Accessories,Networking Devices,Ballerinas,All Mobile Accessories,Laptops,All Mobile Accessories,Tablets,Women's Shoes,Fashion & Silver Jewellery,\",\n",
              " 'All Mobile Accessories,Cases & Covers,Computer Accessories,',\n",
              " \"Women's Shoes,Ballerinas,Desktops,\",\n",
              " \"Components,Women's Shoes,Fashion & Silver Jewellery,Printers & Ink,Gold & Diamond Jewellery,Top Brands,Gold & Diamond Jewellery,Computer Accessories,Top Brands,\",\n",
              " 'Watches,All Mobile Accessories,Desktops,Cases & Covers,Gold & Diamond Jewellery,',\n",
              " 'Power Banks,Laptops,Ballerinas,',\n",
              " 'Tablets & More,Components,All Mobile Phones,Power Banks,',\n",
              " 'Ethnic Wear,Fashion Sandals,All Mobile Phones,Screen Protectors,Refurbished & Open Box,',\n",
              " 'Ballerinas,Fashion & Silver Jewellery,',\n",
              " 'Smart Home,Accessories,Fashion & Silver Jewellery,Drives & Storage,Clothing,',\n",
              " 'Smart Home,Fashion & Silver Jewellery,Handbags & Clutches,Computer Accessories,Fashion Sandals,Drives & Storage,Watches,',\n",
              " 'Networking Devices,Fashion & Silver Jewellery,Power Banks,',\n",
              " 'Drives & Storage,All Mobile Accessories,Handbags & Clutches,Office Supplies & Stationery,Mobiles,Tablets,All Mobile Phones,Desktops,Smart Home,Power Banks,',\n",
              " 'Tablets,All Mobile Phones,Fashion Sandals,Computer Accessories,Top Brands,',\n",
              " 'Drives & Storage,Watches,Ethnic Wear,All Computers & Accessories,Fashion & Silver Jewellery,Sunglasses,Networking Devices,Software,All Computers & Accessories,',\n",
              " 'Lingerie & Nightwear,Western Wear,',\n",
              " 'Fashion & Silver Jewellery,Gold & Diamond Jewellery,Cases & Covers,Tablets,Computer Accessories,Printers & Ink,',\n",
              " 'Office Supplies & Stationery,Computer Accessories,Computer Accessories,Watches,',\n",
              " \"Ethnic Wear,Sunglasses,Western Wear,All Mobile Accessories,Clothing,Women's Shoes,Smart Home,Women's Clothing,\",\n",
              " 'Computer Accessories,Top Brands,Clothing,Fashion & Silver Jewellery,All Computers & Accessories,Fashion Sandals,',\n",
              " 'Western Wear,All Mobile Phones,Clothing,Clothing,Mobiles,Ethnic Wear,Handbags & Clutches,Fashion & Silver Jewellery,Game ZoneMonitors,Top Brands,',\n",
              " \"Women's Shoes,Women's Clothing,Refurbished & Open Box,\",\n",
              " 'Cases & Covers,Laptops,Game ZoneMonitors,Screen Protectors,Top Brands,Power Banks,Cases & Covers,',\n",
              " \"Laptops,All Mobile Phones,Women's Clothing,Cases & Covers,Gold & Diamond Jewellery,\",\n",
              " 'Refurbished & Open Box,Screen Protectors,',\n",
              " \"Desktops,Lingerie & Nightwear,All Mobile Phones,Accessories,Computer Accessories,Western Wear,Women's Clothing,All Computers & Accessories,Fashion Sandals,Lingerie & Nightwear,\",\n",
              " 'Tablets,Screen Protectors,All Mobile Phones,Smart Home,',\n",
              " 'Wearable Devices,Computers & Accessories,',\n",
              " \"Software,Women's Clothing,Laptops,Drives & Storage,Women's Clothing,Shoes,Clothing,Tablets,\",\n",
              " 'Power Banks,Accessories,Mobiles,',\n",
              " 'Handbags & Clutches,Gold & Diamond Jewellery,Clothing,All Mobile Accessories,Handbags & Clutches,Components,Lingerie & Nightwear,Fashion Sandals,Clothing,',\n",
              " 'All Mobile Phones,Power Banks,Game ZoneMonitors,Software,Printers & Ink,',\n",
              " 'Wearable Devices,Handbags & Clutches,Handbags & Clutches,Lingerie & Nightwear,Desktops,Power Banks,Handbags & Clutches,Lingerie & Nightwear,Smart Home,',\n",
              " \"Sunglasses,Shoes,Clothing,Women's Clothing,Watches,All Mobile Phones,Game ZoneMonitors,Lingerie & Nightwear,\",\n",
              " 'Cases & Covers,Software,Software,Drives & Storage,',\n",
              " 'Screen Protectors,Fashion Sandals,Screen Protectors,',\n",
              " 'Tablets & More,All Mobile Accessories,Software,Laptops,Computer Accessories,',\n",
              " \"Computers & Accessories,Software,Software,Accessories,Computer Accessories,Women's Shoes,All Mobile Phones,Tablets & More,\",\n",
              " 'Accessories,Fashion & Silver Jewellery,Lingerie & Nightwear,Desktops,Printers & Ink,',\n",
              " \"Women's Shoes,Handbags & Clutches,Smart Home,Mobiles,Printers & Ink,Women's Clothing,Gold & Diamond Jewellery,Screen Protectors,Tablets,\",\n",
              " 'Screen Protectors,Ethnic Wear,Tablets,Printers & Ink,',\n",
              " 'Drives & Storage,Gold & Diamond Jewellery,Sunglasses,',\n",
              " 'Printers & Ink,All Mobile Accessories,Tablets,All Mobile Phones,Wearable Devices,Ethnic Wear,Ballerinas,Fashion & Silver Jewellery,Desktops,',\n",
              " \"Components,Computers & Accessories,Accessories,Fashion & Silver Jewellery,Wearable Devices,Women's Shoes,\",\n",
              " \"Women's Clothing,Drives & Storage,Tablets & More,Computers & Accessories,Game ZoneMonitors,All Computers & Accessories,Wearable Devices,\",\n",
              " 'Ethnic Wear,All Computers & Accessories,Refurbished & Open Box,Top Brands,Western Wear,Sunglasses,Western Wear,Power Banks,',\n",
              " \"Tablets & More,Screen Protectors,All Computers & Accessories,Top Brands,All Mobile Accessories,Women's Clothing,Game ZoneMonitors,\",\n",
              " \"Software,Women's Clothing,Accessories,Computer Accessories,Top Brands,Gold & Diamond Jewellery,Fashion & Silver Jewellery,Lingerie & Nightwear,Screen Protectors,Watches,\",\n",
              " 'Computers & Accessories,Handbags & Clutches,',\n",
              " 'Lingerie & Nightwear,Mobiles,Tablets & More,All Computers & Accessories,Shoes,',\n",
              " 'Wearable Devices,Ballerinas,Accessories,All Computers & Accessories,',\n",
              " 'Game ZoneMonitors,Laptops,',\n",
              " 'Software,Ballerinas,Drives & Storage,Cases & Covers,Lingerie & Nightwear,Tablets & More,Fashion Sandals,',\n",
              " 'Smart Home,Smart Home,Fashion Sandals,Watches,',\n",
              " 'Smart Home,Gold & Diamond Jewellery,Fashion & Silver Jewellery,Cases & Covers,Ballerinas,',\n",
              " \"Laptops,Clothing,Clothing,Women's Clothing,\",\n",
              " 'Printers & Ink,Clothing,Fashion Sandals,Game ZoneMonitors,All Mobile Accessories,Watches,Sunglasses,Laptops,',\n",
              " 'Sunglasses,Ballerinas,Laptops,Handbags & Clutches,',\n",
              " \"Office Supplies & Stationery,Women's Clothing,Fashion Sandals,Game ZoneMonitors,Tablets & More,Laptops,Components,Printers & Ink,\",\n",
              " \"Mobiles,All Mobile Accessories,Tablets,All Mobile Phones,Printers & Ink,Women's Clothing,Fashion & Silver Jewellery,Women's Shoes,Fashion Sandals,Sunglasses,\",\n",
              " 'Ethnic Wear,Fashion & Silver Jewellery,',\n",
              " 'Mobiles,Ethnic Wear,Computers & Accessories,Desktops,',\n",
              " 'Power Banks,Software,Game ZoneMonitors,Refurbished & Open Box,Clothing,',\n",
              " \"Women's Clothing,Fashion & Silver Jewellery,Networking Devices,Handbags & Clutches,Ethnic Wear,Networking Devices,Components,Gold & Diamond Jewellery,Game ZoneMonitors,Fashion & Silver Jewellery,\",\n",
              " 'Top Brands,Laptops,Refurbished & Open Box,Handbags & Clutches,Office Supplies & Stationery,Clothing,Smart Home,Shoes,',\n",
              " 'Fashion & Silver Jewellery,Fashion Sandals,',\n",
              " \"Tablets,Refurbished & Open Box,All Computers & Accessories,Women's Shoes,Desktops,Computer Accessories,\",\n",
              " 'All Mobile Phones,Ballerinas,Networking Devices,Smart Home,Refurbished & Open Box,Computer Accessories,',\n",
              " \"Components,Game ZoneMonitors,Lingerie & Nightwear,Refurbished & Open Box,Women's Clothing,\",\n",
              " 'Sunglasses,Drives & Storage,Accessories,Shoes,Computers & Accessories,Handbags & Clutches,Tablets,',\n",
              " 'Computer Accessories,Office Supplies & Stationery,Ballerinas,',\n",
              " 'Software,Tablets & More,Watches,Tablets & More,Laptops,',\n",
              " 'Wearable Devices,Handbags & Clutches,Tablets & More,Drives & Storage,',\n",
              " 'Desktops,Power Banks,Cases & Covers,Office Supplies & Stationery,Sunglasses,',\n",
              " \"Women's Shoes,Mobiles,Cases & Covers,Lingerie & Nightwear,Printers & Ink,Fashion Sandals,\",\n",
              " 'Office Supplies & Stationery,Western Wear,Accessories,Computer Accessories,Fashion Sandals,Game ZoneMonitors,Accessories,Game ZoneMonitors,',\n",
              " 'Components,Clothing,Refurbished & Open Box,All Mobile Accessories,Sunglasses,All Mobile Accessories,Watches,Power Banks,',\n",
              " \"Software,Desktops,Sunglasses,Ethnic Wear,Watches,Ballerinas,Screen Protectors,Women's Clothing,Women's Shoes,Fashion Sandals,\",\n",
              " \"Printers & Ink,Women's Shoes,Office Supplies & Stationery,Software,\",\n",
              " 'Power Banks,Desktops,Ballerinas,Western Wear,Game ZoneMonitors,Handbags & Clutches,Lingerie & Nightwear,Ballerinas,All Computers & Accessories,Smart Home,',\n",
              " 'Screen Protectors,Components,All Mobile Phones,Shoes,Sunglasses,Watches,Watches,Handbags & Clutches,',\n",
              " \"Drives & Storage,Screen Protectors,Mobiles,Components,Gold & Diamond Jewellery,Laptops,Tablets & More,Women's Shoes,Screen Protectors,Top Brands,\",\n",
              " \"Computers & Accessories,Computer Accessories,Networking Devices,Women's Clothing,Printers & Ink,Computers & Accessories,Women's Shoes,Sunglasses,Tablets,\",\n",
              " 'All Mobile Accessories,Software,',\n",
              " 'Drives & Storage,Sunglasses,Ethnic Wear,Accessories,Shoes,Shoes,All Mobile Accessories,Sunglasses,',\n",
              " 'Top Brands,Desktops,Computers & Accessories,',\n",
              " 'All Mobile Accessories,Top Brands,Ballerinas,',\n",
              " 'Accessories,Power Banks,Ethnic Wear,Drives & Storage,Fashion & Silver Jewellery,Office Supplies & Stationery,All Computers & Accessories,',\n",
              " \"All Mobile Phones,All Mobile Phones,Women's Shoes,Software,\",\n",
              " 'Lingerie & Nightwear,Western Wear,Watches,Computer Accessories,Watches,Watches,Mobiles,All Computers & Accessories,All Computers & Accessories,',\n",
              " 'Handbags & Clutches,Sunglasses,',\n",
              " 'Shoes,Tablets & More,Lingerie & Nightwear,Lingerie & Nightwear,',\n",
              " 'Top Brands,Western Wear,Watches,All Computers & Accessories,Ethnic Wear,Networking Devices,Screen Protectors,Top Brands,',\n",
              " \"Ballerinas,Cases & Covers,Fashion Sandals,Computer Accessories,Fashion Sandals,Sunglasses,Tablets,Women's Shoes,Lingerie & Nightwear,Sunglasses,\",\n",
              " \"Wearable Devices,Office Supplies & Stationery,Software,Ethnic Wear,Women's Clothing,Office Supplies & Stationery,\",\n",
              " 'All Mobile Accessories,Screen Protectors,Top Brands,Office Supplies & Stationery,Western Wear,All Mobile Accessories,Screen Protectors,',\n",
              " 'Wearable Devices,Top Brands,Computer Accessories,Screen Protectors,Clothing,Smart Home,Components,',\n",
              " 'Fashion & Silver Jewellery,Wearable Devices,Cases & Covers,Accessories,Cases & Covers,',\n",
              " 'Lingerie & Nightwear,All Mobile Phones,Software,Software,All Mobile Accessories,Tablets & More,Networking Devices,Wearable Devices,Cases & Covers,',\n",
              " 'Ethnic Wear,Accessories,Tablets & More,Laptops,',\n",
              " 'Fashion Sandals,Handbags & Clutches,Wearable Devices,Clothing,Game ZoneMonitors,Fashion & Silver Jewellery,Screen Protectors,Tablets & More,',\n",
              " 'All Computers & Accessories,Components,Ballerinas,Networking Devices,Refurbished & Open Box,Lingerie & Nightwear,Networking Devices,Tablets & More,Networking Devices,',\n",
              " 'Shoes,Wearable Devices,All Computers & Accessories,',\n",
              " 'Components,Drives & Storage,Cases & Covers,Software,Power Banks,All Computers & Accessories,',\n",
              " \"Refurbished & Open Box,Women's Clothing,Ballerinas,\",\n",
              " 'Lingerie & Nightwear,Accessories,Accessories,Desktops,Ethnic Wear,',\n",
              " 'All Mobile Accessories,Computers & Accessories,',\n",
              " 'All Computers & Accessories,All Mobile Phones,Components,Fashion Sandals,Drives & Storage,Components,Fashion Sandals,Ethnic Wear,',\n",
              " 'Game ZoneMonitors,Cases & Covers,Handbags & Clutches,Game ZoneMonitors,Top Brands,',\n",
              " \"Women's Shoes,Clothing,Office Supplies & Stationery,\",\n",
              " 'Cases & Covers,All Mobile Phones,Tablets & More,Game ZoneMonitors,Computers & Accessories,Networking Devices,Drives & Storage,Ballerinas,Screen Protectors,',\n",
              " \"Computers & Accessories,Women's Clothing,Mobiles,\",\n",
              " 'Ballerinas,All Mobile Accessories,Handbags & Clutches,Accessories,All Mobile Phones,Refurbished & Open Box,Handbags & Clutches,Handbags & Clutches,Computers & Accessories,',\n",
              " 'Software,Fashion & Silver Jewellery,',\n",
              " 'All Mobile Accessories,Fashion & Silver Jewellery,Tablets & More,',\n",
              " 'Software,Computer Accessories,',\n",
              " 'Western Wear,Top Brands,Computers & Accessories,',\n",
              " \"Handbags & Clutches,Women's Clothing,Smart Home,Networking Devices,Computer Accessories,Accessories,Watches,Smart Home,Drives & Storage,\",\n",
              " \"Ballerinas,All Mobile Accessories,Mobiles,Women's Shoes,Mobiles,Mobiles,Sunglasses,Office Supplies & Stationery,Handbags & Clutches,\",\n",
              " 'Watches,Mobiles,Wearable Devices,Computer Accessories,Handbags & Clutches,Tablets & More,',\n",
              " 'Wearable Devices,Components,All Computers & Accessories,Mobiles,Accessories,All Computers & Accessories,Mobiles,',\n",
              " 'Shoes,Shoes,Fashion Sandals,Clothing,',\n",
              " 'Game ZoneMonitors,Components,Handbags & Clutches,All Mobile Accessories,Laptops,',\n",
              " 'Office Supplies & Stationery,Mobiles,Ballerinas,',\n",
              " 'Ballerinas,Office Supplies & Stationery,Ballerinas,Watches,Ethnic Wear,All Mobile Accessories,Drives & Storage,Software,',\n",
              " 'Desktops,All Computers & Accessories,Fashion Sandals,',\n",
              " 'Watches,Top Brands,All Computers & Accessories,Handbags & Clutches,Components,',\n",
              " 'Shoes,Power Banks,Laptops,Power Banks,Software,Refurbished & Open Box,All Computers & Accessories,Components,Top Brands,',\n",
              " 'Refurbished & Open Box,Screen Protectors,Western Wear,Tablets & More,',\n",
              " 'All Mobile Phones,Refurbished & Open Box,',\n",
              " 'All Mobile Phones,Accessories,',\n",
              " \"Women's Clothing,Women's Shoes,Smart Home,Power Banks,Laptops,Laptops,\",\n",
              " 'Clothing,Screen Protectors,Office Supplies & Stationery,Sunglasses,Laptops,Power Banks,Western Wear,Fashion & Silver Jewellery,',\n",
              " 'All Mobile Phones,Fashion & Silver Jewellery,',\n",
              " \"Women's Shoes,Desktops,Components,All Mobile Accessories,Clothing,Computers & Accessories,Ballerinas,All Computers & Accessories,All Mobile Phones,\",\n",
              " \"Accessories,Women's Shoes,Software,Mobiles,Software,Lingerie & Nightwear,\",\n",
              " \"Women's Shoes,Ethnic Wear,Tablets & More,Printers & Ink,Sunglasses,Game ZoneMonitors,Computers & Accessories,\",\n",
              " 'Shoes,Cases & Covers,Fashion & Silver Jewellery,Ballerinas,',\n",
              " \"Fashion & Silver Jewellery,Office Supplies & Stationery,Game ZoneMonitors,Women's Shoes,Watches,Handbags & Clutches,Clothing,Handbags & Clutches,Western Wear,Printers & Ink,\",\n",
              " 'All Mobile Accessories,Refurbished & Open Box,Office Supplies & Stationery,Top Brands,Refurbished & Open Box,Wearable Devices,Laptops,Power Banks,',\n",
              " \"Mobiles,All Mobile Phones,Watches,Fashion Sandals,Women's Shoes,Lingerie & Nightwear,Lingerie & Nightwear,Networking Devices,\",\n",
              " 'Office Supplies & Stationery,Wearable Devices,Office Supplies & Stationery,',\n",
              " \"Top Brands,Women's Clothing,Top Brands,Women's Shoes,Computers & Accessories,Networking Devices,Mobiles,\",\n",
              " \"Shoes,Cases & Covers,Clothing,Gold & Diamond Jewellery,Tablets,Women's Clothing,\",\n",
              " 'Computer Accessories,Computer Accessories,Game ZoneMonitors,Mobiles,Handbags & Clutches,Mobiles,All Mobile Phones,Office Supplies & Stationery,',\n",
              " 'All Mobile Accessories,Printers & Ink,Accessories,All Mobile Phones,Sunglasses,All Mobile Phones,',\n",
              " \"All Mobile Accessories,Game ZoneMonitors,Tablets & More,Women's Clothing,Sunglasses,Power Banks,Top Brands,Clothing,Ethnic Wear,Computer Accessories,\",\n",
              " \"Game ZoneMonitors,Computers & Accessories,Screen Protectors,Women's Clothing,Western Wear,Top Brands,Game ZoneMonitors,Shoes,Ethnic Wear,\",\n",
              " 'Desktops,Laptops,Watches,Mobiles,',\n",
              " 'Ballerinas,Laptops,Ballerinas,Sunglasses,',\n",
              " 'Shoes,Clothing,Western Wear,Desktops,All Mobile Phones,Laptops,Ethnic Wear,All Computers & Accessories,',\n",
              " \"Ballerinas,All Mobile Phones,Tablets & More,Tablets,Women's Shoes,All Mobile Phones,All Computers & Accessories,Handbags & Clutches,Gold & Diamond Jewellery,\",\n",
              " \"Fashion & Silver Jewellery,Women's Shoes,\",\n",
              " 'Laptops,Accessories,Refurbished & Open Box,All Computers & Accessories,',\n",
              " \"Smart Home,Tablets,Western Wear,Western Wear,Ballerinas,Office Supplies & Stationery,Women's Clothing,Computer Accessories,\",\n",
              " 'Tablets,Computers & Accessories,All Mobile Accessories,Tablets & More,',\n",
              " 'Ballerinas,Lingerie & Nightwear,',\n",
              " 'Ethnic Wear,All Mobile Phones,Ballerinas,Networking Devices,All Computers & Accessories,',\n",
              " 'All Mobile Phones,Handbags & Clutches,Shoes,All Computers & Accessories,Drives & Storage,Drives & Storage,Top Brands,Sunglasses,',\n",
              " 'Handbags & Clutches,All Mobile Accessories,Components,Watches,Computer Accessories,',\n",
              " \"Women's Shoes,Power Banks,Networking Devices,Watches,Office Supplies & Stationery,\",\n",
              " 'Components,Drives & Storage,Lingerie & Nightwear,Gold & Diamond Jewellery,Computer Accessories,',\n",
              " 'Computers & Accessories,Clothing,Desktops,Tablets,Refurbished & Open Box,Computers & Accessories,All Computers & Accessories,All Mobile Phones,',\n",
              " \"Sunglasses,Printers & Ink,Women's Shoes,Women's Clothing,Power Banks,Shoes,\",\n",
              " 'Wearable Devices,Handbags & Clutches,All Mobile Phones,',\n",
              " 'Power Banks,Drives & Storage,Shoes,Computer Accessories,',\n",
              " 'Networking Devices,Computer Accessories,All Mobile Accessories,Tablets & More,Sunglasses,Top Brands,',\n",
              " 'Mobiles,Top Brands,Smart Home,Laptops,Top Brands,Printers & Ink,Desktops,',\n",
              " 'Smart Home,Mobiles,Fashion Sandals,Fashion Sandals,All Mobile Accessories,Top Brands,Fashion & Silver Jewellery,Tablets,Sunglasses,Desktops,',\n",
              " 'All Computers & Accessories,Watches,Fashion Sandals,Mobiles,Software,Game ZoneMonitors,',\n",
              " 'Office Supplies & Stationery,Computer Accessories,Cases & Covers,Wearable Devices,',\n",
              " 'Screen Protectors,Computer Accessories,Laptops,Mobiles,',\n",
              " \"Office Supplies & Stationery,Mobiles,Women's Clothing,Women's Clothing,Software,Networking Devices,\",\n",
              " 'Western Wear,Software,All Computers & Accessories,Sunglasses,Power Banks,Drives & Storage,',\n",
              " \"Top Brands,Computer Accessories,Women's Clothing,\",\n",
              " \"Women's Shoes,Fashion & Silver Jewellery,Game ZoneMonitors,Sunglasses,Desktops,Cases & Covers,Laptops,Fashion & Silver Jewellery,Desktops,Mobiles,\",\n",
              " 'Mobiles,Computers & Accessories,Laptops,Top Brands,Ethnic Wear,Software,',\n",
              " 'Desktops,Power Banks,Fashion & Silver Jewellery,Printers & Ink,Components,Top Brands,Refurbished & Open Box,',\n",
              " 'Accessories,Refurbished & Open Box,',\n",
              " \"Shoes,Clothing,Fashion & Silver Jewellery,Cases & Covers,Printers & Ink,Fashion & Silver Jewellery,Desktops,Women's Clothing,Ethnic Wear,Handbags & Clutches,\",\n",
              " 'Tablets,All Computers & Accessories,Clothing,Desktops,Ethnic Wear,Components,Laptops,Western Wear,Printers & Ink,Wearable Devices,',\n",
              " 'Game ZoneMonitors,Drives & Storage,Ballerinas,',\n",
              " \"All Mobile Phones,Computers & Accessories,Tablets,All Mobile Accessories,Women's Shoes,\",\n",
              " 'Fashion & Silver Jewellery,Handbags & Clutches,Sunglasses,Power Banks,Tablets & More,',\n",
              " 'Handbags & Clutches,Office Supplies & Stationery,Accessories,Cases & Covers,Cases & Covers,All Mobile Phones,All Mobile Accessories,Shoes,Desktops,Smart Home,',\n",
              " 'Refurbished & Open Box,Refurbished & Open Box,Accessories,',\n",
              " \"Women's Clothing,Cases & Covers,Smart Home,All Mobile Accessories,Printers & Ink,Game ZoneMonitors,Laptops,Office Supplies & Stationery,Screen Protectors,\",\n",
              " 'Fashion & Silver Jewellery,Software,Fashion Sandals,Gold & Diamond Jewellery,Desktops,Game ZoneMonitors,',\n",
              " 'Sunglasses,Top Brands,Tablets,Screen Protectors,Components,All Mobile Accessories,',\n",
              " 'Clothing,Office Supplies & Stationery,Fashion Sandals,Tablets & More,Computer Accessories,',\n",
              " 'Office Supplies & Stationery,Fashion Sandals,Tablets & More,Smart Home,Accessories,Power Banks,',\n",
              " 'Mobiles,Ballerinas,Shoes,',\n",
              " 'All Mobile Accessories,Western Wear,Tablets & More,Desktops,',\n",
              " 'Printers & Ink,Handbags & Clutches,Handbags & Clutches,Gold & Diamond Jewellery,Components,',\n",
              " 'Game ZoneMonitors,Sunglasses,Fashion & Silver Jewellery,Power Banks,Computers & Accessories,Laptops,Refurbished & Open Box,Drives & Storage,Networking Devices,Office Supplies & Stationery,',\n",
              " 'Clothing,Screen Protectors,Computers & Accessories,All Computers & Accessories,Fashion & Silver Jewellery,',\n",
              " 'Office Supplies & Stationery,Smart Home,Screen Protectors,Gold & Diamond Jewellery,Fashion Sandals,Power Banks,Cases & Covers,Computers & Accessories,',\n",
              " \"Women's Clothing,Laptops,Sunglasses,Software,All Mobile Accessories,Power Banks,Screen Protectors,\",\n",
              " \"Tablets,Networking Devices,All Computers & Accessories,Fashion & Silver Jewellery,Ethnic Wear,Clothing,Ethnic Wear,Mobiles,Ethnic Wear,Women's Shoes,\",\n",
              " 'Laptops,Desktops,Refurbished & Open Box,Screen Protectors,All Mobile Phones,Smart Home,Computer Accessories,Gold & Diamond Jewellery,Smart Home,',\n",
              " 'All Mobile Phones,Office Supplies & Stationery,All Computers & Accessories,Smart Home,',\n",
              " \"Networking Devices,Desktops,Women's Shoes,\",\n",
              " 'Clothing,Cases & Covers,All Mobile Phones,Watches,Printers & Ink,Mobiles,Computers & Accessories,Sunglasses,',\n",
              " \"Desktops,Clothing,Drives & Storage,Cases & Covers,Screen Protectors,Accessories,Women's Clothing,\",\n",
              " 'Top Brands,Top Brands,Networking Devices,Wearable Devices,Power Banks,Drives & Storage,',\n",
              " \"Watches,Accessories,All Mobile Accessories,Computer Accessories,Women's Shoes,Office Supplies & Stationery,Watches,Watches,Mobiles,\",\n",
              " \"Tablets,Tablets & More,Mobiles,Western Wear,Fashion Sandals,Women's Shoes,Sunglasses,\",\n",
              " 'Ballerinas,Fashion Sandals,Screen Protectors,Computers & Accessories,Cases & Covers,Desktops,',\n",
              " 'Fashion & Silver Jewellery,Mobiles,Ballerinas,',\n",
              " \"Women's Shoes,Western Wear,Tablets,Mobiles,Sunglasses,Fashion & Silver Jewellery,All Mobile Phones,\",\n",
              " 'Handbags & Clutches,Power Banks,Fashion & Silver Jewellery,Cases & Covers,',\n",
              " \"Accessories,Networking Devices,Women's Shoes,Computers & Accessories,Top Brands,Shoes,Game ZoneMonitors,\",\n",
              " \"Women's Shoes,Top Brands,Gold & Diamond Jewellery,Smart Home,Cases & Covers,Western Wear,Top Brands,All Mobile Phones,\",\n",
              " 'Watches,Tablets & More,Handbags & Clutches,Fashion & Silver Jewellery,Handbags & Clutches,Printers & Ink,Mobiles,Power Banks,Printers & Ink,',\n",
              " 'Fashion & Silver Jewellery,All Computers & Accessories,Tablets & More,All Computers & Accessories,Fashion & Silver Jewellery,Game ZoneMonitors,Tablets & More,Printers & Ink,Shoes,Handbags & Clutches,',\n",
              " 'Accessories,Fashion & Silver Jewellery,',\n",
              " 'Drives & Storage,Networking Devices,Fashion & Silver Jewellery,Cases & Covers,Drives & Storage,Watches,Shoes,Power Banks,Handbags & Clutches,Sunglasses,',\n",
              " 'Top Brands,Networking Devices,Screen Protectors,Mobiles,All Computers & Accessories,',\n",
              " 'Printers & Ink,Sunglasses,All Mobile Accessories,Top Brands,Networking Devices,Components,Sunglasses,All Mobile Accessories,Mobiles,',\n",
              " 'All Mobile Phones,Accessories,',\n",
              " 'Tablets & More,Power Banks,Mobiles,Printers & Ink,Tablets,Gold & Diamond Jewellery,Fashion Sandals,Power Banks,',\n",
              " 'All Computers & Accessories,Cases & Covers,Western Wear,Refurbished & Open Box,All Mobile Accessories,Wearable Devices,Sunglasses,Tablets & More,Tablets,',\n",
              " 'Shoes,Watches,',\n",
              " \"All Mobile Phones,Laptops,Women's Shoes,\",\n",
              " 'Ethnic Wear,Watches,Software,Refurbished & Open Box,Lingerie & Nightwear,Office Supplies & Stationery,Sunglasses,',\n",
              " \"Refurbished & Open Box,Laptops,Women's Shoes,\",\n",
              " 'Ethnic Wear,Mobiles,Tablets & More,',\n",
              " \"Computers & Accessories,Women's Shoes,Top Brands,Refurbished & Open Box,Screen Protectors,\",\n",
              " 'Power Banks,Clothing,Clothing,Western Wear,Accessories,Gold & Diamond Jewellery,All Mobile Accessories,Printers & Ink,Computers & Accessories,',\n",
              " 'Top Brands,Watches,Wearable Devices,Watches,Sunglasses,Accessories,Office Supplies & Stationery,',\n",
              " 'Western Wear,All Computers & Accessories,Fashion & Silver Jewellery,Ethnic Wear,',\n",
              " 'Desktops,Watches,Desktops,All Computers & Accessories,Printers & Ink,',\n",
              " 'Drives & Storage,Office Supplies & Stationery,Accessories,Ethnic Wear,Watches,Laptops,Power Banks,',\n",
              " \"Refurbished & Open Box,Women's Clothing,Tablets,Western Wear,Desktops,Refurbished & Open Box,Cases & Covers,Mobiles,Women's Clothing,\",\n",
              " 'Screen Protectors,Laptops,Fashion Sandals,Fashion & Silver Jewellery,Sunglasses,Laptops,Computer Accessories,Screen Protectors,Wearable Devices,',\n",
              " 'Game ZoneMonitors,Laptops,Laptops,Components,All Mobile Accessories,Computer Accessories,Software,',\n",
              " \"Screen Protectors,Game ZoneMonitors,Fashion & Silver Jewellery,Women's Shoes,Power Banks,Fashion Sandals,Cases & Covers,\",\n",
              " 'Lingerie & Nightwear,Cases & Covers,Tablets,Laptops,',\n",
              " 'Refurbished & Open Box,Watches,Computers & Accessories,Desktops,Power Banks,Fashion & Silver Jewellery,Printers & Ink,Ethnic Wear,Gold & Diamond Jewellery,',\n",
              " 'Printers & Ink,Wearable Devices,Wearable Devices,Game ZoneMonitors,Laptops,Handbags & Clutches,Screen Protectors,Desktops,',\n",
              " 'Mobiles,Drives & Storage,Sunglasses,Fashion Sandals,All Computers & Accessories,Sunglasses,',\n",
              " 'Software,Gold & Diamond Jewellery,Fashion Sandals,']"
            ]
          },
          "metadata": {
            "tags": []
          },
          "execution_count": 19
        }
      ]
    },
    {
      "cell_type": "code",
      "metadata": {
        "id": "CXHKQU75Dm8O"
      },
      "source": [
        "# Removing stopwords and using tf-idf vectorizer\n",
        "\n",
        "vectorizer = TfidfVectorizer(stop_words = 'english')\n",
        "X = vectorizer.fit_transform(document)"
      ],
      "execution_count": null,
      "outputs": []
    },
    {
      "cell_type": "code",
      "metadata": {
        "colab": {
          "base_uri": "https://localhost:8080/"
        },
        "id": "yfWp1ev3FQzq",
        "outputId": "81c89050-7a87-4587-c8bb-64fc2430053c"
      },
      "source": [
        "# Using k-means to cluster similar text strings\n",
        "\n",
        "true_k = 2\n",
        "model = KMeans(n_clusters = true_k, init = 'k-means++', max_iter = 100, n_init = 1)\n",
        "model.fit(X)"
      ],
      "execution_count": null,
      "outputs": [
        {
          "output_type": "execute_result",
          "data": {
            "text/plain": [
              "KMeans(algorithm='auto', copy_x=True, init='k-means++', max_iter=100,\n",
              "       n_clusters=2, n_init=1, n_jobs=None, precompute_distances='auto',\n",
              "       random_state=None, tol=0.0001, verbose=0)"
            ]
          },
          "metadata": {
            "tags": []
          },
          "execution_count": 21
        }
      ]
    },
    {
      "cell_type": "code",
      "metadata": {
        "id": "obFJeSJUFSlE"
      },
      "source": [
        "order_centroids = model.cluster_centers_.argsort()[:, ::-1]\n",
        "terms = vectorizer.get_feature_names()"
      ],
      "execution_count": null,
      "outputs": []
    },
    {
      "cell_type": "code",
      "metadata": {
        "colab": {
          "base_uri": "https://localhost:8080/"
        },
        "id": "CmrzkgnoHmZV",
        "outputId": "486b93e3-d08f-467e-8cd5-878d7b9ee2c6"
      },
      "source": [
        "order_centroids"
      ],
      "execution_count": null,
      "outputs": [
        {
          "output_type": "execute_result",
          "data": {
            "text/plain": [
              "array([[17, 23, 52, 40,  6, 39, 24,  5, 11,  1,  7, 20, 37, 33,  2, 27,\n",
              "        19, 14,  0, 45, 18, 53, 12, 47, 41, 21, 42, 48, 15, 44, 34, 22,\n",
              "        29, 25, 26, 38, 35, 43, 30, 46, 13, 32,  4,  3, 31, 36,  8, 49,\n",
              "         9, 28, 51, 10, 50, 16],\n",
              "       [ 0, 10, 26, 49, 47, 13,  9, 32,  4, 16, 50, 51, 31, 36,  3, 52,\n",
              "        39,  6, 43, 46, 30, 27, 48, 42, 35, 38, 45,  8, 28, 12,  1, 24,\n",
              "        44, 15, 17, 20,  7, 53, 18, 33,  2, 29, 25, 22, 34, 37, 21, 41,\n",
              "        23, 40, 11,  5, 14, 19]])"
            ]
          },
          "metadata": {
            "tags": []
          },
          "execution_count": 23
        }
      ]
    },
    {
      "cell_type": "code",
      "metadata": {
        "colab": {
          "base_uri": "https://localhost:8080/"
        },
        "id": "7_npG0KHOfOx",
        "outputId": "2e4c6f52-b666-4eb4-d390-9a2b741cabae"
      },
      "source": [
        "print(terms, len(terms))"
      ],
      "execution_count": null,
      "outputs": [
        {
          "output_type": "stream",
          "text": [
            "['accessories', 'ballerinas', 'banks', 'box', 'brands', 'cases', 'clothing', 'clutches', 'components', 'computer', 'computers', 'covers', 'desktops', 'devices', 'diamond', 'drives', 'ethnic', 'fashion', 'game', 'gold', 'handbags', 'home', 'ink', 'jewellery', 'laptops', 'lingerie', 'mobile', 'mobiles', 'networking', 'nightwear', 'office', 'open', 'phones', 'power', 'printers', 'protectors', 'refurbished', 'sandals', 'screen', 'shoes', 'silver', 'smart', 'software', 'stationery', 'storage', 'sunglasses', 'supplies', 'tablets', 'watches', 'wear', 'wearable', 'western', 'women', 'zonemonitors'] 54\n"
          ],
          "name": "stdout"
        }
      ]
    },
    {
      "cell_type": "code",
      "metadata": {
        "colab": {
          "base_uri": "https://localhost:8080/"
        },
        "id": "l4rbIesHFVvr",
        "outputId": "282824bb-8a7b-438a-9846-e24e14806b43"
      },
      "source": [
        "# Printing out centroids\n",
        "\n",
        "clusters = {}\n",
        "tmp = []\n",
        "\n",
        "for i in range(true_k):\n",
        "  print(\"Cluster %d:\" % i),\n",
        "  for ind in order_centroids[i, :54]:\n",
        "    print(\" %s\" % terms[ind])\n",
        "    tmp.append(terms[ind])\n",
        "  clusters[i] = tmp\n",
        "  tmp = []"
      ],
      "execution_count": null,
      "outputs": [
        {
          "output_type": "stream",
          "text": [
            "Cluster 0:\n",
            " fashion\n",
            " jewellery\n",
            " women\n",
            " silver\n",
            " clothing\n",
            " shoes\n",
            " laptops\n",
            " cases\n",
            " covers\n",
            " ballerinas\n",
            " clutches\n",
            " handbags\n",
            " sandals\n",
            " power\n",
            " banks\n",
            " mobiles\n",
            " gold\n",
            " diamond\n",
            " accessories\n",
            " sunglasses\n",
            " game\n",
            " zonemonitors\n",
            " desktops\n",
            " tablets\n",
            " smart\n",
            " home\n",
            " software\n",
            " watches\n",
            " drives\n",
            " storage\n",
            " printers\n",
            " ink\n",
            " nightwear\n",
            " lingerie\n",
            " mobile\n",
            " screen\n",
            " protectors\n",
            " stationery\n",
            " office\n",
            " supplies\n",
            " devices\n",
            " phones\n",
            " brands\n",
            " box\n",
            " open\n",
            " refurbished\n",
            " components\n",
            " wear\n",
            " computer\n",
            " networking\n",
            " western\n",
            " computers\n",
            " wearable\n",
            " ethnic\n",
            "Cluster 1:\n",
            " accessories\n",
            " computers\n",
            " mobile\n",
            " wear\n",
            " tablets\n",
            " devices\n",
            " computer\n",
            " phones\n",
            " brands\n",
            " ethnic\n",
            " wearable\n",
            " western\n",
            " open\n",
            " refurbished\n",
            " box\n",
            " women\n",
            " shoes\n",
            " clothing\n",
            " stationery\n",
            " supplies\n",
            " office\n",
            " mobiles\n",
            " watches\n",
            " software\n",
            " protectors\n",
            " screen\n",
            " sunglasses\n",
            " components\n",
            " networking\n",
            " desktops\n",
            " ballerinas\n",
            " laptops\n",
            " storage\n",
            " drives\n",
            " fashion\n",
            " handbags\n",
            " clutches\n",
            " zonemonitors\n",
            " game\n",
            " power\n",
            " banks\n",
            " nightwear\n",
            " lingerie\n",
            " ink\n",
            " printers\n",
            " sandals\n",
            " home\n",
            " smart\n",
            " jewellery\n",
            " silver\n",
            " covers\n",
            " cases\n",
            " diamond\n",
            " gold\n"
          ],
          "name": "stdout"
        }
      ]
    },
    {
      "cell_type": "code",
      "metadata": {
        "colab": {
          "base_uri": "https://localhost:8080/"
        },
        "id": "ghZH-Gw7Qs4y",
        "outputId": "a2beaef5-13fa-43a8-8561-c789762ba2fc"
      },
      "source": [
        "clusters"
      ],
      "execution_count": null,
      "outputs": [
        {
          "output_type": "execute_result",
          "data": {
            "text/plain": [
              "{0: ['fashion',\n",
              "  'jewellery',\n",
              "  'women',\n",
              "  'silver',\n",
              "  'clothing',\n",
              "  'shoes',\n",
              "  'laptops',\n",
              "  'cases',\n",
              "  'covers',\n",
              "  'ballerinas',\n",
              "  'clutches',\n",
              "  'handbags',\n",
              "  'sandals',\n",
              "  'power',\n",
              "  'banks',\n",
              "  'mobiles',\n",
              "  'gold',\n",
              "  'diamond',\n",
              "  'accessories',\n",
              "  'sunglasses',\n",
              "  'game',\n",
              "  'zonemonitors',\n",
              "  'desktops',\n",
              "  'tablets',\n",
              "  'smart',\n",
              "  'home',\n",
              "  'software',\n",
              "  'watches',\n",
              "  'drives',\n",
              "  'storage',\n",
              "  'printers',\n",
              "  'ink',\n",
              "  'nightwear',\n",
              "  'lingerie',\n",
              "  'mobile',\n",
              "  'screen',\n",
              "  'protectors',\n",
              "  'stationery',\n",
              "  'office',\n",
              "  'supplies',\n",
              "  'devices',\n",
              "  'phones',\n",
              "  'brands',\n",
              "  'box',\n",
              "  'open',\n",
              "  'refurbished',\n",
              "  'components',\n",
              "  'wear',\n",
              "  'computer',\n",
              "  'networking',\n",
              "  'western',\n",
              "  'computers',\n",
              "  'wearable',\n",
              "  'ethnic'],\n",
              " 1: ['accessories',\n",
              "  'computers',\n",
              "  'mobile',\n",
              "  'wear',\n",
              "  'tablets',\n",
              "  'devices',\n",
              "  'computer',\n",
              "  'phones',\n",
              "  'brands',\n",
              "  'ethnic',\n",
              "  'wearable',\n",
              "  'western',\n",
              "  'open',\n",
              "  'refurbished',\n",
              "  'box',\n",
              "  'women',\n",
              "  'shoes',\n",
              "  'clothing',\n",
              "  'stationery',\n",
              "  'supplies',\n",
              "  'office',\n",
              "  'mobiles',\n",
              "  'watches',\n",
              "  'software',\n",
              "  'protectors',\n",
              "  'screen',\n",
              "  'sunglasses',\n",
              "  'components',\n",
              "  'networking',\n",
              "  'desktops',\n",
              "  'ballerinas',\n",
              "  'laptops',\n",
              "  'storage',\n",
              "  'drives',\n",
              "  'fashion',\n",
              "  'handbags',\n",
              "  'clutches',\n",
              "  'zonemonitors',\n",
              "  'game',\n",
              "  'power',\n",
              "  'banks',\n",
              "  'nightwear',\n",
              "  'lingerie',\n",
              "  'ink',\n",
              "  'printers',\n",
              "  'sandals',\n",
              "  'home',\n",
              "  'smart',\n",
              "  'jewellery',\n",
              "  'silver',\n",
              "  'covers',\n",
              "  'cases',\n",
              "  'diamond',\n",
              "  'gold']}"
            ]
          },
          "metadata": {
            "tags": []
          },
          "execution_count": 26
        }
      ]
    },
    {
      "cell_type": "code",
      "metadata": {
        "colab": {
          "base_uri": "https://localhost:8080/"
        },
        "id": "Am-Xa6TwFlti",
        "outputId": "2a8395a2-8928-4d95-fbaa-806f4495e508"
      },
      "source": [
        "# Using a sample search string to find out its cluster. From the predicted cluster, we will recommend top 3 products to the customer\n",
        "\n",
        "n = random.randint(0, len(data))\n",
        "search_history = data['Search String'][n].split(\",\")\n",
        "\n",
        "print(\"The search history is : \", search_history)\n",
        "for search_string in search_history:\n",
        "  if search_string:\n",
        "    X = vectorizer.transform([search_string])\n",
        "    predicted = model.predict(X)[0]\n",
        "    print(search_string, \" -> Predicted cluster : \", predicted)\n",
        "    print(\"Recommeded items : \", clusters[predicted][0], clusters[predicted][1], clusters[predicted][2])\n",
        "    print(\"-------------------------------------------------------\")"
      ],
      "execution_count": null,
      "outputs": [
        {
          "output_type": "stream",
          "text": [
            "The search history is :  ['All Computers & Accessories', 'Components', 'Ballerinas', 'Networking Devices', 'Refurbished & Open Box', 'Lingerie & Nightwear', 'Networking Devices', 'Tablets & More', 'Networking Devices', '']\n",
            "All Computers & Accessories  -> Predicted cluster :  1\n",
            "Recommeded items :  accessories computers mobile\n",
            "-------------------------------------------------------\n",
            "Components  -> Predicted cluster :  1\n",
            "Recommeded items :  accessories computers mobile\n",
            "-------------------------------------------------------\n",
            "Ballerinas  -> Predicted cluster :  0\n",
            "Recommeded items :  fashion jewellery women\n",
            "-------------------------------------------------------\n",
            "Networking Devices  -> Predicted cluster :  1\n",
            "Recommeded items :  accessories computers mobile\n",
            "-------------------------------------------------------\n",
            "Refurbished & Open Box  -> Predicted cluster :  1\n",
            "Recommeded items :  accessories computers mobile\n",
            "-------------------------------------------------------\n",
            "Lingerie & Nightwear  -> Predicted cluster :  0\n",
            "Recommeded items :  fashion jewellery women\n",
            "-------------------------------------------------------\n",
            "Networking Devices  -> Predicted cluster :  1\n",
            "Recommeded items :  accessories computers mobile\n",
            "-------------------------------------------------------\n",
            "Tablets & More  -> Predicted cluster :  1\n",
            "Recommeded items :  accessories computers mobile\n",
            "-------------------------------------------------------\n",
            "Networking Devices  -> Predicted cluster :  1\n",
            "Recommeded items :  accessories computers mobile\n",
            "-------------------------------------------------------\n"
          ],
          "name": "stdout"
        }
      ]
    },
    {
      "cell_type": "markdown",
      "metadata": {
        "id": "4kFQ0E-Nufcz"
      },
      "source": [
        "## Task C \n",
        "\n",
        "1) Group your audience based on powerful filters such as demographics,\n",
        "channels, behaviours, traffic source to see how different groups engage with\n",
        "your business.\n",
        "\n",
        "2) Show the outcome in graphical format.\n",
        "\n",
        "3) Create a sample data set to implement this task."
      ]
    },
    {
      "cell_type": "code",
      "metadata": {
        "id": "K7QOIjKMujrD"
      },
      "source": [
        "# Import all libraries\n",
        "\n",
        "import pandas as pd\n",
        "import matplotlib.pyplot as plt\n",
        "import seaborn as sns\n",
        "import random\n",
        "import time"
      ],
      "execution_count": null,
      "outputs": []
    },
    {
      "cell_type": "code",
      "metadata": {
        "id": "6QMokixH_EDF"
      },
      "source": [
        "def str_time_prop(start, end, format, prop):\n",
        "    \"\"\"Get a time at a proportion of a range of two formatted times.\n",
        "\n",
        "    start and end should be strings specifying times formated in the\n",
        "    given format (strftime-style), giving an interval [start, end].\n",
        "    prop specifies how a proportion of the interval to be taken after\n",
        "    start.  The returned time will be in the specified format.\n",
        "    \"\"\"\n",
        "\n",
        "    stime = time.mktime(time.strptime(start, format))\n",
        "    etime = time.mktime(time.strptime(end, format))\n",
        "\n",
        "    ptime = stime + prop * (etime - stime)\n",
        "\n",
        "    return time.strftime(format, time.localtime(ptime))\n",
        "\n",
        "\n",
        "def random_date(start, end, prop):\n",
        "    return str_time_prop(start, end, '%m/%d/%Y %I:%M %p', prop)"
      ],
      "execution_count": null,
      "outputs": []
    },
    {
      "cell_type": "code",
      "metadata": {
        "id": "ooDUm-aKwMhh"
      },
      "source": [
        "# Creating an empty dataframe to store the generated dataset\n",
        "\n",
        "df = pd.DataFrame(columns = ['Customer ID', 'Age', 'Gender', 'Channel Used', 'Location', 'Date Time', 'Duration'])"
      ],
      "execution_count": null,
      "outputs": []
    },
    {
      "cell_type": "code",
      "metadata": {
        "colab": {
          "base_uri": "https://localhost:8080/",
          "height": 402
        },
        "id": "6j6DKwtjxyDs",
        "outputId": "db2d6161-56cc-4b78-d035-0e6aad474f33"
      },
      "source": [
        "# Generating Dataset\n",
        "\n",
        "for i in range(250):\n",
        "  age = random.randint(18, 85)\n",
        "  gender = random.choice(['F', 'M'])\n",
        "  channel = random.choice(['Android', 'iOS', 'Web', 'Instagram Page', 'Facebook Page'])\n",
        "  location = random.choice(['United States', 'India', 'Australia', 'Europe', 'Canada', 'France', 'Japan'])\n",
        "  date = random_date(\"1/1/2008 1:30 PM\", \"1/1/2009 4:50 AM\", random.random())\n",
        "  duration = random.randint(1, 15)\n",
        "  df = df.append({'Customer ID': 'CUST' + str(i), 'Age': age, 'Gender': gender, 'Channel Used': channel, \n",
        "                  'Location': location, 'Date Time': date, 'Duration': duration}, ignore_index = True)\n",
        "\n",
        "df"
      ],
      "execution_count": null,
      "outputs": [
        {
          "output_type": "execute_result",
          "data": {
            "text/html": [
              "<div>\n",
              "<style scoped>\n",
              "    .dataframe tbody tr th:only-of-type {\n",
              "        vertical-align: middle;\n",
              "    }\n",
              "\n",
              "    .dataframe tbody tr th {\n",
              "        vertical-align: top;\n",
              "    }\n",
              "\n",
              "    .dataframe thead th {\n",
              "        text-align: right;\n",
              "    }\n",
              "</style>\n",
              "<table border=\"1\" class=\"dataframe\">\n",
              "  <thead>\n",
              "    <tr style=\"text-align: right;\">\n",
              "      <th></th>\n",
              "      <th>Customer ID</th>\n",
              "      <th>Age</th>\n",
              "      <th>Gender</th>\n",
              "      <th>Channel Used</th>\n",
              "      <th>Location</th>\n",
              "      <th>Date Time</th>\n",
              "      <th>Duration</th>\n",
              "    </tr>\n",
              "  </thead>\n",
              "  <tbody>\n",
              "    <tr>\n",
              "      <th>0</th>\n",
              "      <td>CUST0</td>\n",
              "      <td>44</td>\n",
              "      <td>M</td>\n",
              "      <td>Android</td>\n",
              "      <td>Australia</td>\n",
              "      <td>02/22/2008 03:32 AM</td>\n",
              "      <td>13</td>\n",
              "    </tr>\n",
              "    <tr>\n",
              "      <th>1</th>\n",
              "      <td>CUST1</td>\n",
              "      <td>42</td>\n",
              "      <td>M</td>\n",
              "      <td>iOS</td>\n",
              "      <td>Australia</td>\n",
              "      <td>04/16/2008 03:32 PM</td>\n",
              "      <td>15</td>\n",
              "    </tr>\n",
              "    <tr>\n",
              "      <th>2</th>\n",
              "      <td>CUST2</td>\n",
              "      <td>72</td>\n",
              "      <td>F</td>\n",
              "      <td>Android</td>\n",
              "      <td>Canada</td>\n",
              "      <td>07/23/2008 08:00 AM</td>\n",
              "      <td>8</td>\n",
              "    </tr>\n",
              "    <tr>\n",
              "      <th>3</th>\n",
              "      <td>CUST3</td>\n",
              "      <td>57</td>\n",
              "      <td>F</td>\n",
              "      <td>Web</td>\n",
              "      <td>Australia</td>\n",
              "      <td>11/29/2008 07:22 PM</td>\n",
              "      <td>5</td>\n",
              "    </tr>\n",
              "    <tr>\n",
              "      <th>4</th>\n",
              "      <td>CUST4</td>\n",
              "      <td>21</td>\n",
              "      <td>M</td>\n",
              "      <td>Instagram Page</td>\n",
              "      <td>Australia</td>\n",
              "      <td>10/24/2008 02:45 PM</td>\n",
              "      <td>2</td>\n",
              "    </tr>\n",
              "    <tr>\n",
              "      <th>...</th>\n",
              "      <td>...</td>\n",
              "      <td>...</td>\n",
              "      <td>...</td>\n",
              "      <td>...</td>\n",
              "      <td>...</td>\n",
              "      <td>...</td>\n",
              "      <td>...</td>\n",
              "    </tr>\n",
              "    <tr>\n",
              "      <th>245</th>\n",
              "      <td>CUST245</td>\n",
              "      <td>59</td>\n",
              "      <td>F</td>\n",
              "      <td>Android</td>\n",
              "      <td>India</td>\n",
              "      <td>07/31/2008 01:39 PM</td>\n",
              "      <td>13</td>\n",
              "    </tr>\n",
              "    <tr>\n",
              "      <th>246</th>\n",
              "      <td>CUST246</td>\n",
              "      <td>30</td>\n",
              "      <td>F</td>\n",
              "      <td>Android</td>\n",
              "      <td>Japan</td>\n",
              "      <td>01/14/2008 07:13 AM</td>\n",
              "      <td>6</td>\n",
              "    </tr>\n",
              "    <tr>\n",
              "      <th>247</th>\n",
              "      <td>CUST247</td>\n",
              "      <td>45</td>\n",
              "      <td>M</td>\n",
              "      <td>Android</td>\n",
              "      <td>Australia</td>\n",
              "      <td>06/03/2008 05:07 AM</td>\n",
              "      <td>11</td>\n",
              "    </tr>\n",
              "    <tr>\n",
              "      <th>248</th>\n",
              "      <td>CUST248</td>\n",
              "      <td>82</td>\n",
              "      <td>M</td>\n",
              "      <td>iOS</td>\n",
              "      <td>Japan</td>\n",
              "      <td>02/07/2008 12:08 AM</td>\n",
              "      <td>8</td>\n",
              "    </tr>\n",
              "    <tr>\n",
              "      <th>249</th>\n",
              "      <td>CUST249</td>\n",
              "      <td>55</td>\n",
              "      <td>F</td>\n",
              "      <td>Web</td>\n",
              "      <td>France</td>\n",
              "      <td>08/30/2008 01:55 AM</td>\n",
              "      <td>11</td>\n",
              "    </tr>\n",
              "  </tbody>\n",
              "</table>\n",
              "<p>250 rows × 7 columns</p>\n",
              "</div>"
            ],
            "text/plain": [
              "    Customer ID Age Gender  ...   Location            Date Time Duration\n",
              "0         CUST0  44      M  ...  Australia  02/22/2008 03:32 AM       13\n",
              "1         CUST1  42      M  ...  Australia  04/16/2008 03:32 PM       15\n",
              "2         CUST2  72      F  ...     Canada  07/23/2008 08:00 AM        8\n",
              "3         CUST3  57      F  ...  Australia  11/29/2008 07:22 PM        5\n",
              "4         CUST4  21      M  ...  Australia  10/24/2008 02:45 PM        2\n",
              "..          ...  ..    ...  ...        ...                  ...      ...\n",
              "245     CUST245  59      F  ...      India  07/31/2008 01:39 PM       13\n",
              "246     CUST246  30      F  ...      Japan  01/14/2008 07:13 AM        6\n",
              "247     CUST247  45      M  ...  Australia  06/03/2008 05:07 AM       11\n",
              "248     CUST248  82      M  ...      Japan  02/07/2008 12:08 AM        8\n",
              "249     CUST249  55      F  ...     France  08/30/2008 01:55 AM       11\n",
              "\n",
              "[250 rows x 7 columns]"
            ]
          },
          "metadata": {
            "tags": []
          },
          "execution_count": 4
        }
      ]
    },
    {
      "cell_type": "code",
      "metadata": {
        "colab": {
          "base_uri": "https://localhost:8080/"
        },
        "id": "M7jMdLZMAjVF",
        "outputId": "b14acaf7-e1c3-4197-ac52-7499222addd9"
      },
      "source": [
        "df.info()"
      ],
      "execution_count": null,
      "outputs": [
        {
          "output_type": "stream",
          "text": [
            "<class 'pandas.core.frame.DataFrame'>\n",
            "RangeIndex: 250 entries, 0 to 249\n",
            "Data columns (total 7 columns):\n",
            " #   Column        Non-Null Count  Dtype \n",
            "---  ------        --------------  ----- \n",
            " 0   Customer ID   250 non-null    object\n",
            " 1   Age           250 non-null    object\n",
            " 2   Gender        250 non-null    object\n",
            " 3   Channel Used  250 non-null    object\n",
            " 4   Location      250 non-null    object\n",
            " 5   Date Time     250 non-null    object\n",
            " 6   Duration      250 non-null    object\n",
            "dtypes: object(7)\n",
            "memory usage: 13.8+ KB\n"
          ],
          "name": "stdout"
        }
      ]
    },
    {
      "cell_type": "code",
      "metadata": {
        "colab": {
          "base_uri": "https://localhost:8080/",
          "height": 166
        },
        "id": "ed4k1Cc-AqWu",
        "outputId": "3d4365e7-9798-4b2e-e82d-40b9dd79ddcc"
      },
      "source": [
        "df.describe()"
      ],
      "execution_count": null,
      "outputs": [
        {
          "output_type": "execute_result",
          "data": {
            "text/html": [
              "<div>\n",
              "<style scoped>\n",
              "    .dataframe tbody tr th:only-of-type {\n",
              "        vertical-align: middle;\n",
              "    }\n",
              "\n",
              "    .dataframe tbody tr th {\n",
              "        vertical-align: top;\n",
              "    }\n",
              "\n",
              "    .dataframe thead th {\n",
              "        text-align: right;\n",
              "    }\n",
              "</style>\n",
              "<table border=\"1\" class=\"dataframe\">\n",
              "  <thead>\n",
              "    <tr style=\"text-align: right;\">\n",
              "      <th></th>\n",
              "      <th>Customer ID</th>\n",
              "      <th>Age</th>\n",
              "      <th>Gender</th>\n",
              "      <th>Channel Used</th>\n",
              "      <th>Location</th>\n",
              "      <th>Date Time</th>\n",
              "      <th>Duration</th>\n",
              "    </tr>\n",
              "  </thead>\n",
              "  <tbody>\n",
              "    <tr>\n",
              "      <th>count</th>\n",
              "      <td>250</td>\n",
              "      <td>250</td>\n",
              "      <td>250</td>\n",
              "      <td>250</td>\n",
              "      <td>250</td>\n",
              "      <td>250</td>\n",
              "      <td>250</td>\n",
              "    </tr>\n",
              "    <tr>\n",
              "      <th>unique</th>\n",
              "      <td>250</td>\n",
              "      <td>64</td>\n",
              "      <td>2</td>\n",
              "      <td>5</td>\n",
              "      <td>7</td>\n",
              "      <td>250</td>\n",
              "      <td>15</td>\n",
              "    </tr>\n",
              "    <tr>\n",
              "      <th>top</th>\n",
              "      <td>CUST228</td>\n",
              "      <td>62</td>\n",
              "      <td>F</td>\n",
              "      <td>Instagram Page</td>\n",
              "      <td>Australia</td>\n",
              "      <td>04/15/2008 07:24 AM</td>\n",
              "      <td>15</td>\n",
              "    </tr>\n",
              "    <tr>\n",
              "      <th>freq</th>\n",
              "      <td>1</td>\n",
              "      <td>10</td>\n",
              "      <td>132</td>\n",
              "      <td>62</td>\n",
              "      <td>43</td>\n",
              "      <td>1</td>\n",
              "      <td>23</td>\n",
              "    </tr>\n",
              "  </tbody>\n",
              "</table>\n",
              "</div>"
            ],
            "text/plain": [
              "       Customer ID  Age Gender  ...   Location            Date Time Duration\n",
              "count          250  250    250  ...        250                  250      250\n",
              "unique         250   64      2  ...          7                  250       15\n",
              "top        CUST228   62      F  ...  Australia  04/15/2008 07:24 AM       15\n",
              "freq             1   10    132  ...         43                    1       23\n",
              "\n",
              "[4 rows x 7 columns]"
            ]
          },
          "metadata": {
            "tags": []
          },
          "execution_count": 6
        }
      ]
    },
    {
      "cell_type": "code",
      "metadata": {
        "colab": {
          "base_uri": "https://localhost:8080/",
          "height": 353
        },
        "id": "fm6m1vg5zmfB",
        "outputId": "63507e80-be38-4767-b14c-1aa3e73881a8"
      },
      "source": [
        "# Data Insights - Customer distribution in countries\n",
        "\n",
        "df.Location.value_counts().plot(kind = 'bar')\n",
        "plt.xlabel('Countries')\n",
        "plt.ylabel('Count')\n",
        "plt.title('Country Distribution of users')\n",
        "plt.show()"
      ],
      "execution_count": null,
      "outputs": [
        {
          "output_type": "display_data",
          "data": {
            "image/png": "[encoded data removed]",
            "text/plain": [
              "<Figure size 432x288 with 1 Axes>"
            ]
          },
          "metadata": {
            "tags": [],
            "needs_background": "light"
          }
        }
      ]
    },
    {
      "cell_type": "code",
      "metadata": {
        "colab": {
          "base_uri": "https://localhost:8080/"
        },
        "id": "eKnow7tv6Ve_",
        "outputId": "7c61bab9-2710-490b-fc23-6da2cce13f38"
      },
      "source": [
        "# Number of active users\n",
        "\n",
        "durations = {}\n",
        "durations['1-3'] = df[df.Duration.between(1, 3)]['Duration'].count()\n",
        "durations['4-6'] = df[df.Duration.between(4, 6)]['Duration'].count()\n",
        "durations['7-9'] = df[df.Duration.between(7, 9)]['Duration'].count()\n",
        "durations['10-12'] = df[df.Duration.between(10, 12)]['Duration'].count()\n",
        "durations['13-15'] = df[df.Duration.between(13, 15)]['Duration'].count()\n",
        "durations"
      ],
      "execution_count": null,
      "outputs": [
        {
          "output_type": "execute_result",
          "data": {
            "text/plain": [
              "{'1-3': 50, '10-12': 37, '13-15': 60, '4-6': 59, '7-9': 44}"
            ]
          },
          "metadata": {
            "tags": []
          },
          "execution_count": 8
        }
      ]
    },
    {
      "cell_type": "code",
      "metadata": {
        "colab": {
          "base_uri": "https://localhost:8080/",
          "height": 295
        },
        "id": "szf48liccb1s",
        "outputId": "1262352a-af25-490a-e0c7-16473077010f"
      },
      "source": [
        "plt.bar(list(durations.keys()), list(durations.values()))\n",
        "plt.ylabel('Number of users')\n",
        "plt.xlabel('Number of hours')\n",
        "plt.title('Duration Distribution of users')\n",
        "plt.show()"
      ],
      "execution_count": null,
      "outputs": [
        {
          "output_type": "display_data",
          "data": {
            "image/png": "[encoded data removed]",
            "text/plain": [
              "<Figure size 432x288 with 1 Axes>"
            ]
          },
          "metadata": {
            "tags": [],
            "needs_background": "light"
          }
        }
      ]
    },
    {
      "cell_type": "code",
      "metadata": {
        "colab": {
          "base_uri": "https://localhost:8080/"
        },
        "id": "eesy6vHJEzY3",
        "outputId": "526562cf-1906-4533-df34-1242252d0b2c"
      },
      "source": [
        "df['Channel Used'].value_counts()"
      ],
      "execution_count": null,
      "outputs": [
        {
          "output_type": "execute_result",
          "data": {
            "text/plain": [
              "Instagram Page    62\n",
              "Android           52\n",
              "Web               48\n",
              "Facebook Page     45\n",
              "iOS               43\n",
              "Name: Channel Used, dtype: int64"
            ]
          },
          "metadata": {
            "tags": []
          },
          "execution_count": 10
        }
      ]
    },
    {
      "cell_type": "code",
      "metadata": {
        "colab": {
          "base_uri": "https://localhost:8080/",
          "height": 248
        },
        "id": "VTfDXvqUAwUm",
        "outputId": "a368b4d4-2756-4dee-feef-4efc14fc1ab8"
      },
      "source": [
        "# Channel Breakdown\n",
        "\n",
        "plt.pie(df['Channel Used'].value_counts(), labels = ['Instagram Page', 'Android', 'Web', 'Facebook Page', 'iOS'], autopct = \"%1.0f%%\") # Need to change \n",
        "                                                                                                                # it everytime we run previous cell\n",
        "plt.show()"
      ],
      "execution_count": null,
      "outputs": [
        {
          "output_type": "display_data",
          "data": {
            "image/png": "[encoded data removed]",
            "text/plain": [
              "<Figure size 432x288 with 1 Axes>"
            ]
          },
          "metadata": {
            "tags": []
          }
        }
      ]
    },
    {
      "cell_type": "code",
      "metadata": {
        "colab": {
          "base_uri": "https://localhost:8080/"
        },
        "id": "G9aRRN26N1Rq",
        "outputId": "c0ecbf1e-3d7f-49ae-8a86-eeb52a5e8e0d"
      },
      "source": [
        "df.Gender.value_counts()"
      ],
      "execution_count": null,
      "outputs": [
        {
          "output_type": "execute_result",
          "data": {
            "text/plain": [
              "F    132\n",
              "M    118\n",
              "Name: Gender, dtype: int64"
            ]
          },
          "metadata": {
            "tags": []
          },
          "execution_count": 12
        }
      ]
    },
    {
      "cell_type": "code",
      "metadata": {
        "colab": {
          "base_uri": "https://localhost:8080/",
          "height": 248
        },
        "id": "3yk9J0drNv_z",
        "outputId": "ba18c469-569d-45c6-9261-beff99ebae44"
      },
      "source": [
        "# Gender Distribution\n",
        "\n",
        "plt.pie(df.Gender.value_counts(), labels = ['Female', 'Male'], autopct = \"%1.0f%%\") # Also need to change this\n",
        "plt.show()"
      ],
      "execution_count": null,
      "outputs": [
        {
          "output_type": "display_data",
          "data": {
            "image/png": "[encoded data removed]",
            "text/plain": [
              "<Figure size 432x288 with 1 Axes>"
            ]
          },
          "metadata": {
            "tags": []
          }
        }
      ]
    },
    {
      "cell_type": "code",
      "metadata": {
        "colab": {
          "base_uri": "https://localhost:8080/"
        },
        "id": "0WSMOG_oJNUe",
        "outputId": "c0f033f9-3c29-45cf-ac72-90453365b146"
      },
      "source": [
        "# Age distribution\n",
        "\n",
        "ages = {}\n",
        "\n",
        "ages['18_25'] = df[df['Age'].between(18, 25)]['Age'].count()\n",
        "ages['25_35'] = df[df['Age'].between(25, 35)]['Age'].count()\n",
        "ages['35_45'] = df[df['Age'].between(38, 45)]['Age'].count()\n",
        "ages['45_65'] = df[df['Age'].between(45, 65)]['Age'].count()\n",
        "ages['65plus'] = df[df['Age'] > 65]['Age'].count()\n",
        "\n",
        "ages"
      ],
      "execution_count": null,
      "outputs": [
        {
          "output_type": "execute_result",
          "data": {
            "text/plain": [
              "{'18_25': 22, '25_35': 45, '35_45': 28, '45_65': 90, '65plus': 64}"
            ]
          },
          "metadata": {
            "tags": []
          },
          "execution_count": 14
        }
      ]
    },
    {
      "cell_type": "code",
      "metadata": {
        "colab": {
          "base_uri": "https://localhost:8080/",
          "height": 296
        },
        "id": "NCr7YMDoTodU",
        "outputId": "e246b0cc-1fff-4044-8ec5-eb499d4276ee"
      },
      "source": [
        "plt.bar(list(ages.keys()), list(ages.values()))\n",
        "plt.ylabel('Ages')\n",
        "plt.xlabel('Age Distribution')\n",
        "plt.title('Age Distribution of users')\n",
        "plt.show()"
      ],
      "execution_count": null,
      "outputs": [
        {
          "output_type": "display_data",
          "data": {
            "image/png": "[encoded data removed]",
            "text/plain": [
              "<Figure size 432x288 with 1 Axes>"
            ]
          },
          "metadata": {
            "tags": [],
            "needs_background": "light"
          }
        }
      ]
    },
    {
      "cell_type": "code",
      "metadata": {
        "id": "T7qbdSfJgrUW"
      },
      "source": [
        "gender = {'M': 0, 'F': 1}\n",
        "location = {'United States': 0, 'India': 1, 'France': 2, 'Canada': 3, 'Europe': 4, 'Japan': 5, 'Australia': 6}\n",
        "channel = {'Web': 0, 'iOS': 1, 'Android': 2, 'Instagram Page': 3, 'Facebook Page': 4}\n",
        "\n",
        "df.Gender = [gender[item] for item in df.Gender]\n",
        "df.Location = [location[item] for item in df.Location]\n",
        "df['Channel Used'] = [channel[item] for item in df['Channel Used']]"
      ],
      "execution_count": null,
      "outputs": []
    },
    {
      "cell_type": "code",
      "metadata": {
        "colab": {
          "base_uri": "https://localhost:8080/",
          "height": 402
        },
        "id": "6cKafpAjiIWm",
        "outputId": "71ee451a-2f61-49bd-b229-c154931cac5f"
      },
      "source": [
        "df2 = df.drop(['Date Time'], axis = 1)\n",
        "df2"
      ],
      "execution_count": null,
      "outputs": [
        {
          "output_type": "execute_result",
          "data": {
            "text/html": [
              "<div>\n",
              "<style scoped>\n",
              "    .dataframe tbody tr th:only-of-type {\n",
              "        vertical-align: middle;\n",
              "    }\n",
              "\n",
              "    .dataframe tbody tr th {\n",
              "        vertical-align: top;\n",
              "    }\n",
              "\n",
              "    .dataframe thead th {\n",
              "        text-align: right;\n",
              "    }\n",
              "</style>\n",
              "<table border=\"1\" class=\"dataframe\">\n",
              "  <thead>\n",
              "    <tr style=\"text-align: right;\">\n",
              "      <th></th>\n",
              "      <th>Customer ID</th>\n",
              "      <th>Age</th>\n",
              "      <th>Gender</th>\n",
              "      <th>Channel Used</th>\n",
              "      <th>Location</th>\n",
              "      <th>Duration</th>\n",
              "    </tr>\n",
              "  </thead>\n",
              "  <tbody>\n",
              "    <tr>\n",
              "      <th>0</th>\n",
              "      <td>CUST0</td>\n",
              "      <td>44</td>\n",
              "      <td>0</td>\n",
              "      <td>2</td>\n",
              "      <td>6</td>\n",
              "      <td>13</td>\n",
              "    </tr>\n",
              "    <tr>\n",
              "      <th>1</th>\n",
              "      <td>CUST1</td>\n",
              "      <td>42</td>\n",
              "      <td>0</td>\n",
              "      <td>1</td>\n",
              "      <td>6</td>\n",
              "      <td>15</td>\n",
              "    </tr>\n",
              "    <tr>\n",
              "      <th>2</th>\n",
              "      <td>CUST2</td>\n",
              "      <td>72</td>\n",
              "      <td>1</td>\n",
              "      <td>2</td>\n",
              "      <td>3</td>\n",
              "      <td>8</td>\n",
              "    </tr>\n",
              "    <tr>\n",
              "      <th>3</th>\n",
              "      <td>CUST3</td>\n",
              "      <td>57</td>\n",
              "      <td>1</td>\n",
              "      <td>0</td>\n",
              "      <td>6</td>\n",
              "      <td>5</td>\n",
              "    </tr>\n",
              "    <tr>\n",
              "      <th>4</th>\n",
              "      <td>CUST4</td>\n",
              "      <td>21</td>\n",
              "      <td>0</td>\n",
              "      <td>3</td>\n",
              "      <td>6</td>\n",
              "      <td>2</td>\n",
              "    </tr>\n",
              "    <tr>\n",
              "      <th>...</th>\n",
              "      <td>...</td>\n",
              "      <td>...</td>\n",
              "      <td>...</td>\n",
              "      <td>...</td>\n",
              "      <td>...</td>\n",
              "      <td>...</td>\n",
              "    </tr>\n",
              "    <tr>\n",
              "      <th>245</th>\n",
              "      <td>CUST245</td>\n",
              "      <td>59</td>\n",
              "      <td>1</td>\n",
              "      <td>2</td>\n",
              "      <td>1</td>\n",
              "      <td>13</td>\n",
              "    </tr>\n",
              "    <tr>\n",
              "      <th>246</th>\n",
              "      <td>CUST246</td>\n",
              "      <td>30</td>\n",
              "      <td>1</td>\n",
              "      <td>2</td>\n",
              "      <td>5</td>\n",
              "      <td>6</td>\n",
              "    </tr>\n",
              "    <tr>\n",
              "      <th>247</th>\n",
              "      <td>CUST247</td>\n",
              "      <td>45</td>\n",
              "      <td>0</td>\n",
              "      <td>2</td>\n",
              "      <td>6</td>\n",
              "      <td>11</td>\n",
              "    </tr>\n",
              "    <tr>\n",
              "      <th>248</th>\n",
              "      <td>CUST248</td>\n",
              "      <td>82</td>\n",
              "      <td>0</td>\n",
              "      <td>1</td>\n",
              "      <td>5</td>\n",
              "      <td>8</td>\n",
              "    </tr>\n",
              "    <tr>\n",
              "      <th>249</th>\n",
              "      <td>CUST249</td>\n",
              "      <td>55</td>\n",
              "      <td>1</td>\n",
              "      <td>0</td>\n",
              "      <td>2</td>\n",
              "      <td>11</td>\n",
              "    </tr>\n",
              "  </tbody>\n",
              "</table>\n",
              "<p>250 rows × 6 columns</p>\n",
              "</div>"
            ],
            "text/plain": [
              "    Customer ID Age  Gender  Channel Used  Location Duration\n",
              "0         CUST0  44       0             2         6       13\n",
              "1         CUST1  42       0             1         6       15\n",
              "2         CUST2  72       1             2         3        8\n",
              "3         CUST3  57       1             0         6        5\n",
              "4         CUST4  21       0             3         6        2\n",
              "..          ...  ..     ...           ...       ...      ...\n",
              "245     CUST245  59       1             2         1       13\n",
              "246     CUST246  30       1             2         5        6\n",
              "247     CUST247  45       0             2         6       11\n",
              "248     CUST248  82       0             1         5        8\n",
              "249     CUST249  55       1             0         2       11\n",
              "\n",
              "[250 rows x 6 columns]"
            ]
          },
          "metadata": {
            "tags": []
          },
          "execution_count": 17
        }
      ]
    },
    {
      "cell_type": "code",
      "metadata": {
        "colab": {
          "base_uri": "https://localhost:8080/",
          "height": 388
        },
        "id": "ZG7huNCWURmR",
        "outputId": "5058bbb5-3818-4947-e66e-129d959aa509"
      },
      "source": [
        "# K-Means Clustering for grouping customers\n",
        "\n",
        "from sklearn.cluster import KMeans\n",
        "import numpy as np\n",
        "\n",
        "wcss = []\n",
        "\n",
        "for k in range(1, 11):\n",
        "    kmeans = KMeans(n_clusters = k, init = \"k-means++\")\n",
        "    kmeans.fit(df2.iloc[:, 1:])\n",
        "    wcss.append(kmeans.inertia_)\n",
        "\n",
        "plt.figure(figsize = (12,6))    \n",
        "plt.grid()\n",
        "plt.plot(range(1, 11),wcss, linewidth = 2, color = \"red\", marker = \"8\")\n",
        "plt.xlabel(\"K Value\")\n",
        "plt.xticks(np.arange(1, 11, 1))\n",
        "plt.ylabel(\"WCSS\")\n",
        "plt.show()"
      ],
      "execution_count": null,
      "outputs": [
        {
          "output_type": "display_data",
          "data": {
            "image/png": "[encoded data removed]",
            "text/plain": [
              "<Figure size 864x432 with 1 Axes>"
            ]
          },
          "metadata": {
            "tags": [],
            "needs_background": "light"
          }
        }
      ]
    },
    {
      "cell_type": "code",
      "metadata": {
        "id": "3ovLHKW0dv6Q"
      },
      "source": [
        "# We choose k = 5. Applying K-Means Clustering to group customers.\n",
        "\n",
        "km = KMeans(n_clusters = 5)\n",
        "clusters = km.fit_predict(df2.iloc[:, 1:])\n",
        "\n",
        "df2[\"label\"] = clusters"
      ],
      "execution_count": null,
      "outputs": []
    },
    {
      "cell_type": "code",
      "metadata": {
        "colab": {
          "base_uri": "https://localhost:8080/",
          "height": 402
        },
        "id": "3z-_s2UFjhGS",
        "outputId": "857d6b17-3d9a-4b92-ed40-2db9b44913d6"
      },
      "source": [
        "df2"
      ],
      "execution_count": null,
      "outputs": [
        {
          "output_type": "execute_result",
          "data": {
            "text/html": [
              "<div>\n",
              "<style scoped>\n",
              "    .dataframe tbody tr th:only-of-type {\n",
              "        vertical-align: middle;\n",
              "    }\n",
              "\n",
              "    .dataframe tbody tr th {\n",
              "        vertical-align: top;\n",
              "    }\n",
              "\n",
              "    .dataframe thead th {\n",
              "        text-align: right;\n",
              "    }\n",
              "</style>\n",
              "<table border=\"1\" class=\"dataframe\">\n",
              "  <thead>\n",
              "    <tr style=\"text-align: right;\">\n",
              "      <th></th>\n",
              "      <th>Customer ID</th>\n",
              "      <th>Age</th>\n",
              "      <th>Gender</th>\n",
              "      <th>Channel Used</th>\n",
              "      <th>Location</th>\n",
              "      <th>Duration</th>\n",
              "      <th>label</th>\n",
              "    </tr>\n",
              "  </thead>\n",
              "  <tbody>\n",
              "    <tr>\n",
              "      <th>0</th>\n",
              "      <td>CUST0</td>\n",
              "      <td>44</td>\n",
              "      <td>0</td>\n",
              "      <td>2</td>\n",
              "      <td>6</td>\n",
              "      <td>13</td>\n",
              "      <td>1</td>\n",
              "    </tr>\n",
              "    <tr>\n",
              "      <th>1</th>\n",
              "      <td>CUST1</td>\n",
              "      <td>42</td>\n",
              "      <td>0</td>\n",
              "      <td>1</td>\n",
              "      <td>6</td>\n",
              "      <td>15</td>\n",
              "      <td>1</td>\n",
              "    </tr>\n",
              "    <tr>\n",
              "      <th>2</th>\n",
              "      <td>CUST2</td>\n",
              "      <td>72</td>\n",
              "      <td>1</td>\n",
              "      <td>2</td>\n",
              "      <td>3</td>\n",
              "      <td>8</td>\n",
              "      <td>0</td>\n",
              "    </tr>\n",
              "    <tr>\n",
              "      <th>3</th>\n",
              "      <td>CUST3</td>\n",
              "      <td>57</td>\n",
              "      <td>1</td>\n",
              "      <td>0</td>\n",
              "      <td>6</td>\n",
              "      <td>5</td>\n",
              "      <td>2</td>\n",
              "    </tr>\n",
              "    <tr>\n",
              "      <th>4</th>\n",
              "      <td>CUST4</td>\n",
              "      <td>21</td>\n",
              "      <td>0</td>\n",
              "      <td>3</td>\n",
              "      <td>6</td>\n",
              "      <td>2</td>\n",
              "      <td>4</td>\n",
              "    </tr>\n",
              "    <tr>\n",
              "      <th>...</th>\n",
              "      <td>...</td>\n",
              "      <td>...</td>\n",
              "      <td>...</td>\n",
              "      <td>...</td>\n",
              "      <td>...</td>\n",
              "      <td>...</td>\n",
              "      <td>...</td>\n",
              "    </tr>\n",
              "    <tr>\n",
              "      <th>245</th>\n",
              "      <td>CUST245</td>\n",
              "      <td>59</td>\n",
              "      <td>1</td>\n",
              "      <td>2</td>\n",
              "      <td>1</td>\n",
              "      <td>13</td>\n",
              "      <td>2</td>\n",
              "    </tr>\n",
              "    <tr>\n",
              "      <th>246</th>\n",
              "      <td>CUST246</td>\n",
              "      <td>30</td>\n",
              "      <td>1</td>\n",
              "      <td>2</td>\n",
              "      <td>5</td>\n",
              "      <td>6</td>\n",
              "      <td>3</td>\n",
              "    </tr>\n",
              "    <tr>\n",
              "      <th>247</th>\n",
              "      <td>CUST247</td>\n",
              "      <td>45</td>\n",
              "      <td>0</td>\n",
              "      <td>2</td>\n",
              "      <td>6</td>\n",
              "      <td>11</td>\n",
              "      <td>1</td>\n",
              "    </tr>\n",
              "    <tr>\n",
              "      <th>248</th>\n",
              "      <td>CUST248</td>\n",
              "      <td>82</td>\n",
              "      <td>0</td>\n",
              "      <td>1</td>\n",
              "      <td>5</td>\n",
              "      <td>8</td>\n",
              "      <td>0</td>\n",
              "    </tr>\n",
              "    <tr>\n",
              "      <th>249</th>\n",
              "      <td>CUST249</td>\n",
              "      <td>55</td>\n",
              "      <td>1</td>\n",
              "      <td>0</td>\n",
              "      <td>2</td>\n",
              "      <td>11</td>\n",
              "      <td>2</td>\n",
              "    </tr>\n",
              "  </tbody>\n",
              "</table>\n",
              "<p>250 rows × 7 columns</p>\n",
              "</div>"
            ],
            "text/plain": [
              "    Customer ID Age  Gender  Channel Used  Location Duration  label\n",
              "0         CUST0  44       0             2         6       13      1\n",
              "1         CUST1  42       0             1         6       15      1\n",
              "2         CUST2  72       1             2         3        8      0\n",
              "3         CUST3  57       1             0         6        5      2\n",
              "4         CUST4  21       0             3         6        2      4\n",
              "..          ...  ..     ...           ...       ...      ...    ...\n",
              "245     CUST245  59       1             2         1       13      2\n",
              "246     CUST246  30       1             2         5        6      3\n",
              "247     CUST247  45       0             2         6       11      1\n",
              "248     CUST248  82       0             1         5        8      0\n",
              "249     CUST249  55       1             0         2       11      2\n",
              "\n",
              "[250 rows x 7 columns]"
            ]
          },
          "metadata": {
            "tags": []
          },
          "execution_count": 21
        }
      ]
    },
    {
      "cell_type": "code",
      "metadata": {
        "colab": {
          "base_uri": "https://localhost:8080/",
          "height": 428
        },
        "id": "F2iVHUWljwMt",
        "outputId": "5512dac3-ed9c-4619-b8b2-b81bbeb06fd6"
      },
      "source": [
        "from mpl_toolkits import mplot3d\n",
        "\n",
        "fig = plt.figure(figsize = (10, 7))\n",
        "ax = plt.axes(projection =\"3d\")\n",
        "my_cmap = plt.get_cmap('hsv')\n",
        "\n",
        "sctt = ax.scatter3D(df2['Location'][df2.label == 0].tolist(), df2['Channel Used'][df2.label == 0].tolist(), df2['Duration'][df2.label == 0].tolist(), \n",
        "                    alpha = 0.8, cmap = my_cmap, marker = '^')\n",
        "sctt = ax.scatter3D(df2['Location'][df2.label == 1].tolist(), df2['Channel Used'][df2.label == 1].tolist(), df2['Duration'][df2.label == 1].tolist(), \n",
        "                    alpha = 0.8, cmap = my_cmap, marker = '^')\n",
        "sctt = ax.scatter3D(df2['Location'][df2.label == 2].tolist(), df2['Channel Used'][df2.label == 2].tolist(), df2['Duration'][df2.label == 2].tolist(), \n",
        "                    alpha = 0.8, cmap = my_cmap, marker = '^')\n",
        "sctt = ax.scatter3D(df2['Location'][df2.label == 3].tolist(), df2['Channel Used'][df2.label == 3].tolist(), df2['Duration'][df2.label == 3].tolist(), \n",
        "                    alpha = 0.8, cmap = my_cmap, marker = '^')\n",
        "sctt = ax.scatter3D(df2['Location'][df2.label == 4].tolist(), df2['Channel Used'][df2.label == 4].tolist(), df2['Duration'][df2.label == 4].tolist(), \n",
        "                    alpha = 0.8, cmap = my_cmap, marker = '^')\n",
        "\n",
        "plt.title(\"Dependency Plot for clusters\")\n",
        "ax.set_xlabel('Location', fontweight ='bold') \n",
        "ax.set_ylabel('Channel', fontweight ='bold') \n",
        "ax.set_zlabel('Duration', fontweight ='bold')\n",
        "fig.colorbar(sctt, ax = ax, shrink = 0.5, aspect = 5)"
      ],
      "execution_count": null,
      "outputs": [
        {
          "output_type": "execute_result",
          "data": {
            "text/plain": [
              "<matplotlib.colorbar.Colorbar at 0x7f7a6290b810>"
            ]
          },
          "metadata": {
            "tags": []
          },
          "execution_count": 33
        },
        {
          "output_type": "display_data",
          "data": {
            "image/png": "[encoded data removed]",
            "text/plain": [
              "<Figure size 720x504 with 2 Axes>"
            ]
          },
          "metadata": {
            "tags": [],
            "needs_background": "light"
          }
        }
      ]
    },
    {
      "cell_type": "markdown",
      "metadata": {
        "id": "O4N9hWU6_MqR"
      },
      "source": [
        "We can conclude from the given 3D plot that there is no correlation between the factors like Channel, Location and Duration. This is because the data is generated randomly and hence there will be no correlation. If data from a business organization is used, we may find some correlation between duration and gender or duration and location."
      ]
    },
    {
      "cell_type": "code",
      "metadata": {
        "id": "7XPBZ_Kv7UpB"
      },
      "source": [
        ""
      ],
      "execution_count": null,
      "outputs": []
    }
  ]
}