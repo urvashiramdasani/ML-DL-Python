{
  "nbformat": 4,
  "nbformat_minor": 0,
  "metadata": {
    "colab": {
      "name": "18BCE247_kNN.ipynb",
      "provenance": [],
      "authorship_tag": "ABX9TyPzbFuGZMevzQS3eo2hdb9n",
      "include_colab_link": true
    },
    "kernelspec": {
      "name": "python3",
      "display_name": "Python 3"
    }
  },
  "cells": [
    {
      "cell_type": "markdown",
      "metadata": {
        "id": "view-in-github",
        "colab_type": "text"
      },
      "source": [
        "<a href=\"https://colab.research.google.com/github/urvashiramdasani/ML-DL-Python/blob/master/ML/18BCE247_kNN.ipynb\" target=\"_parent\"><img src=\"https://colab.research.google.com/assets/colab-badge.svg\" alt=\"Open In Colab\"/></a>"
      ]
    },
    {
      "cell_type": "markdown",
      "metadata": {
        "id": "nLoBFdqURfCE"
      },
      "source": [
        "Name : Urvashi Ramdasani\n",
        "\n",
        "Roll Number : 18BCE247\n",
        "\n",
        "Batch : D3\n",
        "\n",
        "Aim : Implementation of k Nearest Neighbours using sklearn"
      ]
    },
    {
      "cell_type": "code",
      "metadata": {
        "id": "KK4MO2b3RWpl"
      },
      "source": [
        "# Load the libraries\n",
        "\n",
        "import numpy\n",
        "import matplotlib.pyplot as plt\n",
        "from sklearn import datasets, metrics\n",
        "import seaborn as sns\n",
        "from sklearn import neighbors"
      ],
      "execution_count": 1,
      "outputs": []
    },
    {
      "cell_type": "code",
      "metadata": {
        "id": "c9OE8ElRUUh8",
        "outputId": "10e0fccd-be62-4001-916e-6f1694b4ae65",
        "colab": {
          "base_uri": "https://localhost:8080/",
          "height": 52
        }
      },
      "source": [
        "# Load dataset\n",
        "\n",
        "X, y = datasets.load_iris(return_X_y = True)\n",
        "print(X.shape)\n",
        "print(y.shape)"
      ],
      "execution_count": 3,
      "outputs": [
        {
          "output_type": "stream",
          "text": [
            "(150, 4)\n",
            "(150,)\n"
          ],
          "name": "stdout"
        }
      ]
    },
    {
      "cell_type": "code",
      "metadata": {
        "id": "kSkSTTcTUftX",
        "outputId": "0faca679-8217-4abe-92bd-42e20cf1e537",
        "colab": {
          "base_uri": "https://localhost:8080/",
          "height": 52
        }
      },
      "source": [
        "# Train test split without sklearn\n",
        "\n",
        "X_train = X[range(0, 150, 2), :]\n",
        "y_train = y[range(0, 150, 2)]\n",
        "print(X_train.shape)\n",
        "print(y_train.shape)"
      ],
      "execution_count": 4,
      "outputs": [
        {
          "output_type": "stream",
          "text": [
            "(75, 4)\n",
            "(75,)\n"
          ],
          "name": "stdout"
        }
      ]
    },
    {
      "cell_type": "code",
      "metadata": {
        "id": "d6IPzXDwUi6O",
        "outputId": "e968cd04-4c97-4dfb-df31-b391c6cfa8b9",
        "colab": {
          "base_uri": "https://localhost:8080/",
          "height": 52
        }
      },
      "source": [
        "X_test = X[range(1, 150, 2), :]\n",
        "y_test = y[range(1, 150, 2)]\n",
        "print(X_test.shape)\n",
        "\n",
        "print(y_test.shape)"
      ],
      "execution_count": 5,
      "outputs": [
        {
          "output_type": "stream",
          "text": [
            "(75, 4)\n",
            "(75,)\n"
          ],
          "name": "stdout"
        }
      ]
    },
    {
      "cell_type": "code",
      "metadata": {
        "id": "N8mVkbs0ZVb6",
        "outputId": "4565177e-2afb-4290-a546-39f30a8bb786",
        "colab": {
          "base_uri": "https://localhost:8080/",
          "height": 616
        }
      },
      "source": [
        "# For Uniform and k = 3\n",
        "\n",
        "classifer = neighbors.KNeighborsClassifier(3, 'uniform')\n",
        "classifier.fit(X_train, y_train)\n",
        "\n",
        "# Predict the values\n",
        "\n",
        "y_predicted = classifier.predict(X_test)\n",
        "print('Predicted Values : ', y_predicted)\n",
        "\n",
        "# Accuracy and other measures\n",
        "\n",
        "print('Accuracy Score : ', metrics.accuracy_score(y_true = y_test, y_pred = y_predicted))\n",
        "print('Classification Report : ')\n",
        "print(metrics.classification_report(y_true = y_test, y_pred = y_predicted))\n",
        "print('Confusion Matrix : ')\n",
        "\n",
        "cm = metrics.confusion_matrix(y_true = y_test, y_pred = y_predicted)\n",
        "print(cm)\n",
        "sns.heatmap(cm, annot = True, cmap = 'plasma')"
      ],
      "execution_count": 17,
      "outputs": [
        {
          "output_type": "stream",
          "text": [
            "Predicted Values :  [0 0 0 0 0 0 0 0 0 0 0 0 0 0 0 0 0 0 0 0 0 0 0 0 0 1 1 1 1 1 1 1 1 1 1 1 1\n",
            " 1 1 1 1 2 1 1 1 1 1 1 1 1 2 2 2 2 2 2 2 2 2 1 2 2 2 2 2 2 2 2 2 2 2 2 2 2\n",
            " 2]\n",
            "Accuracy Score :  0.9733333333333334\n",
            "Classification Report : \n",
            "              precision    recall  f1-score   support\n",
            "\n",
            "           0       1.00      1.00      1.00        25\n",
            "           1       0.96      0.96      0.96        25\n",
            "           2       0.96      0.96      0.96        25\n",
            "\n",
            "    accuracy                           0.97        75\n",
            "   macro avg       0.97      0.97      0.97        75\n",
            "weighted avg       0.97      0.97      0.97        75\n",
            "\n",
            "Confusion Matrix : \n",
            "[[25  0  0]\n",
            " [ 0 24  1]\n",
            " [ 0  1 24]]\n"
          ],
          "name": "stdout"
        },
        {
          "output_type": "execute_result",
          "data": {
            "text/plain": [
              "<matplotlib.axes._subplots.AxesSubplot at 0x7fd6afe8a7f0>"
            ]
          },
          "metadata": {
            "tags": []
          },
          "execution_count": 17
        },
        {
          "output_type": "display_data",
          "data": {
            "image/png": "[encoded data removed]",
            "text/plain": [
              "<Figure size 432x288 with 2 Axes>"
            ]
          },
          "metadata": {
            "tags": [],
            "needs_background": "light"
          }
        }
      ]
    },
    {
      "cell_type": "code",
      "metadata": {
        "id": "PWOLbFS9f9Xm",
        "outputId": "005c89dd-f538-4e55-e22d-a576a1ba3d18",
        "colab": {
          "base_uri": "https://localhost:8080/",
          "height": 616
        }
      },
      "source": [
        "# For Distance and k = 3\n",
        "\n",
        "classifer = neighbors.KNeighborsClassifier(3, 'uniform')\n",
        "classifier.fit(X_train, y_train)\n",
        "\n",
        "# Predict the values\n",
        "\n",
        "y_predicted = classifier.predict(X_test)\n",
        "print('Predicted Values : ', y_predicted)\n",
        "\n",
        "# Accuracy and other measures\n",
        "\n",
        "print('Accuracy Score : ', metrics.accuracy_score(y_true = y_test, y_pred = y_predicted))\n",
        "print('Classification Report : ')\n",
        "print(metrics.classification_report(y_true = y_test, y_pred = y_predicted))\n",
        "print('Confusion Matrix : ')\n",
        "\n",
        "cm = metrics.confusion_matrix(y_true = y_test, y_pred = y_predicted)\n",
        "print(cm)\n",
        "sns.heatmap(cm, annot = True, cmap = 'plasma')"
      ],
      "execution_count": 18,
      "outputs": [
        {
          "output_type": "stream",
          "text": [
            "Predicted Values :  [0 0 0 0 0 0 0 0 0 0 0 0 0 0 0 0 0 0 0 0 0 0 0 0 0 1 1 1 1 1 1 1 1 1 1 1 1\n",
            " 1 1 1 1 2 1 1 1 1 1 1 1 1 2 2 2 2 2 2 2 2 2 1 2 2 2 2 2 2 2 2 2 2 2 2 2 2\n",
            " 2]\n",
            "Accuracy Score :  0.9733333333333334\n",
            "Classification Report : \n",
            "              precision    recall  f1-score   support\n",
            "\n",
            "           0       1.00      1.00      1.00        25\n",
            "           1       0.96      0.96      0.96        25\n",
            "           2       0.96      0.96      0.96        25\n",
            "\n",
            "    accuracy                           0.97        75\n",
            "   macro avg       0.97      0.97      0.97        75\n",
            "weighted avg       0.97      0.97      0.97        75\n",
            "\n",
            "Confusion Matrix : \n",
            "[[25  0  0]\n",
            " [ 0 24  1]\n",
            " [ 0  1 24]]\n"
          ],
          "name": "stdout"
        },
        {
          "output_type": "execute_result",
          "data": {
            "text/plain": [
              "<matplotlib.axes._subplots.AxesSubplot at 0x7fd6afe82630>"
            ]
          },
          "metadata": {
            "tags": []
          },
          "execution_count": 18
        },
        {
          "output_type": "display_data",
          "data": {
            "image/png": "[encoded data removed]",
            "text/plain": [
              "<Figure size 432x288 with 2 Axes>"
            ]
          },
          "metadata": {
            "tags": [],
            "needs_background": "light"
          }
        }
      ]
    },
    {
      "cell_type": "code",
      "metadata": {
        "id": "jZPV3CEjUmPF",
        "outputId": "ebfa5466-96dd-4ec0-d7ae-664e72718f2c",
        "colab": {
          "base_uri": "https://localhost:8080/",
          "height": 295
        }
      },
      "source": [
        "# For different values of k\n",
        "\n",
        "weights = ['uniform', 'distance']\n",
        "ks = [x for x in range(3, 11)]\n",
        "\n",
        "accuracy_score = []\n",
        "\n",
        "for k in ks: \n",
        "  classifier = neighbors.KNeighborsClassifier(k, weights[0])\n",
        "  classifier.fit(X_train, y_train)\n",
        "  y_predicted = classifier.predict(X_test)\n",
        "  score = metrics.accuracy_score(y_test, y_predicted)\n",
        "  accuracy_score.append(score)\n",
        "\n",
        "plt.plot(ks, accuracy_score)\n",
        "plt.xlabel('Values of k')\n",
        "plt.ylabel('Accuracy Score')\n",
        "plt.title('Accuracy Score vs k for Uniform')\n",
        "plt.show()"
      ],
      "execution_count": 14,
      "outputs": [
        {
          "output_type": "display_data",
          "data": {
            "image/png": "[encoded data removed]",
            "text/plain": [
              "<Figure size 432x288 with 1 Axes>"
            ]
          },
          "metadata": {
            "tags": [],
            "needs_background": "light"
          }
        }
      ]
    },
    {
      "cell_type": "code",
      "metadata": {
        "id": "KEDRmzswWl5T",
        "outputId": "8b695aab-d1aa-4a84-8ba8-29b6eb2454a4",
        "colab": {
          "base_uri": "https://localhost:8080/",
          "height": 295
        }
      },
      "source": [
        "weights = ['uniform', 'distance']\n",
        "ks = [x for x in range(3, 11)]\n",
        "\n",
        "accuracy_score = []\n",
        "\n",
        "for k in ks: \n",
        "  classifier = neighbors.KNeighborsClassifier(k, weights[1])\n",
        "  classifier.fit(X_train, y_train)\n",
        "  y_predicted = classifier.predict(X_test)\n",
        "  score = metrics.accuracy_score(y_test, y_predicted)\n",
        "  accuracy_score.append(score)\n",
        "\n",
        "plt.plot(ks, accuracy_score)\n",
        "plt.xlabel('Values of k')\n",
        "plt.ylabel('Accuracy Score')\n",
        "plt.title('Accuracy Score vs k for Distance')\n",
        "plt.show()"
      ],
      "execution_count": 15,
      "outputs": [
        {
          "output_type": "display_data",
          "data": {
            "image/png": "[encoded data removed]",
            "text/plain": [
              "<Figure size 432x288 with 1 Axes>"
            ]
          },
          "metadata": {
            "tags": [],
            "needs_background": "light"
          }
        }
      ]
    },
    {
      "cell_type": "code",
      "metadata": {
        "id": "CqsoOTZqfZg4"
      },
      "source": [
        ""
      ],
      "execution_count": null,
      "outputs": []
    }
  ]
}