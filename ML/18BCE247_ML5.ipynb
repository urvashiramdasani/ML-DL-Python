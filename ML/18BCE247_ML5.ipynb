{
  "nbformat": 4,
  "nbformat_minor": 0,
  "metadata": {
    "colab": {
      "name": "18BCE247_ML5.ipynb",
      "provenance": [],
      "collapsed_sections": [],
      "authorship_tag": "ABX9TyOcOg9IMy9vALIKIIbz5vJE",
      "include_colab_link": true
    },
    "kernelspec": {
      "name": "python3",
      "display_name": "Python 3"
    }
  },
  "cells": [
    {
      "cell_type": "markdown",
      "metadata": {
        "id": "view-in-github",
        "colab_type": "text"
      },
      "source": [
        "<a href=\"https://colab.research.google.com/github/urvashiramdasani/ML-DL-Python/blob/master/ML/18BCE247_ML5.ipynb\" target=\"_parent\"><img src=\"https://colab.research.google.com/assets/colab-badge.svg\" alt=\"Open In Colab\"/></a>"
      ]
    },
    {
      "cell_type": "markdown",
      "metadata": {
        "id": "YauDLOh-PI_j",
        "colab_type": "text"
      },
      "source": [
        "Name - Urvashi Ramdasani\n",
        "\n",
        "Roll Number - 18BCE247\n",
        "\n",
        "Batch - D3\n",
        "\n",
        "Aim : Naïve-Bayes – Multivariate Bernoulli, Multinomial and\n",
        "Gaussian using sklearn"
      ]
    },
    {
      "cell_type": "code",
      "metadata": {
        "id": "IyJuV2NPNCt0",
        "colab_type": "code",
        "colab": {
          "base_uri": "https://localhost:8080/",
          "height": 72
        },
        "outputId": "d8a325ee-1c4e-418a-cfb5-e8aca0370b2c"
      },
      "source": [
        "# Load the libraries\n",
        "\n",
        "import numpy\n",
        "import matplotlib.pyplot as plt\n",
        "from sklearn import datasets, metrics\n",
        "from sklearn.naive_bayes import GaussianNB\n",
        "import seaborn as sns"
      ],
      "execution_count": 13,
      "outputs": [
        {
          "output_type": "stream",
          "text": [
            "/usr/local/lib/python3.6/dist-packages/statsmodels/tools/_testing.py:19: FutureWarning: pandas.util.testing is deprecated. Use the functions in the public API at pandas.testing instead.\n",
            "  import pandas.util.testing as tm\n"
          ],
          "name": "stderr"
        }
      ]
    },
    {
      "cell_type": "code",
      "metadata": {
        "id": "Ozv06MOYP6zy",
        "colab_type": "code",
        "colab": {
          "base_uri": "https://localhost:8080/",
          "height": 52
        },
        "outputId": "f0ed1238-1954-44c9-fdd3-57f664017783"
      },
      "source": [
        "# Load dataset\n",
        "\n",
        "X, y = datasets.load_iris(return_X_y = True)\n",
        "print(X.shape)\n",
        "print(y.shape)"
      ],
      "execution_count": 2,
      "outputs": [
        {
          "output_type": "stream",
          "text": [
            "(150, 4)\n",
            "(150,)\n"
          ],
          "name": "stdout"
        }
      ]
    },
    {
      "cell_type": "markdown",
      "metadata": {
        "id": "Nfb3bCI8QTzb",
        "colab_type": "text"
      },
      "source": [
        "We don't need data preprocessing or scaling here because in Naive Bayes, we only the require the frequency of each value and not the value itself to calculate probabilty."
      ]
    },
    {
      "cell_type": "code",
      "metadata": {
        "id": "C2sDu2cKQOxm",
        "colab_type": "code",
        "colab": {
          "base_uri": "https://localhost:8080/",
          "height": 52
        },
        "outputId": "81a7db0b-0890-49ab-f038-c13415a0d5c6"
      },
      "source": [
        "# Train test split without sklearn\n",
        "\n",
        "X_train = X[range(0, 150, 2), :]\n",
        "y_train = y[range(0, 150, 2)]\n",
        "print(X_train.shape)\n",
        "print(y_train.shape)"
      ],
      "execution_count": 3,
      "outputs": [
        {
          "output_type": "stream",
          "text": [
            "(75, 4)\n",
            "(75,)\n"
          ],
          "name": "stdout"
        }
      ]
    },
    {
      "cell_type": "code",
      "metadata": {
        "id": "goGct3vwQ3jQ",
        "colab_type": "code",
        "colab": {
          "base_uri": "https://localhost:8080/",
          "height": 52
        },
        "outputId": "777d5667-3619-4481-e688-472458a3ffd3"
      },
      "source": [
        "X_test = X[range(1, 150, 2), :]\n",
        "y_test = y[range(1, 150, 2)]\n",
        "print(X_test.shape)\n",
        "\n",
        "print(y_test.shape)"
      ],
      "execution_count": 4,
      "outputs": [
        {
          "output_type": "stream",
          "text": [
            "(75, 4)\n",
            "(75,)\n"
          ],
          "name": "stdout"
        }
      ]
    },
    {
      "cell_type": "code",
      "metadata": {
        "id": "HYXb5DSXREmu",
        "colab_type": "code",
        "colab": {
          "base_uri": "https://localhost:8080/",
          "height": 35
        },
        "outputId": "04f2339d-d08c-4f33-9755-8a78cb80a5cf"
      },
      "source": [
        "# Fit the model\n",
        "\n",
        "classifier = GaussianNB()\n",
        "classifier.fit(X_train, y_train)"
      ],
      "execution_count": 6,
      "outputs": [
        {
          "output_type": "execute_result",
          "data": {
            "text/plain": [
              "GaussianNB(priors=None, var_smoothing=1e-09)"
            ]
          },
          "metadata": {
            "tags": []
          },
          "execution_count": 6
        }
      ]
    },
    {
      "cell_type": "code",
      "metadata": {
        "id": "OULO_IinRo1n",
        "colab_type": "code",
        "colab": {
          "base_uri": "https://localhost:8080/",
          "height": 69
        },
        "outputId": "340d1a6f-3523-4419-8854-14ae0b12a659"
      },
      "source": [
        "# Predict the values\n",
        "\n",
        "y_predicted = classifier.predict(X_test)\n",
        "print(y_predicted)"
      ],
      "execution_count": 7,
      "outputs": [
        {
          "output_type": "stream",
          "text": [
            "[0 0 0 0 0 0 0 0 0 0 0 0 0 0 0 0 0 0 0 0 0 0 0 0 0 1 1 1 1 1 1 1 1 1 1 1 1\n",
            " 1 2 1 1 1 1 1 1 1 1 1 1 1 2 2 2 2 2 2 2 2 2 1 2 2 2 2 2 2 1 2 2 2 2 2 2 2\n",
            " 2]\n"
          ],
          "name": "stdout"
        }
      ]
    },
    {
      "cell_type": "code",
      "metadata": {
        "id": "2sdPMGihR49i",
        "colab_type": "code",
        "colab": {
          "base_uri": "https://localhost:8080/",
          "height": 35
        },
        "outputId": "dd84eec6-8bce-4374-e8ed-cc9de81a48be"
      },
      "source": [
        "# Accuracy and other measures\n",
        "\n",
        "print('Accuracy Score : ', metrics.accuracy_score(y_true = y_test, y_pred = y_predicted))"
      ],
      "execution_count": 8,
      "outputs": [
        {
          "output_type": "stream",
          "text": [
            "Accuracy Score :  0.96\n"
          ],
          "name": "stdout"
        }
      ]
    },
    {
      "cell_type": "code",
      "metadata": {
        "id": "3umN8rY0SU2t",
        "colab_type": "code",
        "colab": {
          "base_uri": "https://localhost:8080/",
          "height": 208
        },
        "outputId": "1f4c8d8b-4bc3-4b2d-e8f1-860148057b87"
      },
      "source": [
        "print('Classification Report : ')\n",
        "print(metrics.classification_report(y_true = y_test, y_pred = y_predicted))"
      ],
      "execution_count": 10,
      "outputs": [
        {
          "output_type": "stream",
          "text": [
            "Classification Report : \n",
            "              precision    recall  f1-score   support\n",
            "\n",
            "           0       1.00      1.00      1.00        25\n",
            "           1       0.92      0.96      0.94        25\n",
            "           2       0.96      0.92      0.94        25\n",
            "\n",
            "    accuracy                           0.96        75\n",
            "   macro avg       0.96      0.96      0.96        75\n",
            "weighted avg       0.96      0.96      0.96        75\n",
            "\n"
          ],
          "name": "stdout"
        }
      ]
    },
    {
      "cell_type": "code",
      "metadata": {
        "id": "TA0T9TMvSftJ",
        "colab_type": "code",
        "colab": {
          "base_uri": "https://localhost:8080/",
          "height": 356
        },
        "outputId": "33db1a6e-ef0c-430a-9d06-aedfcadddca4"
      },
      "source": [
        "print('Confusion Matrix : ')\n",
        "cm = metrics.confusion_matrix(y_true = y_test, y_pred = y_predicted)\n",
        "print(cm)\n",
        "sns.heatmap(cm, annot = True, cmap = 'plasma')"
      ],
      "execution_count": 21,
      "outputs": [
        {
          "output_type": "stream",
          "text": [
            "Confusion Matrix : \n",
            "[[25  0  0]\n",
            " [ 0 24  1]\n",
            " [ 0  2 23]]\n"
          ],
          "name": "stdout"
        },
        {
          "output_type": "execute_result",
          "data": {
            "text/plain": [
              "<matplotlib.axes._subplots.AxesSubplot at 0x7fd19308d400>"
            ]
          },
          "metadata": {
            "tags": []
          },
          "execution_count": 21
        },
        {
          "output_type": "display_data",
          "data": {
            "image/png": "[encoded data removed]",
            "text/plain": [
              "<Figure size 432x288 with 2 Axes>"
            ]
          },
          "metadata": {
            "tags": [],
            "needs_background": "light"
          }
        }
      ]
    },
    {
      "cell_type": "code",
      "metadata": {
        "id": "xIQXBOYcUEok",
        "colab_type": "code",
        "colab": {}
      },
      "source": [
        ""
      ],
      "execution_count": null,
      "outputs": []
    }
  ]
}