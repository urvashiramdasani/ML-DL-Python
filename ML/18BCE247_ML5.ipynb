{
  "nbformat": 4,
  "nbformat_minor": 0,
  "metadata": {
    "colab": {
      "name": "18BCE247_ML5.ipynb",
      "provenance": [],
      "collapsed_sections": [],
      "authorship_tag": "ABX9TyPQCYiqSWIGN+3Os1qZAwCY",
      "include_colab_link": true
    },
    "kernelspec": {
      "name": "python3",
      "display_name": "Python 3"
    }
  },
  "cells": [
    {
      "cell_type": "markdown",
      "metadata": {
        "id": "view-in-github",
        "colab_type": "text"
      },
      "source": [
        "<a href=\"https://colab.research.google.com/github/urvashiramdasani/ML-DL-Python/blob/master/ML/18BCE247_ML5.ipynb\" target=\"_parent\"><img src=\"https://colab.research.google.com/assets/colab-badge.svg\" alt=\"Open In Colab\"/></a>"
      ]
    },
    {
      "cell_type": "markdown",
      "metadata": {
        "id": "YauDLOh-PI_j"
      },
      "source": [
        "Name - Urvashi Ramdasani\n",
        "\n",
        "Roll Number - 18BCE247\n",
        "\n",
        "Batch - D3\n",
        "\n",
        "Aim : Naïve-Bayes – Multivariate Bernoulli, Multinomial and\n",
        "Gaussian using sklearn"
      ]
    },
    {
      "cell_type": "code",
      "metadata": {
        "id": "IyJuV2NPNCt0"
      },
      "source": [
        "# Load the libraries\n",
        "\n",
        "import numpy\n",
        "import matplotlib.pyplot as plt\n",
        "from sklearn import datasets, metrics\n",
        "from sklearn.naive_bayes import GaussianNB, BernoulliNB, MultinomialNB\n",
        "import seaborn as sns"
      ],
      "execution_count": null,
      "outputs": []
    },
    {
      "cell_type": "code",
      "metadata": {
        "id": "Ozv06MOYP6zy",
        "colab": {
          "base_uri": "https://localhost:8080/"
        },
        "outputId": "8588baa1-8c2f-442f-f60d-50b23c5deb25"
      },
      "source": [
        "# Load dataset\n",
        "\n",
        "X, y = datasets.load_iris(return_X_y = True)\n",
        "print(X.shape)\n",
        "print(y.shape)"
      ],
      "execution_count": null,
      "outputs": [
        {
          "output_type": "stream",
          "text": [
            "(150, 4)\n",
            "(150,)\n"
          ],
          "name": "stdout"
        }
      ]
    },
    {
      "cell_type": "markdown",
      "metadata": {
        "id": "Nfb3bCI8QTzb"
      },
      "source": [
        "We don't need data preprocessing or scaling here because in Naive Bayes, we only the require the frequency of each value and not the value itself to calculate probabilty."
      ]
    },
    {
      "cell_type": "code",
      "metadata": {
        "id": "C2sDu2cKQOxm",
        "colab": {
          "base_uri": "https://localhost:8080/"
        },
        "outputId": "86e78a4a-f6f8-423e-a0df-47f3b5502b67"
      },
      "source": [
        "# Train test split without sklearn\n",
        "\n",
        "X_train = X[range(0, 150, 2), :]\n",
        "y_train = y[range(0, 150, 2)]\n",
        "print(X_train.shape)\n",
        "print(y_train.shape)"
      ],
      "execution_count": null,
      "outputs": [
        {
          "output_type": "stream",
          "text": [
            "(75, 4)\n",
            "(75,)\n"
          ],
          "name": "stdout"
        }
      ]
    },
    {
      "cell_type": "code",
      "metadata": {
        "id": "goGct3vwQ3jQ",
        "colab": {
          "base_uri": "https://localhost:8080/"
        },
        "outputId": "1e0cdccf-3ac7-487e-a184-6eaa43183d1a"
      },
      "source": [
        "X_test = X[range(1, 150, 2), :]\n",
        "y_test = y[range(1, 150, 2)]\n",
        "print(X_test.shape)\n",
        "\n",
        "print(y_test.shape)"
      ],
      "execution_count": null,
      "outputs": [
        {
          "output_type": "stream",
          "text": [
            "(75, 4)\n",
            "(75,)\n"
          ],
          "name": "stdout"
        }
      ]
    },
    {
      "cell_type": "markdown",
      "metadata": {
        "id": "nZJ0JopWYOfw"
      },
      "source": [
        "Gaussian Naive Bayes"
      ]
    },
    {
      "cell_type": "code",
      "metadata": {
        "id": "HYXb5DSXREmu",
        "colab": {
          "base_uri": "https://localhost:8080/"
        },
        "outputId": "2661ba7a-88f1-420d-8995-3cf3d1d87d04"
      },
      "source": [
        "# Fit the model\n",
        "\n",
        "classifier = GaussianNB()\n",
        "classifier.fit(X_train, y_train)"
      ],
      "execution_count": null,
      "outputs": [
        {
          "output_type": "execute_result",
          "data": {
            "text/plain": [
              "GaussianNB(priors=None, var_smoothing=1e-09)"
            ]
          },
          "metadata": {
            "tags": []
          },
          "execution_count": 6
        }
      ]
    },
    {
      "cell_type": "code",
      "metadata": {
        "id": "OULO_IinRo1n",
        "colab": {
          "base_uri": "https://localhost:8080/"
        },
        "outputId": "f2515af1-ff7e-4641-e8a5-47713865a973"
      },
      "source": [
        "# Predict the values\n",
        "\n",
        "y_predicted = classifier.predict(X_test)\n",
        "print(y_predicted)"
      ],
      "execution_count": null,
      "outputs": [
        {
          "output_type": "stream",
          "text": [
            "[0 0 0 0 0 0 0 0 0 0 0 0 0 0 0 0 0 0 0 0 0 0 0 0 0 1 1 1 1 1 1 1 1 1 1 1 1\n",
            " 1 2 1 1 1 1 1 1 1 1 1 1 1 2 2 2 2 2 2 2 2 2 1 2 2 2 2 2 2 1 2 2 2 2 2 2 2\n",
            " 2]\n"
          ],
          "name": "stdout"
        }
      ]
    },
    {
      "cell_type": "code",
      "metadata": {
        "id": "2sdPMGihR49i",
        "colab": {
          "base_uri": "https://localhost:8080/"
        },
        "outputId": "3d3ea2ad-b249-4447-f8c5-90fe1fee91ea"
      },
      "source": [
        "# Accuracy and other measures\n",
        "\n",
        "print('Accuracy Score : ', metrics.accuracy_score(y_true = y_test, y_pred = y_predicted))"
      ],
      "execution_count": null,
      "outputs": [
        {
          "output_type": "stream",
          "text": [
            "Accuracy Score :  0.96\n"
          ],
          "name": "stdout"
        }
      ]
    },
    {
      "cell_type": "code",
      "metadata": {
        "id": "3umN8rY0SU2t",
        "colab": {
          "base_uri": "https://localhost:8080/"
        },
        "outputId": "3f967186-f0ad-4e15-bcdc-85fd1e03a757"
      },
      "source": [
        "print('Classification Report : ')\n",
        "print(metrics.classification_report(y_true = y_test, y_pred = y_predicted))"
      ],
      "execution_count": null,
      "outputs": [
        {
          "output_type": "stream",
          "text": [
            "Classification Report : \n",
            "              precision    recall  f1-score   support\n",
            "\n",
            "           0       1.00      1.00      1.00        25\n",
            "           1       0.92      0.96      0.94        25\n",
            "           2       0.96      0.92      0.94        25\n",
            "\n",
            "    accuracy                           0.96        75\n",
            "   macro avg       0.96      0.96      0.96        75\n",
            "weighted avg       0.96      0.96      0.96        75\n",
            "\n"
          ],
          "name": "stdout"
        }
      ]
    },
    {
      "cell_type": "code",
      "metadata": {
        "id": "TA0T9TMvSftJ",
        "colab": {
          "base_uri": "https://localhost:8080/",
          "height": 358
        },
        "outputId": "ee555e45-433b-4e7c-89fd-82a5778eccc9"
      },
      "source": [
        "print('Confusion Matrix : ')\n",
        "cm = metrics.confusion_matrix(y_true = y_test, y_pred = y_predicted)\n",
        "print(cm)\n",
        "sns.heatmap(cm, annot = True, cmap = 'plasma')"
      ],
      "execution_count": null,
      "outputs": [
        {
          "output_type": "stream",
          "text": [
            "Confusion Matrix : \n",
            "[[25  0  0]\n",
            " [ 0 24  1]\n",
            " [ 0  2 23]]\n"
          ],
          "name": "stdout"
        },
        {
          "output_type": "execute_result",
          "data": {
            "text/plain": [
              "<matplotlib.axes._subplots.AxesSubplot at 0x7fc9ae7ad6a0>"
            ]
          },
          "metadata": {
            "tags": []
          },
          "execution_count": 10
        },
        {
          "output_type": "display_data",
          "data": {
            "image/png": "[encoded data removed]",
            "text/plain": [
              "<Figure size 432x288 with 2 Axes>"
            ]
          },
          "metadata": {
            "tags": [],
            "needs_background": "light"
          }
        }
      ]
    },
    {
      "cell_type": "markdown",
      "metadata": {
        "id": "aXGnnjX3Ycn4"
      },
      "source": [
        "Multinomial Naive Bayes"
      ]
    },
    {
      "cell_type": "code",
      "metadata": {
        "id": "QyedUPOJXj2B",
        "colab": {
          "base_uri": "https://localhost:8080/"
        },
        "outputId": "c2b377a4-fbf6-4675-a1d9-77bf616bbe7f"
      },
      "source": [
        "# Fit the model\n",
        "\n",
        "classifier = MultinomialNB()\n",
        "classifier.fit(X_train, y_train)"
      ],
      "execution_count": null,
      "outputs": [
        {
          "output_type": "execute_result",
          "data": {
            "text/plain": [
              "MultinomialNB(alpha=1.0, class_prior=None, fit_prior=True)"
            ]
          },
          "metadata": {
            "tags": []
          },
          "execution_count": 11
        }
      ]
    },
    {
      "cell_type": "code",
      "metadata": {
        "id": "bkZxnFwdXssQ",
        "colab": {
          "base_uri": "https://localhost:8080/"
        },
        "outputId": "da3a7a27-5439-4048-cb93-2131f445d66c"
      },
      "source": [
        "# Predict the values\n",
        "\n",
        "y_predicted = classifier.predict(X_test)\n",
        "print(y_predicted)"
      ],
      "execution_count": null,
      "outputs": [
        {
          "output_type": "stream",
          "text": [
            "[0 0 0 0 0 0 0 0 0 0 0 0 0 0 0 0 0 0 0 0 0 0 0 0 0 1 1 1 1 1 1 1 1 1 1 1 1\n",
            " 1 1 1 1 2 1 1 1 1 1 1 1 1 2 2 2 2 2 2 2 2 2 2 2 2 1 2 1 1 1 2 2 2 2 2 2 2\n",
            " 2]\n"
          ],
          "name": "stdout"
        }
      ]
    },
    {
      "cell_type": "code",
      "metadata": {
        "id": "sxiFnkHBX0eE",
        "colab": {
          "base_uri": "https://localhost:8080/"
        },
        "outputId": "e26dabfa-c7c7-4ee3-a869-a4396b99c9e0"
      },
      "source": [
        "# Accuracy and other measures\n",
        "\n",
        "print('Accuracy Score : ', metrics.accuracy_score(y_true = y_test, y_pred = y_predicted))"
      ],
      "execution_count": null,
      "outputs": [
        {
          "output_type": "stream",
          "text": [
            "Accuracy Score :  0.9333333333333333\n"
          ],
          "name": "stdout"
        }
      ]
    },
    {
      "cell_type": "code",
      "metadata": {
        "id": "-_dVqfjYX4YY",
        "colab": {
          "base_uri": "https://localhost:8080/"
        },
        "outputId": "d5bd8db7-a1a8-42d4-b734-ba3f2c7eb3ad"
      },
      "source": [
        "print('Classification Report : ')\n",
        "print(metrics.classification_report(y_true = y_test, y_pred = y_predicted))"
      ],
      "execution_count": null,
      "outputs": [
        {
          "output_type": "stream",
          "text": [
            "Classification Report : \n",
            "              precision    recall  f1-score   support\n",
            "\n",
            "           0       1.00      1.00      1.00        25\n",
            "           1       0.86      0.96      0.91        25\n",
            "           2       0.95      0.84      0.89        25\n",
            "\n",
            "    accuracy                           0.93        75\n",
            "   macro avg       0.94      0.93      0.93        75\n",
            "weighted avg       0.94      0.93      0.93        75\n",
            "\n"
          ],
          "name": "stdout"
        }
      ]
    },
    {
      "cell_type": "code",
      "metadata": {
        "id": "Vc64_bYEX-b4",
        "colab": {
          "base_uri": "https://localhost:8080/",
          "height": 356
        },
        "outputId": "70168594-6582-4c1e-a70c-e2d7b396fd3e"
      },
      "source": [
        "print('Confusion Matrix : ')\n",
        "cm = metrics.confusion_matrix(y_true = y_test, y_pred = y_predicted)\n",
        "print(cm)\n",
        "sns.heatmap(cm, annot = True, cmap = 'plasma')"
      ],
      "execution_count": null,
      "outputs": [
        {
          "output_type": "stream",
          "text": [
            "Confusion Matrix : \n",
            "[[25  0  0]\n",
            " [ 0 24  1]\n",
            " [ 0  4 21]]\n"
          ],
          "name": "stdout"
        },
        {
          "output_type": "execute_result",
          "data": {
            "text/plain": [
              "<matplotlib.axes._subplots.AxesSubplot at 0x7fc9abe79e80>"
            ]
          },
          "metadata": {
            "tags": []
          },
          "execution_count": 15
        },
        {
          "output_type": "display_data",
          "data": {
            "image/png": "[encoded data removed]",
            "text/plain": [
              "<Figure size 432x288 with 2 Axes>"
            ]
          },
          "metadata": {
            "tags": [],
            "needs_background": "light"
          }
        }
      ]
    },
    {
      "cell_type": "markdown",
      "metadata": {
        "id": "YxwqIAEak8pv"
      },
      "source": [
        "Bernoulli Naive Bayes"
      ]
    },
    {
      "cell_type": "code",
      "metadata": {
        "id": "ae-uETaeYIEz",
        "colab": {
          "base_uri": "https://localhost:8080/"
        },
        "outputId": "0b0c0d2c-98ca-4059-8093-9b2fb03f2e1b"
      },
      "source": [
        "# Fit the model\n",
        "\n",
        "classifier = BernoulliNB()\n",
        "classifier.fit(X_train, y_train)"
      ],
      "execution_count": null,
      "outputs": [
        {
          "output_type": "execute_result",
          "data": {
            "text/plain": [
              "BernoulliNB(alpha=1.0, binarize=0.0, class_prior=None, fit_prior=True)"
            ]
          },
          "metadata": {
            "tags": []
          },
          "execution_count": 16
        }
      ]
    },
    {
      "cell_type": "code",
      "metadata": {
        "id": "tnmTLuMVXP-I",
        "colab": {
          "base_uri": "https://localhost:8080/"
        },
        "outputId": "42647e1f-c48a-4dc0-bf4a-8e3289b84dbb"
      },
      "source": [
        "# Predict the values\n",
        "\n",
        "y_predicted = classifier.predict(X_test)\n",
        "print(y_predicted)"
      ],
      "execution_count": null,
      "outputs": [
        {
          "output_type": "stream",
          "text": [
            "[0 0 0 0 0 0 0 0 0 0 0 0 0 0 0 0 0 0 0 0 0 0 0 0 0 0 0 0 0 0 0 0 0 0 0 0 0\n",
            " 0 0 0 0 0 0 0 0 0 0 0 0 0 0 0 0 0 0 0 0 0 0 0 0 0 0 0 0 0 0 0 0 0 0 0 0 0\n",
            " 0]\n"
          ],
          "name": "stdout"
        }
      ]
    },
    {
      "cell_type": "code",
      "metadata": {
        "id": "xlfC2_FPXzmM",
        "colab": {
          "base_uri": "https://localhost:8080/"
        },
        "outputId": "683f94c1-49a4-4a7e-9f5f-fb02b1ae518d"
      },
      "source": [
        "# Accuracy and other measures\n",
        "\n",
        "print('Accuracy Score : ', metrics.accuracy_score(y_true = y_test, y_pred = y_predicted))"
      ],
      "execution_count": null,
      "outputs": [
        {
          "output_type": "stream",
          "text": [
            "Accuracy Score :  0.3333333333333333\n"
          ],
          "name": "stdout"
        }
      ]
    },
    {
      "cell_type": "code",
      "metadata": {
        "id": "hEFcMY-6X28y",
        "colab": {
          "base_uri": "https://localhost:8080/"
        },
        "outputId": "57d7bb9f-a5b1-49ca-cd23-dff2c5416584"
      },
      "source": [
        "print('Classification Report : ')\n",
        "print(metrics.classification_report(y_true = y_test, y_pred = y_predicted))"
      ],
      "execution_count": null,
      "outputs": [
        {
          "output_type": "stream",
          "text": [
            "Classification Report : \n",
            "              precision    recall  f1-score   support\n",
            "\n",
            "           0       0.33      1.00      0.50        25\n",
            "           1       0.00      0.00      0.00        25\n",
            "           2       0.00      0.00      0.00        25\n",
            "\n",
            "    accuracy                           0.33        75\n",
            "   macro avg       0.11      0.33      0.17        75\n",
            "weighted avg       0.11      0.33      0.17        75\n",
            "\n"
          ],
          "name": "stdout"
        },
        {
          "output_type": "stream",
          "text": [
            "/usr/local/lib/python3.6/dist-packages/sklearn/metrics/_classification.py:1272: UndefinedMetricWarning: Precision and F-score are ill-defined and being set to 0.0 in labels with no predicted samples. Use `zero_division` parameter to control this behavior.\n",
            "  _warn_prf(average, modifier, msg_start, len(result))\n"
          ],
          "name": "stderr"
        }
      ]
    },
    {
      "cell_type": "code",
      "metadata": {
        "id": "7LDe_jBqX50Y",
        "colab": {
          "base_uri": "https://localhost:8080/",
          "height": 356
        },
        "outputId": "df3b8587-a8c1-4fb9-8de6-1709c973e47e"
      },
      "source": [
        "print('Confusion Matrix : ')\n",
        "cm = metrics.confusion_matrix(y_true = y_test, y_pred = y_predicted)\n",
        "print(cm)\n",
        "sns.heatmap(cm, annot = True, cmap = 'plasma')"
      ],
      "execution_count": null,
      "outputs": [
        {
          "output_type": "stream",
          "text": [
            "Confusion Matrix : \n",
            "[[25  0  0]\n",
            " [25  0  0]\n",
            " [25  0  0]]\n"
          ],
          "name": "stdout"
        },
        {
          "output_type": "execute_result",
          "data": {
            "text/plain": [
              "<matplotlib.axes._subplots.AxesSubplot at 0x7fc9ab941710>"
            ]
          },
          "metadata": {
            "tags": []
          },
          "execution_count": 20
        },
        {
          "output_type": "display_data",
          "data": {
            "image/png": "[encoded data removed]",
            "text/plain": [
              "<Figure size 432x288 with 2 Axes>"
            ]
          },
          "metadata": {
            "tags": [],
            "needs_background": "light"
          }
        }
      ]
    },
    {
      "cell_type": "code",
      "metadata": {
        "id": "IxGhfqcGYBCq"
      },
      "source": [
        ""
      ],
      "execution_count": null,
      "outputs": []
    }
  ]
}