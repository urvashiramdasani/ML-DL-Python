{
  "nbformat": 4,
  "nbformat_minor": 0,
  "metadata": {
    "colab": {
      "name": "Sir-Questions.ipynb",
      "provenance": [],
      "authorship_tag": "ABX9TyOCjjSmrgXtsNbHaacUNIXC",
      "include_colab_link": true
    },
    "kernelspec": {
      "name": "python3",
      "display_name": "Python 3"
    }
  },
  "cells": [
    {
      "cell_type": "markdown",
      "metadata": {
        "id": "view-in-github",
        "colab_type": "text"
      },
      "source": [
        "<a href=\"https://colab.research.google.com/github/urvashiramdasani/Python/blob/master/Sir_Questions.ipynb\" target=\"_parent\"><img src=\"https://colab.research.google.com/assets/colab-badge.svg\" alt=\"Open In Colab\"/></a>"
      ]
    },
    {
      "cell_type": "markdown",
      "metadata": {
        "id": "SHpEQ4hPeqep",
        "colab_type": "text"
      },
      "source": [
        "Sir Questions :\n",
        "1. Player example, runs upto 100, 10 innings, nested lists, no of times player score between 0-50, so on... for decision consider last 3 innings, not out variation\n",
        "2. good bad directory example\n",
        "3. generate 4 digit pid for laptop tv ac wm fri mobile etc and generate bill having date bill no gst number(16 digit alphanumeric) price, take quantity from user.\n",
        "4. palindrome wala, reverse a string using recursion."
      ]
    },
    {
      "cell_type": "code",
      "metadata": {
        "id": "jFxS6F_KR6hl",
        "colab_type": "code",
        "colab": {}
      },
      "source": [
        "import random"
      ],
      "execution_count": 0,
      "outputs": []
    },
    {
      "cell_type": "code",
      "metadata": {
        "id": "m7IXjqQaSmTl",
        "colab_type": "code",
        "colab": {
          "base_uri": "https://localhost:8080/",
          "height": 131
        },
        "outputId": "bcabac3c-e13e-421e-99f6-336a29b827e1"
      },
      "source": [
        "player_scores = []\n",
        "for i in range(0,11):\n",
        "  player_scores.append([])\n",
        "  for j in range(0,10):\n",
        "    player_scores[i].append(random.randint(0,100))\n",
        "#print(player_scores)\n",
        "\n",
        "number = []\n",
        "above = []\n",
        "\n",
        "for i in range(0,11):\n",
        "  number.append([])\n",
        "  l_count = 0\n",
        "  m_count = 0\n",
        "  for j in player_scores[i]:\n",
        "    if j>0 and j<50:\n",
        "      l_count += 1;\n",
        "    else:\n",
        "      m_count += 1;\n",
        "  number[i].append(l_count)\n",
        "  number[i].append(m_count)\n",
        "  above.append(m_count)\n",
        "#print(number)\n",
        "for i in range(0,11):\n",
        "  \n"
      ],
      "execution_count": 16,
      "outputs": [
        {
          "output_type": "error",
          "ename": "SyntaxError",
          "evalue": "ignored",
          "traceback": [
            "\u001b[0;36m  File \u001b[0;32m\"<ipython-input-16-492db221ce3b>\"\u001b[0;36m, line \u001b[0;32m25\u001b[0m\n\u001b[0;31m    \u001b[0m\n\u001b[0m    ^\u001b[0m\n\u001b[0;31mSyntaxError\u001b[0m\u001b[0;31m:\u001b[0m unexpected EOF while parsing\n"
          ]
        }
      ]
    },
    {
      "cell_type": "code",
      "metadata": {
        "id": "ztpVHPYRTfuw",
        "colab_type": "code",
        "colab": {}
      },
      "source": [
        ""
      ],
      "execution_count": 0,
      "outputs": []
    }
  ]
}