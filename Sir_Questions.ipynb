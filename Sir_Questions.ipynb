{
  "nbformat": 4,
  "nbformat_minor": 0,
  "metadata": {
    "colab": {
      "name": "Sir-Questions.ipynb",
      "provenance": [],
      "authorship_tag": "ABX9TyPdMiryw+/FzmzpIu9Io957",
      "include_colab_link": true
    },
    "kernelspec": {
      "name": "python3",
      "display_name": "Python 3"
    }
  },
  "cells": [
    {
      "cell_type": "markdown",
      "metadata": {
        "id": "view-in-github",
        "colab_type": "text"
      },
      "source": [
        "<a href=\"https://colab.research.google.com/github/urvashiramdasani/Python/blob/master/Sir_Questions.ipynb\" target=\"_parent\"><img src=\"https://colab.research.google.com/assets/colab-badge.svg\" alt=\"Open In Colab\"/></a>"
      ]
    },
    {
      "cell_type": "code",
      "metadata": {
        "id": "ECFIM3woepbG",
        "colab_type": "code",
        "colab": {}
      },
      "source": [
        ""
      ],
      "execution_count": 0,
      "outputs": []
    },
    {
      "cell_type": "markdown",
      "metadata": {
        "id": "SHpEQ4hPeqep",
        "colab_type": "text"
      },
      "source": [
        "Sir Questions :\n",
        "1. Player example, runs upto 100, 10 innings, nested lists, no of times player score between 0-50, so on... for decision consider last 3 innings, not out variation\n",
        "2. good bad directory example\n",
        "3. generate 4 digit pid for laptop tv ac wm fri mobile etc and generate bill having date bill no gst number(16 digit alphanumeric) price, take quantity from user.\n",
        "4. palindrome wala, reverse a string using recursion."
      ]
    }
  ]
}